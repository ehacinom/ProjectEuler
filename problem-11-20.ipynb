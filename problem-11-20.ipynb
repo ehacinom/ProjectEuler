{
 "metadata": {
  "name": "",
  "signature": "sha256:086bfcfd7e224c10ee2e68effa78978fd0140fc1362a5960d0c2a54884547003"
 },
 "nbformat": 3,
 "nbformat_minor": 0,
 "worksheets": [
  {
   "cells": [
    {
     "cell_type": "code",
     "collapsed": false,
     "input": [
      "from numpy import *\n",
      "import time\n",
      "from collections import defaultdict\n",
      "import random"
     ],
     "language": "python",
     "metadata": {},
     "outputs": [],
     "prompt_number": 1
    },
    {
     "cell_type": "code",
     "collapsed": false,
     "input": [
      "# problem 11\n",
      "# brute force :p\n",
      "\n",
      "def numbersearch():\n",
      "    n = 20\n",
      "    iterator = range(0, n-4)\n",
      "    total = 1\n",
      "    \n",
      "    # import grid\n",
      "    arr = loadtxt('pe11grid.txt')\n",
      "    \n",
      "    # leftright\n",
      "    for r in iterator:\n",
      "        for c in iterator:\n",
      "            tmp = arr[r][c] * arr[r][c+1] * arr[r][c+2] * arr[r][c+3]\n",
      "            if tmp > total: total = tmp\n",
      "    \n",
      "    print total\n",
      "    \n",
      "    # updown\n",
      "    for c in iterator:\n",
      "        for r in iterator:\n",
      "            tmp = arr[r][c] * arr[r][c+1] * arr[r][c+2] * arr[r][c+3]\n",
      "            if tmp > total: total = tmp\n",
      "\n",
      "    print total\n",
      "    \n",
      "    # diagonally down right\n",
      "    for r in iterator:\n",
      "        for c in iterator:\n",
      "            tmp = arr[r][c] * arr[r+1][c+1] * arr[r+2][c+2] * arr[r+3][c+3]\n",
      "            if tmp > total: total = tmp\n",
      "\n",
      "    print total\n",
      "    \n",
      "    # diagonally down left\n",
      "    for r in iterator:\n",
      "        for c in iterator:\n",
      "            c = c+3\n",
      "            tmp = arr[r][c-3] * arr[r+1][c-2] * arr[r+2][c-1] * arr[r+3][c]\n",
      "            if tmp > total: total = tmp\n",
      "\n",
      "    print total\n",
      "    \n",
      "    # diagonally up right\n",
      "    for r in xrange(n-1,2,-1):\n",
      "        for c in iterator:\n",
      "            tmp = arr[r][c] * arr[r-1][c+1] * arr[r-2][c+2] * arr[r-3][c+3]\n",
      "            if tmp > total: total = tmp\n",
      "\n",
      "    print total\n",
      "    \n",
      "    # diagonally up left\n",
      "    for r in xrange(n-1,2,-1):\n",
      "        for c in iterator:\n",
      "            c = c+3\n",
      "            tmp = arr[r][c-3] * arr[r-1][c-2] * arr[r-2][c-1] * arr[r-3][c]\n",
      "            if tmp > total: total = tmp\n",
      "\n",
      "    print total\n",
      "\n",
      "numbersearch()"
     ],
     "language": "python",
     "metadata": {},
     "outputs": [
      {
       "output_type": "stream",
       "stream": "stdout",
       "text": [
        "48477312.0\n",
        "48477312.0\n",
        "48477312.0\n",
        "48477312.0\n",
        "70600674.0\n",
        "70600674.0\n"
       ]
      }
     ],
     "prompt_number": 2
    },
    {
     "cell_type": "code",
     "collapsed": false,
     "input": [
      "# problem 12 mess ups :)\n",
      "\n",
      "#     # all double combinations of divisors\n",
      "#     others = 0\n",
      "#     for k, v in divdict.iteritems():\n",
      "#         if k == 1: continue\n",
      "#         elif k == total: continue\n",
      "#         for kk, vv in divdict.iteritems():\n",
      "#             if k <= kk: continue\n",
      "#             elif kk == total: continue\n",
      "#             if k*kk < total:\n",
      "#                 if v == 1:\n",
      "#                     if vv == 1:\n",
      "#                         others += 1\n",
      "#                     else:\n",
      "#                         for ii in xrange(vv):\n",
      "#                             if k*(kk**(ii+1)) < total: others += 1\n",
      "#                             else: break\n",
      "#                 elif vv == 1:\n",
      "#                     for i in xrange(v):\n",
      "#                         if kk*(k**(i+1)) < total: others += 1\n",
      "#                         else: break\n",
      "#                 else:\n",
      "#                     for i in xrange(v):\n",
      "#                         for ii in xrange(vv):\n",
      "#                             if (k**(i+1))*(kk**(ii+1)) < total: others += 1\n",
      "#                             else: break\n",
      "#     # all triple combinations of this????\n",
      "#     #print '(k,kk,v,vv, others)', k, kk, v, vv, v*vv, 'divs', divs\n",
      "#     divs = int(divs + others)\n",
      "#\n",
      "#     #grab 1, total\n",
      "#     divs += 2\n",
      "#     divdict[1] = 1\n",
      "#     divdict[total] = 1\n",
      "\n",
      "\n",
      "    # prime factorization\n",
      "    for p in sievegen(total):\n",
      "        if factored: break\n",
      "        elif total == p: break\n",
      "        elif tmptotal % p != 0: break\n",
      "        if tmptotal % p == 0:\n",
      "            # exponent of prime divisors\n",
      "            exp = 1\n",
      "            while True: #dangerousyou\n",
      "                if total % (p**(exp+1)) == 0:\n",
      "                    exp += 1\n",
      "                    continue\n",
      "                break\n",
      "            divdict[p] = exp\n",
      "            tmptotal /= p**exp\n",
      "            if tmptotal == 1: factored = True"
     ],
     "language": "python",
     "metadata": {},
     "outputs": [],
     "prompt_number": 3
    },
    {
     "cell_type": "code",
     "collapsed": false,
     "input": [
      "# problem 12\n",
      "# sieve of erastothenes\n",
      "\n",
      "def sievegen(n):\n",
      "    # primes <= n\n",
      "\n",
      "    # init\n",
      "    total = 2\n",
      "    num = 1\n",
      "    yield 2\n",
      "\n",
      "    # initialize primes T/F list starting at zero, ignoring 0-1\n",
      "    primes = [True] * (n+1)\n",
      "    \n",
      "    # sieve multipliers until sqrt\n",
      "    limit = int(sqrt(n)) + 1\n",
      "\n",
      "    # step through numbers starting at 3\n",
      "    for i in xrange(3, n+1, 2):\n",
      "        if primes[i]:\n",
      "            total += i\n",
      "            num += 1\n",
      "            yield i\n",
      "            \n",
      "            # correct further multiples of i to False\n",
      "            # some algorithmic modifications to sieve\n",
      "            if i < limit:\n",
      "                for j in xrange(i*i, n+1, 2*i):\n",
      "                    primes[j] = False  \n",
      "\n",
      "def divisors(ttotal):\n",
      "    # divdict is prime factorization, 1/total not incl.\n",
      "    divdict = {}\n",
      "    tmptotal = total\n",
      "    factored = False\n",
      "\n",
      "    # prime factorization\n",
      "    for p in sievegen(total):\n",
      "        if factored: break\n",
      "        elif total == p: break\n",
      "        #elif tmptotal % p != 0: break\n",
      "        if tmptotal % p == 0:\n",
      "            # exponent of prime divisors\n",
      "            exp = 1\n",
      "            while True: #dangerousyou\n",
      "                if total % (p**(exp+1)) == 0:\n",
      "                    exp += 1\n",
      "                    continue\n",
      "                break\n",
      "            divdict[p] = exp\n",
      "            tmptotal /= p**exp\n",
      "            if tmptotal == 1: factored = True\n",
      "    if tmptotal == total:\n",
      "        return 2, {}\n",
      "\n",
      "    divs = 1\n",
      "    for v in divdict.values():\n",
      "        divs *= (v+1)\n",
      "\n",
      "    return divs, divdict\n",
      "\n",
      "def triangledivisors(n=50, thresh=0.1):\n",
      "    # init, start at 1\n",
      "    index = 1\n",
      "    total = 1\n",
      "    maxdiv = 1\n",
      "    maxdivdict = {1:1}\n",
      "\n",
      "    # fast init\n",
      "    #index = n*5 - 1\n",
      "    #for i in xrange(2,n*5):\n",
      "    #    total += i\n",
      "    \n",
      "    # time threshholds control while loop\n",
      "    t1 = 0\n",
      "    while t1 < thresh:\n",
      "        # increment index, total\n",
      "        index += 1\n",
      "        total += index\n",
      "\n",
      "        # highly composite numbers all divisible by 2, and above 100, 20\n",
      "        #if total % 20 != 0: continue\n",
      "        \n",
      "        # find divisors\n",
      "        t0 = time.time()\n",
      "        divs, divdict = divisors(total)\n",
      "        t1 = time.time() - t0\n",
      "\n",
      "        # update maximum values\n",
      "        if divs > maxdiv: \n",
      "            maxdiv = divs\n",
      "            maxdivdict = divdict\n",
      "            maxdivind = index\n",
      "            maxdivtotal = total\n",
      "\n",
      "        # look at some interesting values\n",
      "        if divs:\n",
      "            print '---\\n', (index, total, divs), 'maxdiv', maxdiv, '\\n', divdict \n",
      "\n",
      "        # return if accomplished\n",
      "        if divs >= n: \n",
      "            return index, total, divs\n",
      "\n",
      "    print '---\\nMaximum', maxdiv, maxdivdict, '\\n', maxdivind, maxdivtotal, '\\n---'\n",
      "    # return if not accomplished\n",
      "    return index, total, divs "
     ],
     "language": "python",
     "metadata": {},
     "outputs": [],
     "prompt_number": 24
    },
    {
     "cell_type": "code",
     "collapsed": false,
     "input": [
      "#%%timeit\n",
      "triangledivisors(10, thresh=0.1)"
     ],
     "language": "python",
     "metadata": {},
     "outputs": [
      {
       "output_type": "stream",
       "stream": "stdout",
       "text": [
        "---\n",
        "(2, 3, 2) maxdiv 2 \n",
        "{}\n",
        "---\n",
        "(3, 6, 4) maxdiv 4 \n",
        "{2: 1, 3: 1}\n",
        "---\n",
        "(4, 10, 4) maxdiv 4 \n",
        "{2: 1, 5: 1}\n",
        "---\n",
        "(5, 15, 4) maxdiv 4 \n",
        "{3: 1, 5: 1}\n",
        "---\n",
        "(6, 21, 4) maxdiv 4 \n",
        "{3: 1, 7: 1}\n",
        "---\n",
        "(7, 28, 6) maxdiv 6 \n",
        "{2: 2, 7: 1}\n",
        "---\n",
        "(8, 36, 9) maxdiv 9 \n",
        "{2: 2, 3: 2}\n",
        "---\n",
        "(9, 45, 6) maxdiv 9 \n",
        "{3: 2, 5: 1}\n",
        "---\n",
        "(10, 55, 4) maxdiv 9 \n",
        "{11: 1, 5: 1}\n",
        "---\n",
        "(11, 66, 8) maxdiv 9 \n",
        "{11: 1, 2: 1, 3: 1}\n",
        "---\n",
        "(12, 78, 8) maxdiv 9 \n",
        "{2: 1, 3: 1, 13: 1}\n",
        "---\n",
        "(13, 91, 4) maxdiv 9 \n",
        "{13: 1, 7: 1}\n",
        "---\n",
        "(14, 105, 8) maxdiv 9 \n",
        "{3: 1, 5: 1, 7: 1}\n",
        "---\n",
        "(15, 120, 16) maxdiv 16 \n",
        "{2: 3, 3: 1, 5: 1}\n"
       ]
      },
      {
       "metadata": {},
       "output_type": "pyout",
       "prompt_number": 25,
       "text": [
        "(15, 120, 16)"
       ]
      }
     ],
     "prompt_number": 25
    },
    {
     "cell_type": "code",
     "collapsed": false,
     "input": [
      "s=time.time()\n",
      "print triangledivisors(150, thresh=0.1) # failure at threshhold of 0.1s for each triangle number\n",
      "print 'runtime', time.time()-s"
     ],
     "language": "python",
     "metadata": {},
     "outputs": [
      {
       "output_type": "stream",
       "stream": "stdout",
       "text": [
        "---\n",
        "(384, 73920, 112) maxdiv 112 \n",
        "{11: 1, 2: 6, 3: 1, 5: 1, 7: 1}\n",
        "---\n"
       ]
      },
      {
       "output_type": "stream",
       "stream": "stdout",
       "text": [
        "(440, 97020, 108) maxdiv 112 \n",
        "{11: 1, 2: 2, 3: 2, 5: 1, 7: 2}\n",
        "---\n"
       ]
      },
      {
       "output_type": "stream",
       "stream": "stdout",
       "text": [
        "(560, 157080, 128) maxdiv 128 \n",
        "{2: 3, 3: 1, 5: 1, 7: 1, 11: 1, 17: 1}\n",
        "---\n"
       ]
      },
      {
       "output_type": "stream",
       "stream": "stdout",
       "text": [
        "(575, 165600, 108) maxdiv 128 \n",
        "{2: 5, 3: 2, 5: 2, 23: 1}\n",
        "---\n"
       ]
      },
      {
       "output_type": "stream",
       "stream": "stdout",
       "text": [
        "(735, 270480, 120) maxdiv 128 \n",
        "{23: 1, 2: 4, 3: 1, 5: 1, 7: 2}\n",
        "---\n"
       ]
      },
      {
       "output_type": "stream",
       "stream": "stdout",
       "text": [
        "(896, 401856, 112) maxdiv 128 \n",
        "{23: 1, 2: 6, 3: 1, 13: 1, 7: 1}\n",
        "---\n"
       ]
      },
      {
       "output_type": "stream",
       "stream": "stdout",
       "text": [
        "(935, 437580, 144) maxdiv 144 \n",
        "{2: 2, 3: 2, 5: 1, 11: 1, 13: 1, 17: 1}\n",
        "---\n"
       ]
      },
      {
       "output_type": "stream",
       "stream": "stdout",
       "text": [
        "(944, 446040, 128) maxdiv 144 \n",
        "{59: 1, 2: 3, 3: 3, 5: 1, 7: 1}\n",
        "---\n"
       ]
      },
      {
       "output_type": "stream",
       "stream": "stdout",
       "text": [
        "(1088, 592416, 108) maxdiv 144 \n",
        "{11: 2, 17: 1, 2: 5, 3: 2}\n",
        "---\n"
       ]
      },
      {
       "output_type": "stream",
       "stream": "stdout",
       "text": [
        "(1104, 609960, 128) maxdiv 144 \n",
        "{2: 3, 3: 1, 5: 1, 13: 1, 17: 1, 23: 1}\n",
        "---\n"
       ]
      },
      {
       "output_type": "stream",
       "stream": "stdout",
       "text": [
        "(1175, 690900, 108) maxdiv 144 \n",
        "{47: 1, 2: 2, 3: 1, 5: 2, 7: 2}\n",
        "---\n"
       ]
      },
      {
       "output_type": "stream",
       "stream": "stdout",
       "text": [
        "(1215, 738720, 144) maxdiv 144 \n",
        "{19: 1, 2: 5, 3: 5, 5: 1}\n",
        "---\n"
       ]
      },
      {
       "output_type": "stream",
       "stream": "stdout",
       "text": [
        "(1224, 749700, 162) maxdiv 162 \n",
        "{17: 1, 2: 2, 3: 2, 5: 2, 7: 2}\n",
        "(1224, 749700, 162)\n",
        "runtime 12.0569570065\n"
       ]
      }
     ],
     "prompt_number": 33
    },
    {
     "cell_type": "code",
     "collapsed": false,
     "input": [
      "s=time.time()\n",
      "print triangledivisors(500, thresh=1)\n",
      "print 'runtime', time.time()-s"
     ],
     "language": "python",
     "metadata": {},
     "outputs": [
      {
       "output_type": "stream",
       "stream": "stdout",
       "text": [
        "---\n",
        "320 {2: 4, 3: 3, 5: 1, 7: 1, 11: 1, 13: 1} \n",
        "2079 2162160\n",
        "(2834, 4017195, 80)\n",
        "runtime 418.080049038\n"
       ]
      }
     ],
     "prompt_number": 12
    },
    {
     "cell_type": "code",
     "collapsed": false,
     "input": [
      "s=time.time()\n",
      "print triangledivisors(500, thresh=1)\n",
      "print 'runtime', time.time()-s"
     ],
     "language": "python",
     "metadata": {},
     "outputs": [
      {
       "output_type": "stream",
       "stream": "stdout",
       "text": [
        "---\n",
        "(384, 73920, 112) maxdiv 112 \n",
        "{11: 1, 2: 6, 3: 1, 5: 1, 7: 1}\n",
        "---\n"
       ]
      },
      {
       "output_type": "stream",
       "stream": "stdout",
       "text": [
        "(440, 97020, 108) maxdiv 112 \n",
        "{11: 1, 2: 2, 3: 2, 5: 1, 7: 2}\n",
        "---\n"
       ]
      },
      {
       "output_type": "stream",
       "stream": "stdout",
       "text": [
        "(560, 157080, 128) maxdiv 128 \n",
        "{2: 3, 3: 1, 5: 1, 7: 1, 11: 1, 17: 1}\n",
        "---\n"
       ]
      },
      {
       "output_type": "stream",
       "stream": "stdout",
       "text": [
        "(575, 165600, 108) maxdiv 128 \n",
        "{2: 5, 3: 2, 5: 2, 23: 1}\n",
        "---\n"
       ]
      },
      {
       "output_type": "stream",
       "stream": "stdout",
       "text": [
        "(735, 270480, 120) maxdiv 128 \n",
        "{23: 1, 2: 4, 3: 1, 5: 1, 7: 2}\n",
        "---\n"
       ]
      },
      {
       "output_type": "stream",
       "stream": "stdout",
       "text": [
        "(896, 401856, 112) maxdiv 128 \n",
        "{23: 1, 2: 6, 3: 1, 13: 1, 7: 1}\n",
        "---\n"
       ]
      },
      {
       "output_type": "stream",
       "stream": "stdout",
       "text": [
        "(935, 437580, 144) maxdiv 144 \n",
        "{2: 2, 3: 2, 5: 1, 11: 1, 13: 1, 17: 1}\n",
        "---\n"
       ]
      },
      {
       "output_type": "stream",
       "stream": "stdout",
       "text": [
        "(944, 446040, 128) maxdiv 144 \n",
        "{59: 1, 2: 3, 3: 3, 5: 1, 7: 1}\n",
        "---\n"
       ]
      },
      {
       "output_type": "stream",
       "stream": "stdout",
       "text": [
        "(1088, 592416, 108) maxdiv 144 \n",
        "{11: 2, 17: 1, 2: 5, 3: 2}\n",
        "---\n"
       ]
      },
      {
       "output_type": "stream",
       "stream": "stdout",
       "text": [
        "(1104, 609960, 128) maxdiv 144 \n",
        "{2: 3, 3: 1, 5: 1, 13: 1, 17: 1, 23: 1}\n",
        "---\n"
       ]
      },
      {
       "output_type": "stream",
       "stream": "stdout",
       "text": [
        "(1175, 690900, 108) maxdiv 144 \n",
        "{47: 1, 2: 2, 3: 1, 5: 2, 7: 2}\n",
        "---\n"
       ]
      },
      {
       "output_type": "stream",
       "stream": "stdout",
       "text": [
        "(1215, 738720, 144) maxdiv 144 \n",
        "{19: 1, 2: 5, 3: 5, 5: 1}\n",
        "---\n"
       ]
      },
      {
       "output_type": "stream",
       "stream": "stdout",
       "text": [
        "(1224, 749700, 162) maxdiv 162 \n",
        "{17: 1, 2: 2, 3: 2, 5: 2, 7: 2}\n",
        "---\n"
       ]
      },
      {
       "output_type": "stream",
       "stream": "stdout",
       "text": [
        "(1280, 819840, 128) maxdiv 162 \n",
        "{61: 1, 2: 7, 3: 1, 5: 1, 7: 1}\n",
        "---\n"
       ]
      },
      {
       "output_type": "stream",
       "stream": "stdout",
       "text": [
        "(1287, 828828, 144) maxdiv 162 \n",
        "{2: 2, 3: 2, 7: 1, 11: 1, 13: 1, 23: 1}\n",
        "---\n"
       ]
      },
      {
       "output_type": "stream",
       "stream": "stdout",
       "text": [
        "(1295, 839160, 160) maxdiv 162 \n",
        "{37: 1, 2: 3, 3: 4, 5: 1, 7: 1}\n",
        "---\n"
       ]
      },
      {
       "output_type": "stream",
       "stream": "stdout",
       "text": [
        "(1364, 930930, 128) maxdiv 162 \n",
        "{2: 1, 3: 1, 5: 1, 7: 1, 11: 1, 13: 1, 31: 1}\n",
        "---\n"
       ]
      },
      {
       "output_type": "stream",
       "stream": "stdout",
       "text": [
        "(1407, 990528, 112) maxdiv 162 \n",
        "{11: 1, 67: 1, 2: 6, 3: 1, 7: 1}\n",
        "---\n"
       ]
      },
      {
       "output_type": "stream",
       "stream": "stdout",
       "text": [
        "(1440, 1037520, 120) maxdiv 162 \n",
        "{11: 1, 2: 4, 3: 2, 131: 1, 5: 1}\n",
        "---\n"
       ]
      },
      {
       "output_type": "stream",
       "stream": "stdout",
       "text": [
        "(1455, 1059240, 128) maxdiv 162 \n",
        "{97: 1, 2: 3, 3: 1, 5: 1, 7: 1, 13: 1}\n",
        "---\n"
       ]
      },
      {
       "output_type": "stream",
       "stream": "stdout",
       "text": [
        "(1484, 1101870, 128) maxdiv 162 \n",
        "{2: 1, 3: 3, 5: 1, 7: 1, 11: 1, 53: 1}\n",
        "---\n"
       ]
      },
      {
       "output_type": "stream",
       "stream": "stdout",
       "text": [
        "(1520, 1155960, 144) maxdiv 162 \n",
        "{19: 1, 2: 3, 3: 2, 5: 1, 13: 2}\n",
        "---\n"
       ]
      },
      {
       "output_type": "stream",
       "stream": "stdout",
       "text": [
        "(1539, 1185030, 160) maxdiv 162 \n",
        "{2: 1, 3: 4, 5: 1, 7: 1, 11: 1, 19: 1}\n",
        "---\n"
       ]
      },
      {
       "output_type": "stream",
       "stream": "stdout",
       "text": [
        "(1575, 1241100, 108) maxdiv 162 \n",
        "{197: 1, 2: 2, 3: 2, 5: 2, 7: 1}\n",
        "---\n"
       ]
      },
      {
       "output_type": "stream",
       "stream": "stdout",
       "text": [
        "(1595, 1272810, 128) maxdiv 162 \n",
        "{2: 1, 3: 1, 5: 1, 7: 1, 11: 1, 19: 1, 29: 1}\n",
        "---\n"
       ]
      },
      {
       "output_type": "stream",
       "stream": "stdout",
       "text": [
        "(1599, 1279200, 144) maxdiv 162 \n",
        "{41: 1, 2: 5, 3: 1, 5: 2, 13: 1}\n",
        "---\n"
       ]
      },
      {
       "output_type": "stream",
       "stream": "stdout",
       "text": [
        "(1664, 1385280, 168) maxdiv 168 \n",
        "{37: 1, 2: 6, 3: 2, 5: 1, 13: 1}\n",
        "---\n"
       ]
      },
      {
       "output_type": "stream",
       "stream": "stdout",
       "text": [
        "(1679, 1410360, 128) maxdiv 168 \n",
        "{2: 3, 3: 1, 5: 1, 7: 1, 73: 1, 23: 1}\n",
        "---\n"
       ]
      },
      {
       "output_type": "stream",
       "stream": "stdout",
       "text": [
        "(1700, 1445850, 144) maxdiv 168 \n",
        "{17: 1, 2: 1, 3: 5, 5: 2, 7: 1}\n",
        "---\n"
       ]
      },
      {
       "output_type": "stream",
       "stream": "stdout",
       "text": [
        "(1715, 1471470, 128) maxdiv 168 \n",
        "{2: 1, 3: 1, 5: 1, 7: 3, 11: 1, 13: 1}\n",
        "---\n"
       ]
      },
      {
       "output_type": "stream",
       "stream": "stdout",
       "text": [
        "(1728, 1493856, 192) maxdiv 192 \n",
        "{19: 1, 2: 5, 3: 3, 13: 1, 7: 1}\n",
        "---\n"
       ]
      },
      {
       "output_type": "stream",
       "stream": "stdout",
       "text": [
        "(1799, 1619100, 108) maxdiv 192 \n",
        "{257: 1, 2: 2, 3: 2, 5: 2, 7: 1}\n",
        "---\n"
       ]
      },
      {
       "output_type": "stream",
       "stream": "stdout",
       "text": [
        "(1824, 1664400, 120) maxdiv 192 \n",
        "{19: 1, 73: 1, 2: 4, 3: 1, 5: 2}\n",
        "---\n"
       ]
      },
      {
       "output_type": "stream",
       "stream": "stdout",
       "text": [
        "(1880, 1768140, 144) maxdiv 192 \n",
        "{2: 2, 3: 2, 5: 1, 11: 1, 47: 1, 19: 1}\n",
        "---\n"
       ]
      },
      {
       "output_type": "stream",
       "stream": "stdout",
       "text": [
        "(1904, 1813560, 128) maxdiv 192 \n",
        "{2: 3, 3: 1, 5: 1, 7: 1, 17: 1, 127: 1}\n",
        "---\n"
       ]
      },
      {
       "output_type": "stream",
       "stream": "stdout",
       "text": [
        "(1919, 1842240, 112) maxdiv 192 \n",
        "{19: 1, 2: 6, 3: 1, 5: 1, 101: 1}\n",
        "---\n"
       ]
      },
      {
       "output_type": "stream",
       "stream": "stdout",
       "text": [
        "(1920, 1844160, 112) maxdiv 192 \n",
        "{17: 1, 2: 6, 3: 1, 5: 1, 113: 1}\n",
        "---\n"
       ]
      },
      {
       "output_type": "stream",
       "stream": "stdout",
       "text": [
        "(1935, 1873080, 144) maxdiv 192 \n",
        "{11: 2, 43: 1, 2: 3, 3: 2, 5: 1}\n",
        "---\n"
       ]
      },
      {
       "output_type": "stream",
       "stream": "stdout",
       "text": [
        "(1952, 1906128, 120) maxdiv 192 \n",
        "{31: 1, 2: 4, 3: 2, 61: 1, 7: 1}\n",
        "---\n"
       ]
      },
      {
       "output_type": "stream",
       "stream": "stdout",
       "text": [
        "(2000, 2001000, 128) maxdiv 192 \n",
        "{2: 3, 3: 1, 29: 1, 5: 3, 23: 1}\n",
        "---\n"
       ]
      },
      {
       "output_type": "stream",
       "stream": "stdout",
       "text": [
        "(2015, 2031120, 240) maxdiv 240 \n",
        "{2: 4, 3: 2, 5: 1, 7: 1, 13: 1, 31: 1}\n",
        "---\n"
       ]
      },
      {
       "output_type": "stream",
       "stream": "stdout",
       "text": [
        "(2024, 2049300, 180) maxdiv 240 \n",
        "{11: 1, 2: 2, 3: 4, 5: 2, 23: 1}\n",
        "---\n"
       ]
      },
      {
       "output_type": "stream",
       "stream": "stdout",
       "text": [
        "(2064, 2131080, 128) maxdiv 240 \n",
        "{2: 3, 3: 1, 5: 1, 7: 1, 43: 1, 59: 1}\n",
        "---\n"
       ]
      },
      {
       "output_type": "stream",
       "stream": "stdout",
       "text": [
        "(2079, 2162160, 320) maxdiv 320 \n",
        "{2: 4, 3: 3, 5: 1, 7: 1, 11: 1, 13: 1}\n",
        "---\n"
       ]
      },
      {
       "output_type": "stream",
       "stream": "stdout",
       "text": [
        "(2144, 2299440, 160) maxdiv 320 \n",
        "{2: 4, 67: 1, 5: 1, 11: 1, 13: 1, 3: 1}\n",
        "---\n"
       ]
      },
      {
       "output_type": "stream",
       "stream": "stdout",
       "text": [
        "(2159, 2331720, 128) maxdiv 320 \n",
        "{17: 1, 2: 3, 3: 3, 5: 1, 127: 1}\n",
        "---\n"
       ]
      },
      {
       "output_type": "stream",
       "stream": "stdout",
       "text": [
        "(2175, 2366400, 168) maxdiv 320 \n",
        "{17: 1, 2: 6, 3: 1, 5: 2, 29: 1}\n",
        "---\n"
       ]
      },
      {
       "output_type": "stream",
       "stream": "stdout",
       "text": [
        "(2184, 2386020, 192) maxdiv 320 \n",
        "{2: 2, 3: 1, 5: 1, 7: 1, 13: 1, 19: 1, 23: 1}\n",
        "---\n"
       ]
      },
      {
       "output_type": "stream",
       "stream": "stdout",
       "text": [
        "(2204, 2429910, 144) maxdiv 320 \n",
        "{2: 1, 3: 2, 5: 1, 7: 2, 19: 1, 29: 1}\n",
        "---\n"
       ]
      },
      {
       "output_type": "stream",
       "stream": "stdout",
       "text": [
        "(2232, 2492028, 144) maxdiv 320 \n",
        "{2: 2, 3: 2, 7: 1, 11: 1, 29: 1, 31: 1}\n",
        "---\n"
       ]
      },
      {
       "output_type": "stream",
       "stream": "stdout",
       "text": [
        "(2240, 2509920, 192) maxdiv 320 \n",
        "{83: 1, 2: 5, 3: 3, 5: 1, 7: 1}\n",
        "---\n"
       ]
      },
      {
       "output_type": "stream",
       "stream": "stdout",
       "text": [
        "(2255, 2543640, 128) maxdiv 320 \n",
        "{2: 3, 3: 1, 5: 1, 41: 1, 11: 1, 47: 1}\n",
        "---\n"
       ]
      },
      {
       "output_type": "stream",
       "stream": "stdout",
       "text": [
        "(2288, 2618616, 128) maxdiv 320 \n",
        "{2: 3, 3: 1, 7: 1, 11: 1, 109: 1, 13: 1}\n",
        "---\n"
       ]
      },
      {
       "output_type": "stream",
       "stream": "stdout",
       "text": [
        "(2295, 2634660, 192) maxdiv 320 \n",
        "{2: 2, 3: 3, 5: 1, 7: 1, 41: 1, 17: 1}\n",
        "---\n"
       ]
      },
      {
       "output_type": "stream",
       "stream": "stdout",
       "text": [
        "(2303, 2653056, 144) maxdiv 320 \n",
        "{47: 1, 2: 7, 3: 2, 7: 2}\n",
        "---\n"
       ]
      },
      {
       "output_type": "stream",
       "stream": "stdout",
       "text": [
        "(2375, 2821500, 192) maxdiv 320 \n",
        "{11: 1, 19: 1, 2: 2, 3: 3, 5: 3}\n",
        "---\n"
       ]
      },
      {
       "output_type": "stream",
       "stream": "stdout",
       "text": [
        "(2379, 2831010, 128) maxdiv 320 \n",
        "{2: 1, 3: 1, 5: 1, 7: 1, 13: 1, 17: 1, 61: 1}\n",
        "---\n"
       ]
      },
      {
       "output_type": "stream",
       "stream": "stdout",
       "text": [
        "(2400, 2881200, 150) maxdiv 320 \n",
        "{2: 4, 3: 1, 5: 2, 7: 4}\n",
        "---\n"
       ]
      },
      {
       "output_type": "stream",
       "stream": "stdout",
       "text": [
        "(2415, 2917320, 128) maxdiv 320 \n",
        "{2: 3, 3: 1, 5: 1, 7: 1, 151: 1, 23: 1}\n",
        "---\n"
       ]
      },
      {
       "output_type": "stream",
       "stream": "stdout",
       "text": [
        "(2431, 2956096, 112) maxdiv 320 \n",
        "{19: 1, 17: 1, 2: 6, 11: 1, 13: 1}\n",
        "---\n"
       ]
      },
      {
       "output_type": "stream",
       "stream": "stdout",
       "text": [
        "(2464, 3036880, 160) maxdiv 320 \n",
        "{2: 4, 5: 1, 7: 1, 11: 1, 17: 1, 29: 1}\n",
        "---\n"
       ]
      },
      {
       "output_type": "stream",
       "stream": "stdout",
       "text": [
        "(2484, 3086370, 128) maxdiv 320 \n",
        "{2: 1, 3: 3, 5: 1, 71: 1, 7: 1, 23: 1}\n",
        "---\n"
       ]
      },
      {
       "output_type": "stream",
       "stream": "stdout",
       "text": [
        "(2499, 3123750, 120) maxdiv 320 \n",
        "{17: 1, 2: 1, 3: 1, 5: 4, 7: 2}\n",
        "---\n"
       ]
      },
      {
       "output_type": "stream",
       "stream": "stdout",
       "text": [
        "(2519, 3173940, 144) maxdiv 320 \n",
        "{2: 2, 3: 2, 229: 1, 7: 1, 11: 1, 5: 1}\n",
        "---\n"
       ]
      },
      {
       "output_type": "stream",
       "stream": "stdout",
       "text": [
        "(2583, 3337236, 144) maxdiv 320 \n",
        "{2: 2, 3: 2, 7: 1, 41: 1, 17: 1, 19: 1}\n",
        "---\n"
       ]
      },
      {
       "output_type": "stream",
       "stream": "stdout",
       "text": [
        "(2600, 3381300, 162) maxdiv 320 \n",
        "{17: 2, 2: 2, 3: 2, 5: 2, 13: 1}\n",
        "---\n"
       ]
      },
      {
       "output_type": "stream",
       "stream": "stdout",
       "text": [
        "(2624, 3444000, 192) maxdiv 320 \n",
        "{41: 1, 2: 5, 3: 1, 5: 3, 7: 1}\n",
        "---\n"
       ]
      },
      {
       "output_type": "stream",
       "stream": "stdout",
       "text": [
        "(2639, 3483480, 256) maxdiv 320 \n",
        "{2: 3, 3: 1, 5: 1, 7: 1, 11: 1, 13: 1, 29: 1}\n",
        "---\n"
       ]
      },
      {
       "output_type": "stream",
       "stream": "stdout",
       "text": [
        "(2640, 3486120, 128) maxdiv 320 \n",
        "{2: 3, 3: 1, 5: 1, 11: 1, 19: 1, 139: 1}\n",
        "---\n"
       ]
      },
      {
       "output_type": "stream",
       "stream": "stdout",
       "text": [
        "(2655, 3525840, 120) maxdiv 320 \n",
        "{83: 1, 59: 1, 2: 4, 3: 2, 5: 1}\n",
        "---\n"
       ]
      },
      {
       "output_type": "stream",
       "stream": "stdout",
       "text": [
        "(2664, 3549780, 144) maxdiv 320 \n",
        "{2: 2, 3: 2, 37: 1, 41: 1, 13: 1, 5: 1}\n",
        "---\n"
       ]
      },
      {
       "output_type": "stream",
       "stream": "stdout",
       "text": [
        "(2736, 3744216, 192) maxdiv 320 \n",
        "{2: 3, 3: 2, 7: 1, 17: 1, 19: 1, 23: 1}\n",
        "---\n"
       ]
      },
      {
       "output_type": "stream",
       "stream": "stdout",
       "text": [
        "(2744, 3766140, 144) maxdiv 320 \n",
        "{61: 1, 2: 2, 3: 2, 5: 1, 7: 3}\n",
        "---\n"
       ]
      },
      {
       "output_type": "stream",
       "stream": "stdout",
       "text": [
        "(2783, 3873936, 120) maxdiv 320 \n",
        "{11: 2, 2: 4, 3: 1, 29: 1, 23: 1}\n",
        "---\n"
       ]
      },
      {
       "output_type": "stream",
       "stream": "stdout",
       "text": [
        "(2799, 3918600, 144) maxdiv 320 \n",
        "{311: 1, 2: 3, 3: 2, 5: 2, 7: 1}\n",
        "---\n"
       ]
      },
      {
       "output_type": "stream",
       "stream": "stdout",
       "text": [
        "(2820, 3977610, 128) maxdiv 320 \n",
        "{2: 1, 3: 1, 5: 1, 7: 1, 13: 1, 47: 1, 31: 1}\n",
        "---\n"
       ]
      },
      {
       "output_type": "stream",
       "stream": "stdout",
       "text": [
        "(2880, 4148640, 144) maxdiv 320 \n",
        "{67: 1, 43: 1, 2: 5, 3: 2, 5: 1}\n",
        "---\n"
       ]
      },
      {
       "output_type": "stream",
       "stream": "stdout",
       "text": [
        "(2904, 4218060, 144) maxdiv 320 \n",
        "{2: 2, 3: 1, 5: 1, 7: 1, 11: 2, 83: 1}\n",
        "---\n"
       ]
      },
      {
       "output_type": "stream",
       "stream": "stdout",
       "text": [
        "(2915, 4250070, 112) maxdiv 320 \n",
        "{11: 1, 2: 1, 3: 6, 5: 1, 53: 1}\n",
        "---\n"
       ]
      },
      {
       "output_type": "stream",
       "stream": "stdout",
       "text": [
        "(2924, 4276350, 144) maxdiv 320 \n",
        "{2: 1, 3: 2, 5: 2, 43: 1, 13: 1, 17: 1}\n",
        "---\n"
       ]
      },
      {
       "output_type": "stream",
       "stream": "stdout",
       "text": [
        "(2943, 4332096, 112) maxdiv 320 \n",
        "{2: 6, 3: 3, 109: 1, 23: 1}\n",
        "---\n"
       ]
      },
      {
       "output_type": "stream",
       "stream": "stdout",
       "text": [
        "(2944, 4335040, 112) maxdiv 320 \n",
        "{31: 1, 2: 6, 19: 1, 5: 1, 23: 1}\n",
        "---\n"
       ]
      },
      {
       "output_type": "stream",
       "stream": "stdout",
       "text": [
        "(2960, 4382280, 192) maxdiv 320 \n",
        "{2: 3, 3: 2, 37: 1, 7: 1, 47: 1, 5: 1}\n",
        "---\n"
       ]
      },
      {
       "output_type": "stream",
       "stream": "stdout",
       "text": [
        "(2975, 4426800, 240) maxdiv 320 \n",
        "{2: 4, 3: 1, 5: 2, 7: 1, 17: 1, 31: 1}\n",
        "---\n"
       ]
      },
      {
       "output_type": "stream",
       "stream": "stdout",
       "text": [
        "(3015, 4546620, 144) maxdiv 320 \n",
        "{2: 2, 67: 1, 5: 1, 13: 1, 3: 2, 29: 1}\n",
        "---\n"
       ]
      },
      {
       "output_type": "stream",
       "stream": "stdout",
       "text": [
        "(3024, 4573800, 288) maxdiv 320 \n",
        "{11: 2, 2: 3, 3: 3, 5: 2, 7: 1}\n",
        "---\n"
       ]
      },
      {
       "output_type": "stream",
       "stream": "stdout",
       "text": [
        "(3059, 4680270, 192) maxdiv 320 \n",
        "{2: 1, 3: 2, 5: 1, 7: 1, 17: 1, 19: 1, 23: 1}\n",
        "---\n"
       ]
      },
      {
       "output_type": "stream",
       "stream": "stdout",
       "text": [
        "(3080, 4744740, 192) maxdiv 320 \n",
        "{2: 2, 3: 1, 5: 1, 7: 1, 11: 1, 13: 1, 79: 1}\n",
        "---\n"
       ]
      },
      {
       "output_type": "stream",
       "stream": "stdout",
       "text": [
        "(3104, 4818960, 160) maxdiv 320 \n",
        "{97: 1, 2: 4, 3: 3, 5: 1, 23: 1}\n",
        "---\n"
       ]
      },
      {
       "output_type": "stream",
       "stream": "stdout",
       "text": [
        "(3135, 4915680, 288) maxdiv 320 \n",
        "{2: 5, 3: 1, 5: 1, 7: 2, 11: 1, 19: 1}\n",
        "---\n"
       ]
      },
      {
       "output_type": "stream",
       "stream": "stdout",
       "text": [
        "(3159, 4991220, 144) maxdiv 320 \n",
        "{79: 1, 2: 2, 3: 5, 5: 1, 13: 1}\n",
        "---\n"
       ]
      },
      {
       "output_type": "stream",
       "stream": "stdout",
       "text": [
        "(3200, 5121600, 168) maxdiv 320 \n",
        "{11: 1, 97: 1, 2: 6, 3: 1, 5: 2}\n",
        "---\n"
       ]
      },
      {
       "output_type": "stream",
       "stream": "stdout",
       "text": [
        "(3212, 5160078, 128) maxdiv 320 \n",
        "{2: 1, 3: 3, 7: 1, 73: 1, 11: 1, 17: 1}\n",
        "---\n"
       ]
      },
      {
       "output_type": "stream",
       "stream": "stdout",
       "text": [
        "(3219, 5182590, 128) maxdiv 320 \n",
        "{2: 1, 3: 1, 5: 1, 7: 1, 23: 1, 29: 1, 37: 1}\n",
        "---\n"
       ]
      },
      {
       "output_type": "stream",
       "stream": "stdout",
       "text": [
        "(3224, 5198700, 144) maxdiv 320 \n",
        "{2: 2, 3: 1, 5: 2, 43: 1, 13: 1, 31: 1}\n",
        "---\n"
       ]
      },
      {
       "output_type": "stream",
       "stream": "stdout",
       "text": [
        "(3239, 5247180, 120) maxdiv 320 \n",
        "{41: 1, 2: 2, 3: 4, 5: 1, 79: 1}\n",
        "---\n"
       ]
      },
      {
       "output_type": "stream",
       "stream": "stdout",
       "text": [
        "(3240, 5250420, 120) maxdiv 320 \n",
        "{2: 2, 3: 4, 5: 1, 463: 1, 7: 1}\n",
        "---\n"
       ]
      },
      {
       "output_type": "stream",
       "stream": "stdout",
       "text": [
        "(3248, 5276376, 144) maxdiv 320 \n",
        "{19: 2, 2: 3, 3: 2, 29: 1, 7: 1}\n",
        "---\n"
       ]
      },
      {
       "output_type": "stream",
       "stream": "stdout",
       "text": [
        "(3255, 5299140, 192) maxdiv 320 \n",
        "{2: 2, 3: 1, 5: 1, 7: 1, 11: 1, 37: 1, 31: 1}\n",
        "---\n"
       ]
      },
      {
       "output_type": "stream",
       "stream": "stdout",
       "text": [
        "(3275, 5364450, 144) maxdiv 320 \n",
        "{2: 1, 131: 1, 5: 2, 7: 1, 13: 1, 3: 2}\n",
        "---\n"
       ]
      },
      {
       "output_type": "stream",
       "stream": "stdout",
       "text": [
        "(3311, 5483016, 192) maxdiv 320 \n",
        "{2: 3, 3: 2, 7: 1, 11: 1, 43: 1, 23: 1}\n",
        "---\n",
        "Maximum"
       ]
      },
      {
       "output_type": "stream",
       "stream": "stdout",
       "text": [
        " 320 {2: 4, 3: 3, 5: 1, 7: 1, 11: 1, 13: 1} \n",
        "2079 2162160 \n",
        "---\n",
        "(3319, 5509540, 24)\n",
        "runtime 310.47866106\n"
       ]
      }
     ],
     "prompt_number": 34
    },
    {
     "cell_type": "code",
     "collapsed": false,
     "input": [
      "# problem 10 brute\n",
      "i = 1\n",
      "v = 0\n",
      "n = 0\n",
      "m = 0\n",
      "\n",
      "\n",
      "while n <= 200:\n",
      "    v += i\n",
      "    n = 0\n",
      "    for j in xrange(1, v+1):\n",
      "        if v % j == 0: n += 1\n",
      "    if n > m: \n",
      "        print i, v, n\n",
      "        m = n\n",
      "    i += 1\n",
      "print i, v, n"
     ],
     "language": "python",
     "metadata": {},
     "outputs": [
      {
       "output_type": "stream",
       "stream": "stdout",
       "text": [
        "1 1 1\n",
        "2 3 2\n",
        "3 6 4\n",
        "7 28 6\n",
        "8 36 9\n",
        "15 120 16\n",
        "24 300 18\n",
        "32 528 20\n",
        "35 630 24\n",
        "63 2016 36\n",
        "80 3240 40\n",
        "104 5460 48\n",
        "224"
       ]
      },
      {
       "output_type": "stream",
       "stream": "stdout",
       "text": [
        " 25200 90\n",
        "384"
       ]
      },
      {
       "output_type": "stream",
       "stream": "stdout",
       "text": [
        " 73920 112\n",
        "560"
       ]
      },
      {
       "output_type": "stream",
       "stream": "stdout",
       "text": [
        " 157080 128\n",
        "935"
       ]
      },
      {
       "output_type": "stream",
       "stream": "stdout",
       "text": [
        " 437580 144\n",
        "1224"
       ]
      },
      {
       "output_type": "stream",
       "stream": "stdout",
       "text": [
        " 749700 162\n",
        "1664"
       ]
      },
      {
       "output_type": "stream",
       "stream": "stdout",
       "text": [
        " 1385280 168\n",
        "1728"
       ]
      },
      {
       "output_type": "stream",
       "stream": "stdout",
       "text": [
        " 1493856 192\n",
        "2015"
       ]
      },
      {
       "output_type": "stream",
       "stream": "stdout",
       "text": [
        " 2031120 240\n",
        "2016 2031120 240\n"
       ]
      }
     ],
     "prompt_number": 6
    },
    {
     "cell_type": "code",
     "collapsed": false,
     "input": [
      "# problem 10 saturday jan 30\n",
      "# https://en.wikipedia.org/wiki/Highly_composite_number\n",
      "# doesn't necessarily work because it's only HCN and triangle that show, ohwell\n",
      "\n",
      "\n",
      "def sievegen(n):\n",
      "    # primes <= n\n",
      "\n",
      "    # init\n",
      "    total = 2\n",
      "    num = 1\n",
      "    yield 2\n",
      "\n",
      "    # initialize primes T/F list starting at zero, ignoring 0-1\n",
      "    primes = [True] * (n+1)\n",
      "    \n",
      "    # sieve multipliers until sqrt\n",
      "    limit = int(sqrt(n)) + 1\n",
      "\n",
      "    # step through numbers starting at 3\n",
      "    for i in xrange(3, n+1, 2):\n",
      "        if primes[i]:\n",
      "            total += i\n",
      "            num += 1\n",
      "            yield i\n",
      "            \n",
      "            # correct further multiples of i to False\n",
      "            # some algorithmic modifications to sieve\n",
      "            if i < limit:\n",
      "                for j in xrange(i*i, n+1, 2*i):\n",
      "                    primes[j] = False  \n",
      "\n",
      "def HCN(n=10, thresh=0.01):\n",
      "    # init\n",
      "    index = 1\n",
      "    total = 1\n",
      "    maxdiv = 1\n",
      "\n",
      "    # time threshhould controls loop\n",
      "    t1 = 0\n",
      "    while t1 < thresh:\n",
      "        # increment\n",
      "        index += 1\n",
      "        total += index\n",
      "\n",
      "        # HCN rules for some numbers\n",
      "        if total < 50:\n",
      "            if total % 2 != 0: continue\n",
      "        elif total % 60 != 0: continue\n",
      "        if total > 1680:\n",
      "            if total % 9 != 0: continue\n",
      "\n",
      "        t0 = time.time()\n",
      "        divs = HCNdivisors(index, total)\n",
      "        t1 = time.time() - t0\n",
      "        \n",
      "        if divs > maxdiv:\n",
      "            maxdiv = divs\n",
      "            maxind = index\n",
      "            maxtot = total\n",
      "        if divs >= n:\n",
      "            return index, total, divs\n",
      "    \n",
      "    return (index, total, divs), (maxind, maxtot, maxdiv)\n",
      "\n",
      "def HCNdivisors(index, total):\n",
      "    # prime factorization, needs every prime factor\n",
      "    subtotal = total\n",
      "    divs = 1\n",
      "    for p in sievegen(total):\n",
      "        if total == p: break\n",
      "        elif total % p != 0: return -1\n",
      "        else: \n",
      "            exp = 1\n",
      "            while True: #dangerousyou\n",
      "                if total % (p**(exp+1)) == 0:\n",
      "                    exp += 1\n",
      "                    continue\n",
      "                #print (index, total, (p, exp))\n",
      "                subtotal /= p**exp\n",
      "                divs *= (exp+1)\n",
      "                if subtotal == 1: return divs\n",
      "                break\n",
      "    \n",
      "    return divs"
     ],
     "language": "python",
     "metadata": {},
     "outputs": [],
     "prompt_number": 58
    },
    {
     "cell_type": "code",
     "collapsed": false,
     "input": [
      "s=time.time()\n",
      "print HCN(500,1)\n",
      "print 'runtime', time.time()-s"
     ],
     "language": "python",
     "metadata": {},
     "outputs": [
      {
       "output_type": "stream",
       "stream": "stdout",
       "text": [
        "((7559, 28573020, -1), (2079, 2162160, 320))\n",
        "runtime 53.6786458492\n"
       ]
      }
     ],
     "prompt_number": 48
    },
    {
     "cell_type": "code",
     "collapsed": false,
     "input": [
      "s=time.time()\n",
      "print HCN(500,1)\n",
      "print 'runtime', time.time()-s"
     ],
     "language": "python",
     "metadata": {},
     "outputs": [
      {
       "output_type": "stream",
       "stream": "stdout",
       "text": [
        "((7055, 24890040, -1), (2079, 2162160, 320))\n",
        "runtime 43.5038919449\n"
       ]
      }
     ],
     "prompt_number": 59
    },
    {
     "cell_type": "code",
     "collapsed": false,
     "input": [
      "HCN(5)"
     ],
     "language": "python",
     "metadata": {},
     "outputs": [
      {
       "output_type": "stream",
       "stream": "stdout",
       "text": [
        "(3, 6, (2, 1))\n",
        "(3, 6, (3, 1))\n",
        "(4, 10, (2, 1))\n",
        "(7, 28, (2, 2))\n",
        "(8, 36, (2, 2))\n",
        "(8, 36, (3, 2))\n"
       ]
      },
      {
       "metadata": {},
       "output_type": "pyout",
       "prompt_number": 35,
       "text": [
        "(8, 36, 9)"
       ]
      }
     ],
     "prompt_number": 35
    },
    {
     "cell_type": "code",
     "collapsed": false,
     "input": [
      "#### ARGGGH\n",
      "#HCN doesn't work because not all factors are small and in order."
     ],
     "language": "python",
     "metadata": {},
     "outputs": []
    },
    {
     "cell_type": "code",
     "collapsed": false,
     "input": [
      "#init\n",
      "total = 0\n",
      "for i in xrange(1, 12377):\n",
      "    total += i\n",
      "    if i > 12370: \n",
      "        print i, total"
     ],
     "language": "python",
     "metadata": {},
     "outputs": [
      {
       "output_type": "stream",
       "stream": "stdout",
       "text": [
        "12371 76527006\n",
        "12372 76539378\n",
        "12373 76551751\n",
        "12374 76564125\n",
        "12375 76576500\n",
        "12376 76588876\n"
       ]
      }
     ],
     "prompt_number": 60
    },
    {
     "cell_type": "code",
     "collapsed": false,
     "input": [
      "index*30000"
     ],
     "language": "python",
     "metadata": {},
     "outputs": [
      {
       "metadata": {},
       "output_type": "pyout",
       "prompt_number": 52,
       "text": [
        "99570000"
       ]
      }
     ],
     "prompt_number": 52
    },
    {
     "cell_type": "code",
     "collapsed": false,
     "input": [
      "# Conclusion: Done with brute force on computer downstairs, saw solution overview: got the first 2.5pg/4pgs of hints"
     ],
     "language": "python",
     "metadata": {},
     "outputs": []
    },
    {
     "cell_type": "code",
     "collapsed": false,
     "input": [],
     "language": "python",
     "metadata": {},
     "outputs": []
    },
    {
     "cell_type": "code",
     "collapsed": false,
     "input": [
      "# problem 13"
     ],
     "language": "python",
     "metadata": {},
     "outputs": []
    },
    {
     "cell_type": "code",
     "collapsed": false,
     "input": [
      "arr = [37107287533902102798797998220837590246510135740250,\n",
      "46376937677490009712648124896970078050417018260538,\n",
      "74324986199524741059474233309513058123726617309629,\n",
      "91942213363574161572522430563301811072406154908250,\n",
      "23067588207539346171171980310421047513778063246676,\n",
      "89261670696623633820136378418383684178734361726757,\n",
      "28112879812849979408065481931592621691275889832738,\n",
      "44274228917432520321923589422876796487670272189318,\n",
      "47451445736001306439091167216856844588711603153276,\n",
      "70386486105843025439939619828917593665686757934951,\n",
      "62176457141856560629502157223196586755079324193331,\n",
      "64906352462741904929101432445813822663347944758178,\n",
      "92575867718337217661963751590579239728245598838407,\n",
      "58203565325359399008402633568948830189458628227828,\n",
      "80181199384826282014278194139940567587151170094390,\n",
      "35398664372827112653829987240784473053190104293586,\n",
      "86515506006295864861532075273371959191420517255829,\n",
      "71693888707715466499115593487603532921714970056938,\n",
      "54370070576826684624621495650076471787294438377604,\n",
      "53282654108756828443191190634694037855217779295145,\n",
      "36123272525000296071075082563815656710885258350721,\n",
      "45876576172410976447339110607218265236877223636045,\n",
      "17423706905851860660448207621209813287860733969412,\n",
      "81142660418086830619328460811191061556940512689692,\n",
      "51934325451728388641918047049293215058642563049483,\n",
      "62467221648435076201727918039944693004732956340691,\n",
      "15732444386908125794514089057706229429197107928209,\n",
      "55037687525678773091862540744969844508330393682126,\n",
      "18336384825330154686196124348767681297534375946515,\n",
      "80386287592878490201521685554828717201219257766954,\n",
      "78182833757993103614740356856449095527097864797581,\n",
      "16726320100436897842553539920931837441497806860984,\n",
      "48403098129077791799088218795327364475675590848030,\n",
      "87086987551392711854517078544161852424320693150332,\n",
      "59959406895756536782107074926966537676326235447210,\n",
      "69793950679652694742597709739166693763042633987085,\n",
      "41052684708299085211399427365734116182760315001271,\n",
      "65378607361501080857009149939512557028198746004375,\n",
      "35829035317434717326932123578154982629742552737307,\n",
      "94953759765105305946966067683156574377167401875275,\n",
      "88902802571733229619176668713819931811048770190271,\n",
      "25267680276078003013678680992525463401061632866526,\n",
      "36270218540497705585629946580636237993140746255962,\n",
      "24074486908231174977792365466257246923322810917141,\n",
      "91430288197103288597806669760892938638285025333403,\n",
      "34413065578016127815921815005561868836468420090470,\n",
      "23053081172816430487623791969842487255036638784583,\n",
      "11487696932154902810424020138335124462181441773470,\n",
      "63783299490636259666498587618221225225512486764533,\n",
      "67720186971698544312419572409913959008952310058822,\n",
      "95548255300263520781532296796249481641953868218774,\n",
      "76085327132285723110424803456124867697064507995236,\n",
      "37774242535411291684276865538926205024910326572967,\n",
      "23701913275725675285653248258265463092207058596522,\n",
      "29798860272258331913126375147341994889534765745501,\n",
      "18495701454879288984856827726077713721403798879715,\n",
      "38298203783031473527721580348144513491373226651381,\n",
      "34829543829199918180278916522431027392251122869539,\n",
      "40957953066405232632538044100059654939159879593635,\n",
      "29746152185502371307642255121183693803580388584903,\n",
      "41698116222072977186158236678424689157993532961922,\n",
      "62467957194401269043877107275048102390895523597457,\n",
      "23189706772547915061505504953922979530901129967519,\n",
      "86188088225875314529584099251203829009407770775672,\n",
      "11306739708304724483816533873502340845647058077308,\n",
      "82959174767140363198008187129011875491310547126581,\n",
      "97623331044818386269515456334926366572897563400500,\n",
      "42846280183517070527831839425882145521227251250327,\n",
      "55121603546981200581762165212827652751691296897789,\n",
      "32238195734329339946437501907836945765883352399886,\n",
      "75506164965184775180738168837861091527357929701337,\n",
      "62177842752192623401942399639168044983993173312731,\n",
      "32924185707147349566916674687634660915035914677504,\n",
      "99518671430235219628894890102423325116913619626622,\n",
      "73267460800591547471830798392868535206946944540724,\n",
      "76841822524674417161514036427982273348055556214818,\n",
      "97142617910342598647204516893989422179826088076852,\n",
      "87783646182799346313767754307809363333018982642090,\n",
      "10848802521674670883215120185883543223812876952786,\n",
      "71329612474782464538636993009049310363619763878039,\n",
      "62184073572399794223406235393808339651327408011116,\n",
      "66627891981488087797941876876144230030984490851411,\n",
      "60661826293682836764744779239180335110989069790714,\n",
      "85786944089552990653640447425576083659976645795096,\n",
      "66024396409905389607120198219976047599490197230297,\n",
      "64913982680032973156037120041377903785566085089252,\n",
      "16730939319872750275468906903707539413042652315011,\n",
      "94809377245048795150954100921645863754710598436791,\n",
      "78639167021187492431995700641917969777599028300699,\n",
      "15368713711936614952811305876380278410754449733078,\n",
      "40789923115535562561142322423255033685442488917353,\n",
      "44889911501440648020369068063960672322193204149535,\n",
      "41503128880339536053299340368006977710650566631954,\n",
      "81234880673210146739058568557934581403627822703280,\n",
      "82616570773948327592232845941706525094512325230608,\n",
      "22918802058777319719839450180888072429661980811197,\n",
      "77158542502016545090413245809786882778948721859617,\n",
      "72107838435069186155435662884062257473692284509516,\n",
      "20849603980134001723930671666823555245252804609722,\n",
      "53503534226472524250874054075591789781264330331690]\n",
      "print arr[99]"
     ],
     "language": "python",
     "metadata": {},
     "outputs": [
      {
       "output_type": "stream",
       "stream": "stdout",
       "text": [
        " 53503534226472524250874054075591789781264330331690\n"
       ]
      }
     ],
     "prompt_number": 63
    },
    {
     "cell_type": "code",
     "collapsed": false,
     "input": [
      "keys = range(49,-1,-1)\n",
      "sumdict = defaultdict(int)\n",
      "for i in xrange(100):\n",
      "    # loop from index 49 to 0\n",
      "    for j in keys:\n",
      "        arr[i] = str(arr[i])\n",
      "        sumdict[j] += int(arr[i][j])\n",
      "print sumdict\n",
      "for k in keys:\n",
      "    sumdict[k-1] += int(str(sumdict[k])[:-1])\n",
      "    sumdict[k] = str(sumdict[k])[-1]\n",
      "print sumdict\n",
      "sumdict[-1] = str(sumdict[-1])\n",
      "ans = ''.join(sumdict.values())\n",
      "ans = ans[-2:] + ans[:-2]\n",
      "print ans"
     ],
     "language": "python",
     "metadata": {},
     "outputs": [
      {
       "output_type": "stream",
       "stream": "stdout",
       "text": [
        "defaultdict(<type 'int'>, {0: 506, 1: 428, 2: 443, 3: 452, 4: 503, 5: 480, 6: 474, 7: 441, 8: 446, 9: 432, 10: 422, 11: 440, 12: 436, 13: 469, 14: 426, 15: 454, 16: 447, 17: 453, 18: 453, 19: 419, 20: 486, 21: 392, 22: 484, 23: 394, 24: 482, 25: 476, 26: 462, 27: 409, 28: 487, 29: 512, 30: 427, 31: 464, 32: 466, 33: 487, 34: 454, 35: 427, 36: 458, 37: 443, 38: 455, 39: 470, 40: 410, 41: 449, 42: 441, 43: 468, 44: 486, 45: 478, 46: 462, 47: 460, 48: 425, 49: 422})\n",
        "defaultdict(<type 'int'>, {0: '3', 1: '7', 2: '3', 3: '7', 4: '6', 5: '2', 6: '3', 7: '0', 8: '3', 9: '9', 10: '0', 11: '8', 12: '7', 13: '6', 14: '6', 15: '3', 16: '7', 17: '3', 18: '0', 19: '2', 20: '0', 21: '4', 22: '8', 23: '7', 24: '4', 25: '6', 26: '8', 27: '3', 28: '2', 29: '9', 30: '8', 31: '5', 32: '9', 33: '7', 34: '1', 35: '7', 36: '7', 37: '3', 38: '6', 39: '5', 40: '9', 41: '8', 42: '3', 43: '1', 44: '8', 45: '9', 46: '2', 47: '6', 48: '7', 49: '2', -1: 55})\n",
        "5537376230390876637302048746832985971773659831892672\n"
       ]
      }
     ],
     "prompt_number": 101
    },
    {
     "cell_type": "code",
     "collapsed": false,
     "input": [
      "# problem 14\n",
      "s=time.time()\n",
      "collatz = 1\n",
      "maxn = 1\n",
      "\n",
      "for i in xrange(1000001):\n",
      "    tmp = i\n",
      "    n = 1\n",
      "    #print '\\n-----\\n', tmp\n",
      "    while tmp > 1:\n",
      "        n += 1\n",
      "        if n > maxn:\n",
      "            maxn = n\n",
      "            collatz = i\n",
      "        if tmp % 2 == 0: \n",
      "            tmp /= 2\n",
      "        else: tmp = 3*tmp + 1\n",
      "        #print tmp\n",
      "print '\\n-----\\n', collatz, maxn, time.time()-s"
     ],
     "language": "python",
     "metadata": {},
     "outputs": [
      {
       "output_type": "stream",
       "stream": "stdout",
       "text": [
        "\n",
        "-----\n",
        "837799 525 75.7753379345\n"
       ]
      }
     ],
     "prompt_number": 3
    },
    {
     "cell_type": "code",
     "collapsed": false,
     "input": [
      "# problem 15\n",
      "# http://betterexplained.com/articles/navigate-a-grid-using-combinations-and-permutations/\n",
      "# mxn grid: paths is (m+n)! / (n! m!)\n",
      "\n",
      "n=20\n",
      "math.factorial(2*n)/math.factorial(n)/math.factorial(n)"
     ],
     "language": "python",
     "metadata": {},
     "outputs": [
      {
       "metadata": {},
       "output_type": "pyout",
       "prompt_number": 11,
       "text": [
        "137846528820L"
       ]
      }
     ],
     "prompt_number": 11
    },
    {
     "cell_type": "code",
     "collapsed": false,
     "input": [
      "# problem 16\n",
      "\n",
      "x = 2**1000\n",
      "y = str(x)\n",
      "print y\n",
      "total = 0\n",
      "for i in y:\n",
      "    total += int(i)\n",
      "print total"
     ],
     "language": "python",
     "metadata": {},
     "outputs": [
      {
       "output_type": "stream",
       "stream": "stdout",
       "text": [
        "10715086071862673209484250490600018105614048117055336074437503883703510511249361224931983788156958581275946729175531468251871452856923140435984577574698574803934567774824230985421074605062371141877954182153046474983581941267398767559165543946077062914571196477686542167660429831652624386837205668069376\n",
        "1366\n"
       ]
      }
     ],
     "prompt_number": 17
    },
    {
     "cell_type": "code",
     "collapsed": false,
     "input": [
      "# problem 17\n",
      "i = 0\n",
      "n = 1000\n",
      "letters = 0\n",
      "words = {'one':3, 'two':3, 'three':5, 'four':4, 'five':4, 'six':3, 'seven':5, 'eight':5, 'nine':4, 'ten':3,\n",
      "         'eleven':6, 'twelve':6, 'thirteen': 8, 'fourteen':8, 'fifteen':7, 'sixteen':7, 'seventeen':9, \n",
      "         'eighteen':8, 'nineteen':8, 'twenty':6, 'thirty':6, 'forty':5, 'fifty':5, 'sixty':5, 'seventy':7,\n",
      "         'eighty':6, 'ninety':6, 'hundred':7, 'and':3, 'thousand':8}\n",
      "count = {0:0, 1:3, 2:3, 3:5, 4:4, 5:4, 6:3, 7:5, 8:5, 9:4, 10:3,\n",
      "         11:6, 12:6, 13: 8, 14:8, 15:7, 16:7, 17:9, \n",
      "         18:8, 19:8, 20:6, 30:6, 40:5, 50:5, 60:5, 70:7,\n",
      "         80:6, 90:6, 100:7, 'and':3, 1000:8}\n",
      "\n",
      "def mod10(i): return int(i % 10)\n",
      "def mod100(i): return int(i % 100)\n",
      "def mod1000(i): return int(i % 1000)\n",
      "def tens(i):\n",
      "    if i < 30: return count[20]\n",
      "    elif i < 40: return count[30]\n",
      "    elif i < 50: return count[40]\n",
      "    elif i < 60: return count[50]\n",
      "    elif i < 70: return count[60]\n",
      "    elif i < 80: return count[70]\n",
      "    elif i < 90: return count[80]\n",
      "    elif i < 100: return count[90]\n",
      "\n",
      "while i < n:\n",
      "    i += 1\n",
      "    if i < 100:\n",
      "        if i < 20: letters += count[i]\n",
      "        else: letters += tens(i) + count[mod10(i)]\n",
      "    elif i >= 100 and i < 1000:\n",
      "        t = int(str(i)[0])\n",
      "        letters += count[100] + count[t]\n",
      "        t = mod100(i)\n",
      "        if t == 0: continue\n",
      "        else: \n",
      "            letters += count['and']\n",
      "            if t < 20: letters += count[t]\n",
      "            else: letters += tens(t) + count[mod10(t)]\n",
      "    elif i >= 1000 and i < 2000:\n",
      "        letters += count[1] + count[1000]\n",
      "        # skip rest\n",
      "    else: \n",
      "        print 'early end'\n",
      "        break\n",
      "print i, letters"
     ],
     "language": "python",
     "metadata": {},
     "outputs": [
      {
       "output_type": "stream",
       "stream": "stdout",
       "text": [
        "1000 21124\n"
       ]
      }
     ],
     "prompt_number": 14
    },
    {
     "cell_type": "code",
     "collapsed": false,
     "input": [
      "# problem 20\n",
      "\n",
      "x = math.factorial(100)\n",
      "y = str(x)\n",
      "total = 0\n",
      "\n",
      "for i in y:\n",
      "    total += int(i)\n",
      "print total"
     ],
     "language": "python",
     "metadata": {},
     "outputs": [
      {
       "output_type": "stream",
       "stream": "stdout",
       "text": [
        "648\n"
       ]
      }
     ],
     "prompt_number": 16
    },
    {
     "cell_type": "code",
     "collapsed": false,
     "input": [
      "# problem 19\n",
      "days = {1:31, 2:28, 3:31, 4:30, 5:31, 6:30, 7:31, 8:31, 9:30, 10:31, 11:30, 12:31} # except leap\n",
      "\n",
      "def isleap(year):\n",
      "    if year % 4 == 0:\n",
      "        if year % 100 == 0:\n",
      "            if year % 400 == 0: return True\n",
      "            return False\n",
      "        return True\n",
      "    return False\n",
      "\n",
      "def calendaryear(year, weekday):\n",
      "    count = 0\n",
      "    for k,v in days.iteritems():\n",
      "        if weekday % 7 == 0: count += 1 # check day\n",
      "        weekday += v # add month\n",
      "        # feb/leap\n",
      "        if k == 2: \n",
      "            if isleap(year): weekday += 1 \n",
      "    weekday = weekday % 7\n",
      "    \n",
      "    return count, weekday\n",
      "\n",
      "def countingsundays():\n",
      "    # init from 1900 Jan 1\n",
      "    weekday = 1\n",
      "    _, weekday = calendaryear(1900, weekday)\n",
      "\n",
      "    count = 0\n",
      "    for year in xrange(1901, 2001):\n",
      "        cnt, weekday = calendaryear(year, weekday)\n",
      "        count += cnt\n",
      "\n",
      "    return count\n",
      "\n",
      "print countingsundays()"
     ],
     "language": "python",
     "metadata": {},
     "outputs": [
      {
       "output_type": "stream",
       "stream": "stdout",
       "text": [
        "171\n"
       ]
      }
     ],
     "prompt_number": 21
    },
    {
     "cell_type": "code",
     "collapsed": false,
     "input": [],
     "language": "python",
     "metadata": {},
     "outputs": []
    },
    {
     "cell_type": "code",
     "collapsed": false,
     "input": [
      "# problem 18\n",
      "# doesn't work sad sad, didn't see the best way see below\n",
      "tri = dict()\n",
      "\n",
      "def savepoint(k, i, s):\n",
      "    # k is row we're investigating\n",
      "    # i is index of column\n",
      "    # s is maximum total path sum\n",
      "    # n is number of elements in row k\n",
      "    n = len(tri[k])\n",
      "    #print k, '\\t', i, '\\t', tri[k][i], '\\t', s\n",
      "\n",
      "    # check not at end\n",
      "    if not k: \n",
      "        #print '~~~~~~~'*4\n",
      "        return s\n",
      "\n",
      "    # assuming path through zero not worth ever\n",
      "    if i > 0 and i < n-1:\n",
      "        a = int(tri[k-1][i-1])\n",
      "        b = int(tri[k-1][i])\n",
      "\n",
      "        # use normalized logarithmic?\n",
      "        A = log(a)\n",
      "        B = log(b)\n",
      "        C = A + B\n",
      "        A = A / C\n",
      "        B = B / C\n",
      "\n",
      "        random.seed()\n",
      "        #print a, '\\t', b\n",
      "        #print A, '\\t', B\n",
      "        if random.random() < a:\n",
      "            s += a\n",
      "            return savepoint(k-1, i-1, s)\n",
      "        else:\n",
      "            s += b\n",
      "            return savepoint(k-1, i, s)\n",
      "\n",
      "    elif i == 0:\n",
      "        s += int(tri[k-1][i])\n",
      "        return savepoint(k-1, i, s)\n",
      "    else: \n",
      "        s += int(tri[k-1][i-1])\n",
      "        return savepoint(k-1, i-1, s)\n",
      "\n",
      "def maxpath():\n",
      "    with open('pe18.txt', 'r') as f:\n",
      "        key = -1\n",
      "        for line in f: \n",
      "            key += 1\n",
      "            # strings\n",
      "            tri[key] = line.split()\n",
      "\n",
      "    #print 'row\\tcol\\tval\\tsum'\n",
      "\n",
      "    # start at k = end key\n",
      "    sums = []\n",
      "    for i in xrange(len(tri[key])):\n",
      "        s = int(tri[key][i])\n",
      "        s = savepoint(key, i, s)\n",
      "        sums.append(s)\n",
      "\n",
      "    print sums\n",
      "    print max(sums)"
     ],
     "language": "python",
     "metadata": {},
     "outputs": [],
     "prompt_number": 2
    },
    {
     "cell_type": "code",
     "collapsed": false,
     "input": [
      "maxpath()"
     ],
     "language": "python",
     "metadata": {},
     "outputs": [
      {
       "output_type": "stream",
       "stream": "stdout",
       "text": [
        "[794, 852, 891, 738, 720, 753, 732, 865, 748, 622, 727, 651, 837, 792, 724]\n",
        "891\n"
       ]
      }
     ],
     "prompt_number": 7
    },
    {
     "cell_type": "code",
     "collapsed": false,
     "input": [
      "# problem 18 version 2\n",
      "tri = dict()\n",
      "\n",
      "def printtri():\n",
      "    for line in tri.values():\n",
      "        print line\n",
      "\n",
      "def maxpath(fp):\n",
      "    with open(fp, 'r') as f:\n",
      "        key = -1\n",
      "        for line in f:\n",
      "            key += 1\n",
      "            tri[key] = map(int, line.split())\n",
      "\n",
      "    # iterate through the rows backwards\n",
      "    for r in xrange(key, -1, -1):\n",
      "        # iterate through the columns-1\n",
      "        for c in xrange(len(tri[r])-1):\n",
      "            if tri[r][c] > tri[r][c+1]:\n",
      "                tri[r-1][c] += tri[r][c]\n",
      "            else:\n",
      "                tri[r-1][c] += tri[r][c+1]"
     ],
     "language": "python",
     "metadata": {},
     "outputs": [],
     "prompt_number": 26
    },
    {
     "cell_type": "code",
     "collapsed": false,
     "input": [
      "maxpath('pe18.txt')\n",
      "printtri()"
     ],
     "language": "python",
     "metadata": {},
     "outputs": [
      {
       "output_type": "stream",
       "stream": "stdout",
       "text": [
        "[1074]\n",
        "[995, 999]\n",
        "[818, 900, 935]\n",
        "[704, 801, 853, 792]\n",
        "[686, 640, 766, 731, 782]\n",
        "[666, 614, 636, 684, 660, 717]\n",
        "[647, 501, 613, 609, 533, 657, 683]\n",
        "[559, 499, 479, 536, 514, 526, 594, 616]\n",
        "[460, 434, 419, 475, 508, 470, 510, 524, 487]\n",
        "[419, 365, 393, 387, 419, 425, 430, 376, 454, 322]\n",
        "[378, 317, 231, 321, 354, 372, 393, 354, 360, 293, 247]\n",
        "[325, 246, 187, 178, 256, 329, 273, 302, 263, 242, 193, 233]\n",
        "[255, 235, 154, 150, 140, 179, 256, 209, 224, 172, 174, 176, 148]\n",
        "[125, 164, 102, 95, 112, 123, 165, 128, 166, 109, 122, 147, 100, 54]\n",
        "[4, 62, 98, 27, 23, 9, 70, 98, 73, 93, 38, 53, 60, 4, 23]\n"
       ]
      }
     ],
     "prompt_number": 27
    },
    {
     "cell_type": "code",
     "collapsed": false,
     "input": [
      "# problem 67\n",
      "\n",
      "maxpath('p067_triangle.txt')\n",
      "print tri[0]"
     ],
     "language": "python",
     "metadata": {},
     "outputs": [
      {
       "output_type": "stream",
       "stream": "stdout",
       "text": [
        "[7273]\n"
       ]
      }
     ],
     "prompt_number": 28
    },
    {
     "cell_type": "code",
     "collapsed": false,
     "input": [],
     "language": "python",
     "metadata": {},
     "outputs": []
    }
   ],
   "metadata": {}
  }
 ]
}