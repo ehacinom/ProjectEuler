{
 "metadata": {
  "name": "",
  "signature": "sha256:b92f52515aeb96ec5396ea96158f547b5e2e47db4eb12dfc76420119f628f0de"
 },
 "nbformat": 3,
 "nbformat_minor": 0,
 "worksheets": [
  {
   "cells": [
    {
     "cell_type": "code",
     "collapsed": false,
     "input": [
      "import math\n",
      "import numpy as np\n",
      "from collections import defaultdict\n",
      "from itertools import combinations, permutations\n",
      "import itertools\n",
      "import time\n",
      "import decimal"
     ],
     "language": "python",
     "metadata": {},
     "outputs": [],
     "prompt_number": 1
    },
    {
     "cell_type": "code",
     "collapsed": false,
     "input": [
      "# problem 61\n",
      "\n",
      "def P3():\n",
      "    n = int(math.ceil((-1 + math.sqrt(1+8*1000))/2.))\n",
      "    n0 = int((-1 + math.sqrt(1+8*9999))/2.) # inclusive\n",
      "    while n <= n0:\n",
      "        yield str(n*(n+1)/2)\n",
      "        n += 1\n",
      "\n",
      "def P4():\n",
      "    n = int(math.ceil(math.sqrt(1000)))\n",
      "    n0 = int(math.sqrt(9999))\n",
      "    while n <= n0:\n",
      "        yield str(n*n)\n",
      "        n += 1\n",
      "\n",
      "def P5():\n",
      "    n = int(math.ceil((1+math.sqrt(1+24*1000))/6.))\n",
      "    n0 = int((1+math.sqrt(1+24*9999))/6.)\n",
      "    while n <= n0:\n",
      "        yield str(n*(3*n-1)/2)\n",
      "        n += 1\n",
      "\n",
      "def P6():\n",
      "    n = int(math.ceil((1+math.sqrt(1+8*1000))/4.))\n",
      "    n0 = int((1+math.sqrt(1+8*9999))/4.)\n",
      "    while n <= n0:\n",
      "        yield str(n*(2*n-1))\n",
      "        n += 1\n",
      "\n",
      "def P7():\n",
      "    n = int(math.ceil((3+math.sqrt(9+40*1000))/10.))\n",
      "    n0 = int((3+math.sqrt(9+40*9999))/10.)\n",
      "    while n <= n0:\n",
      "        yield str(n*(5*n-3)/2)\n",
      "        n += 1\n",
      "\n",
      "def P8():\n",
      "    n = int(math.ceil((1+math.sqrt(1.+3*1000))/3.))\n",
      "    n0 = int((1+math.sqrt(1.+3*9999))/3.)\n",
      "    while n <= n0:\n",
      "        yield str(n*(3*n-2))\n",
      "        n += 1\n",
      "\n",
      "def findends(sta, end, p):\n",
      "    # sta, end = str:str\n",
      "    # p is generator\n",
      "    for i in p:\n",
      "        sta[i[:2]].add(i)\n",
      "        end[i[2:]].add(i)\n",
      "        \n",
      "    return sta, end\n",
      "\n",
      "def cyclicpolynum():\n",
      "    # find start, end, and groups (1ms)\n",
      "    # set so no repeat numbers to search in sta and end\n",
      "    sta, end, grp = defaultdict(set), defaultdict(set), defaultdict(list)\n",
      "    t = 3\n",
      "    for P in (P3(), P4(), P5(), P6(), P7(), P8()):\n",
      "        sta, end = findends(sta, end, P)\n",
      "    for P in (P3(), P4(), P5(), P6(), P7(), P8()):\n",
      "        for p in P:\n",
      "            grp[p].append(t)\n",
      "        t += 1\n",
      "\n",
      "    # find possible numbers\n",
      "    linkset = set()\n",
      "    for e in end:\n",
      "        # number 1\n",
      "        for abcd in end[e]:\n",
      "            # number 2\n",
      "            for cdef in sta[e]:\n",
      "                if cdef == abcd: continue\n",
      "                # number 3\n",
      "                for efgh in sta[cdef[2:]]:\n",
      "                    if efgh in (abcd, cdef): continue\n",
      "                    # number 4\n",
      "                    for ghij in sta[efgh[2:]]:\n",
      "                        if ghij in (abcd, cdef, efgh): continue\n",
      "                        # number 5\n",
      "                        for ijkl in sta[ghij[2:]]:\n",
      "                            if ijkl in (abcd, cdef, efgh, ghij): continue\n",
      "                            # number 6\n",
      "                            for klab in sta[ijkl[2:]]:\n",
      "                                if klab[2:] != abcd[:2]: continue\n",
      "                                if klab in (abcd, cdef, efgh, ghij, ijkl): continue\n",
      "                                \n",
      "                                # get unique links\n",
      "                                links = (abcd, cdef, efgh, ghij, ijkl, klab)\n",
      "                                linkset.add(links)\n",
      "\n",
      "    # calculate links\n",
      "    for ink in linkset:\n",
      "        # chain, chainz for single-filtered \n",
      "        chain = [grp[i] for i in ink]\n",
      "        chainz = []\n",
      "\n",
      "        # remove lists with single type numbers that don't mesh\n",
      "        singles = ''\n",
      "        for g in chain: \n",
      "            if len(g) == 1:\n",
      "                singles += str(g[0])\n",
      "            else:\n",
      "                chainz.append(g)\n",
      "        if len(singles) != len(set(singles)): continue\n",
      "        \n",
      "        # the rest\n",
      "        combs = [i for i in itertools.product(*chainz) if len(i) == len(set(i))]\n",
      "        if combs:\n",
      "            for cl in combs:\n",
      "                for c in cl:\n",
      "                    good = True\n",
      "                    if str(c) in singles: \n",
      "                        good = False\n",
      "                        break\n",
      "                if good:\n",
      "                    print sum([int(i) for i in ink]), ink\n",
      "    return linkset\n",
      "\n",
      "s = time.time()\n",
      "test = cyclicpolynum()\n",
      "print time.time()-s"
     ],
     "language": "python",
     "metadata": {},
     "outputs": [
      {
       "output_type": "stream",
       "stream": "stdout",
       "text": [
        "28684 ('1281', '8128', '2882', '8256', '5625', '2512')\n",
        "28684 ('2882', '8256', '5625', '2512', '1281', '8128')\n",
        "28684 ('5625', '2512', '1281', '8128', '2882', '8256')\n",
        "28684 ('8256', '5625', '2512', '1281', '8128', '2882')\n",
        "28684 ('2512', '1281', '8128', '2882', '8256', '5625')\n",
        "28684 ('8128', '2882', '8256', '5625', '2512', '1281')\n",
        "0.044732093811\n"
       ]
      }
     ],
     "prompt_number": 2
    },
    {
     "cell_type": "code",
     "collapsed": false,
     "input": [
      "# problem 62\n",
      "# know that min is 345^3 = 41063625 \n",
      "\n",
      "digits = defaultdict(list)\n",
      "for i in xrange(345,10000):\n",
      "    c = ''.join(sorted(str(i*i*i)))\n",
      "    digits[c].append(i)\n",
      "\n",
      "for j, lst in digits.iteritems():\n",
      "    if len(lst) > 4:\n",
      "        print j, lst, lst[0]**3"
     ],
     "language": "python",
     "metadata": {},
     "outputs": [
      {
       "output_type": "stream",
       "stream": "stdout",
       "text": [
        "012334566789 [5196, 8124, 8496, 9702, 9783] 140283769536\n",
        "012334556789 [5027, 7061, 7202, 8288, 8384] 127035954683\n"
       ]
      }
     ],
     "prompt_number": 3
    },
    {
     "cell_type": "code",
     "collapsed": false,
     "input": [
      "# problem 63\n",
      "\n",
      "count = 0\n",
      "for a in xrange(1,10): # 10^1 has 2 digits, too big already\n",
      "    for b in xrange(1,22):\n",
      "        power = a**b\n",
      "        digit = len(str(power))\n",
      "        # the trends are really quite interesting!!\n",
      "        print '{}: {}, {} digits'.format(a, b, digit)\n",
      "        if digit == b: \n",
      "            #print '{}: {}, {} digits'.format(a, b, digit)\n",
      "            count += 1\n",
      "print count"
     ],
     "language": "python",
     "metadata": {},
     "outputs": [
      {
       "output_type": "stream",
       "stream": "stdout",
       "text": [
        "1: 1, 1 digits\n",
        "1: 2, 1 digits\n",
        "1: 3, 1 digits\n",
        "1: 4, 1 digits\n",
        "1: 5, 1 digits\n",
        "1: 6, 1 digits\n",
        "1: 7, 1 digits\n",
        "1: 8, 1 digits\n",
        "1: 9, 1 digits\n",
        "1: 10, 1 digits\n",
        "1: 11, 1 digits\n",
        "1: 12, 1 digits\n",
        "1: 13, 1 digits\n",
        "1: 14, 1 digits\n",
        "1: 15, 1 digits\n",
        "1: 16, 1 digits\n",
        "1: 17, 1 digits\n",
        "1: 18, 1 digits\n",
        "1: 19, 1 digits\n",
        "1: 20, 1 digits\n",
        "1: 21, 1 digits\n",
        "2: 1, 1 digits\n",
        "2: 2, 1 digits\n",
        "2: 3, 1 digits\n",
        "2: 4, 2 digits\n",
        "2: 5, 2 digits\n",
        "2: 6, 2 digits\n",
        "2: 7, 3 digits\n",
        "2: 8, 3 digits\n",
        "2: 9, 3 digits\n",
        "2: 10, 4 digits\n",
        "2: 11, 4 digits\n",
        "2: 12, 4 digits\n",
        "2: 13, 4 digits\n",
        "2: 14, 5 digits\n",
        "2: 15, 5 digits\n",
        "2: 16, 5 digits\n",
        "2: 17, 6 digits\n",
        "2: 18, 6 digits\n",
        "2: 19, 6 digits\n",
        "2: 20, 7 digits\n",
        "2: 21, 7 digits\n",
        "3: 1, 1 digits\n",
        "3: 2, 1 digits\n",
        "3: 3, 2 digits\n",
        "3: 4, 2 digits\n",
        "3: 5, 3 digits\n",
        "3: 6, 3 digits\n",
        "3: 7, 4 digits\n",
        "3: 8, 4 digits\n",
        "3: 9, 5 digits\n",
        "3: 10, 5 digits\n",
        "3: 11, 6 digits\n",
        "3: 12, 6 digits\n",
        "3: 13, 7 digits\n",
        "3: 14, 7 digits\n",
        "3: 15, 8 digits\n",
        "3: 16, 8 digits\n",
        "3: 17, 9 digits\n",
        "3: 18, 9 digits\n",
        "3: 19, 10 digits\n",
        "3: 20, 10 digits\n",
        "3: 21, 11 digits\n",
        "4: 1, 1 digits\n",
        "4: 2, 2 digits\n",
        "4: 3, 2 digits\n",
        "4: 4, 3 digits\n",
        "4: 5, 4 digits\n",
        "4: 6, 4 digits\n",
        "4: 7, 5 digits\n",
        "4: 8, 5 digits\n",
        "4: 9, 6 digits\n",
        "4: 10, 7 digits\n",
        "4: 11, 7 digits\n",
        "4: 12, 8 digits\n",
        "4: 13, 8 digits\n",
        "4: 14, 9 digits\n",
        "4: 15, 10 digits\n",
        "4: 16, 10 digits\n",
        "4: 17, 11 digits\n",
        "4: 18, 11 digits\n",
        "4: 19, 12 digits\n",
        "4: 20, 13 digits\n",
        "4: 21, 13 digits\n",
        "5: 1, 1 digits\n",
        "5: 2, 2 digits\n",
        "5: 3, 3 digits\n",
        "5: 4, 3 digits\n",
        "5: 5, 4 digits\n",
        "5: 6, 5 digits\n",
        "5: 7, 5 digits\n",
        "5: 8, 6 digits\n",
        "5: 9, 7 digits\n",
        "5: 10, 7 digits\n",
        "5: 11, 8 digits\n",
        "5: 12, 9 digits\n",
        "5: 13, 10 digits\n",
        "5: 14, 10 digits\n",
        "5: 15, 11 digits\n",
        "5: 16, 12 digits\n",
        "5: 17, 12 digits\n",
        "5: 18, 13 digits\n",
        "5: 19, 14 digits\n",
        "5: 20, 14 digits\n",
        "5: 21, 15 digits\n",
        "6: 1, 1 digits\n",
        "6: 2, 2 digits\n",
        "6: 3, 3 digits\n",
        "6: 4, 4 digits\n",
        "6: 5, 4 digits\n",
        "6: 6, 5 digits\n",
        "6: 7, 6 digits\n",
        "6: 8, 7 digits\n",
        "6: 9, 8 digits\n",
        "6: 10, 8 digits\n",
        "6: 11, 9 digits\n",
        "6: 12, 10 digits\n",
        "6: 13, 11 digits\n",
        "6: 14, 11 digits\n",
        "6: 15, 12 digits\n",
        "6: 16, 13 digits\n",
        "6: 17, 14 digits\n",
        "6: 18, 15 digits\n",
        "6: 19, 15 digits\n",
        "6: 20, 16 digits\n",
        "6: 21, 17 digits\n",
        "7: 1, 1 digits\n",
        "7: 2, 2 digits\n",
        "7: 3, 3 digits\n",
        "7: 4, 4 digits\n",
        "7: 5, 5 digits\n",
        "7: 6, 6 digits\n",
        "7: 7, 6 digits\n",
        "7: 8, 7 digits\n",
        "7: 9, 8 digits\n",
        "7: 10, 9 digits\n",
        "7: 11, 10 digits\n",
        "7: 12, 11 digits\n",
        "7: 13, 11 digits\n",
        "7: 14, 12 digits\n",
        "7: 15, 13 digits\n",
        "7: 16, 14 digits\n",
        "7: 17, 15 digits\n",
        "7: 18, 16 digits\n",
        "7: 19, 17 digits\n",
        "7: 20, 17 digits\n",
        "7: 21, 18 digits\n",
        "8: 1, 1 digits\n",
        "8: 2, 2 digits\n",
        "8: 3, 3 digits\n",
        "8: 4, 4 digits\n",
        "8: 5, 5 digits\n",
        "8: 6, 6 digits\n",
        "8: 7, 7 digits\n",
        "8: 8, 8 digits\n",
        "8: 9, 9 digits\n",
        "8: 10, 10 digits\n",
        "8: 11, 10 digits\n",
        "8: 12, 11 digits\n",
        "8: 13, 12 digits\n",
        "8: 14, 13 digits\n",
        "8: 15, 14 digits\n",
        "8: 16, 15 digits\n",
        "8: 17, 16 digits\n",
        "8: 18, 17 digits\n",
        "8: 19, 18 digits\n",
        "8: 20, 19 digits\n",
        "8: 21, 19 digits\n",
        "9: 1, 1 digits\n",
        "9: 2, 2 digits\n",
        "9: 3, 3 digits\n",
        "9: 4, 4 digits\n",
        "9: 5, 5 digits\n",
        "9: 6, 6 digits\n",
        "9: 7, 7 digits\n",
        "9: 8, 8 digits\n",
        "9: 9, 9 digits\n",
        "9: 10, 10 digits\n",
        "9: 11, 11 digits\n",
        "9: 12, 12 digits\n",
        "9: 13, 13 digits\n",
        "9: 14, 14 digits\n",
        "9: 15, 15 digits\n",
        "9: 16, 16 digits\n",
        "9: 17, 17 digits\n",
        "9: 18, 18 digits\n",
        "9: 19, 19 digits\n",
        "9: 20, 20 digits\n",
        "9: 21, 21 digits\n",
        "10: 1, 2 digits\n",
        "10: 2, 3 digits\n",
        "10: 3, 4 digits\n",
        "10: 4, 5 digits\n",
        "10: 5, 6 digits\n",
        "10: 6, 7 digits\n",
        "10: 7, 8 digits\n",
        "10: 8, 9 digits\n",
        "10: 9, 10 digits\n",
        "10: 10, 11 digits\n",
        "10: 11, 12 digits\n",
        "10: 12, 13 digits\n",
        "10: 13, 14 digits\n",
        "10: 14, 15 digits\n",
        "10: 15, 16 digits\n",
        "10: 16, 17 digits\n",
        "10: 17, 18 digits\n",
        "10: 18, 19 digits\n",
        "10: 19, 20 digits\n",
        "10: 20, 21 digits\n",
        "10: 21, 22 digits\n",
        "49\n"
       ]
      }
     ],
     "prompt_number": 4
    },
    {
     "cell_type": "code",
     "collapsed": false,
     "input": [
      "# problem 64\n",
      "# https://en.wikipedia.org/wiki/Methods_of_computing_square_roots#Algorithm\n",
      "\n",
      "def cont_frac(n=13):\n",
      "    a0 = int(math.sqrt(n))\n",
      "    m, d, a = 0, 1, a0\n",
      "    period = 0\n",
      "    while a != 2*a0:\n",
      "        m = d*a - m\n",
      "        d = (n - m*m) / d\n",
      "        a = int((a0 + m) / d)\n",
      "        period += 1\n",
      "    return period\n",
      "\n",
      "def oddperiodsquareroots(n=13):\n",
      "    count = 0\n",
      "    \n",
      "    sqr = 1\n",
      "    for i in xrange(1, n+1):\n",
      "        # is sqr?\n",
      "        if sqr*sqr == i:\n",
      "            sqr += 1\n",
      "            continue\n",
      "        \n",
      "        # is odd?\n",
      "        if cont_frac(i) % 2: count += 1\n",
      "        \n",
      "    return count\n",
      "\n",
      "oddperiodsquareroots(10000)"
     ],
     "language": "python",
     "metadata": {},
     "outputs": [
      {
       "metadata": {},
       "output_type": "pyout",
       "prompt_number": 58,
       "text": [
        "1322"
       ]
      }
     ],
     "prompt_number": 58
    },
    {
     "cell_type": "code",
     "collapsed": false,
     "input": [],
     "language": "python",
     "metadata": {},
     "outputs": []
    },
    {
     "cell_type": "code",
     "collapsed": false,
     "input": [],
     "language": "python",
     "metadata": {},
     "outputs": []
    },
    {
     "cell_type": "code",
     "collapsed": false,
     "input": [],
     "language": "python",
     "metadata": {},
     "outputs": []
    },
    {
     "cell_type": "code",
     "collapsed": false,
     "input": [],
     "language": "python",
     "metadata": {},
     "outputs": []
    },
    {
     "cell_type": "code",
     "collapsed": false,
     "input": [
      "# problem 65\n",
      "# continued fractions\n",
      "# https://arxiv.org/pdf/math/0601660.pdf\n",
      "\n",
      "def e_cont_frac(n=10):\n",
      "    # continued fraction for e\n",
      "    # do not use inexact floats, or else python will use scientific notation\n",
      "    a = [1 for i in xrange(n+2)]\n",
      "    k = 0\n",
      "    for i in xrange(1, n+2, 3):\n",
      "        a[i] = 2*k\n",
      "        k += 1\n",
      "    \n",
      "    # convergent to p/q\n",
      "    # init\n",
      "    p = [a[0], a[0] * a[1] + 1]\n",
      "    q = [1, a[1]]\n",
      "    count = 2\n",
      "    while count < n + 2:\n",
      "        # could make this way more nice, see the way fibonacci is done\n",
      "        p.append(a[count] * p[count-1] + p[count-2])\n",
      "        q.append(a[count] * q[count-1] + q[count-2])\n",
      "        count += 1\n",
      "    \n",
      "    # find sum of digits in nth numerator p\n",
      "    print p[-1]\n",
      "    sumnumdigits = 0\n",
      "    for c in str(int(p[-1])): sumnumdigits += int(c)\n",
      "    \n",
      "    return sumnumdigits\n",
      "\n",
      "e_cont_frac(100)"
     ],
     "language": "python",
     "metadata": {},
     "outputs": [
      {
       "output_type": "stream",
       "stream": "stdout",
       "text": [
        "6963524437876961749120273824619538346438023188214475670667\n"
       ]
      },
      {
       "metadata": {},
       "output_type": "pyout",
       "prompt_number": 23,
       "text": [
        "272"
       ]
      }
     ],
     "prompt_number": 23
    },
    {
     "cell_type": "code",
     "collapsed": false,
     "input": [
      "# problem 66\n",
      "# https://en.wikipedia.org/wiki/Pell%27s_equation\n",
      "# a*a - D*y*y = k = 1\n",
      "# (a, b, k) = (a*m + D*b, a + b*m, m*m - D) / k\n",
      "## need continued fractions :D\n",
      "\n",
      "def diophantine(Dmax = 100, xmax = 100, ymax = 1000):\n",
      "    # WHERE IS i and b ????\n",
      "    \n",
      "    for D in xrange(Dmax):\n",
      "        # avoid squared D\n",
      "        if i*i == D:\n",
      "            i += 1\n",
      "            continue\n",
      "\n",
      "        # \n",
      "        mm = 1 + D\n",
      "        a = b * D / (1-m)\n",
      "        b = a / (1-m)\n",
      "        \n",
      "        # loop\n",
      "        x = 1\n",
      "        soln = False\n",
      "        while not soln:\n",
      "            for x in xrange(1, ymax):\n",
      "                for y in xrange(1,ymax):\n",
      "                    if x*x - D*y*y == 1:\n",
      "                        # if largest x value found\n",
      "                        if x >= xx:\n",
      "                            xx = x\n",
      "                            xDy = (x, D, y)\n",
      "                            print xDy, 'yay'\n",
      "                        \n",
      "                        # stop iteration, min soln found\n",
      "                        soln = True\n",
      "                        break\n",
      "                if soln: break\n",
      "            if not soln: \n",
      "                print 'uh oh', (x, D, y)\n",
      "                break\n",
      "                "
     ],
     "language": "python",
     "metadata": {},
     "outputs": [],
     "prompt_number": 4
    },
    {
     "cell_type": "code",
     "collapsed": false,
     "input": [
      "diophantine(100,100,1000)"
     ],
     "language": "python",
     "metadata": {},
     "outputs": [
      {
       "ename": "UnboundLocalError",
       "evalue": "local variable 'b' referenced before assignment",
       "output_type": "pyerr",
       "traceback": [
        "\u001b[0;31m---------------------------------------------------------------------------\u001b[0m\n\u001b[0;31mUnboundLocalError\u001b[0m                         Traceback (most recent call last)",
        "\u001b[0;32m<ipython-input-5-1f3c06c2a6dc>\u001b[0m in \u001b[0;36m<module>\u001b[0;34m()\u001b[0m\n\u001b[0;32m----> 1\u001b[0;31m \u001b[0mdiophantine\u001b[0m\u001b[0;34m(\u001b[0m\u001b[0;36m100\u001b[0m\u001b[0;34m,\u001b[0m\u001b[0;36m100\u001b[0m\u001b[0;34m,\u001b[0m\u001b[0;36m1000\u001b[0m\u001b[0;34m)\u001b[0m\u001b[0;34m\u001b[0m\u001b[0m\n\u001b[0m",
        "\u001b[0;32m<ipython-input-4-a8c722922e1e>\u001b[0m in \u001b[0;36mdiophantine\u001b[0;34m(Dmax, xmax, ymax)\u001b[0m\n\u001b[1;32m     16\u001b[0m         \u001b[0;31m#\u001b[0m\u001b[0;34m\u001b[0m\u001b[0;34m\u001b[0m\u001b[0m\n\u001b[1;32m     17\u001b[0m         \u001b[0mmm\u001b[0m \u001b[0;34m=\u001b[0m \u001b[0;36m1\u001b[0m \u001b[0;34m+\u001b[0m \u001b[0mD\u001b[0m\u001b[0;34m\u001b[0m\u001b[0m\n\u001b[0;32m---> 18\u001b[0;31m         \u001b[0ma\u001b[0m \u001b[0;34m=\u001b[0m \u001b[0mb\u001b[0m \u001b[0;34m*\u001b[0m \u001b[0mD\u001b[0m \u001b[0;34m/\u001b[0m \u001b[0;34m(\u001b[0m\u001b[0;36m1\u001b[0m\u001b[0;34m-\u001b[0m\u001b[0mm\u001b[0m\u001b[0;34m)\u001b[0m\u001b[0;34m\u001b[0m\u001b[0m\n\u001b[0m\u001b[1;32m     19\u001b[0m         \u001b[0mb\u001b[0m \u001b[0;34m=\u001b[0m \u001b[0ma\u001b[0m \u001b[0;34m/\u001b[0m \u001b[0;34m(\u001b[0m\u001b[0;36m1\u001b[0m\u001b[0;34m-\u001b[0m\u001b[0mm\u001b[0m\u001b[0;34m)\u001b[0m\u001b[0;34m\u001b[0m\u001b[0m\n\u001b[1;32m     20\u001b[0m \u001b[0;34m\u001b[0m\u001b[0m\n",
        "\u001b[0;31mUnboundLocalError\u001b[0m: local variable 'b' referenced before assignment"
       ]
      }
     ],
     "prompt_number": 5
    },
    {
     "cell_type": "code",
     "collapsed": false,
     "input": [
      "diophantine(100,5000,5000)"
     ],
     "language": "python",
     "metadata": {},
     "outputs": [
      {
       "output_type": "stream",
       "stream": "stdout",
       "text": [
        "(3, 2, 2) yay\n",
        "(9, 5, 4) yay\n",
        "(19, 10, 6)"
       ]
      },
      {
       "output_type": "stream",
       "stream": "stdout",
       "text": [
        " yay\n",
        "(649, 13, 180)"
       ]
      },
      {
       "output_type": "stream",
       "stream": "stdout",
       "text": [
        " yay\n",
        "uh oh"
       ]
      },
      {
       "output_type": "stream",
       "stream": "stdout",
       "text": [
        " (4999, 29, 4999)\n",
        "(1520, 31, 273)"
       ]
      },
      {
       "output_type": "stream",
       "stream": "stdout",
       "text": [
        " yay\n",
        "(2049, 41, 320)"
       ]
      },
      {
       "output_type": "stream",
       "stream": "stdout",
       "text": [
        " yay\n",
        "(3482, 43, 531)"
       ]
      },
      {
       "output_type": "stream",
       "stream": "stdout",
       "text": [
        " yay\n",
        "uh oh"
       ]
      },
      {
       "output_type": "stream",
       "stream": "stdout",
       "text": [
        " (4999, 46, 4999)\n",
        "uh oh"
       ]
      },
      {
       "output_type": "stream",
       "stream": "stdout",
       "text": [
        " (4999, 53, 4999)\n",
        "uh oh"
       ]
      },
      {
       "output_type": "stream",
       "stream": "stdout",
       "text": [
        " (4999, 58, 4999)\n",
        "uh oh"
       ]
      },
      {
       "output_type": "stream",
       "stream": "stdout",
       "text": [
        " (4999, 61, 4999)\n",
        "uh oh"
       ]
      },
      {
       "output_type": "stream",
       "stream": "stdout",
       "text": [
        " (4999, 67, 4999)\n",
        "uh oh"
       ]
      },
      {
       "output_type": "stream",
       "stream": "stdout",
       "text": [
        " (4999, 69, 4999)\n",
        "uh oh"
       ]
      },
      {
       "output_type": "stream",
       "stream": "stdout",
       "text": [
        " (4999, 73, 4999)\n",
        "(3699, 74, 430)"
       ]
      },
      {
       "output_type": "stream",
       "stream": "stdout",
       "text": [
        " yay\n",
        "uh oh"
       ]
      },
      {
       "output_type": "stream",
       "stream": "stdout",
       "text": [
        " (4999, 76, 4999)\n",
        "uh oh"
       ]
      },
      {
       "output_type": "stream",
       "stream": "stdout",
       "text": [
        " (4999, 85, 4999)\n",
        "uh oh"
       ]
      },
      {
       "output_type": "stream",
       "stream": "stdout",
       "text": [
        " (4999, 86, 4999)\n",
        "uh oh"
       ]
      },
      {
       "output_type": "stream",
       "stream": "stdout",
       "text": [
        " (4999, 89, 4999)\n",
        "uh oh"
       ]
      },
      {
       "output_type": "stream",
       "stream": "stdout",
       "text": [
        " (4999, 93, 4999)\n",
        "uh oh"
       ]
      },
      {
       "output_type": "stream",
       "stream": "stdout",
       "text": [
        " (4999, 94, 4999)\n",
        "uh oh"
       ]
      },
      {
       "output_type": "stream",
       "stream": "stdout",
       "text": [
        " (4999, 97, 4999)\n"
       ]
      }
     ],
     "prompt_number": 17
    },
    {
     "cell_type": "code",
     "collapsed": false,
     "input": [
      "diophantine(100,100,1000)"
     ],
     "language": "python",
     "metadata": {},
     "outputs": [
      {
       "output_type": "stream",
       "stream": "stdout",
       "text": [
        "(3, 2, 2) yay\n",
        "(9, 5, 4) yay\n",
        "(19, 10, 6) yay\n",
        "(649, 13, 180)"
       ]
      },
      {
       "output_type": "stream",
       "stream": "stdout",
       "text": [
        " yay\n",
        "uh oh"
       ]
      },
      {
       "output_type": "stream",
       "stream": "stdout",
       "text": [
        " (999, 29, 999)\n",
        "uh oh"
       ]
      },
      {
       "output_type": "stream",
       "stream": "stdout",
       "text": [
        " (999, 31, 999)\n",
        "uh oh"
       ]
      },
      {
       "output_type": "stream",
       "stream": "stdout",
       "text": [
        " (999, 41, 999)\n",
        "uh oh"
       ]
      },
      {
       "output_type": "stream",
       "stream": "stdout",
       "text": [
        " (999, 43, 999)\n",
        "uh oh"
       ]
      },
      {
       "output_type": "stream",
       "stream": "stdout",
       "text": [
        " (999, 46, 999)\n",
        "(649, 52, 90)"
       ]
      },
      {
       "output_type": "stream",
       "stream": "stdout",
       "text": [
        " yay\n",
        "uh oh"
       ]
      },
      {
       "output_type": "stream",
       "stream": "stdout",
       "text": [
        " (999, 53, 999)\n",
        "uh oh"
       ]
      },
      {
       "output_type": "stream",
       "stream": "stdout",
       "text": [
        " (999, 58, 999)\n",
        "uh oh"
       ]
      },
      {
       "output_type": "stream",
       "stream": "stdout",
       "text": [
        " (999, 61, 999)\n",
        "uh oh"
       ]
      },
      {
       "output_type": "stream",
       "stream": "stdout",
       "text": [
        " (999, 67, 999)\n",
        "uh oh"
       ]
      },
      {
       "output_type": "stream",
       "stream": "stdout",
       "text": [
        " (999, 69, 999)\n",
        "uh oh"
       ]
      },
      {
       "output_type": "stream",
       "stream": "stdout",
       "text": [
        " (999, 71, 999)\n",
        "uh oh"
       ]
      },
      {
       "output_type": "stream",
       "stream": "stdout",
       "text": [
        " (999, 73, 999)\n",
        "uh oh"
       ]
      },
      {
       "output_type": "stream",
       "stream": "stdout",
       "text": [
        " (999, 74, 999)\n",
        "uh oh"
       ]
      },
      {
       "output_type": "stream",
       "stream": "stdout",
       "text": [
        " (999, 76, 999)\n",
        "uh oh"
       ]
      },
      {
       "output_type": "stream",
       "stream": "stdout",
       "text": [
        " (999, 85, 999)\n",
        "uh oh"
       ]
      },
      {
       "output_type": "stream",
       "stream": "stdout",
       "text": [
        " (999, 86, 999)\n",
        "uh oh"
       ]
      },
      {
       "output_type": "stream",
       "stream": "stdout",
       "text": [
        " (999, 89, 999)\n",
        "uh oh"
       ]
      },
      {
       "output_type": "stream",
       "stream": "stdout",
       "text": [
        " (999, 91, 999)\n",
        "uh oh"
       ]
      },
      {
       "output_type": "stream",
       "stream": "stdout",
       "text": [
        " (999, 92, 999)\n",
        "uh oh"
       ]
      },
      {
       "output_type": "stream",
       "stream": "stdout",
       "text": [
        " (999, 93, 999)\n",
        "uh oh"
       ]
      },
      {
       "output_type": "stream",
       "stream": "stdout",
       "text": [
        " (999, 94, 999)\n",
        "uh oh"
       ]
      },
      {
       "output_type": "stream",
       "stream": "stdout",
       "text": [
        " (999, 97, 999)\n"
       ]
      }
     ],
     "prompt_number": 7
    },
    {
     "cell_type": "code",
     "collapsed": false,
     "input": [
      "diophantine(100,1000,100)"
     ],
     "language": "python",
     "metadata": {},
     "outputs": [
      {
       "output_type": "stream",
       "stream": "stdout",
       "text": [
        "(3, 2, 2)\n",
        "(9, 5, 4)\n",
        "(19, 10, 6)\n",
        "(33, 17, 8)\n",
        "(170, 19, 39)\n",
        "(197, 22, 42)\n",
        "(199, 44, 30)"
       ]
      },
      {
       "output_type": "stream",
       "stream": "stdout",
       "text": [
        "\n",
        "(649, 52, 90)"
       ]
      },
      {
       "output_type": "stream",
       "stream": "stdout",
       "text": [
        "\n"
       ]
      },
      {
       "metadata": {},
       "output_type": "pyout",
       "prompt_number": 33,
       "text": [
        "(649, 52, 90)"
       ]
      }
     ],
     "prompt_number": 33
    },
    {
     "cell_type": "code",
     "collapsed": false,
     "input": [
      "diophantine(100,1000,1000)"
     ],
     "language": "python",
     "metadata": {},
     "outputs": [
      {
       "output_type": "stream",
       "stream": "stdout",
       "text": [
        "(3, 2, 2)\n",
        "(9, 5, 4)\n",
        "(19, 10, 6)\n",
        "(649, 13, 180)"
       ]
      },
      {
       "output_type": "stream",
       "stream": "stdout",
       "text": [
        "\n",
        "(649, 52, 90)"
       ]
      },
      {
       "output_type": "stream",
       "stream": "stdout",
       "text": [
        "\n"
       ]
      },
      {
       "metadata": {},
       "output_type": "pyout",
       "prompt_number": 34,
       "text": [
        "(649, 52, 90)"
       ]
      }
     ],
     "prompt_number": 34
    },
    {
     "cell_type": "code",
     "collapsed": false,
     "input": [],
     "language": "python",
     "metadata": {},
     "outputs": []
    },
    {
     "cell_type": "code",
     "collapsed": false,
     "input": [],
     "language": "python",
     "metadata": {},
     "outputs": []
    },
    {
     "cell_type": "code",
     "collapsed": false,
     "input": [],
     "language": "python",
     "metadata": {},
     "outputs": []
    },
    {
     "cell_type": "code",
     "collapsed": false,
     "input": [],
     "language": "python",
     "metadata": {},
     "outputs": []
    },
    {
     "cell_type": "code",
     "collapsed": false,
     "input": [],
     "language": "python",
     "metadata": {},
     "outputs": []
    },
    {
     "cell_type": "code",
     "collapsed": false,
     "input": [
      "# problem 68\n",
      "\n",
      "# lol, did it by hand in a few minutes :)"
     ],
     "language": "python",
     "metadata": {},
     "outputs": []
    },
    {
     "cell_type": "code",
     "collapsed": false,
     "input": [
      "# problem 69\n",
      "\n"
     ],
     "language": "python",
     "metadata": {},
     "outputs": []
    },
    {
     "cell_type": "code",
     "collapsed": false,
     "input": [],
     "language": "python",
     "metadata": {},
     "outputs": []
    },
    {
     "cell_type": "code",
     "collapsed": false,
     "input": [],
     "language": "python",
     "metadata": {},
     "outputs": []
    },
    {
     "cell_type": "code",
     "collapsed": false,
     "input": [],
     "language": "python",
     "metadata": {},
     "outputs": []
    },
    {
     "cell_type": "code",
     "collapsed": false,
     "input": [],
     "language": "python",
     "metadata": {},
     "outputs": []
    }
   ],
   "metadata": {}
  }
 ]
}