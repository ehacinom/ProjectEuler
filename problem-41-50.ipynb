{
 "metadata": {
  "name": "",
  "signature": "sha256:ad8731b597bceddc4ad290e2cbfadfee8076f232da266d772328bb4026867b0b"
 },
 "nbformat": 3,
 "nbformat_minor": 0,
 "worksheets": [
  {
   "cells": [
    {
     "cell_type": "code",
     "collapsed": false,
     "input": [
      "import numpy as np\n",
      "import time\n",
      "import math\n",
      "from collections import defaultdict"
     ],
     "language": "python",
     "metadata": {},
     "outputs": [],
     "prompt_number": 1
    },
    {
     "cell_type": "code",
     "collapsed": false,
     "input": [
      "# problem 41\n",
      "\n",
      "# primes <= n\n",
      "def sievegen(n):\n",
      "    yield 2\n",
      "    primes = [True] * (n+1) # init T/F primes, ignore 0/1 truthiness\n",
      "    for i in xrange(3, n+1, 2):\n",
      "        if primes[i]:\n",
      "            yield i\n",
      "            for j in xrange(i*i, n+1, 2*i):\n",
      "                primes[j] = False\n",
      "\n",
      "def largestPDprime(n):\n",
      "    # init sets for comparison\n",
      "    nums = []\n",
      "    for i in xrange(1, len(str(n))):\n",
      "        nums.append(set(range(1, i+1)))\n",
      "\n",
      "    for p in sievegen(n):\n",
      "        if p <= 2143: continue\n",
      "        P = str(p)\n",
      "        if set([int(c) for c in P]) == nums[len(P)-1]:\n",
      "            pd = p\n",
      "    return pd\n",
      "\n",
      "largestPDprime(10000000)"
     ],
     "language": "python",
     "metadata": {},
     "outputs": [
      {
       "metadata": {},
       "output_type": "pyout",
       "prompt_number": 2,
       "text": [
        "7652413"
       ]
      }
     ],
     "prompt_number": 2
    },
    {
     "cell_type": "code",
     "collapsed": false,
     "input": [
      "# problem 42\n",
      "\n",
      "def wordvalue(s):\n",
      "    val = 0\n",
      "    for c in s.lower():\n",
      "        val += ord(c) - 96\n",
      "    return val\n",
      "\n",
      "def words():\n",
      "    # get words\n",
      "    fp = 'p042_words.txt'\n",
      "    with open(fp) as f:\n",
      "        line = f.readline()\n",
      "        line = line.split(\"\\\",\\\"\")\n",
      "        line[0] = line[0].strip(\"\\\"\")\n",
      "        line[-1] = line[-1].rstrip('\\\"')\n",
      "\n",
      "    # get triangle numbers\n",
      "    tnums = defaultdict(int)\n",
      "    tn = 0\n",
      "    tmax = 25*10\n",
      "    while tn < tmax:\n",
      "        tn += 1\n",
      "        x = tn * (tn + 1) / 2\n",
      "        tnums[x]\n",
      "\n",
      "    # get wordvalue and count total\n",
      "    total = 0\n",
      "    for w in line:\n",
      "        t = wordvalue(w)\n",
      "        if t in tnums:\n",
      "            total += 1\n",
      "    return total\n",
      "\n",
      "words()"
     ],
     "language": "python",
     "metadata": {},
     "outputs": [
      {
       "metadata": {},
       "output_type": "pyout",
       "prompt_number": 24,
       "text": [
        "162"
       ]
      }
     ],
     "prompt_number": 24
    },
    {
     "cell_type": "code",
     "collapsed": false,
     "input": [
      "# problem 43\n",
      "\n",
      "def checkunique(i):\n",
      "    # check integers of length n for n unique digits\n",
      "    s = str(i)\n",
      "    return len({c for c in s}) == len(s)\n",
      "\n",
      "def findseq():\n",
      "    # find 2-3-number sequences\n",
      "    primes = [2,3,5,7,11,13,17]\n",
      "    seqs = defaultdict(list)\n",
      "\n",
      "    for i in xrange(10, 1000):\n",
      "        for p in primes:\n",
      "            if i % p == 0:\n",
      "                if checkunique(i):\n",
      "                    # 2-->3 digits\n",
      "                    if i < 100: k = '0' + str(i)\n",
      "                    else: k = str(i)\n",
      "                    seqs[p].append(k)\n",
      "\n",
      "    return seqs\n",
      "\n",
      "def matchseq():\n",
      "    primes = list(reversed([2,3,5,7,11,13,17]))\n",
      "    seqs = findseq() # returns defaultdict, how commensurately wonderful\n",
      "    allnum = set([str(i) for i in range(10)])\n",
      "    \n",
      "    for x, p in enumerate(primes):\n",
      "        if x == 6: break\n",
      "        tmp = []\n",
      "        for i in seqs[p]:\n",
      "            for j in seqs[primes[x+1]]:\n",
      "                if j[1:] == i[:2]:\n",
      "                    k = j[0] + i\n",
      "                    if checkunique(k):\n",
      "                        # save in \n",
      "                        tmp.append(k)\n",
      "        seqs[primes[x+1]] = tmp\n",
      "    \n",
      "#     # checking process\n",
      "#     for k, v in seqs.iteritems():\n",
      "#         print k\n",
      "#         print v\n",
      "    \n",
      "    # add the final number\n",
      "    total = 0\n",
      "    for n in seqs[2]:\n",
      "        x = allnum - set(n)\n",
      "        y = int(x.pop() + n)\n",
      "        print y\n",
      "        total += y\n",
      "    return total\n",
      "\n",
      "matchseq()"
     ],
     "language": "python",
     "metadata": {},
     "outputs": [
      {
       "output_type": "stream",
       "stream": "stdout",
       "text": [
        "4160357289\n",
        "1460357289\n",
        "4106357289\n",
        "1406357289\n",
        "4130952867\n",
        "1430952867\n"
       ]
      },
      {
       "metadata": {},
       "output_type": "pyout",
       "prompt_number": 2,
       "text": [
        "16695334890"
       ]
      }
     ],
     "prompt_number": 2
    },
    {
     "cell_type": "code",
     "collapsed": false,
     "input": [
      "# problem 44\n",
      "\n",
      "def pentagon(start, end):\n",
      "    for n in xrange(start, end):\n",
      "        yield (n*(3*n -1) / 2)\n",
      "\n",
      "def pentmindiff(end = 10000):\n",
      "    # search table\n",
      "    pent = defaultdict(int)\n",
      "    for p in pentagon(1, end):\n",
      "        pent[p]\n",
      "    #print 'length of dict search table', len(pent)\n",
      "\n",
      "    # list of all nums to check\n",
      "    penta = [(n*(3*n -1) / 2) for n in xrange(1, end)]\n",
      "    #print 'length of list', len(penta)\n",
      "\n",
      "    n = 1\n",
      "    for p in penta:\n",
      "        n += 1\n",
      "        for pp in pentagon(n+1, end):\n",
      "            if (p + pp) in pent:\n",
      "                d = abs(pp-p)\n",
      "                if d in pent:\n",
      "                    print n, p, pp, d"
     ],
     "language": "python",
     "metadata": {},
     "outputs": [],
     "prompt_number": 6
    },
    {
     "cell_type": "code",
     "collapsed": false,
     "input": [
      "s = time.time()\n",
      "pentmindiff()\n",
      "print 'time', time.time() - s"
     ],
     "language": "python",
     "metadata": {},
     "outputs": [
      {
       "output_type": "stream",
       "stream": "stdout",
       "text": [
        "1021 1560090 7042750 5482660\n",
        "time"
       ]
      },
      {
       "output_type": "stream",
       "stream": "stdout",
       "text": [
        " 18.7303600311\n"
       ]
      }
     ],
     "prompt_number": 7
    },
    {
     "cell_type": "code",
     "collapsed": false,
     "input": [
      "# problem 45\n",
      "# solving for p, t given h:\n",
      "# p = 1./6 + sqrt(1./36 + (2./3)*h*(2*h - 1))\n",
      "# t = -1./2 + sqrt(1./4 + 2*h*(2*h - 1))\n",
      "\n",
      "for h in xrange(144, 100000):\n",
      "    p = 1./6 + np.sqrt(1./36 + (2./3)*h*(2*h - 1))\n",
      "    t = -1./2 + np.sqrt(1./4 + 2*h*(2*h - 1))\n",
      "    if p % 1 == 0:\n",
      "        if t % 1 == 0:\n",
      "            print h, p, t\n",
      "            T, P, H = t*(t+1)/2, p*(3*p-1)/2, h*(2*h-1) \n",
      "            print H, P, T\n",
      "            break"
     ],
     "language": "python",
     "metadata": {},
     "outputs": [
      {
       "output_type": "stream",
       "stream": "stdout",
       "text": [
        "27693 31977.0 55385.0\n",
        "1533776805 1533776805.0 1533776805.0\n"
       ]
      }
     ],
     "prompt_number": 20
    },
    {
     "cell_type": "code",
     "collapsed": false,
     "input": [
      "# problem 46\n",
      "\n",
      "def twicesquare(n):\n",
      "    for i in xrange(n):\n",
      "        yield 2*i**2\n",
      "\n",
      "def sievegen(n):\n",
      "    yield 2\n",
      "    primes = [True] * (n+1) # init T/F primes, ignore 0/1 truthiness\n",
      "    for i in xrange(3, n+1, 2):\n",
      "        if primes[i]:\n",
      "            yield i\n",
      "            for j in xrange(i*i, n+1, 2*i):\n",
      "                primes[j] = False\n",
      "\n",
      "def isprime(n):\n",
      "    for p in sievegen(n): pass\n",
      "    if n == p: return True\n",
      "    return False\n",
      "\n",
      "def goldbach(end_p, end_s, n):\n",
      "    okay = [False, True] * n\n",
      "    okay[1] = False\n",
      "\n",
      "    for p in sievegen(end_p):\n",
      "        for s in twicesquare(end_s):\n",
      "            x = p + s\n",
      "            okay[x] = False\n",
      "    \n",
      "    for i, x in enumerate(okay):\n",
      "        if x:\n",
      "            if isprime(i): \n",
      "                okay[i] = False\n",
      "            else: \n",
      "                print i\n",
      "                # to be sure do not break\n",
      "                break\n",
      "\n",
      "goldbach(5500, 40, 4500) # to be sure run this higher"
     ],
     "language": "python",
     "metadata": {},
     "outputs": [
      {
       "output_type": "stream",
       "stream": "stdout",
       "text": [
        "5777\n"
       ]
      }
     ],
     "prompt_number": 2
    },
    {
     "cell_type": "code",
     "collapsed": false,
     "input": [],
     "language": "python",
     "metadata": {},
     "outputs": []
    },
    {
     "cell_type": "code",
     "collapsed": false,
     "input": [],
     "language": "python",
     "metadata": {},
     "outputs": []
    },
    {
     "cell_type": "code",
     "collapsed": false,
     "input": [],
     "language": "python",
     "metadata": {},
     "outputs": []
    },
    {
     "cell_type": "code",
     "collapsed": false,
     "input": [],
     "language": "python",
     "metadata": {},
     "outputs": []
    }
   ],
   "metadata": {}
  }
 ]
}