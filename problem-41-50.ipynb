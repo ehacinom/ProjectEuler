{
 "metadata": {
  "name": "",
  "signature": "sha256:b999d12875dc483fe33dd1a79626c8157fcb4517d7db88d76d4cddf0cb0c530b"
 },
 "nbformat": 3,
 "nbformat_minor": 0,
 "worksheets": [
  {
   "cells": [
    {
     "cell_type": "code",
     "collapsed": false,
     "input": [
      "import numpy as np\n",
      "import time\n",
      "import math\n",
      "from collections import defaultdict"
     ],
     "language": "python",
     "metadata": {},
     "outputs": [],
     "prompt_number": 1
    },
    {
     "cell_type": "code",
     "collapsed": false,
     "input": [
      "# problem 41\n",
      "\n",
      "# primes <= n\n",
      "def sievegen(n):\n",
      "    yield 2\n",
      "    primes = [True] * (n+1) # init T/F primes, ignore 0/1 truthiness\n",
      "    for i in xrange(3, n+1, 2):\n",
      "        if primes[i]:\n",
      "            yield i\n",
      "            for j in xrange(i*i, n+1, 2*i):\n",
      "                primes[j] = False\n",
      "\n",
      "def largestPDprime(n):\n",
      "    # init sets for comparison\n",
      "    nums = []\n",
      "    for i in xrange(1, len(str(n))):\n",
      "        nums.append(set(range(1, i+1)))\n",
      "\n",
      "    for p in sievegen(n):\n",
      "        if p <= 2143: continue\n",
      "        P = str(p)\n",
      "        if set([int(c) for c in P]) == nums[len(P)-1]:\n",
      "            pd = p\n",
      "    return pd\n",
      "\n",
      "largestPDprime(10000000)"
     ],
     "language": "python",
     "metadata": {},
     "outputs": [
      {
       "metadata": {},
       "output_type": "pyout",
       "prompt_number": 2,
       "text": [
        "7652413"
       ]
      }
     ],
     "prompt_number": 2
    },
    {
     "cell_type": "code",
     "collapsed": false,
     "input": [
      "# problem 42\n",
      "\n",
      "def wordvalue(s):\n",
      "    val = 0\n",
      "    for c in s.lower():\n",
      "        val += ord(c) - 96\n",
      "    return val\n",
      "\n",
      "def words():\n",
      "    # get words\n",
      "    fp = 'p042_words.txt'\n",
      "    with open(fp) as f:\n",
      "        line = f.readline()\n",
      "        line = line.split(\"\\\",\\\"\")\n",
      "        line[0] = line[0].strip(\"\\\"\")\n",
      "        line[-1] = line[-1].rstrip('\\\"')\n",
      "\n",
      "    # get triangle numbers\n",
      "    tnums = defaultdict(int)\n",
      "    tn = 0\n",
      "    tmax = 25*10\n",
      "    while tn < tmax:\n",
      "        tn += 1\n",
      "        x = tn * (tn + 1) / 2\n",
      "        tnums[x]\n",
      "\n",
      "    # get wordvalue and count total\n",
      "    total = 0\n",
      "    for w in line:\n",
      "        t = wordvalue(w)\n",
      "        if t in tnums:\n",
      "            total += 1\n",
      "    return total\n",
      "\n",
      "words()"
     ],
     "language": "python",
     "metadata": {},
     "outputs": [
      {
       "metadata": {},
       "output_type": "pyout",
       "prompt_number": 24,
       "text": [
        "162"
       ]
      }
     ],
     "prompt_number": 24
    },
    {
     "cell_type": "code",
     "collapsed": false,
     "input": [
      "# problem 43\n",
      "\n",
      "def checkunique(i):\n",
      "    # check integers of length n for n unique digits\n",
      "    s = str(i)\n",
      "    return len({c for c in s}) == len(s)\n",
      "\n",
      "def findseq():\n",
      "    # find 2-3-number sequences\n",
      "    primes = [2,3,5,7,11,13,17]\n",
      "    seqs = defaultdict(list)\n",
      "\n",
      "    for i in xrange(10, 1000):\n",
      "        for p in primes:\n",
      "            if i % p == 0:\n",
      "                if checkunique(i):\n",
      "                    # 2-->3 digits\n",
      "                    if i < 100: k = '0' + str(i)\n",
      "                    else: k = str(i)\n",
      "                    seqs[p].append(k)\n",
      "\n",
      "    return seqs\n",
      "\n",
      "def matchseq():\n",
      "    primes = list(reversed([2,3,5,7,11,13,17]))\n",
      "    seqs = findseq() # returns defaultdict, how commensurately wonderful\n",
      "    allnum = set([str(i) for i in range(10)])\n",
      "    \n",
      "    for x, p in enumerate(primes):\n",
      "        if x == 6: break\n",
      "        tmp = []\n",
      "        for i in seqs[p]:\n",
      "            for j in seqs[primes[x+1]]:\n",
      "                if j[1:] == i[:2]:\n",
      "                    k = j[0] + i\n",
      "                    if checkunique(k):\n",
      "                        # save in \n",
      "                        tmp.append(k)\n",
      "        seqs[primes[x+1]] = tmp\n",
      "    \n",
      "#     # checking process\n",
      "#     for k, v in seqs.iteritems():\n",
      "#         print k\n",
      "#         print v\n",
      "    \n",
      "    # add the final number\n",
      "    total = 0\n",
      "    for n in seqs[2]:\n",
      "        x = allnum - set(n)\n",
      "        y = int(x.pop() + n)\n",
      "        print y\n",
      "        total += y\n",
      "    return total\n",
      "\n",
      "matchseq()"
     ],
     "language": "python",
     "metadata": {},
     "outputs": [
      {
       "output_type": "stream",
       "stream": "stdout",
       "text": [
        "4160357289\n",
        "1460357289\n",
        "4106357289\n",
        "1406357289\n",
        "4130952867\n",
        "1430952867\n"
       ]
      },
      {
       "metadata": {},
       "output_type": "pyout",
       "prompt_number": 2,
       "text": [
        "16695334890"
       ]
      }
     ],
     "prompt_number": 2
    },
    {
     "cell_type": "code",
     "collapsed": false,
     "input": [
      "# problem 44\n",
      "\n",
      "\n",
      "def pentagon(start, end):\n",
      "    for n in xrange(start, end+1):\n",
      "        yield (n*(3*n -1) / 2)\n",
      "\n",
      "def pentmindiff(end = 10000):\n",
      "    # search table\n",
      "    pent = defaultdict(int)\n",
      "    for p in pentagon(1, end):\n",
      "        pent[p] = n\n",
      "    print 'length of dict search table', len(pent)\n",
      "\n",
      "    # list of all nums to check\n",
      "    penta = [(n*(3*n -1) / 2) for n in xrange(1, end)]\n",
      "    print 'length of list', len(penta)\n",
      "\n",
      "    # difference\n",
      "    D = 49\n",
      "    # index\n",
      "    n = 1\n",
      "    for p in penta:\n",
      "        for pp in pentagon(n+1, i+5):\n",
      "            if (p + pp) in pent:\n",
      "                d = abs(pp-p)\n",
      "                if d < D:\n",
      "                    #D = d\n",
      "                    print n, p, pp, d\n",
      "print D"
     ],
     "language": "python",
     "metadata": {},
     "outputs": [
      {
       "output_type": "stream",
       "stream": "stdout",
       "text": [
        "length of dict 9999\n",
        "length of list 9999\n",
        "1 1 0 1\n",
        "4 22 70 48\n",
        "5 35 35 0\n",
        "5577 46651605 46651605 0\n",
        "49"
       ]
      },
      {
       "output_type": "stream",
       "stream": "stdout",
       "text": [
        "\n"
       ]
      }
     ],
     "prompt_number": 58
    },
    {
     "cell_type": "code",
     "collapsed": false,
     "input": [],
     "language": "python",
     "metadata": {},
     "outputs": []
    },
    {
     "cell_type": "code",
     "collapsed": false,
     "input": [],
     "language": "python",
     "metadata": {},
     "outputs": []
    },
    {
     "cell_type": "code",
     "collapsed": false,
     "input": [],
     "language": "python",
     "metadata": {},
     "outputs": []
    },
    {
     "cell_type": "code",
     "collapsed": false,
     "input": [],
     "language": "python",
     "metadata": {},
     "outputs": []
    }
   ],
   "metadata": {}
  }
 ]
}