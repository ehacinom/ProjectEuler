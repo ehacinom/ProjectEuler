{
 "metadata": {
  "name": "",
  "signature": "sha256:f3450e9124bf976dbeca1dded03a83a4241487a4374a6c7004a489058da91716"
 },
 "nbformat": 3,
 "nbformat_minor": 0,
 "worksheets": [
  {
   "cells": [
    {
     "cell_type": "code",
     "collapsed": false,
     "input": [
      "import numpy as np\n",
      "import time\n",
      "import math\n",
      "from collections import defaultdict\n",
      "from itertools import combinations, permutations"
     ],
     "language": "python",
     "metadata": {},
     "outputs": [],
     "prompt_number": 106
    },
    {
     "cell_type": "code",
     "collapsed": false,
     "input": [
      "# problem 41\n",
      "\n",
      "# primes <= n\n",
      "def sievegen(n):\n",
      "    yield 2\n",
      "    primes = [True] * (n+1) # init T/F primes, ignore 0/1 truthiness\n",
      "    for i in xrange(3, n+1, 2):\n",
      "        if primes[i]:\n",
      "            yield i\n",
      "            for j in xrange(i*i, n+1, 2*i):\n",
      "                primes[j] = False\n",
      "\n",
      "def largestPDprime(n):\n",
      "    # init sets for comparison\n",
      "    nums = []\n",
      "    for i in xrange(1, len(str(n))):\n",
      "        nums.append(set(range(1, i+1)))\n",
      "\n",
      "    for p in sievegen(n):\n",
      "        if p <= 2143: continue\n",
      "        P = str(p)\n",
      "        if set([int(c) for c in P]) == nums[len(P)-1]:\n",
      "            pd = p\n",
      "    return pd\n",
      "\n",
      "largestPDprime(10000000)"
     ],
     "language": "python",
     "metadata": {},
     "outputs": [
      {
       "metadata": {},
       "output_type": "pyout",
       "prompt_number": 2,
       "text": [
        "7652413"
       ]
      }
     ],
     "prompt_number": 2
    },
    {
     "cell_type": "code",
     "collapsed": false,
     "input": [
      "# problem 42\n",
      "\n",
      "def wordvalue(s):\n",
      "    val = 0\n",
      "    for c in s.lower():\n",
      "        val += ord(c) - 96\n",
      "    return val\n",
      "\n",
      "def words():\n",
      "    # get words\n",
      "    fp = 'p042_words.txt'\n",
      "    with open(fp) as f:\n",
      "        line = f.readline()\n",
      "        line = line.split(\"\\\",\\\"\")\n",
      "        line[0] = line[0].strip(\"\\\"\")\n",
      "        line[-1] = line[-1].rstrip('\\\"')\n",
      "\n",
      "    # get triangle numbers\n",
      "    tnums = defaultdict(int)\n",
      "    tn = 0\n",
      "    tmax = 25*10\n",
      "    while tn < tmax:\n",
      "        tn += 1\n",
      "        x = tn * (tn + 1) / 2\n",
      "        tnums[x]\n",
      "\n",
      "    # get wordvalue and count total\n",
      "    total = 0\n",
      "    for w in line:\n",
      "        t = wordvalue(w)\n",
      "        if t in tnums:\n",
      "            total += 1\n",
      "    return total\n",
      "\n",
      "words()"
     ],
     "language": "python",
     "metadata": {},
     "outputs": [
      {
       "metadata": {},
       "output_type": "pyout",
       "prompt_number": 24,
       "text": [
        "162"
       ]
      }
     ],
     "prompt_number": 24
    },
    {
     "cell_type": "code",
     "collapsed": false,
     "input": [
      "# problem 43\n",
      "\n",
      "def checkunique(i):\n",
      "    # check integers of length n for n unique digits\n",
      "    s = str(i)\n",
      "    return len({c for c in s}) == len(s)\n",
      "\n",
      "def findseq():\n",
      "    # find 2-3-number sequences\n",
      "    primes = [2,3,5,7,11,13,17]\n",
      "    seqs = defaultdict(list)\n",
      "\n",
      "    for i in xrange(10, 1000):\n",
      "        for p in primes:\n",
      "            if i % p == 0:\n",
      "                if checkunique(i):\n",
      "                    # 2-->3 digits\n",
      "                    if i < 100: k = '0' + str(i)\n",
      "                    else: k = str(i)\n",
      "                    seqs[p].append(k)\n",
      "\n",
      "    return seqs\n",
      "\n",
      "def matchseq():\n",
      "    primes = list(reversed([2,3,5,7,11,13,17]))\n",
      "    seqs = findseq() # returns defaultdict, how commensurately wonderful\n",
      "    allnum = set([str(i) for i in range(10)])\n",
      "    \n",
      "    for x, p in enumerate(primes):\n",
      "        if x == 6: break\n",
      "        tmp = []\n",
      "        for i in seqs[p]:\n",
      "            for j in seqs[primes[x+1]]:\n",
      "                if j[1:] == i[:2]:\n",
      "                    k = j[0] + i\n",
      "                    if checkunique(k):\n",
      "                        # save in \n",
      "                        tmp.append(k)\n",
      "        seqs[primes[x+1]] = tmp\n",
      "    \n",
      "#     # checking process\n",
      "#     for k, v in seqs.iteritems():\n",
      "#         print k\n",
      "#         print v\n",
      "    \n",
      "    # add the final number\n",
      "    total = 0\n",
      "    for n in seqs[2]:\n",
      "        x = allnum - set(n)\n",
      "        y = int(x.pop() + n)\n",
      "        print y\n",
      "        total += y\n",
      "    return total\n",
      "\n",
      "matchseq()"
     ],
     "language": "python",
     "metadata": {},
     "outputs": [
      {
       "output_type": "stream",
       "stream": "stdout",
       "text": [
        "4160357289\n",
        "1460357289\n",
        "4106357289\n",
        "1406357289\n",
        "4130952867\n",
        "1430952867\n"
       ]
      },
      {
       "metadata": {},
       "output_type": "pyout",
       "prompt_number": 2,
       "text": [
        "16695334890"
       ]
      }
     ],
     "prompt_number": 2
    },
    {
     "cell_type": "code",
     "collapsed": false,
     "input": [
      "# problem 44\n",
      "\n",
      "def pentagon(start, end):\n",
      "    for n in xrange(start, end):\n",
      "        yield (n*(3*n -1) / 2)\n",
      "\n",
      "def pentmindiff(end = 10000):\n",
      "    # search table\n",
      "    pent = defaultdict(int)\n",
      "    for p in pentagon(1, end):\n",
      "        pent[p]\n",
      "    #print 'length of dict search table', len(pent)\n",
      "\n",
      "    # list of all nums to check\n",
      "    penta = [(n*(3*n -1) / 2) for n in xrange(1, end)]\n",
      "    #print 'length of list', len(penta)\n",
      "\n",
      "    n = 1\n",
      "    for p in penta:\n",
      "        n += 1\n",
      "        for pp in pentagon(n+1, end):\n",
      "            if (p + pp) in pent:\n",
      "                d = abs(pp-p)\n",
      "                if d in pent:\n",
      "                    print n, p, pp, d"
     ],
     "language": "python",
     "metadata": {},
     "outputs": [],
     "prompt_number": 6
    },
    {
     "cell_type": "code",
     "collapsed": false,
     "input": [
      "s = time.time()\n",
      "pentmindiff()\n",
      "print 'time', time.time() - s"
     ],
     "language": "python",
     "metadata": {},
     "outputs": [
      {
       "output_type": "stream",
       "stream": "stdout",
       "text": [
        "1021 1560090 7042750 5482660\n",
        "time"
       ]
      },
      {
       "output_type": "stream",
       "stream": "stdout",
       "text": [
        " 18.7303600311\n"
       ]
      }
     ],
     "prompt_number": 7
    },
    {
     "cell_type": "code",
     "collapsed": false,
     "input": [
      "# problem 45\n",
      "# solving for p, t given h:\n",
      "# p = 1./6 + sqrt(1./36 + (2./3)*h*(2*h - 1))\n",
      "# t = -1./2 + sqrt(1./4 + 2*h*(2*h - 1))\n",
      "\n",
      "for h in xrange(144, 100000):\n",
      "    p = 1./6 + np.sqrt(1./36 + (2./3)*h*(2*h - 1))\n",
      "    t = -1./2 + np.sqrt(1./4 + 2*h*(2*h - 1))\n",
      "    if p % 1 == 0:\n",
      "        if t % 1 == 0:\n",
      "            print h, p, t\n",
      "            T, P, H = t*(t+1)/2, p*(3*p-1)/2, h*(2*h-1) \n",
      "            print H, P, T\n",
      "            break"
     ],
     "language": "python",
     "metadata": {},
     "outputs": [
      {
       "output_type": "stream",
       "stream": "stdout",
       "text": [
        "27693 31977.0 55385.0\n",
        "1533776805 1533776805.0 1533776805.0\n"
       ]
      }
     ],
     "prompt_number": 3
    },
    {
     "cell_type": "code",
     "collapsed": false,
     "input": [
      "# problem 46\n",
      "\n",
      "def twicesquare(n):\n",
      "    for i in xrange(n):\n",
      "        yield 2*i**2\n",
      "\n",
      "def sievegen(n):\n",
      "    yield 2\n",
      "    primes = [True] * (n+1) # init T/F primes, ignore 0/1 truthiness\n",
      "    for i in xrange(3, n+1, 2):\n",
      "        if primes[i]:\n",
      "            yield i\n",
      "            for j in xrange(i*i, n+1, 2*i):\n",
      "                primes[j] = False\n",
      "\n",
      "def isprime(n):\n",
      "    for p in sievegen(n): pass\n",
      "    if n == p: return True\n",
      "    return False\n",
      "\n",
      "def goldbach(end_p, end_s, n):\n",
      "    okay = [False, True] * n\n",
      "    okay[1] = False\n",
      "\n",
      "    for p in sievegen(end_p):\n",
      "        for s in twicesquare(end_s):\n",
      "            x = p + s\n",
      "            okay[x] = False\n",
      "    \n",
      "    for i, x in enumerate(okay):\n",
      "        if x:\n",
      "            if isprime(i): \n",
      "                okay[i] = False\n",
      "            else: \n",
      "                print i\n",
      "                # to be sure do not break\n",
      "                break\n",
      "\n",
      "goldbach(5500, 40, 4500) # to be sure run this higher"
     ],
     "language": "python",
     "metadata": {},
     "outputs": [
      {
       "output_type": "stream",
       "stream": "stdout",
       "text": [
        "5777\n"
       ]
      }
     ],
     "prompt_number": 4
    },
    {
     "cell_type": "code",
     "collapsed": false,
     "input": [
      "# problem 47\n",
      "# from problem 12\n",
      "\n",
      "def sievegen(n):\n",
      "    yield 2\n",
      "    primes = [True] * (n+1)\n",
      "    for i in xrange(3, n+1, 2):\n",
      "        if primes[i]:\n",
      "            yield i\n",
      "            for j in xrange(i*i, n+1, 2*i):\n",
      "                primes[j] = False\n",
      "\n",
      "def divisors(n):\n",
      "    # divdict is prime factorization, 1/total not incl.\n",
      "    divdict = {}\n",
      "    factored = False\n",
      "    \n",
      "    tmp = n\n",
      "    for p in sievegen(n):\n",
      "        if factored: break\n",
      "        elif n == p: break\n",
      "        \n",
      "        if tmp % p == 0:\n",
      "            exp = 1 # exponent of divisor\n",
      "            while True: # dangerousyou\n",
      "                if n % (p**(exp+1)) == 0:\n",
      "                    exp += 1\n",
      "                    continue\n",
      "                break\n",
      "            divdict[p] = exp\n",
      "            tmp /= p**exp\n",
      "            if tmp == 1:\n",
      "                factored = True\n",
      "    if tmp == n:\n",
      "        return 2, {}\n",
      "    \n",
      "    divs = 1\n",
      "    for v in divdict.values():\n",
      "        divs *= (v+1)\n",
      "\n",
      "    return divs, divdict\n",
      "\n",
      "def distinctfactors(start=1, end=100, f=3):\n",
      "    d = 0\n",
      "    for i in xrange(start, end+1):\n",
      "        divs, divdict = divisors(i)\n",
      "        if len(divdict) >= f:\n",
      "            d += 1\n",
      "            if d == f:\n",
      "                print i-f+1, d, divs, divdict\n",
      "            continue\n",
      "        d = 0"
     ],
     "language": "python",
     "metadata": {},
     "outputs": [],
     "prompt_number": 60
    },
    {
     "cell_type": "code",
     "collapsed": false,
     "input": [
      "#really slow >>1min\n",
      "distinctfactors(100000, 200000, 4)"
     ],
     "language": "python",
     "metadata": {},
     "outputs": [
      {
       "output_type": "stream",
       "stream": "stdout",
       "text": [
        "134043 4 24 {11: 1, 2: 1, 3: 2, 677: 1}\n"
       ]
      }
     ],
     "prompt_number": 67
    },
    {
     "cell_type": "code",
     "collapsed": false,
     "input": [
      "# problem 47 from the forum\n",
      "\n",
      "limit = 1000000\n",
      "factors = [0] * limit\n",
      "count = 0\n",
      "\n",
      "for i in xrange(2, limit):\n",
      "    if factors[i] == 0: # i is prime\n",
      "        count = 0\n",
      "        val = i\n",
      "        while val < limit:\n",
      "            factors[val] += 1\n",
      "            val += i\n",
      "    elif factors[i] == 4:\n",
      "        count += 1\n",
      "        if count == 4:\n",
      "            print i-3\n",
      "            break\n",
      "    else:\n",
      "        count = 0"
     ],
     "language": "python",
     "metadata": {},
     "outputs": [
      {
       "output_type": "stream",
       "stream": "stdout",
       "text": [
        "134043\n"
       ]
      }
     ],
     "prompt_number": 69
    },
    {
     "cell_type": "code",
     "collapsed": false,
     "input": [
      "# problen 48\n",
      "# first iterations with just adding works just as well, but\n",
      "# then I forgot about 0**0 and thought it was just wrong with int overflow \n",
      "# and rewrote\n",
      "\n",
      "def powerget(n):\n",
      "    for i in xrange(1, n+1):\n",
      "        yield str(i**i)[::-1]\n",
      "\n",
      "total = defaultdict(int)\n",
      "for v in powerget(1000):\n",
      "    for i, c in enumerate(v):\n",
      "        total[i] += int(c)\n",
      "\n",
      "digits = ''\n",
      "for i, v in total.iteritems():\n",
      "    if i == 10: break\n",
      "    v = str(v)\n",
      "    print i, total[i], int(v[:-1]), int(v[-1])\n",
      "    total[i+1] += int(str(v)[:-1])\n",
      "    total[i] = int(v[-1])\n",
      "    digits += v[-1]\n",
      "digits[::-1]"
     ],
     "language": "python",
     "metadata": {},
     "outputs": [
      {
       "output_type": "stream",
       "stream": "stdout",
       "text": [
        "0 4700 470 0\n",
        "1 4620 462 0\n",
        "2 4487 448 7\n",
        "3 4366 436 6\n",
        "4 4634 463 4\n",
        "5 4488 448 8\n",
        "6 4390 439 0\n",
        "7 4371 437 1\n",
        "8 4211 421 1\n",
        "9 4629 462 9\n"
       ]
      },
      {
       "metadata": {},
       "output_type": "pyout",
       "prompt_number": 95,
       "text": [
        "'9110846700'"
       ]
      }
     ],
     "prompt_number": 95
    },
    {
     "cell_type": "code",
     "collapsed": false,
     "input": [
      "# problem 49\n",
      "def sievegen(n):\n",
      "    yield 2\n",
      "    primes = [True] * (n+1) # init T/F primes, ignore 0/1 truthiness\n",
      "    for i in xrange(3, n+1, 2):\n",
      "        if primes[i]:\n",
      "            yield i\n",
      "            for j in xrange(i*i, n+1, 2*i):\n",
      "                primes[j] = False\n",
      "\n",
      "def isprime(n):\n",
      "    for p in sievegen(n): pass\n",
      "    if n == p: return True\n",
      "    return False\n",
      "\n",
      "def primeperms():\n",
      "    primeend = ('1','3','7','9')\n",
      "    for i in combinations('123456789', 4):\n",
      "        # for each 4digit combination, find primes\n",
      "        primes = []\n",
      "        for j in permutations(i):\n",
      "            if j[-1] in primeend:\n",
      "                k = int(''.join(j))\n",
      "                if isprime(k):\n",
      "                    primes.append(k)\n",
      "\n",
      "        if len(primes) >= 3:\n",
      "            # check each number and differences\n",
      "            diffs = defaultdict(set)\n",
      "            for x, m in enumerate(primes):\n",
      "                for n in primes[x+1:]:\n",
      "                    diffs[n-m].update((m,n))\n",
      "\n",
      "            # check diffs are similar\n",
      "            differences = {}\n",
      "            for k, v in diffs.iteritems():\n",
      "                if k > 10000./3: continue\n",
      "                if len(v) >= 3:\n",
      "                    differences[k] = v\n",
      "            \n",
      "            if differences:\n",
      "                print primes\n",
      "                print differences\n",
      "        \n",
      "    return 0"
     ],
     "language": "python",
     "metadata": {},
     "outputs": [],
     "prompt_number": 174
    },
    {
     "cell_type": "code",
     "collapsed": false,
     "input": [
      "primeperms()"
     ],
     "language": "python",
     "metadata": {},
     "outputs": [
      {
       "output_type": "stream",
       "stream": "stdout",
       "text": [
        "[1237, 1327, 1723, 2137, 2371, 2713, 2731, 3217, 3271, 7213, 7321]\n",
        "{1134: set([2137, 2371, 1237, 3271]), 900: set([2137, 2371, 1237, 3271]), 486: set([3217, 1723, 2731, 1237]), 1494: set([1723, 3217, 2731, 1237])}\n",
        "[1249, 1429, 4129, 4219, 9241, 9421]"
       ]
      },
      {
       "output_type": "stream",
       "stream": "stdout",
       "text": [
        "\n",
        "{180: set([1249, 9421, 1429, 9241])}\n",
        "[1627, 2617, 2671, 6217, 6271, 7621]"
       ]
      },
      {
       "output_type": "stream",
       "stream": "stdout",
       "text": [
        "\n",
        "{54: set([2617, 6271, 6217, 2671])}\n",
        "[1367, 1637, 3167, 3617, 3671, 3761, 6173, 6317]"
       ]
      },
      {
       "output_type": "stream",
       "stream": "stdout",
       "text": [
        "\n",
        "{144: set([3617, 6317, 6173, 3761]), 2556: set([3617, 6317, 6173, 3761])}\n",
        "[1973, 3719, 3917, 7193, 9137, 9173, 9371]"
       ]
      },
      {
       "output_type": "stream",
       "stream": "stdout",
       "text": [
        "\n",
        "{1944: set([7193, 1973, 9137, 3917]), 198: set([9173, 9371, 3917, 3719])}\n",
        "[4157, 4517, 4751, 5147, 5417, 5471, 5741, 7451, 7541]\n",
        "{594: set([5741, 5147, 4157, 4751]), 324: set([5417, 5147, 5741, 5471]), 990: set([5741, 5147, 4157, 4751]), 270: set([5417, 5147, 5741, 5471])}\n",
        "[1459, 1549, 4159, 4519, 4591, 4951, 5419]"
       ]
      },
      {
       "output_type": "stream",
       "stream": "stdout",
       "text": [
        "\n",
        "{360: set([4591, 4951, 4519, 4159]), 432: set([4951, 4591, 4519, 4159])}\n",
        "[4861, 6481, 6841, 8461, 8641]\n",
        "{1980: set([6841, 8461, 4861, 6481]), 1620: set([6481, 8461, 4861, 6841])}\n",
        "[1487, 1847, 4817, 4871, 7481, 7841, 8147, 8741]"
       ]
      },
      {
       "output_type": "stream",
       "stream": "stdout",
       "text": [
        "\n",
        "{3024: set([4817, 4871, 7841, 1847]), 360: set([7481, 1847, 7841, 1487]), 3330: set([4817, 8147, 1487]), 2970: set([4817, 4871, 7841, 1847])}\n",
        "[1579, 1597, 1759, 5179, 5197, 5791, 7159, 7591, 7951, 9157]"
       ]
      },
      {
       "output_type": "stream",
       "stream": "stdout",
       "text": [
        "\n",
        "{18: set([5179, 1579, 1597, 5197])}\n",
        "[1697, 6197, 6719, 6791, 6917, 6971, 7691]"
       ]
      },
      {
       "output_type": "stream",
       "stream": "stdout",
       "text": [
        "\n",
        "{720: set([7691, 6971, 6197, 6917]), 774: set([7691, 6971, 6197, 6917])}\n",
        "[1789, 1879, 1987, 8179, 8719, 8971, 9187, 9781, 9817, 9871]\n",
        "{90: set([9781, 9871, 1789, 1879])}\n",
        "[2357, 2753, 3257, 3527, 5237, 5273, 7253, 7523]"
       ]
      },
      {
       "output_type": "stream",
       "stream": "stdout",
       "text": [
        "\n",
        "{2016: set([3257, 5237, 7253, 5273]), 1980: set([3257, 5237, 7253, 5273]), 270: set([3257, 7523, 7253, 3527])}\n",
        "[2467, 2647, 6247, 6427]"
       ]
      },
      {
       "output_type": "stream",
       "stream": "stdout",
       "text": [
        "\n",
        "{180: set([6427, 2467, 6247, 2647])}\n",
        "[3457, 3547, 4357, 5347, 5437, 5743]"
       ]
      },
      {
       "output_type": "stream",
       "stream": "stdout",
       "text": [
        "\n",
        "{1890: set([3457, 5347, 5437, 3547]), 90: set([3457, 3547, 5437, 5347])}\n",
        "[3467, 4637, 4673, 6473, 7643]\n",
        "{1170: set([6473, 3467, 4637, 7643]), 3006: set([6473, 3467, 4637, 7643])}\n",
        "[3947, 4397, 4793, 4937, 4973, 7349, 9437, 9473, 9743]"
       ]
      },
      {
       "output_type": "stream",
       "stream": "stdout",
       "text": [
        "\n",
        "{36: set([4937, 9473, 4973, 9437])}\n",
        "[3697, 3769, 3967, 6379, 6397, 6793, 7369, 7639, 7963]"
       ]
      },
      {
       "output_type": "stream",
       "stream": "stdout",
       "text": [
        "\n",
        "{270: set([3697, 7369, 7639, 3967])}\n",
        "[6389, 6983, 8369, 8693, 8963]\n",
        "{594: set([8369, 8963, 6389, 6983]), 1980: set([8369, 8963, 6389, 6983])}\n"
       ]
      },
      {
       "metadata": {},
       "output_type": "pyout",
       "prompt_number": 175,
       "text": [
        "0"
       ]
      }
     ],
     "prompt_number": 175
    },
    {
     "cell_type": "code",
     "collapsed": false,
     "input": [],
     "language": "python",
     "metadata": {},
     "outputs": []
    },
    {
     "cell_type": "code",
     "collapsed": false,
     "input": [],
     "language": "python",
     "metadata": {},
     "outputs": []
    }
   ],
   "metadata": {}
  }
 ]
}