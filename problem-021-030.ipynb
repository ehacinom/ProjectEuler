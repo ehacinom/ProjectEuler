{
 "metadata": {
  "name": "",
  "signature": "sha256:9721bd98a057fed258c973b50ab1de848d9e0acd7b0081a327dbbe16ce849525"
 },
 "nbformat": 3,
 "nbformat_minor": 0,
 "worksheets": [
  {
   "cells": [
    {
     "cell_type": "code",
     "collapsed": false,
     "input": [
      "from numpy import *\n",
      "import numpy as np\n",
      "import time\n",
      "import math\n",
      "import collections"
     ],
     "language": "python",
     "metadata": {},
     "outputs": [],
     "prompt_number": 1
    },
    {
     "cell_type": "code",
     "collapsed": false,
     "input": [
      "# problem 21\n",
      "# some taken from problem 12\n",
      "\n",
      "def sievegen(n):\n",
      "    # primes <= n\n",
      "    yield 2\n",
      "\n",
      "    # initialize primes T/F list starting at zero, ignoring 0-1\n",
      "    primes = [True] * (n+1)\n",
      "    limit = int(sqrt(n)) + 1\n",
      "\n",
      "    # step through numbers starting at 3\n",
      "    for i in xrange(3, n+1, 2):\n",
      "        if primes[i]:\n",
      "            yield i\n",
      "            for j in xrange(i*i, n+1, 2*i):\n",
      "                primes[j] = False\n",
      "\n",
      "def divisors(N):\n",
      "    # divdict is prime factorization, {1, N} not incl.\n",
      "    ## UNLESS N is PRIME, then N should be included and is\n",
      "    ## note we only care about proper divisors so sod-N is the num we want\n",
      "    divdict = {}\n",
      "    tmpN = N\n",
      "    factored = False\n",
      "\n",
      "    # prime factorization\n",
      "    for p in sievegen(N):\n",
      "        if factored: break\n",
      "        elif N == p: break\n",
      "        #elif tmpN % p != 0: break\n",
      "        if tmpN % p == 0:\n",
      "            # exponent of prime divisors\n",
      "            exp = 1\n",
      "            while True: #dangerousyou\n",
      "                if N % (p**(exp+1)) == 0:\n",
      "                    exp += 1\n",
      "                    continue\n",
      "                break\n",
      "            divdict[p] = exp\n",
      "            tmpN /= p**exp\n",
      "            if tmpN == 1: \n",
      "                factored = True\n",
      "    if tmpN == N:\n",
      "        return 2, {N:1}\n",
      "\n",
      "    divs = 1\n",
      "    for v in divdict.values():\n",
      "        divs *= (v+1)\n",
      "\n",
      "    return divs, divdict\n",
      "\n",
      "def sumofdivisors(N):\n",
      "    divs, divdict = divisors(N)\n",
      "    \n",
      "    sod = 1\n",
      "    for p, exp in divdict.iteritems():\n",
      "        paren = 0\n",
      "        for i in xrange(exp+1):\n",
      "            paren += p**i\n",
      "        sod *= paren\n",
      "\n",
      "    return sod - N\n",
      "\n",
      "def amiable(N):\n",
      "    # sod for a is located at index = (a - 1)\n",
      "    pairs = [1] + [None] * (N-1)\n",
      "    for ami in xrange(2,N+1):\n",
      "        pairs[ami-1] = sumofdivisors(ami)\n",
      "\n",
      "    total = 0\n",
      "    for i, sod in enumerate(pairs):\n",
      "        if sod <= i+1: pass\n",
      "        elif sod > N: pass\n",
      "        elif pairs[sod-1] == i + 1:\n",
      "            #print 'a = d(b) =', i+1, '\\td(a) = b =', sod\n",
      "            total = total + i + 1 + sod\n",
      "    \n",
      "    print total\n",
      "    return pairs"
     ],
     "language": "python",
     "metadata": {},
     "outputs": [],
     "prompt_number": 3
    },
    {
     "cell_type": "code",
     "collapsed": true,
     "input": [
      "paris = amiable(10000)"
     ],
     "language": "python",
     "metadata": {},
     "outputs": [
      {
       "output_type": "stream",
       "stream": "stdout",
       "text": [
        "a = d(b) = 220 \td(a) = b = 284\n",
        "a = d(b) = 1184 \td(a) = b = 1210\n",
        "a = d(b) = 2620 \td(a) = b = 2924\n",
        "a = d(b) = 5020 \td(a) = b = 5564\n",
        "a = d(b) = 6232 \td(a) = b = 6368\n",
        "31626\n"
       ]
      }
     ],
     "prompt_number": 3
    },
    {
     "cell_type": "code",
     "collapsed": false,
     "input": [
      "%%timeit\n",
      "paris = amiable(10000)"
     ],
     "language": "python",
     "metadata": {},
     "outputs": [
      {
       "output_type": "stream",
       "stream": "stdout",
       "text": [
        "31626\n",
        "31626"
       ]
      },
      {
       "output_type": "stream",
       "stream": "stdout",
       "text": [
        "\n",
        "31626"
       ]
      },
      {
       "output_type": "stream",
       "stream": "stdout",
       "text": [
        "\n",
        "31626"
       ]
      },
      {
       "output_type": "stream",
       "stream": "stdout",
       "text": [
        "\n",
        "1 loops, best of 3: 4.1 s per loop\n"
       ]
      }
     ],
     "prompt_number": 4
    },
    {
     "cell_type": "code",
     "collapsed": false,
     "input": [
      "# problem 22\n",
      "# shoulda did it with a sorting algorithm\n",
      "s = time.time()\n",
      "with open('pe22_names.txt') as f:\n",
      "    lines = f.readline()\n",
      "    lines = lines.split(\"\\\",\\\"\")\n",
      "\n",
      "    # remove \" left\n",
      "    lines[0] = lines[0][1:]\n",
      "    lines[-1] = lines[-1][:-1]\n",
      "\n",
      "lines.sort()\n",
      "print 'len', len(lines), time.time() - s\n",
      "\n",
      "x = 0\n",
      "s = time.time()\n",
      "for i, line in enumerate(lines):\n",
      "    x += sum([ord(c) - 96 for c in line.lower()]) * (i+1)\n",
      "print time.time() - s\n",
      "print x"
     ],
     "language": "python",
     "metadata": {},
     "outputs": [
      {
       "output_type": "stream",
       "stream": "stdout",
       "text": [
        "len 5163 0.00582480430603\n",
        "0.135833978653"
       ]
      },
      {
       "output_type": "stream",
       "stream": "stdout",
       "text": [
        "\n",
        "871198282\n"
       ]
      }
     ],
     "prompt_number": 4
    },
    {
     "cell_type": "code",
     "collapsed": false,
     "input": [
      "# problem 24\n",
      "# http://code.activestate.com/recipes/252178/\n",
      "\n",
      "def permutationgen(s):\n",
      "    # generator \n",
      "    if len(s) <= 1: yield s\n",
      "    else:\n",
      "        # for each sub-permutation\n",
      "        for i in xrange(len(s)):\n",
      "            for p in permutationgen(s[:i] + s[i+1:]):\n",
      "                yield s[i] + p\n",
      "\n",
      "def lexicographic(word='0123456789', n=1000000):\n",
      "    total = 0\n",
      "    for perm in permutationgen(word):\n",
      "        total += 1\n",
      "        if total == n: print perm\n"
     ],
     "language": "python",
     "metadata": {},
     "outputs": [],
     "prompt_number": 2
    },
    {
     "cell_type": "code",
     "collapsed": false,
     "input": [
      "s = time.time()\n",
      "lexicographic('0123456789', 1000000)\n",
      "print time.time()-s"
     ],
     "language": "python",
     "metadata": {},
     "outputs": [
      {
       "output_type": "stream",
       "stream": "stdout",
       "text": [
        "2783915460\n",
        "13.2158210278"
       ]
      },
      {
       "output_type": "stream",
       "stream": "stdout",
       "text": [
        "\n"
       ]
      }
     ],
     "prompt_number": 4
    },
    {
     "cell_type": "code",
     "collapsed": false,
     "input": [
      "# problem 23\n",
      "# using problem 21's sievegen(), divisors(), and sumofdivisors()\n",
      "\n",
      "def abundant(N=28123):\n",
      "    ''' returns abundant list '''\n",
      "    abundants = []\n",
      "    for n in xrange(2, N):\n",
      "        if sumofdivisors(n) > n: \n",
      "            abundants.append(n)\n",
      "    return abundants\n",
      "\n",
      "def sumof2abundants(N=28123):\n",
      "    abun = abundant(N)\n",
      "    for n in abun:\n",
      "        for m in abun:\n",
      "            yield n+m\n",
      "\n",
      "def nonabundantsums(N=28123):\n",
      "    s = set()\n",
      "    for i in sumof2abundants(N):\n",
      "        if i < N: s.add(i)\n",
      "    s0 = sum(list(s))\n",
      "\n",
      "    s1 = 0\n",
      "    for i in xrange(N):\n",
      "        s1 += i\n",
      "\n",
      "    what = s1 - s0\n",
      "    print what"
     ],
     "language": "python",
     "metadata": {},
     "outputs": [],
     "prompt_number": 5
    },
    {
     "cell_type": "code",
     "collapsed": false,
     "input": [
      "s = time.time()\n",
      "nonabundantsums()\n",
      "print 'time', time.time()-s"
     ],
     "language": "python",
     "metadata": {},
     "outputs": [
      {
       "output_type": "stream",
       "stream": "stdout",
       "text": [
        "395437503\n",
        "4179871\n",
        "time 50.7576711178\n"
       ]
      }
     ],
     "prompt_number": 90
    },
    {
     "cell_type": "code",
     "collapsed": false,
     "input": [
      "# problem 25\n",
      "# http://stackoverflow.com/questions/494594/how-to-write-the-fibonacci-sequence-in-python\n",
      "\n",
      "def fibgen():\n",
      "    a,b = 1,1\n",
      "    yield a\n",
      "    yield b\n",
      "    while True:\n",
      "        a, b = b, a+b\n",
      "        yield b\n",
      "\n",
      "def fiblen(N=1000):\n",
      "    index = 0\n",
      "    for f in fibgen():\n",
      "        index += 1\n",
      "        if len(str(f)) >= N: return index, f"
     ],
     "language": "python",
     "metadata": {},
     "outputs": [],
     "prompt_number": 6
    },
    {
     "cell_type": "code",
     "collapsed": false,
     "input": [
      "fiblen(1000)"
     ],
     "language": "python",
     "metadata": {},
     "outputs": [
      {
       "metadata": {},
       "output_type": "pyout",
       "prompt_number": 7,
       "text": [
        "(4782,\n",
        " 1070066266382758936764980584457396885083683896632151665013235203375314520604694040621889147582489792657804694888177591957484336466672569959512996030461262748092482186144069433051234774442750273781753087579391666192149259186759553966422837148943113074699503439547001985432609723067290192870526447243726117715821825548491120525013201478612965931381792235559657452039506137551467837543229119602129934048260706175397706847068202895486902666185435124521900369480641357447470911707619766945691070098024393439617474103736912503231365532164773697023167755051595173518460579954919410967778373229665796581646513903488154256310184224190259846088000110186255550245493937113651657039447629584714548523425950428582425306083544435428212611008992863795048006894330309773217834864543113205765659868456288616808718693835297350643986297640660000723562917905207051164077614812491885830945940566688339109350944456576357666151619317753792891661581327159616877487983821820492520348473874384736771934512787029218636250627816L)"
       ]
      }
     ],
     "prompt_number": 7
    },
    {
     "cell_type": "code",
     "collapsed": false,
     "input": [
      "# problem 26\n",
      "# going to use prime generator\n",
      "# https://en.wikipedia.org/wiki/Repeating_decimal#Fractions_with_prime_denominators\n",
      "# The length of the repetend (period of the repeating decimal) of 1/p is equal to the multiplicative order of 10 modulo p.\n",
      "#\n",
      "\n",
      "def sievegen(n):\n",
      "    # primes <= n\n",
      "    yield 2\n",
      "\n",
      "    # initialize primes T/F list starting at zero, ignoring 0-1\n",
      "    primes = [True] * (n+1)\n",
      "    limit = int(sqrt(n)) + 1\n",
      "\n",
      "    # step through numbers starting at 3\n",
      "    for i in xrange(3, n+1, 2):\n",
      "        if primes[i]:\n",
      "            yield i\n",
      "            for j in xrange(i*i, n+1, 2*i):\n",
      "                primes[j] = False\n",
      "\n",
      "def isorder(maxk=100, maxprime=1000):\n",
      "    # 10^k mod p == 1 for smallest possible positive int k\n",
      "    karr = range(1, maxk + 1)\n",
      "    orderdict = collections.defaultdict(list)\n",
      "    K = 0 # the largest recurring cycle we find\n",
      "    for p in sievegen(maxprime):\n",
      "        for k in karr:\n",
      "            # order\n",
      "            if 10**k % p == 1:\n",
      "                #print p, k\n",
      "                orderdict[k].append(p)\n",
      "                if k > K: K = k\n",
      "                break\n",
      "    print 'final', K, orderdict[K]\n",
      "    #return orderdict"
     ],
     "language": "python",
     "metadata": {},
     "outputs": [],
     "prompt_number": 8
    },
    {
     "cell_type": "code",
     "collapsed": false,
     "input": [
      "isorder(5000,1000)"
     ],
     "language": "python",
     "metadata": {},
     "outputs": [
      {
       "output_type": "stream",
       "stream": "stdout",
       "text": [
        "final 982 [983]\n"
       ]
      }
     ],
     "prompt_number": 9
    },
    {
     "cell_type": "code",
     "collapsed": false,
     "input": [
      "# problem 27\n",
      "\n",
      "maxab = 1000\n",
      "nc2 = 100\n",
      "abarray1 = []\n",
      "abarray2 = []\n",
      "abarray3 = collections.defaultdict(list)\n",
      "\n",
      "# n array, up to n = 40\n",
      "nc1 = 39\n",
      "n40 = np.array(range(2, nc1+1))\n",
      "xn40 = len(n40)\n",
      "\n",
      "# set of primes to compare with, up to n = 40\n",
      "maxprimen40 = nc1**2 + nc1*maxab + maxab\n",
      "primesn40 = set(sievegen(maxprimen40))\n",
      "\n",
      "# set of primes to compare with, up to n = 100\n",
      "maxprimen100 = nc2**2 + nc2*maxab + maxab\n",
      "primesn100 = set(sievegen(maxprimen100))\n",
      "\n",
      "# case n=0: b has to be positive and prime\n",
      "B = [x for x in sievegen(1000)]\n",
      "xb = len(B)\n",
      "\n",
      "# case n=1: 1 + a + b has to be prime\n",
      "for a in xrange(-maxab+1, maxab):\n",
      "    # this has to be prime\n",
      "    P = np.array([1 + a]) + B\n",
      "\n",
      "    for i, p in enumerate(P):\n",
      "        if abs(p) in primesn40:\n",
      "            abarray1.append((a, B[i]))\n",
      "\n",
      "print 'n = 1:', len(abarray1)\n",
      "\n",
      "# cases n = 2 to 39\n",
      "for a, b in abarray1:\n",
      "    if primesn40.issuperset(set(np.power(n40, 2) + np.array(n40)*a + b)):\n",
      "        abarray2.append((a, b))\n",
      "\n",
      "print 'n = 2 to 39:', len(abarray2)\n",
      "\n",
      "# cases n = 40 to whenever\n",
      "for a, b in abarray2:\n",
      "    n = nc1\n",
      "    while n:\n",
      "        n += 1\n",
      "        p = n**2 + n*a + b\n",
      "        #print a, b, n, p\n",
      "        if p not in primesn100: # no longer good OR prime too big\n",
      "            #print n-1, a, b, p\n",
      "            abarray3[n-1].append((a, b, a*b, p))\n",
      "            break\n",
      "        elif n == nc2:\n",
      "            print 'Warning for', a, b, n\n",
      "            break\n",
      "\n",
      "x = max(abarray3)\n",
      "print x, abarray3[x]"
     ],
     "language": "python",
     "metadata": {},
     "outputs": [
      {
       "output_type": "stream",
       "stream": "stdout",
       "text": [
        "n = 1: 55393\n",
        "n = 2 to 39:"
       ]
      },
      {
       "output_type": "stream",
       "stream": "stdout",
       "text": [
        " 32\n",
        "70 [(-61, 971, -59231, 1681)]\n"
       ]
      }
     ],
     "prompt_number": 5
    },
    {
     "cell_type": "code",
     "collapsed": false,
     "input": [
      "# problem 28\n",
      "\n",
      "def spiralgen(sp=5):\n",
      "    for s in range(1, sp+1, 2):\n",
      "        if s == 1: \n",
      "            prev = 1\n",
      "            yield 1\n",
      "        else:\n",
      "            x = s-1\n",
      "            # add four corners\n",
      "            yield 4*prev + 10*x\n",
      "            prev += 4*x\n",
      "\n",
      "def spiral(sp=5):\n",
      "    total = 0\n",
      "    for t in spiralgen(sp):\n",
      "        #print t\n",
      "        total += t\n",
      "    print total\n",
      "\n",
      "spiral(1001)"
     ],
     "language": "python",
     "metadata": {},
     "outputs": [
      {
       "output_type": "stream",
       "stream": "stdout",
       "text": [
        "669171001\n"
       ]
      }
     ],
     "prompt_number": 18
    },
    {
     "cell_type": "code",
     "collapsed": false,
     "input": [
      "# problem 29\n",
      "\n",
      "ranger = range(2,101)\n",
      "sequence = set()\n",
      "\n",
      "# this is the dumb and yet fast way.\n",
      "for a in ranger:\n",
      "    tmplist = []\n",
      "    for b in ranger:\n",
      "        tmplist.append(a**b)\n",
      "    sequence.update(tmplist)\n",
      "print len(sequence)"
     ],
     "language": "python",
     "metadata": {},
     "outputs": [
      {
       "output_type": "stream",
       "stream": "stdout",
       "text": [
        "9183\n"
       ]
      }
     ],
     "prompt_number": 19
    },
    {
     "cell_type": "code",
     "collapsed": false,
     "input": [
      "# problem 30\n",
      "# \n",
      "\n",
      "powers = [x**5 for x in range(10)]\n",
      "\n",
      "# check: it has to be 2 digits at least\n",
      "# for d, s in enumerate(powers):\n",
      "#     print d, s\n",
      "# check: it has to be 6 digits at most\n",
      "# print '\\n\\n'\n",
      "# for i in range(1,10):\n",
      "#     print ''.join(['9']*i), powers[-1]*i\n",
      "\n",
      "total = 0\n",
      "for num in xrange(2, 999999):\n",
      "    digitsum = 0\n",
      "    for i in str(num):\n",
      "        digitsum += powers[int(i)]\n",
      "    #digitsum = sum([powers[int(i)] for i in str(num)])\n",
      "    if num == digitsum:\n",
      "        print num\n",
      "        total += num\n",
      "\n",
      "print 'total', total"
     ],
     "language": "python",
     "metadata": {},
     "outputs": [
      {
       "output_type": "stream",
       "stream": "stdout",
       "text": [
        "4150\n",
        "4151\n",
        "54748"
       ]
      },
      {
       "output_type": "stream",
       "stream": "stdout",
       "text": [
        "\n",
        "92727"
       ]
      },
      {
       "output_type": "stream",
       "stream": "stdout",
       "text": [
        "\n",
        "93084\n",
        "194979"
       ]
      },
      {
       "output_type": "stream",
       "stream": "stdout",
       "text": [
        "\n",
        "total"
       ]
      },
      {
       "output_type": "stream",
       "stream": "stdout",
       "text": [
        " 443839\n"
       ]
      }
     ],
     "prompt_number": 35
    },
    {
     "cell_type": "code",
     "collapsed": false,
     "input": [],
     "language": "python",
     "metadata": {},
     "outputs": []
    }
   ],
   "metadata": {}
  }
 ]
}