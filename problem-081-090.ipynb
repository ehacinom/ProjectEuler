{
 "metadata": {
  "name": "",
  "signature": "sha256:6491420d1b22456b07e10ae13cc4543e652bda7d0a8e1eb7abdb588e28f34213"
 },
 "nbformat": 3,
 "nbformat_minor": 0,
 "worksheets": [
  {
   "cells": [
    {
     "cell_type": "code",
     "collapsed": false,
     "input": [
      "import math\n",
      "import numpy as np\n",
      "from collections import defaultdict\n",
      "import pandas as pd\n",
      "import seaborn as sns\n",
      "%matplotlib"
     ],
     "language": "python",
     "metadata": {},
     "outputs": [
      {
       "output_type": "stream",
       "stream": "stdout",
       "text": [
        "Using matplotlib backend: MacOSX\n",
        "\n"
       ]
      }
     ],
     "prompt_number": 99
    },
    {
     "cell_type": "code",
     "collapsed": false,
     "input": [
      "# problem 80\n",
      "# similar to problem 18 and problem 67\n",
      "# but minimum instead of maximum, and square\n",
      "# had a little trouble with the slicing not making deep copies, be careful\n",
      "\n",
      "# make matrix a triangle: two of them!\n",
      "def triangularize(f):\n",
      "    if f:\n",
      "        matrix = []\n",
      "        with open(f) as f:\n",
      "            for row in f.readlines():\n",
      "                row = map(int, row.rstrip('\\n').split(','))\n",
      "                matrix.append(row)\n",
      "    else:\n",
      "        matrix = [[131,201,630,537,805],\n",
      "                  [673,96,803,699,732],\n",
      "                  [234,342,746,497,524],\n",
      "                  [103,965,422,121,37],\n",
      "                  [18,150,111,956,331]]\n",
      "    matrix = map(list, zip(*matrix))\n",
      "    \n",
      "    # print \n",
      "    #printarr(matrix)\n",
      "    \n",
      "    # init\n",
      "    n = len(matrix)\n",
      "    ranger = range(n)\n",
      "    arr1 = [[] for i in ranger]\n",
      "    arr2 = [[] for i in ranger]\n",
      "    \n",
      "    # triangularize the matrix\n",
      "    for y in ranger:\n",
      "        for x in ranger:\n",
      "            xy = x + y\n",
      "            if xy < n:\n",
      "                arr1[xy].append(matrix[x][y])\n",
      "            else:\n",
      "                arr2[n-2-xy].append(matrix[x][y])\n",
      "    arr2[n-1] = arr1[-1][:] # Woah, be careful about slicing here\n",
      "\n",
      "    return arr1, arr2, arr1[-1][:] \n",
      "\n",
      "def minpath(arr):\n",
      "    # iterate through the rows\n",
      "    for r in xrange(len(arr)):\n",
      "        if r == 0: continue\n",
      "        for c in xrange(r+1):\n",
      "            # edge cases\n",
      "            if c == 0: \n",
      "                arr[r][c] += arr[r-1][c]\n",
      "                continue\n",
      "            elif c == r:\n",
      "                arr[r][c] += arr[r-1][c-1]\n",
      "                continue\n",
      "\n",
      "            arr[r][c] += min(arr[r-1][c-1], arr[r-1][c])\n",
      "    return arr\n",
      "        \n",
      "def printarr(a):\n",
      "    for r in a: print r\n",
      "\n",
      "def pathsum(f = 0):\n",
      "    arr1, arr2, mid = triangularize(f)\n",
      "    \n",
      "    # find min path for each triangle\n",
      "    a1 = minpath(arr1)\n",
      "    a2 = minpath(arr2)\n",
      "    \n",
      "#     # print\n",
      "#     print \"\\ntriangularize\"\n",
      "#     print \"arr 1\"\n",
      "#     printarr(arr1)\n",
      "#     print \"arr 2\"\n",
      "#     printarr(arr2)\n",
      "    \n",
      "#     # print\n",
      "#     print \"\\nminpath\"\n",
      "#     print \"arr 1\"\n",
      "#     printarr(a1)\n",
      "#     print \"arr 2\"\n",
      "#     printarr(a2)\n",
      "#     print \"\\nmid:\", mid\n",
      "    \n",
      "    # answer\n",
      "    return min([a1[-1][i] + a2[-1][i] - mid[i] for i in xrange(len(mid))])"
     ],
     "language": "python",
     "metadata": {},
     "outputs": [],
     "prompt_number": 86
    },
    {
     "cell_type": "code",
     "collapsed": false,
     "input": [
      "pathsum(), pathsum(\"081_matrix.txt\")"
     ],
     "language": "python",
     "metadata": {},
     "outputs": [
      {
       "metadata": {},
       "output_type": "pyout",
       "prompt_number": 90,
       "text": [
        "(2427, 427337)"
       ]
      }
     ],
     "prompt_number": 90
    },
    {
     "cell_type": "code",
     "collapsed": false,
     "input": [
      "# problem 82 tries\n",
      "# very similar but more directions than problem 81\n",
      "\n",
      "def resize(f=0):\n",
      "    if f:\n",
      "        matrix = []\n",
      "        with open(f) as f:\n",
      "            for row in f.readlines():\n",
      "                row = map(int, row.rstrip('\\n').split(','))\n",
      "                matrix.append(row)\n",
      "    else:\n",
      "        matrix = [[131,201,630,537,805],\n",
      "                  [673,96,803,699,732],\n",
      "                  [234,342,746,497,524],\n",
      "                  [103,965,422,121,37],\n",
      "                  [18,150,111,956,331]]\n",
      "    matrix = map(list, zip(*matrix))\n",
      "    \n",
      "    # init\n",
      "    n = len(matrix)\n",
      "    ranger = range(n) # skip\n",
      "    arraylist = [] # list of arrays\n",
      "    \n",
      "    printarr(matrix)\n",
      "    \n",
      "    for c in ranger:\n",
      "        if c == 0:\n",
      "            for r in ranger:\n",
      "                matrix[r][c+1] += matrix[r][c]\n",
      "            continue\n",
      "        \n",
      "        # two versions\n",
      "        # going down, only deal with precomputed? check if I am asking a min() too much or little\n",
      "        col1 = []\n",
      "        for r in ranger:\n",
      "            #print \"hi\", matrix[r][c]\n",
      "            \n",
      "            # edge cases\n",
      "            if r == 0:\n",
      "                x = min(matrix[r][c-1], matrix[r+1][c])\n",
      "            elif r == n-1:\n",
      "                x = min(matrix[r][c-1], matrix[r-1][c])\n",
      "            else:\n",
      "                x = min(matrix[r][c-1], matrix[r-1][c], matrix[r+1][c])\n",
      "            \n",
      "            col1.append(x)\n",
      "        \n",
      "        col2 = []\n",
      "        for r in ranger[::-1]:\n",
      "            #print \"hi\", matrix[r][c]\n",
      "            \n",
      "            # edge cases\n",
      "            if r == 0:\n",
      "                x = min(matrix[r][c-1], matrix[r+1][c])\n",
      "            elif r == n-1:\n",
      "                x = min(matrix[r][c-1], matrix[r-1][c])\n",
      "            else:\n",
      "                x = min(matrix[r][c-1], matrix[r-1][c], matrix[r+1][c])\n",
      "            \n",
      "            col2.append(x)\n",
      "        \n",
      "        for r in ranger:\n",
      "            matrix[r][c] += min(col1[r], col2[r])\n",
      "        \n",
      "    return matrix\n",
      "\n",
      "resize()"
     ],
     "language": "python",
     "metadata": {},
     "outputs": [
      {
       "output_type": "stream",
       "stream": "stdout",
       "text": [
        "[131, 673, 234, 103, 18]\n",
        "[201, 96, 342, 965, 150]\n",
        "[630, 803, 746, 422, 111]\n",
        "[537, 699, 497, 121, 956]\n",
        "[805, 732, 524, 37, 331]\n"
       ]
      },
      {
       "metadata": {},
       "output_type": "pyout",
       "prompt_number": 109,
       "text": [
        "[[131, 935, 576, 224, 168],\n",
        " [201, 498, 576, 1002, 168],\n",
        " [630, 1730, 1088, 543, 261],\n",
        " [537, 1437, 731, 158, 974],\n",
        " [805, 1668, 866, 158, 481]]"
       ]
      }
     ],
     "prompt_number": 109
    },
    {
     "cell_type": "code",
     "collapsed": false,
     "input": [
      "# proble 82 again\n",
      "\n",
      "def pathsum82(f=0):\n",
      "    if f:\n",
      "        matrix = []\n",
      "        with open(f) as f:\n",
      "            for row in f.readlines():\n",
      "                row = map(int, row.rstrip('\\n').split(','))\n",
      "                matrix.append(row)\n",
      "    else:\n",
      "        matrix = [[131,201,630,537,805],\n",
      "                  [673,96,803,699,732],\n",
      "                  [234,342,746,497,524],\n",
      "                  [103,965,422,121,37],\n",
      "                  [18,150,111,956,331]]\n",
      "    matrix = map(list, zip(*matrix))"
     ],
     "language": "python",
     "metadata": {},
     "outputs": []
    },
    {
     "cell_type": "code",
     "collapsed": false,
     "input": [],
     "language": "python",
     "metadata": {},
     "outputs": []
    },
    {
     "cell_type": "code",
     "collapsed": false,
     "input": [],
     "language": "python",
     "metadata": {},
     "outputs": []
    },
    {
     "cell_type": "code",
     "collapsed": false,
     "input": [],
     "language": "python",
     "metadata": {},
     "outputs": []
    },
    {
     "cell_type": "code",
     "collapsed": false,
     "input": [],
     "language": "python",
     "metadata": {},
     "outputs": []
    },
    {
     "cell_type": "code",
     "collapsed": false,
     "input": [
      "# problem 86\n",
      "\n",
      "def cuboid_old(M=10):\n",
      "    count = 0\n",
      "    for a in xrange(1, M+1):\n",
      "        for b in xrange(a, M+1):\n",
      "            d = a+b\n",
      "            d = d*d\n",
      "            for c in xrange(b, M+1):\n",
      "                D = d + c*c\n",
      "                i = int(math.sqrt(D))\n",
      "                if i*i == D:\n",
      "                    count += 1\n",
      "    return count\n",
      "\n",
      "def cuboid(M=10):\n",
      "    count = 0\n",
      "    for c in xrange(1, M+1):\n",
      "        for ab in xrange(2, 2*c + 2):\n",
      "            D = c*c + ab*ab\n",
      "            i = int(math.sqrt(D))\n",
      "            if i*i == D: \n",
      "                if ab > c: \n",
      "                    count += (ab/2) - (ab - c - 1)\n",
      "                else: \n",
      "                    count += ab / 2\n",
      "    return count\n",
      "\n",
      "cuboid(1818)"
     ],
     "language": "python",
     "metadata": {},
     "outputs": [
      {
       "metadata": {},
       "output_type": "pyout",
       "prompt_number": 2,
       "text": [
        "1000457"
       ]
      }
     ],
     "prompt_number": 2
    },
    {
     "cell_type": "code",
     "collapsed": false,
     "input": [
      "%%timeit\n",
      "cuboid(1818)"
     ],
     "language": "python",
     "metadata": {},
     "outputs": [
      {
       "output_type": "stream",
       "stream": "stdout",
       "text": [
        "1 loops, best of 3: 1.73 s per loop\n"
       ]
      }
     ],
     "prompt_number": 3
    },
    {
     "cell_type": "code",
     "collapsed": false,
     "input": [
      "# problem 88\n",
      "# k <= N(k) <= 2k\n",
      "# N is even\n",
      "# build up library where even numbers have k in their set??\n",
      "\n",
      "K = 6\n",
      "\n",
      "# k is index of how many numbers needed\n",
      "for kk in xrange(2, K):\n",
      "    # init product and sum\n",
      "    p = 1\n",
      "    s = 0\n",
      "    k = kk\n",
      "    # if starts even count in k\n",
      "    if not kk % 2:\n",
      "        k -= 1\n",
      "        p *= k\n",
      "        s += k\n",
      "    \n",
      "    # if k is odd add in 1\n",
      "    if k % 2: \n",
      "        k -= 1\n",
      "        p *= k\n",
      "    \n",
      "    print kk, p, s\n",
      "\n"
     ],
     "language": "python",
     "metadata": {},
     "outputs": [
      {
       "output_type": "stream",
       "stream": "stdout",
       "text": [
        "2 1 0\n",
        "3 2 2\n",
        "4 1 0\n",
        "5 4 4\n"
       ]
      }
     ],
     "prompt_number": 6
    },
    {
     "cell_type": "code",
     "collapsed": false,
     "input": [],
     "language": "python",
     "metadata": {},
     "outputs": [],
     "prompt_number": 6
    },
    {
     "cell_type": "code",
     "collapsed": false,
     "input": [],
     "language": "python",
     "metadata": {},
     "outputs": []
    }
   ],
   "metadata": {}
  }
 ]
}