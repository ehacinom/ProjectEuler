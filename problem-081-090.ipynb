{
 "metadata": {
  "name": "",
  "signature": "sha256:434f8506fec506d1fc0290e4f218ed04f028d0e05601c04ec2dcbfd74bec79ad"
 },
 "nbformat": 3,
 "nbformat_minor": 0,
 "worksheets": [
  {
   "cells": [
    {
     "cell_type": "code",
     "collapsed": false,
     "input": [
      "import math\n",
      "import numpy as np\n",
      "from collections import defaultdict"
     ],
     "language": "python",
     "metadata": {},
     "outputs": [],
     "prompt_number": 1
    },
    {
     "cell_type": "code",
     "collapsed": false,
     "input": [
      "# problem 80\n",
      "\n",
      "with open(\"081_matrix.txt\") as f:\n",
      "    matrix = []\n",
      "    for row in f.readlines():\n",
      "        row = map(int, row.rstrip('\\n').split(','))\n",
      "        matrix.append(row)\n",
      "\n",
      "matrix = zip(*([[131,201,630,537,805],[673,96,803,699,732],[234,342,746,497,524],[103,965,422,121,37],[18,150,111,956,331]]))\n",
      "print matrix\n"
     ],
     "language": "python",
     "metadata": {},
     "outputs": [
      {
       "metadata": {},
       "output_type": "pyout",
       "prompt_number": 20,
       "text": [
        "[(131, 673, 234, 103, 18),\n",
        " (201, 96, 342, 965, 150),\n",
        " (630, 803, 746, 422, 111),\n",
        " (537, 699, 497, 121, 956),\n",
        " (805, 732, 524, 37, 331)]"
       ]
      }
     ],
     "prompt_number": 20
    },
    {
     "cell_type": "code",
     "collapsed": false,
     "input": [],
     "language": "python",
     "metadata": {},
     "outputs": []
    },
    {
     "cell_type": "code",
     "collapsed": false,
     "input": [
      "# problem 86\n",
      "\n",
      "def cuboid_old(M=10):\n",
      "    count = 0\n",
      "    for a in xrange(1, M+1):\n",
      "        for b in xrange(a, M+1):\n",
      "            d = a+b\n",
      "            d = d*d\n",
      "            for c in xrange(b, M+1):\n",
      "                D = d + c*c\n",
      "                i = int(math.sqrt(D))\n",
      "                if i*i == D:\n",
      "                    count += 1\n",
      "    return count\n",
      "\n",
      "def cuboid(M=10):\n",
      "    count = 0\n",
      "    for c in xrange(1, M+1):\n",
      "        for ab in xrange(2, 2*c + 2):\n",
      "            D = c*c + ab*ab\n",
      "            i = int(math.sqrt(D))\n",
      "            if i*i == D: \n",
      "                if ab > c: \n",
      "                    count += (ab/2) - (ab - c - 1)\n",
      "                else: \n",
      "                    count += ab / 2\n",
      "    return count\n",
      "\n",
      "cuboid(1818)"
     ],
     "language": "python",
     "metadata": {},
     "outputs": [
      {
       "metadata": {},
       "output_type": "pyout",
       "prompt_number": 2,
       "text": [
        "1000457"
       ]
      }
     ],
     "prompt_number": 2
    },
    {
     "cell_type": "code",
     "collapsed": false,
     "input": [
      "%%timeit\n",
      "cuboid(1818)"
     ],
     "language": "python",
     "metadata": {},
     "outputs": [
      {
       "output_type": "stream",
       "stream": "stdout",
       "text": [
        "1 loops, best of 3: 1.73 s per loop\n"
       ]
      }
     ],
     "prompt_number": 3
    },
    {
     "cell_type": "code",
     "collapsed": false,
     "input": [
      "# problem 88\n",
      "# k <= N(k) <= 2k\n",
      "# N is even\n",
      "# build up library where even numbers have k in their set??\n",
      "\n",
      "K = 6\n",
      "\n",
      "# k is index of how many numbers needed\n",
      "for kk in xrange(2, K):\n",
      "    # init product and sum\n",
      "    p = 1\n",
      "    s = 0\n",
      "    k = kk\n",
      "    # if starts even count in k\n",
      "    if not kk % 2:\n",
      "        k -= 1\n",
      "        p *= k\n",
      "        s += k\n",
      "    \n",
      "    # if k is odd add in 1\n",
      "    if k % 2: \n",
      "        k -= 1\n",
      "        p *= k\n",
      "    \n",
      "    print kk, p, s\n",
      "\n"
     ],
     "language": "python",
     "metadata": {},
     "outputs": [
      {
       "output_type": "stream",
       "stream": "stdout",
       "text": [
        "2 1 0\n",
        "3 2 2\n",
        "4 1 0\n",
        "5 4 4\n"
       ]
      }
     ],
     "prompt_number": 6
    },
    {
     "cell_type": "code",
     "collapsed": false,
     "input": [],
     "language": "python",
     "metadata": {},
     "outputs": [],
     "prompt_number": 6
    },
    {
     "cell_type": "code",
     "collapsed": false,
     "input": [],
     "language": "python",
     "metadata": {},
     "outputs": []
    }
   ],
   "metadata": {}
  }
 ]
}