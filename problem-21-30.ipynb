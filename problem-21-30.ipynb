{
 "metadata": {
  "name": "",
  "signature": "sha256:d844141d0f92223c58715fcbc206d98cabd4796a21fa66dd6763e88ab98c9f9d"
 },
 "nbformat": 3,
 "nbformat_minor": 0,
 "worksheets": [
  {
   "cells": [
    {
     "cell_type": "code",
     "collapsed": false,
     "input": [
      "from numpy import *\n",
      "import time\n",
      "import math"
     ],
     "language": "python",
     "metadata": {},
     "outputs": [],
     "prompt_number": 1
    },
    {
     "cell_type": "code",
     "collapsed": false,
     "input": [
      "# problem 21\n",
      "# some taken from problem 12\n",
      "\n",
      "def sievegen(n):\n",
      "    # primes <= n\n",
      "    yield 2\n",
      "\n",
      "    # initialize primes T/F list starting at zero, ignoring 0-1\n",
      "    primes = [True] * (n+1)\n",
      "    limit = int(sqrt(n)) + 1\n",
      "\n",
      "    # step through numbers starting at 3\n",
      "    for i in xrange(3, n+1, 2):\n",
      "        if primes[i]:\n",
      "            yield i\n",
      "            for j in xrange(i*i, n+1, 2*i):\n",
      "                primes[j] = False\n",
      "\n",
      "def divisors(N):\n",
      "    # divdict is prime factorization, {1, N} not incl.\n",
      "    ## UNLESS N is PRIME, then N should be included and is\n",
      "    ## note we only care about proper divisors so sod-N is the num we want\n",
      "    divdict = {}\n",
      "    tmpN = N\n",
      "    factored = False\n",
      "\n",
      "    # prime factorization\n",
      "    for p in sievegen(N):\n",
      "        if factored: break\n",
      "        elif N == p: break\n",
      "        #elif tmpN % p != 0: break\n",
      "        if tmpN % p == 0:\n",
      "            # exponent of prime divisors\n",
      "            exp = 1\n",
      "            while True: #dangerousyou\n",
      "                if N % (p**(exp+1)) == 0:\n",
      "                    exp += 1\n",
      "                    continue\n",
      "                break\n",
      "            divdict[p] = exp\n",
      "            tmpN /= p**exp\n",
      "            if tmpN == 1: \n",
      "                factored = True\n",
      "    if tmpN == N:\n",
      "        return 2, {N:1}\n",
      "\n",
      "    divs = 1\n",
      "    for v in divdict.values():\n",
      "        divs *= (v+1)\n",
      "\n",
      "    return divs, divdict\n",
      "\n",
      "def sumofdivisors(N):\n",
      "    divs, divdict = divisors(N)\n",
      "    \n",
      "    sod = 1\n",
      "    for p, exp in divdict.iteritems():\n",
      "        paren = 0\n",
      "        for i in xrange(exp+1):\n",
      "            paren += p**i\n",
      "        sod *= paren\n",
      "\n",
      "    return sod - N\n",
      "\n",
      "def amiable(N):\n",
      "    # sod for a is located at index = (a - 1)\n",
      "    pairs = [1] + [None] * (N-1)\n",
      "    for ami in xrange(2,N+1):\n",
      "        pairs[ami-1] = sumofdivisors(ami)\n",
      "\n",
      "    total = 0\n",
      "    for i, sod in enumerate(pairs):\n",
      "        if sod <= i+1: pass\n",
      "        elif sod > N: pass\n",
      "        elif pairs[sod-1] == i + 1:\n",
      "            print 'a = d(b) =', i+1, '\\td(a) = b =', sod\n",
      "            total = total + i + 1 + sod\n",
      "    \n",
      "    print total\n",
      "    return pairs"
     ],
     "language": "python",
     "metadata": {},
     "outputs": [],
     "prompt_number": 2
    },
    {
     "cell_type": "code",
     "collapsed": true,
     "input": [
      "paris = amiable(10000)"
     ],
     "language": "python",
     "metadata": {},
     "outputs": [
      {
       "output_type": "stream",
       "stream": "stdout",
       "text": [
        "a = d(b) = 220 \td(a) = b = 284\n",
        "a = d(b) = 1184 \td(a) = b = 1210\n",
        "a = d(b) = 2620 \td(a) = b = 2924\n",
        "a = d(b) = 5020 \td(a) = b = 5564\n",
        "a = d(b) = 6232 \td(a) = b = 6368\n",
        "31626\n"
       ]
      }
     ],
     "prompt_number": 3
    },
    {
     "cell_type": "code",
     "collapsed": false,
     "input": [
      "# problem 22\n",
      "# shoulda did it with a sorting algorithm\n",
      "s = time.time()\n",
      "with open('pe22_names.txt') as f:\n",
      "    lines = f.readline()\n",
      "    lines = lines.split(\"\\\",\\\"\")\n",
      "\n",
      "    # remove \" left\n",
      "    lines[0] = lines[0][1:]\n",
      "    lines[-1] = lines[-1][:-1]\n",
      "\n",
      "lines.sort()\n",
      "print 'len', len(lines), time.time() - s\n",
      "\n",
      "x = 0\n",
      "s = time.time()\n",
      "for i, line in enumerate(lines):\n",
      "    x += sum([ord(c) - 96 for c in line.lower()]) * (i+1)\n",
      "print time.time() - s\n",
      "print x"
     ],
     "language": "python",
     "metadata": {},
     "outputs": [
      {
       "output_type": "stream",
       "stream": "stdout",
       "text": [
        "len 5163 0.00582480430603\n",
        "0.135833978653"
       ]
      },
      {
       "output_type": "stream",
       "stream": "stdout",
       "text": [
        "\n",
        "871198282\n"
       ]
      }
     ],
     "prompt_number": 4
    },
    {
     "cell_type": "code",
     "collapsed": false,
     "input": [
      "# problem 23\n",
      "# using problem 21's sievegen(), divisors(), and sumofdivisors()\n",
      "\n",
      "def abundant(N=28123):\n",
      "    # returns list of tuples: (abundant number, sum of divisors)\n",
      "    # sod for a is located at index = (a - 1)\n",
      "    pairs = [1] + [None] * (N-1)\n",
      "    for ami in xrange(2,N+1):\n",
      "        pairs[ami-1] = sumofdivisors(ami)\n",
      "\n",
      "    abund = []\n",
      "    for i, sod in enumerate(pairs):\n",
      "        if sod > i+1:\n",
      "            abund.append((i+1,sod))\n",
      "    return abund\n",
      "\n",
      "def abundantgen(N=28123):\n",
      "    # returns abundant number\n",
      "    \n",
      "    "
     ],
     "language": "python",
     "metadata": {},
     "outputs": [],
     "prompt_number": 86
    },
    {
     "cell_type": "code",
     "collapsed": false,
     "input": [
      "abundant(100)"
     ],
     "language": "python",
     "metadata": {},
     "outputs": [
      {
       "metadata": {},
       "output_type": "pyout",
       "prompt_number": 87,
       "text": [
        "[(12, 16),\n",
        " (18, 21),\n",
        " (20, 22),\n",
        " (24, 36),\n",
        " (30, 42),\n",
        " (36, 55),\n",
        " (40, 50),\n",
        " (42, 54),\n",
        " (48, 76),\n",
        " (54, 66),\n",
        " (56, 64),\n",
        " (60, 108),\n",
        " (66, 78),\n",
        " (70, 74),\n",
        " (72, 123),\n",
        " (78, 90),\n",
        " (80, 106),\n",
        " (84, 140),\n",
        " (88, 92),\n",
        " (90, 144),\n",
        " (96, 156),\n",
        " (100, 117)]"
       ]
      }
     ],
     "prompt_number": 87
    },
    {
     "cell_type": "code",
     "collapsed": false,
     "input": [
      "# problem 24\n",
      "# http://code.activestate.com/recipes/252178/\n",
      "\n",
      "def permutationgen(s):\n",
      "    # generator \n",
      "    if len(s) <= 1: yield s\n",
      "    else:\n",
      "        # for each sub-permutation\n",
      "        for i in xrange(len(s)):\n",
      "            for p in permutationgen(s[:i] + s[i+1:]):\n",
      "                yield s[i] + p\n",
      "\n",
      "def lexicographic(word='0123456789', n=1000000):\n",
      "    total = 0\n",
      "    for perm in permutationgen(word):\n",
      "        total += 1\n",
      "        if total == n: print perm\n"
     ],
     "language": "python",
     "metadata": {},
     "outputs": [],
     "prompt_number": 12
    },
    {
     "cell_type": "code",
     "collapsed": false,
     "input": [
      "s = time.time()\n",
      "lexicographic('0123456789', 1000000)\n",
      "print time.time()-s"
     ],
     "language": "python",
     "metadata": {},
     "outputs": [
      {
       "output_type": "stream",
       "stream": "stdout",
       "text": [
        "2783915460\n",
        "13.2446670532"
       ]
      },
      {
       "output_type": "stream",
       "stream": "stdout",
       "text": [
        "\n"
       ]
      }
     ],
     "prompt_number": 14
    },
    {
     "cell_type": "code",
     "collapsed": false,
     "input": [
      "# problem 24\n",
      "### not useful. Use above\n",
      "## WARNING must be unique numbers unless I write something to correct for same integers (divide by factorial(repeats))\n",
      "\n",
      "def lexicographicpermutations(letters, nth):\n",
      "    letters = ''.join(sorted(letters))\n",
      "    N = len(letters)\n",
      "\n",
      "    # init\n",
      "    count = 1 #0123456789\n",
      "    if count == nth: return letters\n",
      "    steadyitems = N - 1\n",
      "    numbers = letters\n",
      "\n",
      "    # increase count\n",
      "    while steadyitems > 0:\n",
      "        # give more degrees of freedom\n",
      "        steadyitems -= 1\n",
      "        # correct count\n",
      "        tmp = math.factorial(N - steadyitems - 1) + count\n",
      "        if tmp < nth:\n",
      "            count = tmp\n",
      "        elif tmp > nth:\n",
      "            # return to original dof\n",
      "            steadyitems += 1\n",
      "            # number of iterations you need to go\n",
      "            diff = count - tmp\n",
      "            ### do something?\n",
      "            \n",
      "            a = numbers[:steadyitems]\n",
      "            b = numbers[steadyitems:]\n",
      "            return \n",
      "        else:\n",
      "            ### should always have to add??\n",
      "            return steadyitems, 'perfect', numbers, count\n",
      "        break\n",
      "    \n",
      "    \n",
      "    \n",
      "    # in actuality only steadyitems-1 letters are steady\n",
      "    a = letters[:steadyitems]\n",
      "    b = letters[steadyitems:]\n",
      "    \n",
      "    print a, b\n",
      "    \n",
      "    return count, steadyitems, letters"
     ],
     "language": "python",
     "metadata": {},
     "outputs": [],
     "prompt_number": 140
    },
    {
     "cell_type": "code",
     "collapsed": false,
     "input": [
      "lexicographicpermutations('102', 3)"
     ],
     "language": "python",
     "metadata": {},
     "outputs": [
      {
       "output_type": "stream",
       "stream": "stdout",
       "text": [
        "1 3\n",
        "0 3\n",
        " 012\n"
       ]
      },
      {
       "metadata": {},
       "output_type": "pyout",
       "prompt_number": 141,
       "text": [
        "(3, 0, '012')"
       ]
      }
     ],
     "prompt_number": 141
    },
    {
     "cell_type": "code",
     "collapsed": false,
     "input": [],
     "language": "python",
     "metadata": {},
     "outputs": []
    },
    {
     "cell_type": "code",
     "collapsed": false,
     "input": [],
     "language": "python",
     "metadata": {},
     "outputs": []
    },
    {
     "cell_type": "code",
     "collapsed": false,
     "input": [],
     "language": "python",
     "metadata": {},
     "outputs": []
    },
    {
     "cell_type": "code",
     "collapsed": false,
     "input": [],
     "language": "python",
     "metadata": {},
     "outputs": []
    }
   ],
   "metadata": {}
  }
 ]
}