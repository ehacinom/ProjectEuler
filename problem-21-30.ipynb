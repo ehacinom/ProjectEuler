{
 "metadata": {
  "name": "",
  "signature": "sha256:b24c07033cbd7b4b8f58f4a845c848aa4f5beb7048389a10d43947c3a3e12ff7"
 },
 "nbformat": 3,
 "nbformat_minor": 0,
 "worksheets": [
  {
   "cells": [
    {
     "cell_type": "code",
     "collapsed": false,
     "input": [
      "from numpy import *\n",
      "import time"
     ],
     "language": "python",
     "metadata": {},
     "outputs": [],
     "prompt_number": 1
    },
    {
     "cell_type": "code",
     "collapsed": false,
     "input": [
      "# problem 21\n",
      "# some taken from problem 12\n",
      "\n",
      "def sievegen(n):\n",
      "    # primes <= n\n",
      "    yield 2\n",
      "\n",
      "    # initialize primes T/F list starting at zero, ignoring 0-1\n",
      "    primes = [True] * (n+1)\n",
      "    limit = int(sqrt(n)) + 1\n",
      "\n",
      "    # step through numbers starting at 3\n",
      "    for i in xrange(3, n+1, 2):\n",
      "        if primes[i]:\n",
      "            yield i\n",
      "            for j in xrange(i*i, n+1, 2*i):\n",
      "                primes[j] = False\n",
      "\n",
      "def divisors(N):\n",
      "    # divdict is prime factorization, {1, N} not incl.\n",
      "    divdict = {}\n",
      "    tmpN = N\n",
      "    factored = False\n",
      "\n",
      "    # prime factorization\n",
      "    while not factored:\n",
      "        for p in sievegen(int(sqrt(N))):\n",
      "            \n",
      "    \n",
      "    # prime factorization\n",
      "    for p in sievegen(N):\n",
      "        if factored: break\n",
      "        elif N == p: break\n",
      "        #elif tmpN % p != 0: break\n",
      "        if tmpN % p == 0:\n",
      "            # exponent of prime divisors\n",
      "            exp = 1\n",
      "            while True: #dangerousyou\n",
      "                if N % (p**(exp+1)) == 0:\n",
      "                    exp += 1\n",
      "                    continue\n",
      "                break\n",
      "            divdict[p] = exp\n",
      "            tmpN /= p**exp\n",
      "            if tmpNl == 1: \n",
      "                factored = True\n",
      "    if tmpN == N:\n",
      "        return 2, {}\n",
      "\n",
      "    divs = 1\n",
      "    for v in divdict.values():\n",
      "        divs *= (v+1)\n",
      "\n",
      "    return divs, divdict\n"
     ],
     "language": "python",
     "metadata": {},
     "outputs": [],
     "prompt_number": 21
    },
    {
     "cell_type": "code",
     "collapsed": false,
     "input": [],
     "language": "python",
     "metadata": {},
     "outputs": []
    },
    {
     "cell_type": "code",
     "collapsed": false,
     "input": [],
     "language": "python",
     "metadata": {},
     "outputs": []
    },
    {
     "cell_type": "code",
     "collapsed": false,
     "input": [],
     "language": "python",
     "metadata": {},
     "outputs": []
    },
    {
     "cell_type": "code",
     "collapsed": false,
     "input": [],
     "language": "python",
     "metadata": {},
     "outputs": []
    },
    {
     "cell_type": "code",
     "collapsed": false,
     "input": [],
     "language": "python",
     "metadata": {},
     "outputs": []
    },
    {
     "cell_type": "code",
     "collapsed": false,
     "input": [
      "# problem 22\n",
      "# shoulda did it with a sorting algorithm\n",
      "s = time.time()\n",
      "with open('pe22_names.txt') as f:\n",
      "    lines = f.readline()\n",
      "    lines = lines.split(\"\\\",\\\"\")\n",
      "\n",
      "    # remove \" left\n",
      "    lines[0] = lines[0][1:]\n",
      "    lines[-1] = lines[-1][:-1]\n",
      "\n",
      "lines.sort()\n",
      "print 'len', len(lines), time.time() - s\n",
      "\n",
      "x = 0\n",
      "s = time.time()\n",
      "for i, line in enumerate(lines):\n",
      "    x += sum([ord(c) - 96 for c in line.lower()]) * (i+1)\n",
      "print time.time() - s\n",
      "print x"
     ],
     "language": "python",
     "metadata": {},
     "outputs": [
      {
       "output_type": "stream",
       "stream": "stdout",
       "text": [
        "len 5163 0.00532698631287\n",
        "0.129781007767"
       ]
      },
      {
       "output_type": "stream",
       "stream": "stdout",
       "text": [
        "\n",
        "871198282\n"
       ]
      }
     ],
     "prompt_number": 37
    },
    {
     "cell_type": "code",
     "collapsed": false,
     "input": [
      "# problem 22 v1"
     ],
     "language": "python",
     "metadata": {},
     "outputs": []
    },
    {
     "cell_type": "code",
     "collapsed": false,
     "input": [
      "# problem 22 v2"
     ],
     "language": "python",
     "metadata": {},
     "outputs": []
    },
    {
     "cell_type": "code",
     "collapsed": false,
     "input": [],
     "language": "python",
     "metadata": {},
     "outputs": []
    }
   ],
   "metadata": {}
  }
 ]
}