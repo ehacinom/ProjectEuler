{
 "metadata": {
  "name": "",
  "signature": "sha256:91eba90e80cff7e3b51796d6abd1da2553dc8bbc24ea37dfe831f0321eeac9ca"
 },
 "nbformat": 3,
 "nbformat_minor": 0,
 "worksheets": [
  {
   "cells": [
    {
     "cell_type": "code",
     "collapsed": false,
     "input": [
      "from numpy import *\n",
      "import time\n",
      "import math\n",
      "import collections"
     ],
     "language": "python",
     "metadata": {},
     "outputs": [],
     "prompt_number": 59
    },
    {
     "cell_type": "code",
     "collapsed": false,
     "input": [
      "# problem 21\n",
      "# some taken from problem 12\n",
      "\n",
      "def sievegen(n):\n",
      "    # primes <= n\n",
      "    yield 2\n",
      "\n",
      "    # initialize primes T/F list starting at zero, ignoring 0-1\n",
      "    primes = [True] * (n+1)\n",
      "    limit = int(sqrt(n)) + 1\n",
      "\n",
      "    # step through numbers starting at 3\n",
      "    for i in xrange(3, n+1, 2):\n",
      "        if primes[i]:\n",
      "            yield i\n",
      "            for j in xrange(i*i, n+1, 2*i):\n",
      "                primes[j] = False\n",
      "\n",
      "def divisors(N):\n",
      "    # divdict is prime factorization, {1, N} not incl.\n",
      "    ## UNLESS N is PRIME, then N should be included and is\n",
      "    ## note we only care about proper divisors so sod-N is the num we want\n",
      "    divdict = {}\n",
      "    tmpN = N\n",
      "    factored = False\n",
      "\n",
      "    # prime factorization\n",
      "    for p in sievegen(N):\n",
      "        if factored: break\n",
      "        elif N == p: break\n",
      "        #elif tmpN % p != 0: break\n",
      "        if tmpN % p == 0:\n",
      "            # exponent of prime divisors\n",
      "            exp = 1\n",
      "            while True: #dangerousyou\n",
      "                if N % (p**(exp+1)) == 0:\n",
      "                    exp += 1\n",
      "                    continue\n",
      "                break\n",
      "            divdict[p] = exp\n",
      "            tmpN /= p**exp\n",
      "            if tmpN == 1: \n",
      "                factored = True\n",
      "    if tmpN == N:\n",
      "        return 2, {N:1}\n",
      "\n",
      "    divs = 1\n",
      "    for v in divdict.values():\n",
      "        divs *= (v+1)\n",
      "\n",
      "    return divs, divdict\n",
      "\n",
      "def sumofdivisors(N):\n",
      "    divs, divdict = divisors(N)\n",
      "    \n",
      "    sod = 1\n",
      "    for p, exp in divdict.iteritems():\n",
      "        paren = 0\n",
      "        for i in xrange(exp+1):\n",
      "            paren += p**i\n",
      "        sod *= paren\n",
      "\n",
      "    return sod - N\n",
      "\n",
      "def amiable(N):\n",
      "    # sod for a is located at index = (a - 1)\n",
      "    pairs = [1] + [None] * (N-1)\n",
      "    for ami in xrange(2,N+1):\n",
      "        pairs[ami-1] = sumofdivisors(ami)\n",
      "\n",
      "    total = 0\n",
      "    for i, sod in enumerate(pairs):\n",
      "        if sod <= i+1: pass\n",
      "        elif sod > N: pass\n",
      "        elif pairs[sod-1] == i + 1:\n",
      "            print 'a = d(b) =', i+1, '\\td(a) = b =', sod\n",
      "            total = total + i + 1 + sod\n",
      "    \n",
      "    print total\n",
      "    return pairs"
     ],
     "language": "python",
     "metadata": {},
     "outputs": [],
     "prompt_number": 2
    },
    {
     "cell_type": "code",
     "collapsed": true,
     "input": [
      "paris = amiable(10000)"
     ],
     "language": "python",
     "metadata": {},
     "outputs": [
      {
       "output_type": "stream",
       "stream": "stdout",
       "text": [
        "a = d(b) = 220 \td(a) = b = 284\n",
        "a = d(b) = 1184 \td(a) = b = 1210\n",
        "a = d(b) = 2620 \td(a) = b = 2924\n",
        "a = d(b) = 5020 \td(a) = b = 5564\n",
        "a = d(b) = 6232 \td(a) = b = 6368\n",
        "31626\n"
       ]
      }
     ],
     "prompt_number": 3
    },
    {
     "cell_type": "code",
     "collapsed": false,
     "input": [
      "# problem 22\n",
      "# shoulda did it with a sorting algorithm\n",
      "s = time.time()\n",
      "with open('pe22_names.txt') as f:\n",
      "    lines = f.readline()\n",
      "    lines = lines.split(\"\\\",\\\"\")\n",
      "\n",
      "    # remove \" left\n",
      "    lines[0] = lines[0][1:]\n",
      "    lines[-1] = lines[-1][:-1]\n",
      "\n",
      "lines.sort()\n",
      "print 'len', len(lines), time.time() - s\n",
      "\n",
      "x = 0\n",
      "s = time.time()\n",
      "for i, line in enumerate(lines):\n",
      "    x += sum([ord(c) - 96 for c in line.lower()]) * (i+1)\n",
      "print time.time() - s\n",
      "print x"
     ],
     "language": "python",
     "metadata": {},
     "outputs": [
      {
       "output_type": "stream",
       "stream": "stdout",
       "text": [
        "len 5163 0.00582480430603\n",
        "0.135833978653"
       ]
      },
      {
       "output_type": "stream",
       "stream": "stdout",
       "text": [
        "\n",
        "871198282\n"
       ]
      }
     ],
     "prompt_number": 4
    },
    {
     "cell_type": "code",
     "collapsed": false,
     "input": [
      "# problem 24\n",
      "# http://code.activestate.com/recipes/252178/\n",
      "\n",
      "def permutationgen(s):\n",
      "    # generator \n",
      "    if len(s) <= 1: yield s\n",
      "    else:\n",
      "        # for each sub-permutation\n",
      "        for i in xrange(len(s)):\n",
      "            for p in permutationgen(s[:i] + s[i+1:]):\n",
      "                yield s[i] + p\n",
      "\n",
      "def lexicographic(word='0123456789', n=1000000):\n",
      "    total = 0\n",
      "    for perm in permutationgen(word):\n",
      "        total += 1\n",
      "        if total == n: print perm\n"
     ],
     "language": "python",
     "metadata": {},
     "outputs": [],
     "prompt_number": 12
    },
    {
     "cell_type": "code",
     "collapsed": false,
     "input": [
      "s = time.time()\n",
      "lexicographic('0123456789', 1000000)\n",
      "print time.time()-s"
     ],
     "language": "python",
     "metadata": {},
     "outputs": [
      {
       "output_type": "stream",
       "stream": "stdout",
       "text": [
        "2783915460\n",
        "13.2446670532"
       ]
      },
      {
       "output_type": "stream",
       "stream": "stdout",
       "text": [
        "\n"
       ]
      }
     ],
     "prompt_number": 14
    },
    {
     "cell_type": "code",
     "collapsed": false,
     "input": [
      "# problem 24\n",
      "### not useful. Use above\n",
      "## WARNING must be unique numbers unless I write something to correct for same integers (divide by factorial(repeats))\n",
      "\n",
      "def lexicographicpermutations(letters, nth):\n",
      "    letters = ''.join(sorted(letters))\n",
      "    N = len(letters)\n",
      "\n",
      "    # init\n",
      "    count = 1 #0123456789\n",
      "    if count == nth: return letters\n",
      "    steadyitems = N - 1\n",
      "    numbers = letters\n",
      "\n",
      "    # increase count\n",
      "    while steadyitems > 0:\n",
      "        # give more degrees of freedom\n",
      "        steadyitems -= 1\n",
      "        # correct count\n",
      "        tmp = math.factorial(N - steadyitems - 1) + count\n",
      "        if tmp < nth:\n",
      "            count = tmp\n",
      "        elif tmp > nth:\n",
      "            # return to original dof\n",
      "            steadyitems += 1\n",
      "            # number of iterations you need to go\n",
      "            diff = count - tmp\n",
      "            ### do something?\n",
      "            \n",
      "            a = numbers[:steadyitems]\n",
      "            b = numbers[steadyitems:]\n",
      "            return \n",
      "        else:\n",
      "            ### should always have to add??\n",
      "            return steadyitems, 'perfect', numbers, count\n",
      "        break\n",
      "    \n",
      "    \n",
      "    \n",
      "    # in actuality only steadyitems-1 letters are steady\n",
      "    a = letters[:steadyitems]\n",
      "    b = letters[steadyitems:]\n",
      "    \n",
      "    print a, b\n",
      "    \n",
      "    return count, steadyitems, letters"
     ],
     "language": "python",
     "metadata": {},
     "outputs": [],
     "prompt_number": 140
    },
    {
     "cell_type": "code",
     "collapsed": false,
     "input": [
      "lexicographicpermutations('102', 3)"
     ],
     "language": "python",
     "metadata": {},
     "outputs": [
      {
       "output_type": "stream",
       "stream": "stdout",
       "text": [
        "1 3\n",
        "0 3\n",
        " 012\n"
       ]
      },
      {
       "metadata": {},
       "output_type": "pyout",
       "prompt_number": 141,
       "text": [
        "(3, 0, '012')"
       ]
      }
     ],
     "prompt_number": 141
    },
    {
     "cell_type": "code",
     "collapsed": false,
     "input": [
      "# problem 23\n",
      "# using problem 21's sievegen(), divisors(), and sumofdivisors()\n",
      "\n",
      "def abundant(N=28123):\n",
      "    ''' returns abundant list '''\n",
      "    abundants = []\n",
      "    for n in xrange(2, N):\n",
      "        if sumofdivisors(n) > n: \n",
      "            abundants.append(n)\n",
      "    return abundants\n",
      "\n",
      "def sumof2abundants(N=28123):\n",
      "    abun = abundant(N)\n",
      "    for n in abun:\n",
      "        for m in abun:\n",
      "            yield n+m\n",
      "\n",
      "def nonabundantsums(N=28123):\n",
      "    s = set()\n",
      "    for i in sumof2abundants(N):\n",
      "        if i < N: s.add(i)\n",
      "    s0 = sum(list(s))\n",
      "\n",
      "    s1 = 0\n",
      "    for i in xrange(N):\n",
      "        s1 += i\n",
      "\n",
      "    what = s1 - s0\n",
      "    print what"
     ],
     "language": "python",
     "metadata": {},
     "outputs": [],
     "prompt_number": 86
    },
    {
     "cell_type": "code",
     "collapsed": false,
     "input": [
      "s = time.time()\n",
      "nonabundantsums()\n",
      "print 'time', time.time()-s"
     ],
     "language": "python",
     "metadata": {},
     "outputs": [
      {
       "output_type": "stream",
       "stream": "stdout",
       "text": [
        "395437503\n",
        "4179871\n",
        "time 50.7576711178\n"
       ]
      }
     ],
     "prompt_number": 90
    },
    {
     "cell_type": "code",
     "collapsed": false,
     "input": [
      "# problem 25\n",
      "# http://stackoverflow.com/questions/494594/how-to-write-the-fibonacci-sequence-in-python\n",
      "\n",
      "def fibgen():\n",
      "    a,b = 1,1\n",
      "    yield a\n",
      "    yield b\n",
      "    while True:\n",
      "        a, b = b, a+b\n",
      "        yield b\n",
      "\n",
      "def fiblen(N=1000):\n",
      "    index = 0\n",
      "    for f in fibgen():\n",
      "        index += 1\n",
      "        if len(str(f)) >= N: return index, f"
     ],
     "language": "python",
     "metadata": {},
     "outputs": [],
     "prompt_number": 103
    },
    {
     "cell_type": "code",
     "collapsed": false,
     "input": [
      "fiblen(1000)"
     ],
     "language": "python",
     "metadata": {},
     "outputs": [
      {
       "metadata": {},
       "output_type": "pyout",
       "prompt_number": 109,
       "text": [
        "(4782,\n",
        " 1070066266382758936764980584457396885083683896632151665013235203375314520604694040621889147582489792657804694888177591957484336466672569959512996030461262748092482186144069433051234774442750273781753087579391666192149259186759553966422837148943113074699503439547001985432609723067290192870526447243726117715821825548491120525013201478612965931381792235559657452039506137551467837543229119602129934048260706175397706847068202895486902666185435124521900369480641357447470911707619766945691070098024393439617474103736912503231365532164773697023167755051595173518460579954919410967778373229665796581646513903488154256310184224190259846088000110186255550245493937113651657039447629584714548523425950428582425306083544435428212611008992863795048006894330309773217834864543113205765659868456288616808718693835297350643986297640660000723562917905207051164077614812491885830945940566688339109350944456576357666151619317753792891661581327159616877487983821820492520348473874384736771934512787029218636250627816L)"
       ]
      }
     ],
     "prompt_number": 109
    },
    {
     "cell_type": "code",
     "collapsed": false,
     "input": [
      "# problem 26\n",
      "# going to use prime generator\n",
      "# https://en.wikipedia.org/wiki/Repeating_decimal#Fractions_with_prime_denominators\n",
      "# The length of the repetend (period of the repeating decimal) of 1/p is equal to the multiplicative order of 10 modulo p.\n",
      "#\n",
      "\n",
      "def sievegen(n):\n",
      "    # primes <= n\n",
      "    yield 2\n",
      "\n",
      "    # initialize primes T/F list starting at zero, ignoring 0-1\n",
      "    primes = [True] * (n+1)\n",
      "    limit = int(sqrt(n)) + 1\n",
      "\n",
      "    # step through numbers starting at 3\n",
      "    for i in xrange(3, n+1, 2):\n",
      "        if primes[i]:\n",
      "            yield i\n",
      "            for j in xrange(i*i, n+1, 2*i):\n",
      "                primes[j] = False\n",
      "\n",
      "def isorder(maxk=100, maxprime=1000):\n",
      "    # 10^k mod p == 1 for smallest possible positive int k\n",
      "    karr = range(1, maxk + 1)\n",
      "    orderdict = collections.defaultdict(list)\n",
      "    K = 0 # the largest recurring cycle we find\n",
      "    for p in sievegen(maxprime):\n",
      "        for k in karr:\n",
      "            # order\n",
      "            if 10**k % p == 1:\n",
      "                #print p, k\n",
      "                orderdict[k].append(p)\n",
      "                if k > K: K = k\n",
      "                break\n",
      "            # primitive root?\n",
      "            if 10**k % p >= 1:\n",
      "                continue\n",
      "    print 'final', K, orderdict[K]\n",
      "    return orderdict"
     ],
     "language": "python",
     "metadata": {},
     "outputs": [],
     "prompt_number": 78
    },
    {
     "cell_type": "code",
     "collapsed": false,
     "input": [
      "isorder(5000,1000)"
     ],
     "language": "python",
     "metadata": {},
     "outputs": [
      {
       "output_type": "stream",
       "stream": "stdout",
       "text": [
        "final 982 [983]\n"
       ]
      },
      {
       "metadata": {},
       "output_type": "pyout",
       "prompt_number": 82,
       "text": [
        "defaultdict(<type 'list'>, {1: [3], 2: [11], 3: [37], 4: [101], 5: [41, 271], 6: [7, 13], 7: [239], 8: [73, 137], 13: [53, 79], 15: [31], 16: [17], 18: [19], 21: [43], 22: [23], 26: [859], 27: [757], 28: [29, 281], 30: [211, 241], 32: [353, 449, 641], 33: [67], 34: [103], 35: [71], 41: [83], 42: [127], 43: [173], 44: [89], 46: [47, 139], 50: [251], 51: [613], 52: [521], 53: [107], 58: [59], 60: [61], 61: [733], 576: [577], 69: [277], 75: [151], 78: [157], 79: [317], 592: [593], 81: [163], 88: [617], 91: [547], 95: [191], 96: [97], 98: [197], 99: [199, 397], 618: [619], 107: [643], 108: [109], 110: [331], 112: [113], 113: [227], 116: [349], 125: [751], 130: [131], 646: [647], 140: [421], 141: [283], 146: [293], 148: [149], 151: [907], 152: [457], 153: [307], 154: [463], 155: [311], 166: [167, 997], 540: [541], 173: [347], 178: [179], 179: [359], 180: [181], 186: [373], 700: [701], 192: [193, 769], 193: [773], 708: [709], 199: [797], 200: [401], 202: [607, 809], 204: [409], 213: [853], 726: [727], 215: [431], 219: [439], 220: [661], 221: [443], 222: [223], 224: [673], 976: [977], 228: [229], 230: [691], 232: [233], 233: [467], 239: [479], 246: [739], 256: [257], 261: [523], 262: [263], 268: [269], 276: [829], 278: [557], 281: [563], 284: [569], 293: [587], 810: [811], 299: [599], 300: [601], 820: [821], 822: [823], 312: [313], 315: [631], 322: [967], 326: [653], 336: [337], 338: [677], 341: [683], 856: [857], 570: [571], 862: [863], 742: [743], 359: [719], 658: [659], 366: [367], 886: [887], 378: [379], 380: [761], 382: [383], 388: [389], 393: [787], 413: [827], 418: [419], 419: [839], 936: [937], 940: [941], 432: [433], 952: [953], 438: [877], 440: [881], 441: [883], 455: [911], 970: [971], 459: [919], 460: [461], 464: [929], 982: [983], 473: [947], 486: [487], 490: [491], 495: [991], 498: [499], 502: [503], 508: [509]})"
       ]
      }
     ],
     "prompt_number": 82
    },
    {
     "cell_type": "code",
     "collapsed": false,
     "input": [],
     "language": "python",
     "metadata": {},
     "outputs": []
    },
    {
     "cell_type": "code",
     "collapsed": false,
     "input": [],
     "language": "python",
     "metadata": {},
     "outputs": []
    },
    {
     "cell_type": "code",
     "collapsed": false,
     "input": [],
     "language": "python",
     "metadata": {},
     "outputs": []
    },
    {
     "cell_type": "code",
     "collapsed": false,
     "input": [],
     "language": "python",
     "metadata": {},
     "outputs": []
    },
    {
     "cell_type": "code",
     "collapsed": false,
     "input": [],
     "language": "python",
     "metadata": {},
     "outputs": []
    },
    {
     "cell_type": "code",
     "collapsed": false,
     "input": [],
     "language": "python",
     "metadata": {},
     "outputs": []
    }
   ],
   "metadata": {}
  }
 ]
}