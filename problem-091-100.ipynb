{
 "metadata": {
  "name": "",
  "signature": "sha256:012db22bb6f600c473be56812be5923a369c23bfe2efc8d8dd1c1d93d296818d"
 },
 "nbformat": 3,
 "nbformat_minor": 0,
 "worksheets": [
  {
   "cells": [
    {
     "cell_type": "code",
     "collapsed": false,
     "input": [
      "from math import sqrt, log10\n",
      "import numpy as np\n",
      "from collections import defaultdict\n",
      "from itertools import combinations, combinations_with_replacement, permutations\n",
      "import operator as op\n",
      "import dlx"
     ],
     "language": "python",
     "metadata": {},
     "outputs": [],
     "prompt_number": 1
    },
    {
     "cell_type": "code",
     "collapsed": false,
     "input": [
      "# problem 91\n",
      "\n",
      "def righttriangles(n = 2):\n",
      "    ranger = range(n+1)\n",
      "    points = []\n",
      "    for x in ranger:\n",
      "        for y in ranger:\n",
      "            points.append((x, y))\n",
      "    points.remove((0,0))\n",
      "    \n",
      "#     # test\n",
      "#     known = [((0, 1), (1, 0)), ((0, 1), (1, 1)), ((0, 1), (2, 0)), ((0, 1), (2, 1)),\n",
      "#              ((0, 2), (1, 0)), ((0, 2), (1, 1)), ((0, 2), (1, 2)), ((0, 2), (2, 0)),\n",
      "#              ((0, 2), (2, 2)), ((1, 0), (1, 1)), ((1, 0), (2, 0)), ((1, 1), (2, 0)), \n",
      "#              ((2, 0), (2, 2))]\n",
      "    \n",
      "    count = 0\n",
      "    for p in combinations(points, 2):\n",
      "        ((x1, y1), (x2, y2)) = p\n",
      "        \n",
      "        # distance squared\n",
      "        a = x1*x1 + y1*y1\n",
      "        b = x2*x2 + y2*y2\n",
      "        c = a + b - 2*x1*x2 - 2*y1*y2 \n",
      "\n",
      "#         # test\n",
      "#         if p in known:\n",
      "#             print 'known', p\n",
      "#             print a, b, c\n",
      "        \n",
      "        if (a + b == c) | (a + c == b) | (b + c == a):\n",
      "            count += 1\n",
      "    return count\n",
      "    \n",
      "righttriangles(50)"
     ],
     "language": "python",
     "metadata": {},
     "outputs": [
      {
       "metadata": {},
       "output_type": "pyout",
       "prompt_number": 2,
       "text": [
        "14234"
       ]
      }
     ],
     "prompt_number": 2
    },
    {
     "cell_type": "code",
     "collapsed": false,
     "input": [
      "# problem 92\n",
      "# much better to do with array < 600\n",
      "# since 9,999,999 --> 567\n",
      "\n",
      "def squaredigit(end = 100):\n",
      "    d = [i*i for i in xrange(10)]\n",
      "    arrend = ( (9**2) * (len(str(end))-1) ) + 1\n",
      "    array = [0] * arrend\n",
      "    array[1] = 1\n",
      "    array[89] = 89\n",
      "    \n",
      "    # set up array of 1-89\n",
      "    for n in xrange(2, arrend):\n",
      "        if array[n]: continue\n",
      "        notFinished = True\n",
      "        arr = [n]\n",
      "        j = n\n",
      "        while notFinished: \n",
      "            k = map(int, str(j))\n",
      "            j = sum([d[i] for i in k])\n",
      "            if array[j]:\n",
      "                for k in arr:\n",
      "                    array[k] = array[j]\n",
      "                    notFinished = False\n",
      "            else:\n",
      "                arr.append(j)\n",
      "    \n",
      "    # count\n",
      "    ones, nines = 0, 0\n",
      "    for i in array:\n",
      "        if i == 1: ones += 1\n",
      "        elif i == 89: nines += 1\n",
      "    \n",
      "    # do the rest of the numbers\n",
      "    for n in xrange(arrend, end):\n",
      "        j = 0\n",
      "        while n:\n",
      "            j += (n%10) * (n%10)\n",
      "            n /= 10\n",
      "        if array[j] == 1: ones += 1\n",
      "        else: nines += 1\n",
      "    \n",
      "    return ones, nines"
     ],
     "language": "python",
     "metadata": {},
     "outputs": [],
     "prompt_number": 17
    },
    {
     "cell_type": "code",
     "collapsed": false,
     "input": [
      "squaredigit(10000000)"
     ],
     "language": "python",
     "metadata": {},
     "outputs": [
      {
       "metadata": {},
       "output_type": "pyout",
       "prompt_number": 22,
       "text": [
        "(1418853, 8581146)"
       ]
      }
     ],
     "prompt_number": 22
    },
    {
     "cell_type": "code",
     "collapsed": false,
     "input": [
      "%%timeit\n",
      "squaredigit(10000000)"
     ],
     "language": "python",
     "metadata": {},
     "outputs": [
      {
       "output_type": "stream",
       "stream": "stdout",
       "text": [
        "1 loops, best of 3: 20.8 s per loop\n"
       ]
      }
     ],
     "prompt_number": 21
    },
    {
     "cell_type": "code",
     "collapsed": false,
     "input": [
      "# problem 93\n",
      "    \n",
      "def arith():\n",
      "    # operators\n",
      "    oplist = set()\n",
      "    ops = [op.mul, op.div, op.add, op.sub]\n",
      "    for c in combinations_with_replacement(ops, 3):\n",
      "        for p in permutations(c):\n",
      "            oplist.add(p)\n",
      "    \n",
      "    # save\n",
      "    ns, abcds, listos = 0, tuple(), []\n",
      "    \n",
      "    # digit sets\n",
      "    for abcd in combinations(np.arange(1,10,1.0), 4):\n",
      "        listo = set([])\n",
      "        # permutations of abcd\n",
      "        for p in permutations(abcd):\n",
      "            # permutations of three operators\n",
      "            for ol in oplist:\n",
      "                # different parentheticals\n",
      "                paren = [ol[1](ol[0](p[0], p[1]), ol[2](p[2], p[3])), \n",
      "                         ol[2](ol[1](ol[0](p[0], p[1]), p[2]), p[3]), \n",
      "                         ol[2](ol[0](p[0], ol[1](p[1], p[2])), p[3]), \n",
      "                         ol[0](p[0], ol[2](ol[1](p[1], p[2]), p[3])),\n",
      "                         ol[0](p[0], ol[1](p[1], ol[2](p[2], p[3])))]\n",
      "\n",
      "                for target in paren:\n",
      "                    if target > 0:\n",
      "                        if target != float(\"inf\"):\n",
      "                            if not target - int(target):\n",
      "                                listo.add(int(target))\n",
      "        \n",
      "        # save\n",
      "        listo = sorted(list(listo))\n",
      "        for i in xrange(len(listo)):\n",
      "            if i + 1 != listo[i]:\n",
      "                if i > ns:\n",
      "                    ns = i\n",
      "                    abcds = abcd\n",
      "                    listos = listo\n",
      "                break\n",
      "        \n",
      "    return ns, ''.join(map(str, map(int, abcds)))\n",
      "    \n",
      "arith()"
     ],
     "language": "python",
     "metadata": {},
     "outputs": [
      {
       "output_type": "stream",
       "stream": "stderr",
       "text": [
        "-c:25: RuntimeWarning: divide by zero encountered in double_scalars\n",
        "-c:26: RuntimeWarning: divide by zero encountered in double_scalars\n"
       ]
      },
      {
       "metadata": {},
       "output_type": "pyout",
       "prompt_number": 2,
       "text": [
        "(51, '1258')"
       ]
      }
     ],
     "prompt_number": 2
    },
    {
     "cell_type": "code",
     "collapsed": false,
     "input": [
      "# problem 94\n",
      "\n",
      "def isqrt(n):\n",
      "    # http://stackoverflow.com/questions/15390807\n",
      "    x = n\n",
      "    y = (x + 1) // 2\n",
      "    while y < x:\n",
      "        x = y\n",
      "        y = (x + n // x) // 2\n",
      "    return x\n",
      "\n",
      "def perimeter(n=50000):\n",
      "    peri = 0\n",
      "    end = n / 3 + 1\n",
      "    square = 1\n",
      "    \n",
      "    stores = 1.\n",
      "    store = []\n",
      "    s = 2\n",
      "    ab = True # a = False or b = True\n",
      "    while s < end:\n",
      "        if ab: # b\n",
      "            a = 3*s*s - 2*s - 1\n",
      "        else: # a\n",
      "            a = 3*s*s + 2*s - 1\n",
      "        \n",
      "        i = isqrt(a)\n",
      "        \n",
      "        if a == i*i:\n",
      "            if ab: # b\n",
      "                if not i * (s+1) % 4:\n",
      "                    print 'b', s, i, a, s/stores\n",
      "                    stores = float(s)\n",
      "                    peri += (3*s + 1)\n",
      "                    ab = not (ab)\n",
      "                    \n",
      "                    if s < 500: s *= 3\n",
      "                    else:  s = int(s*3.73)\n",
      "                    continue\n",
      "            else: # a\n",
      "                if not i * (s-1) % 4:\n",
      "                    print 'a', s, i, a, s/stores\n",
      "                    stores = float(s)\n",
      "                    peri += (3*s - 1)\n",
      "                    ab = not (ab)\n",
      "                    \n",
      "                    if s < 500: s *= 3\n",
      "                    else: s = int(s*3.73)\n",
      "                    continue\n",
      "        s += 1\n",
      "    \n",
      "    return peri"
     ],
     "language": "python",
     "metadata": {},
     "outputs": [],
     "prompt_number": 2
    },
    {
     "cell_type": "code",
     "collapsed": false,
     "input": [
      "perimeter(1000000000)"
     ],
     "language": "python",
     "metadata": {},
     "outputs": [
      {
       "output_type": "stream",
       "stream": "stdout",
       "text": [
        "b 5 8 64 5.0\n",
        "a 17 30 900 3.4\n",
        "b 65 112 12544 3.82352941176\n",
        "a 241 418 174724 3.70769230769\n",
        "b 901 1560 2433600 3.73858921162\n",
        "a 3361 5822 33895684 3.73029966704\n",
        "b 12545 21728 472105984 3.73252008331\n",
        "a 46817 81090 6575588100 3.73192506975\n",
        "b 174725 302632 91586127424 3.73208449922\n",
        "a 652081 1129438 1275630195844 3.73204177994\n",
        "b 2433601 4215120 17767236614400 3.73205322652\n",
        "a"
       ]
      },
      {
       "output_type": "stream",
       "stream": "stdout",
       "text": [
        " 9082321 15731042 247465682405764 3.73205015941\n",
        "b"
       ]
      },
      {
       "output_type": "stream",
       "stream": "stdout",
       "text": [
        " 33895685 58709048 3446752317066304 3.73205098124\n",
        "a"
       ]
      },
      {
       "output_type": "stream",
       "stream": "stdout",
       "text": [
        " 126500417 219105150 48007066756522500 3.73205076103\n"
       ]
      },
      {
       "metadata": {},
       "output_type": "pyout",
       "prompt_number": 3,
       "text": [
        "518408346"
       ]
      }
     ],
     "prompt_number": 3
    },
    {
     "cell_type": "code",
     "collapsed": false,
     "input": [
      "# problem 95\n",
      "# ideas taken from problem 21, 12\n",
      "# but made a divisor sum generator\n",
      "\n",
      "# not used\n",
      "def divsumgen(n):\n",
      "    # primes are zero\n",
      "    primes = [0] + [0, 2] * ((n+1) / 2)\n",
      "    \n",
      "    yield 1\n",
      "    yield 1\n",
      "    for i in xrange(3, n+1):\n",
      "        if primes[i]: yield primes[i] + 1\n",
      "        else: yield 1 # primes\n",
      "        \n",
      "        for j in xrange(i*2, n+1, i):\n",
      "            primes[j] += i\n",
      "    print primes\n",
      "\n",
      "def divsum(n):\n",
      "    # primes are zero\n",
      "    sod = [0, 0, 0] + [0, 2] * ((n) / 2)\n",
      "    for i in xrange(3, n+1):\n",
      "        for j in xrange(i*2, n+1, i):\n",
      "            sod[j] += i\n",
      "    \n",
      "    # iterate through numbers\n",
      "    length, amiable = 0, []\n",
      "    for i in xrange(1, n+1):\n",
      "        \n",
      "        # if not prime\n",
      "        if sod[i]:\n",
      "            # j is sod\n",
      "            j = sod[i] + 1\n",
      "            cyclets = 0\n",
      "            chain = [i]\n",
      "            # break if prime\n",
      "            while j != 1:                \n",
      "                # break if too many cycles\n",
      "                cyclets += 1\n",
      "                if cyclets > 100: \n",
      "                    print \"cyclets\"\n",
      "                    print i, sod[i]+1, j\n",
      "                    print chain\n",
      "                    break\n",
      "                \n",
      "                # break if too large\n",
      "                if j > n: break\n",
      "                \n",
      "                # break if prime\n",
      "                if j == 1:\n",
      "                    print \"prime\"\n",
      "                    print i, sod[i]+1, j\n",
      "                    break\n",
      "                \n",
      "                chain.append(j)\n",
      "                j = sod[j] + 1\n",
      "                \n",
      "                # break if j is = sod[j] + 1\n",
      "                if j == chain[-1]: break\n",
      "                elif j == chain[-2]: break\n",
      "                elif j in chain:               \n",
      "                    # check amiable\n",
      "                    if j == i:\n",
      "                        if len(chain) > length:\n",
      "                            length = len(chain)\n",
      "                            amiable = chain\n",
      "                            #print \"chain\", length, amiable\n",
      "                        for link in chain:\n",
      "                            sod[link] = 0\n",
      "                        break\n",
      "                    else: break\n",
      "    \n",
      "    #print length, min(amiable), amiable\n",
      "    return min(amiable)\n",
      "\n",
      "divsum(1000000)"
     ],
     "language": "python",
     "metadata": {},
     "outputs": [
      {
       "metadata": {},
       "output_type": "pyout",
       "prompt_number": 30,
       "text": [
        "14316"
       ]
      }
     ],
     "prompt_number": 30
    },
    {
     "cell_type": "code",
     "collapsed": false,
     "input": [
      "%%timeit\n",
      "divsum(1000000)"
     ],
     "language": "python",
     "metadata": {},
     "outputs": [
      {
       "output_type": "stream",
       "stream": "stdout",
       "text": [
        "1 loops, best of 3: 15.1 s per loop\n"
       ]
      }
     ],
     "prompt_number": 27
    },
    {
     "cell_type": "code",
     "collapsed": false,
     "input": [
      "# problem 96\n",
      "# sudoku\n",
      "\n",
      "def sudoku():\n",
      "    \n",
      "    # read file and call solver()\n",
      "    with open('096_sudoku.txt') as f:\n",
      "        i = 0\n",
      "        sudcount = 0\n",
      "        sud = []\n",
      "        for line in f.readlines():\n",
      "            if i % 10:\n",
      "                sud.append(list(line.rstrip()))\n",
      "            else:\n",
      "                if sud:\n",
      "                    sudcount += 1\n",
      "                    solver(sud)\n",
      "                    return\n",
      "                sud = []\n",
      "            i += 1\n",
      "        sudcount += 1\n",
      "        solver(sud)\n",
      "    return sudcount\n",
      "\n",
      "def solver(sud):\n",
      "    s = np.array(sud, dtype=int)\n",
      "    print s\n",
      "    \n",
      "    print s[:3,0:3]\n",
      "    r, c = 0,1\n",
      "    print s[r]\n",
      "    print s[:,c]\n",
      "#     print s[:3,3:6]\n",
      "#     print s[:3,6:9]\n",
      "#     print s[3:6,0:3]\n",
      "#     print s[3:6,3:6]\n",
      "#     print s[3:6,6:9]\n",
      "#     print s[6:,0:3]\n",
      "#     print s[6:,3:6]\n",
      "#     print s[6:,6:9]\n",
      "    \n"
     ],
     "language": "python",
     "metadata": {},
     "outputs": [],
     "prompt_number": 2
    },
    {
     "cell_type": "code",
     "collapsed": false,
     "input": [
      "sc = sudoku()"
     ],
     "language": "python",
     "metadata": {},
     "outputs": [
      {
       "output_type": "stream",
       "stream": "stdout",
       "text": [
        "[[0 0 3 0 2 0 6 0 0]\n",
        " [9 0 0 3 0 5 0 0 1]\n",
        " [0 0 1 8 0 6 4 0 0]\n",
        " [0 0 8 1 0 2 9 0 0]\n",
        " [7 0 0 0 0 0 0 0 8]\n",
        " [0 0 6 7 0 8 2 0 0]\n",
        " [0 0 2 6 0 9 5 0 0]\n",
        " [8 0 0 2 0 3 0 0 9]\n",
        " [0 0 5 0 1 0 3 0 0]]\n",
        "[[0 0 3]\n",
        " [9 0 0]\n",
        " [0 0 1]]\n",
        "[0 0 3 0 2 0 6 0 0]\n",
        "[0 0 0 0 0 0 0 0 0]\n"
       ]
      }
     ],
     "prompt_number": 94
    },
    {
     "cell_type": "code",
     "collapsed": false,
     "input": [
      "sc"
     ],
     "language": "python",
     "metadata": {},
     "outputs": [
      {
       "metadata": {},
       "output_type": "pyout",
       "prompt_number": 43,
       "text": [
        "50"
       ]
      }
     ],
     "prompt_number": 43
    },
    {
     "cell_type": "code",
     "collapsed": false,
     "input": [],
     "language": "python",
     "metadata": {},
     "outputs": []
    },
    {
     "cell_type": "code",
     "collapsed": false,
     "input": [
      "# problem 97\n",
      "# 28433\u00d72**7830457+1\n",
      "\n",
      "x = 2**7830457\n",
      "x = x*28433 + 1\n",
      "y = x % 10000000000\n",
      "print y"
     ],
     "language": "python",
     "metadata": {},
     "outputs": [
      {
       "output_type": "stream",
       "stream": "stdout",
       "text": [
        "8739992577\n"
       ]
      }
     ],
     "prompt_number": 1
    },
    {
     "cell_type": "code",
     "collapsed": false,
     "input": [
      "# problem 98\n",
      "\n",
      "def anagramize(strofchar):\n",
      "    d = defaultdict(int)\n",
      "    for c in strofchar:\n",
      "        d[c] += 1\n",
      "    return d.items()\n",
      "\n",
      "def anagram_finder():\n",
      "    with open('098_words.txt') as f:\n",
      "        for line in f:\n",
      "            words = line.split(\"\\\",\\\"\")\n",
      "            words[0] = words[0][1:]\n",
      "            words[-1] = words[-1][:-1]\n",
      "    # print len(words)\n",
      "\n",
      "    # d sorts words into a dictionary with length keys\n",
      "    d = defaultdict(list)\n",
      "    for w in words:\n",
      "        d[len(w)].append(w)\n",
      "\n",
      "    # find anagram word pairs\n",
      "    # ag is dict of \n",
      "    # i is length of words\n",
      "    ag = defaultdict(list)\n",
      "    for i in d:\n",
      "        words = d[i]\n",
      "        sets = map(anagramize, words)\n",
      "        \n",
      "        # iterate through words\n",
      "        while words:\n",
      "            w, words = words[0], words[1:]\n",
      "            s, sets = sets[0], sets[1:]\n",
      "\n",
      "            # search for congruent char sets\n",
      "            anagrams = [w]\n",
      "            jtmp = []\n",
      "            for j in xrange(len(sets)):\n",
      "                # if anagram\n",
      "                if sets[j] == s:\n",
      "                    anagrams.append(words[j])\n",
      "                    jtmp.append(j)\n",
      "\n",
      "            # remove anagrams\n",
      "            for j in jtmp:\n",
      "                words = words[:j] + words[j+1:]\n",
      "                sets = sets[:j] + sets[j+1:]\n",
      "\n",
      "            # save anagrams\n",
      "            if len(anagrams) > 1:\n",
      "                ag[-i].append(anagrams)\n",
      "\n",
      "    return ag\n",
      "\n",
      "def squaregen(a, b):\n",
      "    for j in xrange(b, a-1, -1):\n",
      "        yield j*j\n",
      "\n",
      "def squarenum():\n",
      "    ag = anagram_finder()\n",
      "    for i in ag:\n",
      "        # get squares that work\n",
      "        print -i\n",
      "        a = int(10**((-i-1)/2.))\n",
      "        b = int(10**((-i)/2.))\n",
      "        if i % 2 == 0:\n",
      "            a += 1\n",
      "            b -= 1\n",
      "        squares = defaultdict(list)\n",
      "        for j in xrange(a, b+1):\n",
      "            jj = str(j*j)\n",
      "            squares[len(jj)].append(jj)\n",
      "        \n",
      "        for pair in ag[i]:\n",
      "            # match is the sorted count/values of anagramize'd letters\n",
      "            match = sorted(anagramize(pair[0]).values())\n",
      "            print pair, match\n",
      "            \n",
      "            # square is str squares\n",
      "            square = squares[-i]\n",
      "            \n",
      "            # sq is list of anagramize'd numbers\n",
      "            sq = map(anagramize, square)\n",
      "            \n",
      "            # search sq for a match to match\n",
      "            indexes = []\n",
      "            for j in xrange(len(square)):\n",
      "                if sorted(sq[j].values()) == match:\n",
      "                    indexes.append(j)\n",
      "            \n",
      "            # sort sq[indexes] with regards to same anagramize'd defaultdict\n",
      "            same = defaultdict(list)\n",
      "            for j in indexes:\n",
      "                same[tuple(sq[j])].append(square[j])\n",
      "            \n",
      "            for s in same:\n",
      "                print s, same[s]\n",
      "        break"
     ],
     "language": "python",
     "metadata": {},
     "outputs": [],
     "prompt_number": 167
    },
    {
     "cell_type": "code",
     "collapsed": false,
     "input": [
      "squarenum()"
     ],
     "language": "python",
     "metadata": {},
     "outputs": [
      {
       "output_type": "stream",
       "stream": "stdout",
       "text": [
        "[('A', 1)]\n",
        "[('I', 1)]\n",
        "[[('A', 1)], [('I', 1)]]\n"
       ]
      },
      {
       "ename": "TypeError",
       "evalue": "'NoneType' object is not iterable",
       "output_type": "pyerr",
       "traceback": [
        "\u001b[0;31m---------------------------------------------------------------------------\u001b[0m\n\u001b[0;31mTypeError\u001b[0m                                 Traceback (most recent call last)",
        "\u001b[0;32m<ipython-input-168-1c2a4952ac25>\u001b[0m in \u001b[0;36m<module>\u001b[0;34m()\u001b[0m\n\u001b[0;32m----> 1\u001b[0;31m \u001b[0msquarenum\u001b[0m\u001b[0;34m(\u001b[0m\u001b[0;34m)\u001b[0m\u001b[0;34m\u001b[0m\u001b[0m\n\u001b[0m",
        "\u001b[0;32m<ipython-input-167-ea2c9e9ee910>\u001b[0m in \u001b[0;36msquarenum\u001b[0;34m()\u001b[0m\n\u001b[1;32m     58\u001b[0m \u001b[0;32mdef\u001b[0m \u001b[0msquarenum\u001b[0m\u001b[0;34m(\u001b[0m\u001b[0;34m)\u001b[0m\u001b[0;34m:\u001b[0m\u001b[0;34m\u001b[0m\u001b[0m\n\u001b[1;32m     59\u001b[0m     \u001b[0mag\u001b[0m \u001b[0;34m=\u001b[0m \u001b[0managram_finder\u001b[0m\u001b[0;34m(\u001b[0m\u001b[0;34m)\u001b[0m\u001b[0;34m\u001b[0m\u001b[0m\n\u001b[0;32m---> 60\u001b[0;31m     \u001b[0;32mfor\u001b[0m \u001b[0mi\u001b[0m \u001b[0;32min\u001b[0m \u001b[0mag\u001b[0m\u001b[0;34m:\u001b[0m\u001b[0;34m\u001b[0m\u001b[0m\n\u001b[0m\u001b[1;32m     61\u001b[0m         \u001b[0;31m# get squares that work\u001b[0m\u001b[0;34m\u001b[0m\u001b[0;34m\u001b[0m\u001b[0m\n\u001b[1;32m     62\u001b[0m         \u001b[0;32mprint\u001b[0m \u001b[0;34m-\u001b[0m\u001b[0mi\u001b[0m\u001b[0;34m\u001b[0m\u001b[0m\n",
        "\u001b[0;31mTypeError\u001b[0m: 'NoneType' object is not iterable"
       ]
      }
     ],
     "prompt_number": 168
    },
    {
     "cell_type": "code",
     "collapsed": false,
     "input": [
      "%%timeit\n",
      "squarenum()"
     ],
     "language": "python",
     "metadata": {},
     "outputs": [
      {
       "output_type": "stream",
       "stream": "stdout",
       "text": [
        "10 loops, best of 3: 35.3 ms per loop\n"
       ]
      }
     ],
     "prompt_number": 61
    },
    {
     "cell_type": "code",
     "collapsed": false,
     "input": [
      "# problem 99\n",
      "# use logs\n",
      "\n",
      "def largestexp(fn = '099_base_exp.txt'):\n",
      "    max_loc_log_a_b = (0, 0, 0, 0)\n",
      "    loc = 0\n",
      "    with open(fn, 'r') as f:\n",
      "        for line in f.readlines():\n",
      "            loc += 1\n",
      "            a, b = map(int, line.rstrip().split(','))\n",
      "            total = b*log10(a)\n",
      "            if total == max_loc_log_a_b[1]:\n",
      "                print 'WARNING'\n",
      "                print loc, total, a, b\n",
      "            elif total > max_loc_log_a_b[1]:\n",
      "                max_loc_log_a_b = (loc, total, a, b)\n",
      "    print max_loc_log_a_b\n",
      "largestexp()"
     ],
     "language": "python",
     "metadata": {},
     "outputs": [
      {
       "output_type": "stream",
       "stream": "stdout",
       "text": [
        "(709, 3005315.8832111973, 895447, 504922)\n"
       ]
      }
     ],
     "prompt_number": 14
    },
    {
     "cell_type": "code",
     "collapsed": false,
     "input": [
      "# problem 100\n",
      "# solve pell's equation\n",
      "# x = 2*n - 1, y = 2*B - 1, D = 2\n",
      "# \u221a2 = [1;(2)], period=1\n",
      "# ie, a0 = 1, an = 2\n",
      "# remember recurrance \n",
      "# http://mathworld.wolfram.com/PellEquation.html\n",
      "\n",
      "def pells_prob():\n",
      "    a0, a1, an = 1, 2, 2\n",
      "\n",
      "    p = [a0, a0*a1 + 1]\n",
      "    q = [1, a1]\n",
      "    count = 2\n",
      "    while count < 100:\n",
      "        p.append(an*p[count-1] + p[count-2])\n",
      "        q.append(an*q[count-1] + q[count-2])\n",
      "\n",
      "        count += 1\n",
      "\n",
      "        n = (p[-1] + 1) / 2\n",
      "        B = (q[-1] + 1) / 2\n",
      "        if n > 1e12:\n",
      "            print B, n, count\n",
      "            return\n",
      "\n",
      "pells_prob()"
     ],
     "language": "python",
     "metadata": {},
     "outputs": [
      {
       "output_type": "stream",
       "stream": "stdout",
       "text": [
        "756872327473 1070379110497 33\n"
       ]
      }
     ],
     "prompt_number": 11
    },
    {
     "cell_type": "code",
     "collapsed": false,
     "input": [],
     "language": "python",
     "metadata": {},
     "outputs": []
    },
    {
     "cell_type": "code",
     "collapsed": false,
     "input": [],
     "language": "python",
     "metadata": {},
     "outputs": []
    }
   ],
   "metadata": {}
  }
 ]
}