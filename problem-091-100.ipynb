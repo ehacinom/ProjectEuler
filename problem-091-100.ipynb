{
 "metadata": {
  "name": "",
  "signature": "sha256:90e159470d98b7d6beba8456e09ede1c34e6c6f1aa1925d090ef7346e8a851a6"
 },
 "nbformat": 3,
 "nbformat_minor": 0,
 "worksheets": [
  {
   "cells": [
    {
     "cell_type": "code",
     "collapsed": false,
     "input": [
      "from math import sqrt\n",
      "import numpy as np\n",
      "from collections import defaultdict\n",
      "from itertools import combinations, combinations_with_replacement, permutations\n",
      "import operator as op\n",
      "import dlx"
     ],
     "language": "python",
     "metadata": {},
     "outputs": [],
     "prompt_number": 1
    },
    {
     "cell_type": "code",
     "collapsed": false,
     "input": [
      "# problem 91\n",
      "\n",
      "def righttriangles(n = 2):\n",
      "    ranger = range(n+1)\n",
      "    points = []\n",
      "    for x in ranger:\n",
      "        for y in ranger:\n",
      "            points.append((x, y))\n",
      "    points.remove((0,0))\n",
      "    \n",
      "#     # test\n",
      "#     known = [((0, 1), (1, 0)), ((0, 1), (1, 1)), ((0, 1), (2, 0)), ((0, 1), (2, 1)),\n",
      "#              ((0, 2), (1, 0)), ((0, 2), (1, 1)), ((0, 2), (1, 2)), ((0, 2), (2, 0)),\n",
      "#              ((0, 2), (2, 2)), ((1, 0), (1, 1)), ((1, 0), (2, 0)), ((1, 1), (2, 0)), \n",
      "#              ((2, 0), (2, 2))]\n",
      "    \n",
      "    count = 0\n",
      "    for p in combinations(points, 2):\n",
      "        ((x1, y1), (x2, y2)) = p\n",
      "        \n",
      "        # distance squared\n",
      "        a = x1*x1 + y1*y1\n",
      "        b = x2*x2 + y2*y2\n",
      "        c = a + b - 2*x1*x2 - 2*y1*y2 \n",
      "\n",
      "#         # test\n",
      "#         if p in known:\n",
      "#             print 'known', p\n",
      "#             print a, b, c\n",
      "        \n",
      "        if (a + b == c) | (a + c == b) | (b + c == a):\n",
      "            count += 1\n",
      "    return count\n",
      "    \n",
      "righttriangles(50)"
     ],
     "language": "python",
     "metadata": {},
     "outputs": [
      {
       "metadata": {},
       "output_type": "pyout",
       "prompt_number": 2,
       "text": [
        "14234"
       ]
      }
     ],
     "prompt_number": 2
    },
    {
     "cell_type": "code",
     "collapsed": false,
     "input": [
      "# problem 92\n",
      "# much better to do with array < 600\n",
      "# since 9,999,999 --> 567\n",
      "\n",
      "def squaredigit(end = 100):\n",
      "    d = [i*i for i in xrange(10)]\n",
      "    arrend = ( (9**2) * (len(str(end))-1) ) + 1\n",
      "    array = [0] * arrend\n",
      "    array[1] = 1\n",
      "    array[89] = 89\n",
      "    \n",
      "    # set up array of 1-89\n",
      "    for n in xrange(2, arrend):\n",
      "        if array[n]: continue\n",
      "        notFinished = True\n",
      "        arr = [n]\n",
      "        j = n\n",
      "        while notFinished: \n",
      "            k = map(int, str(j))\n",
      "            j = sum([d[i] for i in k])\n",
      "            if array[j]:\n",
      "                for k in arr:\n",
      "                    array[k] = array[j]\n",
      "                    notFinished = False\n",
      "            else:\n",
      "                arr.append(j)\n",
      "    \n",
      "    # count\n",
      "    ones, nines = 0, 0\n",
      "    for i in array:\n",
      "        if i == 1: ones += 1\n",
      "        elif i == 89: nines += 1\n",
      "    \n",
      "    # do the rest of the numbers\n",
      "    for n in xrange(arrend, end):\n",
      "        j = 0\n",
      "        while n:\n",
      "            j += (n%10) * (n%10)\n",
      "            n /= 10\n",
      "        if array[j] == 1: ones += 1\n",
      "        else: nines += 1\n",
      "    \n",
      "    return ones, nines"
     ],
     "language": "python",
     "metadata": {},
     "outputs": [],
     "prompt_number": 17
    },
    {
     "cell_type": "code",
     "collapsed": false,
     "input": [
      "squaredigit(10000000)"
     ],
     "language": "python",
     "metadata": {},
     "outputs": [
      {
       "metadata": {},
       "output_type": "pyout",
       "prompt_number": 22,
       "text": [
        "(1418853, 8581146)"
       ]
      }
     ],
     "prompt_number": 22
    },
    {
     "cell_type": "code",
     "collapsed": false,
     "input": [
      "%%timeit\n",
      "squaredigit(10000000)"
     ],
     "language": "python",
     "metadata": {},
     "outputs": [
      {
       "output_type": "stream",
       "stream": "stdout",
       "text": [
        "1 loops, best of 3: 20.8 s per loop\n"
       ]
      }
     ],
     "prompt_number": 21
    },
    {
     "cell_type": "code",
     "collapsed": false,
     "input": [
      "# problem 93\n",
      "    \n",
      "def arith():\n",
      "    # operators\n",
      "    oplist = set()\n",
      "    ops = [op.mul, op.div, op.add, op.sub]\n",
      "    for c in combinations_with_replacement(ops, 3):\n",
      "        for p in permutations(c):\n",
      "            oplist.add(p)\n",
      "    \n",
      "    # save\n",
      "    ns, abcds, listos = 0, tuple(), []\n",
      "    \n",
      "    # digit sets\n",
      "    for abcd in combinations(np.arange(1,10,1.0), 4):\n",
      "        listo = set([])\n",
      "        # permutations of abcd\n",
      "        for p in permutations(abcd):\n",
      "            # permutations of three operators\n",
      "            for ol in oplist:\n",
      "                # different parentheticals\n",
      "                paren = [ol[1](ol[0](p[0], p[1]), ol[2](p[2], p[3])), \n",
      "                         ol[2](ol[1](ol[0](p[0], p[1]), p[2]), p[3]), \n",
      "                         ol[2](ol[0](p[0], ol[1](p[1], p[2])), p[3]), \n",
      "                         ol[0](p[0], ol[2](ol[1](p[1], p[2]), p[3])),\n",
      "                         ol[0](p[0], ol[1](p[1], ol[2](p[2], p[3])))]\n",
      "\n",
      "                for target in paren:\n",
      "                    if target > 0:\n",
      "                        if target != float(\"inf\"):\n",
      "                            if not target - int(target):\n",
      "                                listo.add(int(target))\n",
      "        \n",
      "        # save\n",
      "        listo = sorted(list(listo))\n",
      "        for i in xrange(len(listo)):\n",
      "            if i + 1 != listo[i]:\n",
      "                if i > ns:\n",
      "                    ns = i\n",
      "                    abcds = abcd\n",
      "                    listos = listo\n",
      "                break\n",
      "        \n",
      "    return ns, ''.join(map(str, map(int, abcds)))\n",
      "    \n",
      "arith()"
     ],
     "language": "python",
     "metadata": {},
     "outputs": [
      {
       "output_type": "stream",
       "stream": "stderr",
       "text": [
        "-c:25: RuntimeWarning: divide by zero encountered in double_scalars\n",
        "-c:26: RuntimeWarning: divide by zero encountered in double_scalars\n"
       ]
      },
      {
       "metadata": {},
       "output_type": "pyout",
       "prompt_number": 2,
       "text": [
        "(51, '1258')"
       ]
      }
     ],
     "prompt_number": 2
    },
    {
     "cell_type": "code",
     "collapsed": false,
     "input": [
      "# problem 94\n",
      "\n",
      "def isqrt(n):\n",
      "    # http://stackoverflow.com/questions/15390807\n",
      "    x = n\n",
      "    y = (x + 1) // 2\n",
      "    while y < x:\n",
      "        x = y\n",
      "        y = (x + n // x) // 2\n",
      "    return x\n",
      "\n",
      "def perimeter(n=50000):\n",
      "    peri = 0\n",
      "    end = n / 3 + 1\n",
      "    square = 1\n",
      "    \n",
      "    stores = 1.\n",
      "    store = []\n",
      "    s = 2\n",
      "    ab = True # a = False or b = True\n",
      "    while s < end:\n",
      "        if ab: # b\n",
      "            a = 3*s*s - 2*s - 1\n",
      "        else: # a\n",
      "            a = 3*s*s + 2*s - 1\n",
      "        \n",
      "        i = isqrt(a)\n",
      "        \n",
      "        if a == i*i:\n",
      "            if ab: # b\n",
      "                if not i * (s+1) % 4:\n",
      "                    print 'b', s, i, a, s/stores\n",
      "                    stores = float(s)\n",
      "                    peri += (3*s + 1)\n",
      "                    ab = not (ab)\n",
      "                    \n",
      "                    if s < 500: s *= 3\n",
      "                    else:  s = int(s*3.73)\n",
      "                    continue\n",
      "            else: # a\n",
      "                if not i * (s-1) % 4:\n",
      "                    print 'a', s, i, a, s/stores\n",
      "                    stores = float(s)\n",
      "                    peri += (3*s - 1)\n",
      "                    ab = not (ab)\n",
      "                    \n",
      "                    if s < 500: s *= 3\n",
      "                    else: s = int(s*3.73)\n",
      "                    continue\n",
      "        s += 1\n",
      "    \n",
      "    return peri"
     ],
     "language": "python",
     "metadata": {},
     "outputs": [],
     "prompt_number": 2
    },
    {
     "cell_type": "code",
     "collapsed": false,
     "input": [
      "perimeter(1000000000)"
     ],
     "language": "python",
     "metadata": {},
     "outputs": [
      {
       "output_type": "stream",
       "stream": "stdout",
       "text": [
        "b 5 8 64 5.0\n",
        "a 17 30 900 3.4\n",
        "b 65 112 12544 3.82352941176\n",
        "a 241 418 174724 3.70769230769\n",
        "b 901 1560 2433600 3.73858921162\n",
        "a 3361 5822 33895684 3.73029966704\n",
        "b 12545 21728 472105984 3.73252008331\n",
        "a 46817 81090 6575588100 3.73192506975\n",
        "b 174725 302632 91586127424 3.73208449922\n",
        "a 652081 1129438 1275630195844 3.73204177994\n",
        "b 2433601 4215120 17767236614400 3.73205322652\n",
        "a"
       ]
      },
      {
       "output_type": "stream",
       "stream": "stdout",
       "text": [
        " 9082321 15731042 247465682405764 3.73205015941\n",
        "b"
       ]
      },
      {
       "output_type": "stream",
       "stream": "stdout",
       "text": [
        " 33895685 58709048 3446752317066304 3.73205098124\n",
        "a"
       ]
      },
      {
       "output_type": "stream",
       "stream": "stdout",
       "text": [
        " 126500417 219105150 48007066756522500 3.73205076103\n"
       ]
      },
      {
       "metadata": {},
       "output_type": "pyout",
       "prompt_number": 3,
       "text": [
        "518408346"
       ]
      }
     ],
     "prompt_number": 3
    },
    {
     "cell_type": "code",
     "collapsed": false,
     "input": [
      "# problem 95\n",
      "# ideas taken from problem 21, 12\n",
      "# but made a divisor sum generator\n",
      "\n",
      "# not used\n",
      "def divsumgen(n):\n",
      "    # primes are zero\n",
      "    primes = [0] + [0, 2] * ((n+1) / 2)\n",
      "    \n",
      "    yield 1\n",
      "    yield 1\n",
      "    for i in xrange(3, n+1):\n",
      "        if primes[i]: yield primes[i] + 1\n",
      "        else: yield 1 # primes\n",
      "        \n",
      "        for j in xrange(i*2, n+1, i):\n",
      "            primes[j] += i\n",
      "    print primes\n",
      "\n",
      "def divsum(n):\n",
      "    # primes are zero\n",
      "    sod = [0, 0, 0] + [0, 2] * ((n) / 2)\n",
      "    for i in xrange(3, n+1):\n",
      "        for j in xrange(i*2, n+1, i):\n",
      "            sod[j] += i\n",
      "    \n",
      "    # iterate through numbers\n",
      "    length, amiable = 0, []\n",
      "    for i in xrange(1, n+1):\n",
      "        \n",
      "        # if not prime\n",
      "        if sod[i]:\n",
      "            # j is sod\n",
      "            j = sod[i] + 1\n",
      "            cyclets = 0\n",
      "            chain = [i]\n",
      "            # break if prime\n",
      "            while j != 1:                \n",
      "                # break if too many cycles\n",
      "                cyclets += 1\n",
      "                if cyclets > 100: \n",
      "                    print \"cyclets\"\n",
      "                    print i, sod[i]+1, j\n",
      "                    print chain\n",
      "                    break\n",
      "                \n",
      "                # break if too large\n",
      "                if j > n: break\n",
      "                \n",
      "                # break if prime\n",
      "                if j == 1:\n",
      "                    print \"prime\"\n",
      "                    print i, sod[i]+1, j\n",
      "                    break\n",
      "                \n",
      "                chain.append(j)\n",
      "                j = sod[j] + 1\n",
      "                \n",
      "                # break if j is = sod[j] + 1\n",
      "                if j == chain[-1]: break\n",
      "                elif j == chain[-2]: break\n",
      "                elif j in chain:               \n",
      "                    # check amiable\n",
      "                    if j == i:\n",
      "                        if len(chain) > length:\n",
      "                            length = len(chain)\n",
      "                            amiable = chain\n",
      "                            #print \"chain\", length, amiable\n",
      "                        for link in chain:\n",
      "                            sod[link] = 0\n",
      "                        break\n",
      "                    else: break\n",
      "    \n",
      "    #print length, min(amiable), amiable\n",
      "    return min(amiable)\n",
      "\n",
      "divsum(1000000)"
     ],
     "language": "python",
     "metadata": {},
     "outputs": [
      {
       "metadata": {},
       "output_type": "pyout",
       "prompt_number": 30,
       "text": [
        "14316"
       ]
      }
     ],
     "prompt_number": 30
    },
    {
     "cell_type": "code",
     "collapsed": false,
     "input": [
      "%%timeit\n",
      "divsum(1000000)"
     ],
     "language": "python",
     "metadata": {},
     "outputs": [
      {
       "output_type": "stream",
       "stream": "stdout",
       "text": [
        "1 loops, best of 3: 15.1 s per loop\n"
       ]
      }
     ],
     "prompt_number": 27
    },
    {
     "cell_type": "code",
     "collapsed": false,
     "input": [
      "# problem 96\n",
      "# sudoku\n",
      "\n",
      "def sudoku():\n",
      "    \n",
      "    # read file and call solver()\n",
      "    with open('096_sudoku.txt') as f:\n",
      "        i = 0\n",
      "        sudcount = 0\n",
      "        sud = []\n",
      "        for line in f.readlines():\n",
      "            if i % 10:\n",
      "                sud.append(list(line.rstrip()))\n",
      "            else:\n",
      "                if sud:\n",
      "                    sudcount += 1\n",
      "                    solver(sud)\n",
      "                    return\n",
      "                sud = []\n",
      "            i += 1\n",
      "        sudcount += 1\n",
      "        solver(sud)\n",
      "    return sudcount\n",
      "\n",
      "def solver(sud):\n",
      "    s = np.array(sud, dtype=int)\n",
      "    print s\n",
      "    \n",
      "    print s[:3,0:3]\n",
      "    r, c = 0,1\n",
      "    print s[r]\n",
      "    print s[:,c]\n",
      "#     print s[:3,3:6]\n",
      "#     print s[:3,6:9]\n",
      "#     print s[3:6,0:3]\n",
      "#     print s[3:6,3:6]\n",
      "#     print s[3:6,6:9]\n",
      "#     print s[6:,0:3]\n",
      "#     print s[6:,3:6]\n",
      "#     print s[6:,6:9]\n",
      "    \n"
     ],
     "language": "python",
     "metadata": {},
     "outputs": [],
     "prompt_number": 2
    },
    {
     "cell_type": "code",
     "collapsed": false,
     "input": [
      "sc = sudoku()"
     ],
     "language": "python",
     "metadata": {},
     "outputs": [
      {
       "output_type": "stream",
       "stream": "stdout",
       "text": [
        "[[0 0 3 0 2 0 6 0 0]\n",
        " [9 0 0 3 0 5 0 0 1]\n",
        " [0 0 1 8 0 6 4 0 0]\n",
        " [0 0 8 1 0 2 9 0 0]\n",
        " [7 0 0 0 0 0 0 0 8]\n",
        " [0 0 6 7 0 8 2 0 0]\n",
        " [0 0 2 6 0 9 5 0 0]\n",
        " [8 0 0 2 0 3 0 0 9]\n",
        " [0 0 5 0 1 0 3 0 0]]\n",
        "[[0 0 3]\n",
        " [9 0 0]\n",
        " [0 0 1]]\n",
        "[0 0 3 0 2 0 6 0 0]\n",
        "[0 0 0 0 0 0 0 0 0]\n"
       ]
      }
     ],
     "prompt_number": 94
    },
    {
     "cell_type": "code",
     "collapsed": false,
     "input": [
      "sc"
     ],
     "language": "python",
     "metadata": {},
     "outputs": [
      {
       "metadata": {},
       "output_type": "pyout",
       "prompt_number": 43,
       "text": [
        "50"
       ]
      }
     ],
     "prompt_number": 43
    },
    {
     "cell_type": "code",
     "collapsed": false,
     "input": [],
     "language": "python",
     "metadata": {},
     "outputs": []
    },
    {
     "cell_type": "code",
     "collapsed": false,
     "input": [],
     "language": "python",
     "metadata": {},
     "outputs": []
    },
    {
     "cell_type": "code",
     "collapsed": false,
     "input": [],
     "language": "python",
     "metadata": {},
     "outputs": []
    },
    {
     "cell_type": "code",
     "collapsed": false,
     "input": [],
     "language": "python",
     "metadata": {},
     "outputs": []
    },
    {
     "cell_type": "code",
     "collapsed": false,
     "input": [],
     "language": "python",
     "metadata": {},
     "outputs": []
    },
    {
     "cell_type": "code",
     "collapsed": false,
     "input": [],
     "language": "python",
     "metadata": {},
     "outputs": []
    },
    {
     "cell_type": "code",
     "collapsed": false,
     "input": [
      "# problem 99\n",
      "# divisors from problem 12, 21, 88\n",
      "\n",
      "def sievegen(n):\n",
      "    yield 2\n",
      "    primes = [True] * (n+1)\n",
      "    for i in xrange(3, n+1, 2):\n",
      "        if primes[i]:\n",
      "            yield i\n",
      "            for j in xrange(i*i, n+1, 2*i):\n",
      "                primes[j] = False\n",
      "\n",
      "def factorlist(N, primes):\n",
      "    factors = []\n",
      "    tmpN = N\n",
      "    factored = False\n",
      "\n",
      "    # prime factorization\n",
      "    for p in primes:\n",
      "        if factored: break\n",
      "        elif N == p: break\n",
      "        #elif tmpN % p != 0: break\n",
      "        if tmpN % p == 0:\n",
      "            exp = 1\n",
      "            while True: #dangerousyou\n",
      "                if N % (p**(exp+1)) == 0:\n",
      "                    exp += 1\n",
      "                    continue\n",
      "                break\n",
      "            factors.extend([p for i in xrange(exp)])\n",
      "            \n",
      "            tmpN /= p**exp\n",
      "            if tmpN == 1: factored = True\n",
      "            elif N < p: factored = True\n",
      "\n",
      "    # primes\n",
      "    if tmpN == N: return [N]\n",
      "\n",
      "    return factors\n",
      "\n",
      "def largestexp(fn = '099_base_exp.txt'):\n",
      "    num, factors = [], []\n",
      "    maxnum = 0\n",
      "    with open(fn, 'r') as f:\n",
      "        for line in f.readlines():\n",
      "            a, b = map(int, line.rstrip().split(','))\n",
      "            if a > maxnum: maxnum = a\n",
      "            if b > maxnum: maxnum = b\n",
      "            num.extend([a, b])\n",
      "    \n",
      "    #print maxnum\n",
      "    primes = list(sievegen(maxnum))\n",
      "    count = 0\n",
      "    for n in num:\n",
      "        divs = factorlist(n, primes)\n",
      "        factors.append(divs)\n",
      "        #print divs\n",
      "        #print factors\n",
      "        #count += 1\n",
      "        #if count > 100: break\n",
      "        "
     ],
     "language": "python",
     "metadata": {},
     "outputs": [],
     "prompt_number": 95
    },
    {
     "cell_type": "code",
     "collapsed": false,
     "input": [
      "%%timeit\n",
      "largestexp()"
     ],
     "language": "python",
     "metadata": {},
     "outputs": [
      {
       "output_type": "stream",
       "stream": "stdout",
       "text": [
        "1 loops, best of 3: 2 s per loop\n"
       ]
      }
     ],
     "prompt_number": 96
    },
    {
     "cell_type": "code",
     "collapsed": false,
     "input": [
      "%%timeit\n",
      "largestexp()"
     ],
     "language": "python",
     "metadata": {},
     "outputs": [
      {
       "output_type": "stream",
       "stream": "stdout",
       "text": [
        "1 loops, best of 3: 2 s per loop\n"
       ]
      }
     ],
     "prompt_number": 97
    },
    {
     "cell_type": "code",
     "collapsed": false,
     "input": [
      "primes = sievegen(12)\n",
      "factorization(12, primes)"
     ],
     "language": "python",
     "metadata": {},
     "outputs": [
      {
       "metadata": {},
       "output_type": "pyout",
       "prompt_number": 53,
       "text": [
        "[(2, 2), (3, 1)]"
       ]
      }
     ],
     "prompt_number": 53
    },
    {
     "cell_type": "code",
     "collapsed": false,
     "input": [
      "primes = sievegen(12)\n",
      "factorlist(8, primes)"
     ],
     "language": "python",
     "metadata": {},
     "outputs": [
      {
       "metadata": {},
       "output_type": "pyout",
       "prompt_number": 30,
       "text": [
        "[2, 2, 2]"
       ]
      }
     ],
     "prompt_number": 30
    },
    {
     "cell_type": "code",
     "collapsed": false,
     "input": [],
     "language": "python",
     "metadata": {},
     "outputs": []
    }
   ],
   "metadata": {}
  }
 ]
}