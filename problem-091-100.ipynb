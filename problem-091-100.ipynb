{
 "metadata": {
  "name": "",
  "signature": "sha256:37d4e6ee3e8b6e05e9e184c2f691125752bb65edd168c11c1928796f73d4d664"
 },
 "nbformat": 3,
 "nbformat_minor": 0,
 "worksheets": [
  {
   "cells": [
    {
     "cell_type": "code",
     "collapsed": false,
     "input": [
      "import math\n",
      "import numpy as np\n",
      "from collections import defaultdict\n",
      "from itertools import combinations"
     ],
     "language": "python",
     "metadata": {},
     "outputs": [],
     "prompt_number": 1
    },
    {
     "cell_type": "code",
     "collapsed": false,
     "input": [
      "# problem 91\n",
      "\n",
      "def righttriangles(n = 2):\n",
      "    ranger = range(n+1)\n",
      "    points = []\n",
      "    for x in ranger:\n",
      "        for y in ranger:\n",
      "            points.append((x, y))\n",
      "    points.remove((0,0))\n",
      "    \n",
      "#     # test\n",
      "#     known = [((0, 1), (1, 0)), ((0, 1), (1, 1)), ((0, 1), (2, 0)), ((0, 1), (2, 1)),\n",
      "#              ((0, 2), (1, 0)), ((0, 2), (1, 1)), ((0, 2), (1, 2)), ((0, 2), (2, 0)),\n",
      "#              ((0, 2), (2, 2)), ((1, 0), (1, 1)), ((1, 0), (2, 0)), ((1, 1), (2, 0)), \n",
      "#              ((2, 0), (2, 2))]\n",
      "    \n",
      "    count = 0\n",
      "    for p in combinations(points, 2):\n",
      "        ((x1, y1), (x2, y2)) = p\n",
      "        \n",
      "        # distance squared\n",
      "        a = x1*x1 + y1*y1\n",
      "        b = x2*x2 + y2*y2\n",
      "        c = a + b - 2*x1*x2 - 2*y1*y2 \n",
      "\n",
      "#         # test\n",
      "#         if p in known:\n",
      "#             print 'known', p\n",
      "#             print a, b, c\n",
      "        \n",
      "        if (a + b == c) | (a + c == b) | (b + c == a):\n",
      "            count += 1\n",
      "    return count\n",
      "        \n",
      "    \n",
      "righttriangles(50)"
     ],
     "language": "python",
     "metadata": {},
     "outputs": [
      {
       "metadata": {},
       "output_type": "pyout",
       "prompt_number": 2,
       "text": [
        "14234"
       ]
      }
     ],
     "prompt_number": 2
    },
    {
     "cell_type": "code",
     "collapsed": false,
     "input": [
      "%%timeit\n",
      "righttriangles(50)"
     ],
     "language": "python",
     "metadata": {},
     "outputs": [
      {
       "output_type": "stream",
       "stream": "stdout",
       "text": [
        "1 loops, best of 3: 2.92 s per loop\n"
       ]
      }
     ],
     "prompt_number": 3
    },
    {
     "cell_type": "code",
     "collapsed": false,
     "input": [
      "# problem 92\n",
      "\n",
      "def squaredigit(end = 100):\n",
      "    d = [i*i for i in xrange(10)]\n",
      "    ones = set([1])\n",
      "    nines = set([89])\n",
      "    for n in xrange(2, end):\n",
      "        if n in ones: continue\n",
      "        if n in nines: continue\n",
      "        notFinished = True\n",
      "        arr = [n]\n",
      "        j = n\n",
      "        while notFinished: #dangerousyou\n",
      "            if len(arr) >= 100:\n",
      "                print n, arr\n",
      "            k = map(int, str(j))\n",
      "            j = sum([d[i] for i in k])\n",
      "            if j in ones:\n",
      "                ones.update(arr)\n",
      "                notFinished = False\n",
      "            elif j in nines:\n",
      "                nines.update(arr)\n",
      "                notFinished = False\n",
      "            else:\n",
      "                arr.append(j)\n",
      "    \n",
      "    return len(ones), len(nines), ones, nines"
     ],
     "language": "python",
     "metadata": {},
     "outputs": [],
     "prompt_number": 36
    },
    {
     "cell_type": "code",
     "collapsed": false,
     "input": [
      "x = squaredigit()"
     ],
     "language": "python",
     "metadata": {},
     "outputs": [],
     "prompt_number": 37
    },
    {
     "cell_type": "code",
     "collapsed": false,
     "input": [
      "%%timeit\n",
      "squaredigit()"
     ],
     "language": "python",
     "metadata": {},
     "outputs": [
      {
       "output_type": "stream",
       "stream": "stdout",
       "text": [
        "1000 loops, best of 3: 546 \u00b5s per loop\n"
       ]
      }
     ],
     "prompt_number": 38
    },
    {
     "cell_type": "code",
     "collapsed": false,
     "input": [
      "%%timeit\n",
      "squaredigit(1000)"
     ],
     "language": "python",
     "metadata": {},
     "outputs": [
      {
       "output_type": "stream",
       "stream": "stdout",
       "text": [
        "100 loops, best of 3: 6.17 ms per loop\n"
       ]
      }
     ],
     "prompt_number": 39
    },
    {
     "cell_type": "code",
     "collapsed": false,
     "input": [
      "%%timeit\n",
      "squaredigit(10000)"
     ],
     "language": "python",
     "metadata": {},
     "outputs": [
      {
       "output_type": "stream",
       "stream": "stdout",
       "text": [
        "10 loops, best of 3: 66.9 ms per loop\n"
       ]
      }
     ],
     "prompt_number": 40
    },
    {
     "cell_type": "code",
     "collapsed": false,
     "input": [
      "%%timeit\n",
      "squaredigit(100000)"
     ],
     "language": "python",
     "metadata": {},
     "outputs": [
      {
       "output_type": "stream",
       "stream": "stdout",
       "text": [
        "1 loops, best of 3: 820 ms per loop\n"
       ]
      }
     ],
     "prompt_number": 42
    },
    {
     "cell_type": "code",
     "collapsed": false,
     "input": [
      "%%timeit\n",
      "squaredigit(1000000)"
     ],
     "language": "python",
     "metadata": {},
     "outputs": [
      {
       "output_type": "stream",
       "stream": "stdout",
       "text": [
        "1 loops, best of 3: 9.14 s per loop\n"
       ]
      }
     ],
     "prompt_number": 45
    },
    {
     "cell_type": "code",
     "collapsed": false,
     "input": [
      "x = squaredigit(10000000)"
     ],
     "language": "python",
     "metadata": {},
     "outputs": [],
     "prompt_number": 46
    },
    {
     "cell_type": "code",
     "collapsed": false,
     "input": [
      "x[0], x[1], x[0]+x[1]"
     ],
     "language": "python",
     "metadata": {},
     "outputs": [
      {
       "metadata": {},
       "output_type": "pyout",
       "prompt_number": 47,
       "text": [
        "(1418853, 8581146, 9999999)"
       ]
      }
     ],
     "prompt_number": 47
    },
    {
     "cell_type": "code",
     "collapsed": false,
     "input": [],
     "language": "python",
     "metadata": {},
     "outputs": []
    }
   ],
   "metadata": {}
  }
 ]
}