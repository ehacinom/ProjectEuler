{
 "metadata": {
  "name": "",
  "signature": "sha256:489f0e63b151ce65f8313f4000e9756515f302a561351ad91a08f2d4f2e25995"
 },
 "nbformat": 3,
 "nbformat_minor": 0,
 "worksheets": [
  {
   "cells": [
    {
     "cell_type": "code",
     "collapsed": false,
     "input": [
      "from math import sqrt\n",
      "import numpy as np\n",
      "from collections import defaultdict\n",
      "from itertools import combinations"
     ],
     "language": "python",
     "metadata": {},
     "outputs": [],
     "prompt_number": 1
    },
    {
     "cell_type": "code",
     "collapsed": false,
     "input": [
      "# problem 91\n",
      "\n",
      "def righttriangles(n = 2):\n",
      "    ranger = range(n+1)\n",
      "    points = []\n",
      "    for x in ranger:\n",
      "        for y in ranger:\n",
      "            points.append((x, y))\n",
      "    points.remove((0,0))\n",
      "    \n",
      "#     # test\n",
      "#     known = [((0, 1), (1, 0)), ((0, 1), (1, 1)), ((0, 1), (2, 0)), ((0, 1), (2, 1)),\n",
      "#              ((0, 2), (1, 0)), ((0, 2), (1, 1)), ((0, 2), (1, 2)), ((0, 2), (2, 0)),\n",
      "#              ((0, 2), (2, 2)), ((1, 0), (1, 1)), ((1, 0), (2, 0)), ((1, 1), (2, 0)), \n",
      "#              ((2, 0), (2, 2))]\n",
      "    \n",
      "    count = 0\n",
      "    for p in combinations(points, 2):\n",
      "        ((x1, y1), (x2, y2)) = p\n",
      "        \n",
      "        # distance squared\n",
      "        a = x1*x1 + y1*y1\n",
      "        b = x2*x2 + y2*y2\n",
      "        c = a + b - 2*x1*x2 - 2*y1*y2 \n",
      "\n",
      "#         # test\n",
      "#         if p in known:\n",
      "#             print 'known', p\n",
      "#             print a, b, c\n",
      "        \n",
      "        if (a + b == c) | (a + c == b) | (b + c == a):\n",
      "            count += 1\n",
      "    return count\n",
      "    \n",
      "righttriangles(50)"
     ],
     "language": "python",
     "metadata": {},
     "outputs": [
      {
       "metadata": {},
       "output_type": "pyout",
       "prompt_number": 2,
       "text": [
        "14234"
       ]
      }
     ],
     "prompt_number": 2
    },
    {
     "cell_type": "code",
     "collapsed": false,
     "input": [
      "# problem 92\n",
      "# much better to do with array < 600\n",
      "# since 9,999,999 --> 567\n",
      "\n",
      "def squaredigit(end = 100):\n",
      "    d = [i*i for i in xrange(10)]\n",
      "    arrend = ( (9**2) * (len(str(end))-1) ) + 1\n",
      "    array = [0] * arrend\n",
      "    array[1] = 1\n",
      "    array[89] = 89\n",
      "    \n",
      "    # set up array of 1-89\n",
      "    for n in xrange(2, arrend):\n",
      "        if array[n]: continue\n",
      "        notFinished = True\n",
      "        arr = [n]\n",
      "        j = n\n",
      "        while notFinished: \n",
      "            k = map(int, str(j))\n",
      "            j = sum([d[i] for i in k])\n",
      "            if array[j]:\n",
      "                for k in arr:\n",
      "                    array[k] = array[j]\n",
      "                    notFinished = False\n",
      "            else:\n",
      "                arr.append(j)\n",
      "    \n",
      "    # count\n",
      "    ones, nines = 0, 0\n",
      "    for i in array:\n",
      "        if i == 1: ones += 1\n",
      "        elif i == 89: nines += 1\n",
      "    \n",
      "    # do the rest of the numbers\n",
      "    for n in xrange(arrend, end):\n",
      "        j = 0\n",
      "        while n:\n",
      "            j += (n%10) * (n%10)\n",
      "            n /= 10\n",
      "        if array[j] == 1: ones += 1\n",
      "        else: nines += 1\n",
      "    \n",
      "    return ones, nines"
     ],
     "language": "python",
     "metadata": {},
     "outputs": [],
     "prompt_number": 17
    },
    {
     "cell_type": "code",
     "collapsed": false,
     "input": [
      "squaredigit(10000000)"
     ],
     "language": "python",
     "metadata": {},
     "outputs": [
      {
       "metadata": {},
       "output_type": "pyout",
       "prompt_number": 22,
       "text": [
        "(1418853, 8581146)"
       ]
      }
     ],
     "prompt_number": 22
    },
    {
     "cell_type": "code",
     "collapsed": false,
     "input": [
      "%%timeit\n",
      "squaredigit(10000000)"
     ],
     "language": "python",
     "metadata": {},
     "outputs": [
      {
       "output_type": "stream",
       "stream": "stdout",
       "text": [
        "1 loops, best of 3: 20.8 s per loop\n"
       ]
      }
     ],
     "prompt_number": 21
    },
    {
     "cell_type": "code",
     "collapsed": false,
     "input": [
      "# problem 93\n",
      "\n",
      "def processor(abcd):\n",
      "    a, b, c, d = abcd\n",
      "    \n",
      "    # first\n",
      "    (a + b) - (c * d), (a + b) - (c / d), (a + b) * (c - d), (a + b) * (c / d), (a + b) / (c * d), (a + b) / (c - d), \n",
      "    (a - b) + (c / d), (a - b) + (c * d), (a - b) / (c + d), (a - b) / (c * d), (a - b) * (c + d), (a - b) * (c / d),\n",
      "    (a / b) + (c * d), (a / b) + (c - d), (a / b) - (c * d), (a / b) - (c + d), (a / b) * (c + d), (a / b) * (c - d),\n",
      "    (a * b) + (c - d), (a * b) + (c / d), (a * b) - (c + d), (a * b) - (c / d), (a * b) / (c + d), (a * b) / (c - d),\n",
      "    \n",
      "    # front front\n",
      "    a + b - c * d\n",
      "    a + b - c / d\n",
      "    a + b * c - d\n",
      "    a + b * c / d\n",
      "    a + b / c * d\n",
      "    a + b / c - d\n",
      "    \n",
      "    a - b + c / d\n",
      "    a - b + c * d\n",
      "    a - b / c + d\n",
      "    a - b / c * d\n",
      "    a - b * c + d\n",
      "    a - b * c / d\n",
      "    \n",
      "    a / b + c * d\n",
      "    a / b + c - d\n",
      "    a / b - c * d\n",
      "    a / b - c + d\n",
      "    a / b * c + d\n",
      "    a / b * c - d\n",
      "    \n",
      "    a * b + c - d\n",
      "    a * b + c / d\n",
      "    a * b - c + d\n",
      "    a * b - c / d\n",
      "    a * b / c + d\n",
      "    a * b / c - d\n",
      "    \n",
      "    # front back\n",
      "    a + b - c * d\n",
      "    a + b - c / d\n",
      "    a + b * c - d\n",
      "    a + b * c / d\n",
      "    a + b / c * d\n",
      "    a + b / c - d\n",
      "    \n",
      "    a - b + c / d\n",
      "    a - b + c * d\n",
      "    a - b / c + d\n",
      "    a - b / c * d\n",
      "    a - b * c + d\n",
      "    a - b * c / d\n",
      "    \n",
      "    a / b + c * d\n",
      "    a / b + c - d\n",
      "    a / b - c * d\n",
      "    a / b - c + d\n",
      "    a / b * c + d\n",
      "    a / b * c - d\n",
      "    \n",
      "    a * b + c - d\n",
      "    a * b + c / d\n",
      "    a * b - c + d\n",
      "    a * b - c / d\n",
      "    a * b / c + d\n",
      "    a * b / c - d\n",
      "    \n",
      "    # back front\n",
      "    a + b - c * d\n",
      "    a + b - c / d\n",
      "    a + b * c - d\n",
      "    a + b * c / d\n",
      "    a + b / c * d\n",
      "    a + b / c - d\n",
      "    \n",
      "    a - b + c / d\n",
      "    a - b + c * d\n",
      "    a - b / c + d\n",
      "    a - b / c * d\n",
      "    a - b * c + d\n",
      "    a - b * c / d\n",
      "    \n",
      "    a / b + c * d\n",
      "    a / b + c - d\n",
      "    a / b - c * d\n",
      "    a / b - c + d\n",
      "    a / b * c + d\n",
      "    a / b * c - d\n",
      "    \n",
      "    a * b + c - d\n",
      "    a * b + c / d\n",
      "    a * b - c + d\n",
      "    a * b - c / d\n",
      "    a * b / c + d\n",
      "    a * b / c - d\n",
      "    \n",
      "    # back back\n",
      "    a + b - c * d\n",
      "    a + b - c / d\n",
      "    a + b * c - d\n",
      "    a + b * c / d\n",
      "    a + b / c * d\n",
      "    a + b / c - d\n",
      "    \n",
      "    a - b + c / d\n",
      "    a - b + c * d\n",
      "    a - b / c + d\n",
      "    a - b / c * d\n",
      "    a - b * c + d\n",
      "    a - b * c / d\n",
      "    \n",
      "    a / b + c * d\n",
      "    a / b + c - d\n",
      "    a / b - c * d\n",
      "    a / b - c + d\n",
      "    a / b * c + d\n",
      "    a / b * c - d\n",
      "    \n",
      "    a * b + c - d\n",
      "    a * b + c / d\n",
      "    a * b - c + d\n",
      "    a * b - c / d\n",
      "    a * b / c + d\n",
      "    a * b / c - d"
     ],
     "language": "python",
     "metadata": {},
     "outputs": []
    },
    {
     "cell_type": "code",
     "collapsed": false,
     "input": [],
     "language": "python",
     "metadata": {},
     "outputs": []
    },
    {
     "cell_type": "code",
     "collapsed": false,
     "input": [],
     "language": "python",
     "metadata": {},
     "outputs": []
    },
    {
     "cell_type": "code",
     "collapsed": false,
     "input": [],
     "language": "python",
     "metadata": {},
     "outputs": []
    },
    {
     "cell_type": "code",
     "collapsed": false,
     "input": [
      "    # original\n",
      "    a + b - c * d\n",
      "    a + b - c / d\n",
      "    a + b * c - d\n",
      "    a + b * c / d\n",
      "    a + b / c * d\n",
      "    a + b / c - d\n",
      "    \n",
      "    a - b + c / d\n",
      "    a - b + c * d\n",
      "    a - b / c + d\n",
      "    a - b / c * d\n",
      "    a - b * c + d\n",
      "    a - b * c / d\n",
      "    \n",
      "    a / b + c * d\n",
      "    a / b + c - d\n",
      "    a / b - c * d\n",
      "    a / b - c + d\n",
      "    a / b * c + d\n",
      "    a / b * c - d\n",
      "    \n",
      "    a * b + c - d\n",
      "    a * b + c / d\n",
      "    a * b - c + d\n",
      "    a * b - c / d\n",
      "    a * b / c + d\n",
      "    a * b / c - d"
     ],
     "language": "python",
     "metadata": {},
     "outputs": []
    },
    {
     "cell_type": "code",
     "collapsed": false,
     "input": [],
     "language": "python",
     "metadata": {},
     "outputs": []
    },
    {
     "cell_type": "code",
     "collapsed": false,
     "input": [],
     "language": "python",
     "metadata": {},
     "outputs": []
    },
    {
     "cell_type": "code",
     "collapsed": false,
     "input": [],
     "language": "python",
     "metadata": {},
     "outputs": []
    },
    {
     "cell_type": "code",
     "collapsed": false,
     "input": [],
     "language": "python",
     "metadata": {},
     "outputs": []
    },
    {
     "cell_type": "code",
     "collapsed": false,
     "input": [],
     "language": "python",
     "metadata": {},
     "outputs": []
    },
    {
     "cell_type": "code",
     "collapsed": false,
     "input": [],
     "language": "python",
     "metadata": {},
     "outputs": []
    },
    {
     "cell_type": "code",
     "collapsed": false,
     "input": [],
     "language": "python",
     "metadata": {},
     "outputs": []
    },
    {
     "cell_type": "code",
     "collapsed": false,
     "input": [],
     "language": "python",
     "metadata": {},
     "outputs": []
    },
    {
     "cell_type": "code",
     "collapsed": false,
     "input": [
      "# problem 95\n",
      "# taken from problem 21, 12\n",
      "\n",
      "def sievegen(n):\n",
      "    yield 2\n",
      "    primes = [True] * (n+1)\n",
      "    for i in xrange(3, n+1, 2):\n",
      "        if primes[i]:\n",
      "            yield i\n",
      "            for j in xrange(i*i, n+1, 2*i):\n",
      "                primes[j] = False\n",
      "\n",
      "def divisorsums(end):\n",
      "    primes = list(sievegen(end))\n",
      "    \n",
      "    # divisor sums for all numbers to N\n",
      "    for N in xrange(1, end+1):\n",
      "        sod = 1\n",
      "        tmptotal = N\n",
      "\n",
      "        # prime factorization\n",
      "        for p in primes:\n",
      "            # factored? prime?\n",
      "            if p >= N: break\n",
      "            elif tmptotal == 1: break\n",
      "\n",
      "            if tmptotal % p == 0:\n",
      "                exp = 1\n",
      "                tmpsod = 1 + p\n",
      "                while True: #dangerousyou\n",
      "                    if N % (p**(exp+1)) == 0:\n",
      "                        exp += 1\n",
      "                        tmpsod += p**exp\n",
      "                        continue\n",
      "                    break\n",
      "                sod *= tmpsod\n",
      "                \n",
      "                tmptotal /= p**exp\n",
      "\n",
      "        # prime\n",
      "        if tmptotal == N:\n",
      "            yield N, 1\n",
      "            continue\n",
      "\n",
      "        yield N, sod - N\n",
      "\n",
      "def amiable(N):\n",
      "    # sod for a is located at index = (a - 1)\n",
      "    pairs = [1] + [None] * (N-1)\n",
      "    for ami in xrange(2,N+1):\n",
      "        pairs[ami-1] = sumofdivisors(ami)\n",
      "\n",
      "    total = 0\n",
      "    for i, sod in enumerate(pairs):\n",
      "        if sod <= i+1: pass\n",
      "        elif sod > N: pass\n",
      "        elif pairs[sod-1] == i + 1:\n",
      "            #print 'a = d(b) =', i+1, '\\td(a) = b =', sod\n",
      "            total = total + i + 1 + sod\n",
      "    \n",
      "    print total\n",
      "    return pairs"
     ],
     "language": "python",
     "metadata": {},
     "outputs": [],
     "prompt_number": 49
    },
    {
     "cell_type": "code",
     "collapsed": false,
     "input": [],
     "language": "python",
     "metadata": {},
     "outputs": []
    },
    {
     "cell_type": "code",
     "collapsed": false,
     "input": [
      "%%timeit\n",
      "for i in divisorsums(200):\n",
      "    pass"
     ],
     "language": "python",
     "metadata": {},
     "outputs": [
      {
       "output_type": "stream",
       "stream": "stdout",
       "text": [
        "1000 loops, best of 3: 1.09 ms per loop\n"
       ]
      }
     ],
     "prompt_number": 48
    },
    {
     "cell_type": "code",
     "collapsed": false,
     "input": [
      "%%timeit\n",
      "for i in divisorsums(200):\n",
      "    pass"
     ],
     "language": "python",
     "metadata": {},
     "outputs": [
      {
       "output_type": "stream",
       "stream": "stdout",
       "text": [
        "1000 loops, best of 3: 862 \u00b5s per loop\n"
       ]
      }
     ],
     "prompt_number": 50
    },
    {
     "cell_type": "code",
     "collapsed": false,
     "input": [
      "for i in divisorsums(20):\n",
      "    print i"
     ],
     "language": "python",
     "metadata": {},
     "outputs": [
      {
       "output_type": "stream",
       "stream": "stdout",
       "text": [
        "(1, 1)\n",
        "(2, 1)\n",
        "(3, 1)\n",
        "(4, 3)\n",
        "(5, 1)\n",
        "(6, 6)\n",
        "(7, 1)\n",
        "(8, 7)\n",
        "(9, 4)\n",
        "(10, 8)\n",
        "(11, 1)\n",
        "(12, 16)\n",
        "(13, 1)\n",
        "(14, 10)\n",
        "(15, 9)\n",
        "(16, 15)\n",
        "(17, 1)\n",
        "(18, 21)\n",
        "(19, 1)\n",
        "(20, 22)\n"
       ]
      }
     ],
     "prompt_number": 41
    },
    {
     "cell_type": "code",
     "collapsed": false,
     "input": [
      "for i in divisorsums(20):\n",
      "    print i"
     ],
     "language": "python",
     "metadata": {},
     "outputs": [
      {
       "output_type": "stream",
       "stream": "stdout",
       "text": [
        "(1, 1)\n",
        "(2, 1)\n",
        "(3, 1)\n",
        "(4, 3)\n",
        "(5, 1)\n",
        "(6, 6)\n",
        "(7, 1)\n",
        "(8, 7)\n",
        "(9, 4)\n",
        "(10, 8)\n",
        "(11, 1)\n",
        "(12, 16)\n",
        "(13, 1)\n",
        "(14, 10)\n",
        "(15, 9)\n",
        "(16, 15)\n",
        "(17, 1)\n",
        "(18, 21)\n",
        "(19, 1)\n",
        "(20, 22)\n"
       ]
      }
     ],
     "prompt_number": 37
    },
    {
     "cell_type": "code",
     "collapsed": false,
     "input": [
      "end = 200\n",
      "prev = 1\n",
      "for p in sievegen(end):\n",
      "    print p\n",
      "    prev = p"
     ],
     "language": "python",
     "metadata": {},
     "outputs": [
      {
       "output_type": "stream",
       "stream": "stdout",
       "text": [
        "2\n",
        "3\n",
        "5\n",
        "7\n",
        "11\n",
        "13\n",
        "17\n",
        "19\n",
        "23\n",
        "29\n",
        "31\n",
        "37\n",
        "41\n",
        "43\n",
        "47\n",
        "53\n",
        "59\n",
        "61\n",
        "67\n",
        "71\n",
        "73\n",
        "79\n",
        "83\n",
        "89\n",
        "97\n",
        "101\n",
        "103\n",
        "107\n",
        "109\n",
        "113\n",
        "127\n",
        "131\n",
        "137\n",
        "139\n",
        "149\n",
        "151\n",
        "157\n",
        "163\n",
        "167\n",
        "173\n",
        "179\n",
        "181\n",
        "191\n",
        "193\n",
        "197\n",
        "199\n"
       ]
      }
     ],
     "prompt_number": 52
    },
    {
     "cell_type": "code",
     "collapsed": false,
     "input": [
      "%%timeit\n",
      "for i in divisorsums(20000):\n",
      "    if i[1] > 1000000:\n",
      "        print i"
     ],
     "language": "python",
     "metadata": {},
     "outputs": [
      {
       "output_type": "stream",
       "stream": "stdout",
       "text": [
        "1 loops, best of 3: 1.06 s per loop\n"
       ]
      }
     ],
     "prompt_number": 54
    },
    {
     "cell_type": "code",
     "collapsed": false,
     "input": [
      "%%timeit\n",
      "for i in divisorsums(200000):\n",
      "    if i[1] > 1000000:\n",
      "        print i"
     ],
     "language": "python",
     "metadata": {},
     "outputs": [
      {
       "output_type": "stream",
       "stream": "stdout",
       "text": [
        "1 loops, best of 3: 1min 6s per loop\n"
       ]
      }
     ],
     "prompt_number": 55
    },
    {
     "cell_type": "code",
     "collapsed": false,
     "input": [
      "def divsumgen(n):\n",
      "    primes = [True] * (n+1)\n",
      "    \n",
      "    \n",
      "    yield 2\n",
      "    for i in xrange(3, n+1, 2):\n",
      "        if primes[i]:\n",
      "            yield i\n",
      "            for j in xrange(i*i, n+1, 2*i):\n",
      "                primes[j] = -1"
     ],
     "language": "python",
     "metadata": {},
     "outputs": []
    }
   ],
   "metadata": {}
  }
 ]
}