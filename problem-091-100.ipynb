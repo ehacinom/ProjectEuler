{
 "metadata": {
  "name": "",
  "signature": "sha256:363ca58fc4a9fcacae77b6ad4db0deb15c8f69a66e932cc3ee042e8cdab0c1d6"
 },
 "nbformat": 3,
 "nbformat_minor": 0,
 "worksheets": [
  {
   "cells": [
    {
     "cell_type": "code",
     "collapsed": false,
     "input": [
      "from math import sqrt\n",
      "import numpy as np\n",
      "from collections import defaultdict\n",
      "from itertools import combinations, combinations_with_replacement, permutations\n",
      "import operator as op"
     ],
     "language": "python",
     "metadata": {},
     "outputs": [],
     "prompt_number": 1
    },
    {
     "cell_type": "code",
     "collapsed": false,
     "input": [
      "# problem 91\n",
      "\n",
      "def righttriangles(n = 2):\n",
      "    ranger = range(n+1)\n",
      "    points = []\n",
      "    for x in ranger:\n",
      "        for y in ranger:\n",
      "            points.append((x, y))\n",
      "    points.remove((0,0))\n",
      "    \n",
      "#     # test\n",
      "#     known = [((0, 1), (1, 0)), ((0, 1), (1, 1)), ((0, 1), (2, 0)), ((0, 1), (2, 1)),\n",
      "#              ((0, 2), (1, 0)), ((0, 2), (1, 1)), ((0, 2), (1, 2)), ((0, 2), (2, 0)),\n",
      "#              ((0, 2), (2, 2)), ((1, 0), (1, 1)), ((1, 0), (2, 0)), ((1, 1), (2, 0)), \n",
      "#              ((2, 0), (2, 2))]\n",
      "    \n",
      "    count = 0\n",
      "    for p in combinations(points, 2):\n",
      "        ((x1, y1), (x2, y2)) = p\n",
      "        \n",
      "        # distance squared\n",
      "        a = x1*x1 + y1*y1\n",
      "        b = x2*x2 + y2*y2\n",
      "        c = a + b - 2*x1*x2 - 2*y1*y2 \n",
      "\n",
      "#         # test\n",
      "#         if p in known:\n",
      "#             print 'known', p\n",
      "#             print a, b, c\n",
      "        \n",
      "        if (a + b == c) | (a + c == b) | (b + c == a):\n",
      "            count += 1\n",
      "    return count\n",
      "    \n",
      "righttriangles(50)"
     ],
     "language": "python",
     "metadata": {},
     "outputs": [
      {
       "metadata": {},
       "output_type": "pyout",
       "prompt_number": 2,
       "text": [
        "14234"
       ]
      }
     ],
     "prompt_number": 2
    },
    {
     "cell_type": "code",
     "collapsed": false,
     "input": [
      "# problem 92\n",
      "# much better to do with array < 600\n",
      "# since 9,999,999 --> 567\n",
      "\n",
      "def squaredigit(end = 100):\n",
      "    d = [i*i for i in xrange(10)]\n",
      "    arrend = ( (9**2) * (len(str(end))-1) ) + 1\n",
      "    array = [0] * arrend\n",
      "    array[1] = 1\n",
      "    array[89] = 89\n",
      "    \n",
      "    # set up array of 1-89\n",
      "    for n in xrange(2, arrend):\n",
      "        if array[n]: continue\n",
      "        notFinished = True\n",
      "        arr = [n]\n",
      "        j = n\n",
      "        while notFinished: \n",
      "            k = map(int, str(j))\n",
      "            j = sum([d[i] for i in k])\n",
      "            if array[j]:\n",
      "                for k in arr:\n",
      "                    array[k] = array[j]\n",
      "                    notFinished = False\n",
      "            else:\n",
      "                arr.append(j)\n",
      "    \n",
      "    # count\n",
      "    ones, nines = 0, 0\n",
      "    for i in array:\n",
      "        if i == 1: ones += 1\n",
      "        elif i == 89: nines += 1\n",
      "    \n",
      "    # do the rest of the numbers\n",
      "    for n in xrange(arrend, end):\n",
      "        j = 0\n",
      "        while n:\n",
      "            j += (n%10) * (n%10)\n",
      "            n /= 10\n",
      "        if array[j] == 1: ones += 1\n",
      "        else: nines += 1\n",
      "    \n",
      "    return ones, nines"
     ],
     "language": "python",
     "metadata": {},
     "outputs": [],
     "prompt_number": 17
    },
    {
     "cell_type": "code",
     "collapsed": false,
     "input": [
      "squaredigit(10000000)"
     ],
     "language": "python",
     "metadata": {},
     "outputs": [
      {
       "metadata": {},
       "output_type": "pyout",
       "prompt_number": 22,
       "text": [
        "(1418853, 8581146)"
       ]
      }
     ],
     "prompt_number": 22
    },
    {
     "cell_type": "code",
     "collapsed": false,
     "input": [
      "%%timeit\n",
      "squaredigit(10000000)"
     ],
     "language": "python",
     "metadata": {},
     "outputs": [
      {
       "output_type": "stream",
       "stream": "stdout",
       "text": [
        "1 loops, best of 3: 20.8 s per loop\n"
       ]
      }
     ],
     "prompt_number": 21
    },
    {
     "cell_type": "code",
     "collapsed": false,
     "input": [
      "# problem 93\n",
      "    \n",
      "def arith():\n",
      "    # operators\n",
      "    oplist = set()\n",
      "    ops = [op.mul, op.div, op.add, op.sub]\n",
      "    for c in combinations_with_replacement(ops, 3):\n",
      "        for p in permutations(c):\n",
      "            oplist.add(p)\n",
      "    \n",
      "    # save\n",
      "    ns, abcds, listos = 0, tuple(), []\n",
      "    \n",
      "    # digit sets\n",
      "    for abcd in combinations(np.arange(1,10,1.0), 4):\n",
      "        listo = set([])\n",
      "        # permutations of abcd\n",
      "        for p in permutations(abcd):\n",
      "            # permutations of three operators\n",
      "            for ol in oplist:\n",
      "                # different parentheticals\n",
      "                paren = [ol[1](ol[0](p[0], p[1]), ol[2](p[2], p[3])), \n",
      "                         ol[2](ol[1](ol[0](p[0], p[1]), p[2]), p[3]), \n",
      "                         ol[2](ol[0](p[0], ol[1](p[1], p[2])), p[3]), \n",
      "                         ol[0](p[0], ol[2](ol[1](p[1], p[2]), p[3])),\n",
      "                         ol[0](p[0], ol[1](p[1], ol[2](p[2], p[3])))]\n",
      "\n",
      "                for target in paren:\n",
      "                    if target > 0:\n",
      "                        if target != float(\"inf\"):\n",
      "                            if not target - int(target):\n",
      "                                listo.add(int(target))\n",
      "        \n",
      "        # save\n",
      "        listo = sorted(list(listo))\n",
      "        for i in xrange(len(listo)):\n",
      "            if i + 1 != listo[i]:\n",
      "                if i > ns:\n",
      "                    ns = i\n",
      "                    abcds = abcd\n",
      "                    listos = listo\n",
      "                break\n",
      "        \n",
      "    return ns, ''.join(map(str, map(int, abcds)))\n",
      "    \n",
      "arith()"
     ],
     "language": "python",
     "metadata": {},
     "outputs": [
      {
       "output_type": "stream",
       "stream": "stderr",
       "text": [
        "-c:25: RuntimeWarning: divide by zero encountered in double_scalars\n",
        "-c:26: RuntimeWarning: divide by zero encountered in double_scalars\n"
       ]
      },
      {
       "metadata": {},
       "output_type": "pyout",
       "prompt_number": 2,
       "text": [
        "(51, '1258')"
       ]
      }
     ],
     "prompt_number": 2
    },
    {
     "cell_type": "code",
     "collapsed": false,
     "input": [
      "# problem 94\n",
      "\n",
      "def perimeter(n=100):\n",
      "    peri = 0\n",
      "    square = 1\n",
      "    end = n / 3 + 1\n",
      "    s = 1\n",
      "    while s < end:\n",
      "        ha, hb = 3*s*s + 2*s - 1, 3*s*s - 2*s - 1\n",
      "        area = 1\n",
      "        for i in xrange(square, 2*s+1):\n",
      "            if ha == i*i:\n",
      "                #print 'ha', s, i, ha\n",
      "                area = i * (s-1)\n",
      "                p = -1\n",
      "                break\n",
      "            if hb == i*i:\n",
      "                #print 'hb', s, i, hb\n",
      "                area = i * (s+1)\n",
      "                p = 1\n",
      "                break\n",
      "        # check integral area\n",
      "        if not area % 4:\n",
      "            ### check\n",
      "            square = i*3\n",
      "            s *= 3\n",
      "            #print s, area\n",
      "            \n",
      "            # add perimeter\n",
      "            peri += (p + 3*s)\n",
      "        else:\n",
      "            s += 1\n",
      "    return peri"
     ],
     "language": "python",
     "metadata": {},
     "outputs": [],
     "prompt_number": 2
    },
    {
     "cell_type": "code",
     "collapsed": false,
     "input": [
      "def perimeter(n=50000):\n",
      "    peri = 0\n",
      "    end = n / 3 + 1\n",
      "    square = 1\n",
      "    \n",
      "    s = 1\n",
      "    while s < end:\n",
      "        ha, hb = 3*s*s + 2*s - 1, 3*s*s - 2*s - 1\n",
      "        \n",
      "        for i in xrange(square, 2*s+1):\n",
      "            if ha == i*i:\n",
      "                print 'ha', s, i, ha\n",
      "                if not i * (s-1) % 4:\n",
      "                    peri += (3*s - 1)\n",
      "                s *= 3\n",
      "                square = i*3\n",
      "                break\n",
      "        \n",
      "        for i in xrange(square, 2*s+1):\n",
      "            if hb == i*i:\n",
      "                print 'hb', s, i, hb\n",
      "                if not i * (s+1) % 4:\n",
      "                    peri += (3*s + 1)\n",
      "                s *= 3\n",
      "                square = i*3\n",
      "                break\n",
      "    \n",
      "    return peri"
     ],
     "language": "python",
     "metadata": {},
     "outputs": [],
     "prompt_number": 3
    },
    {
     "cell_type": "code",
     "collapsed": false,
     "input": [
      "perimeter(5000) # skip"
     ],
     "language": "python",
     "metadata": {},
     "outputs": [
      {
       "output_type": "stream",
       "stream": "stdout",
       "text": [
        "ha 1 2 4\n"
       ]
      },
      {
       "ename": "KeyboardInterrupt",
       "evalue": "",
       "output_type": "pyerr",
       "traceback": [
        "\u001b[0;31m---------------------------------------------------------------------------\u001b[0m\n\u001b[0;31mKeyboardInterrupt\u001b[0m                         Traceback (most recent call last)",
        "\u001b[0;32m<ipython-input-103-b3e66f84f4f6>\u001b[0m in \u001b[0;36m<module>\u001b[0;34m()\u001b[0m\n\u001b[0;32m----> 1\u001b[0;31m \u001b[0mperimeter\u001b[0m\u001b[0;34m(\u001b[0m\u001b[0;36m5000\u001b[0m\u001b[0;34m)\u001b[0m \u001b[0;31m# skip\u001b[0m\u001b[0;34m\u001b[0m\u001b[0m\n\u001b[0m",
        "\u001b[0;32m<ipython-input-102-b3bc8f3c09fe>\u001b[0m in \u001b[0;36mperimeter\u001b[0;34m(n)\u001b[0m\n\u001b[1;32m      8\u001b[0m         \u001b[0mha\u001b[0m\u001b[0;34m,\u001b[0m \u001b[0mhb\u001b[0m \u001b[0;34m=\u001b[0m \u001b[0;36m3\u001b[0m\u001b[0;34m*\u001b[0m\u001b[0ms\u001b[0m\u001b[0;34m*\u001b[0m\u001b[0ms\u001b[0m \u001b[0;34m+\u001b[0m \u001b[0;36m2\u001b[0m\u001b[0;34m*\u001b[0m\u001b[0ms\u001b[0m \u001b[0;34m-\u001b[0m \u001b[0;36m1\u001b[0m\u001b[0;34m,\u001b[0m \u001b[0;36m3\u001b[0m\u001b[0;34m*\u001b[0m\u001b[0ms\u001b[0m\u001b[0;34m*\u001b[0m\u001b[0ms\u001b[0m \u001b[0;34m-\u001b[0m \u001b[0;36m2\u001b[0m\u001b[0;34m*\u001b[0m\u001b[0ms\u001b[0m \u001b[0;34m-\u001b[0m \u001b[0;36m1\u001b[0m\u001b[0;34m\u001b[0m\u001b[0m\n\u001b[1;32m      9\u001b[0m \u001b[0;34m\u001b[0m\u001b[0m\n\u001b[0;32m---> 10\u001b[0;31m         \u001b[0;32mfor\u001b[0m \u001b[0mi\u001b[0m \u001b[0;32min\u001b[0m \u001b[0mxrange\u001b[0m\u001b[0;34m(\u001b[0m\u001b[0msquare\u001b[0m\u001b[0;34m,\u001b[0m \u001b[0;36m2\u001b[0m\u001b[0;34m*\u001b[0m\u001b[0ms\u001b[0m\u001b[0;34m+\u001b[0m\u001b[0;36m1\u001b[0m\u001b[0;34m)\u001b[0m\u001b[0;34m:\u001b[0m\u001b[0;34m\u001b[0m\u001b[0m\n\u001b[0m\u001b[1;32m     11\u001b[0m             \u001b[0;32mif\u001b[0m \u001b[0mha\u001b[0m \u001b[0;34m==\u001b[0m \u001b[0mi\u001b[0m\u001b[0;34m*\u001b[0m\u001b[0mi\u001b[0m\u001b[0;34m:\u001b[0m\u001b[0;34m\u001b[0m\u001b[0m\n\u001b[1;32m     12\u001b[0m                 \u001b[0;32mprint\u001b[0m \u001b[0;34m'ha'\u001b[0m\u001b[0;34m,\u001b[0m \u001b[0ms\u001b[0m\u001b[0;34m,\u001b[0m \u001b[0mi\u001b[0m\u001b[0;34m,\u001b[0m \u001b[0mha\u001b[0m\u001b[0;34m\u001b[0m\u001b[0m\n",
        "\u001b[0;31mKeyboardInterrupt\u001b[0m: "
       ]
      }
     ],
     "prompt_number": 103
    },
    {
     "cell_type": "code",
     "collapsed": false,
     "input": [
      "%%timeit\n",
      "perimeter(50000) # skip"
     ],
     "language": "python",
     "metadata": {},
     "outputs": [
      {
       "output_type": "stream",
       "stream": "stdout",
       "text": [
        "1 loops, best of 3: 2.13 s per loop\n"
       ]
      }
     ],
     "prompt_number": 92
    },
    {
     "cell_type": "code",
     "collapsed": false,
     "input": [
      "perimeter(50000)"
     ],
     "language": "python",
     "metadata": {},
     "outputs": [
      {
       "output_type": "stream",
       "stream": "stdout",
       "text": [
        "ha 1 2 4\n",
        "hb 5 8 64\n",
        "ha 17 30 900\n",
        "hb 65 112 12544\n",
        "ha 241 418 174724\n",
        "hb 901 1560 2433600\n",
        "ha"
       ]
      },
      {
       "output_type": "stream",
       "stream": "stdout",
       "text": [
        " 3361 5822 33895684\n",
        "hb"
       ]
      },
      {
       "output_type": "stream",
       "stream": "stdout",
       "text": [
        " 12545 21728 472105984\n"
       ]
      },
      {
       "metadata": {},
       "output_type": "pyout",
       "prompt_number": 89,
       "text": [
        "154224"
       ]
      }
     ],
     "prompt_number": 89
    },
    {
     "cell_type": "code",
     "collapsed": false,
     "input": [],
     "language": "python",
     "metadata": {},
     "outputs": []
    },
    {
     "cell_type": "code",
     "collapsed": false,
     "input": [],
     "language": "python",
     "metadata": {},
     "outputs": []
    },
    {
     "cell_type": "code",
     "collapsed": false,
     "input": [],
     "language": "python",
     "metadata": {},
     "outputs": []
    },
    {
     "cell_type": "code",
     "collapsed": false,
     "input": [
      "# problem 95\n",
      "# ideas taken from problem 21, 12\n",
      "# but made a divisor sum generator\n",
      "\n",
      "# not used\n",
      "def divsumgen(n):\n",
      "    # primes are zero\n",
      "    primes = [0] + [0, 2] * ((n+1) / 2)\n",
      "    \n",
      "    yield 1\n",
      "    yield 1\n",
      "    for i in xrange(3, n+1):\n",
      "        if primes[i]: yield primes[i] + 1\n",
      "        else: yield 1 # primes\n",
      "        \n",
      "        for j in xrange(i*2, n+1, i):\n",
      "            primes[j] += i\n",
      "    print primes\n",
      "\n",
      "def divsum(n):\n",
      "    # primes are zero\n",
      "    sod = [0, 0, 0] + [0, 2] * ((n) / 2)\n",
      "    for i in xrange(3, n+1):\n",
      "        for j in xrange(i*2, n+1, i):\n",
      "            sod[j] += i\n",
      "    \n",
      "    # iterate through numbers\n",
      "    length, amiable = 0, []\n",
      "    for i in xrange(1, n+1):\n",
      "        \n",
      "        # if not prime\n",
      "        if sod[i]:\n",
      "            # j is sod\n",
      "            j = sod[i] + 1\n",
      "            cyclets = 0\n",
      "            chain = [i]\n",
      "            # break if prime\n",
      "            while j != 1:                \n",
      "                # break if too many cycles\n",
      "                cyclets += 1\n",
      "                if cyclets > 100: \n",
      "                    print \"cyclets\"\n",
      "                    print i, sod[i]+1, j\n",
      "                    print chain\n",
      "                    break\n",
      "                \n",
      "                # break if too large\n",
      "                if j > n: break\n",
      "                \n",
      "                # break if prime\n",
      "                if j == 1:\n",
      "                    print \"prime\"\n",
      "                    print i, sod[i]+1, j\n",
      "                    break\n",
      "                \n",
      "                chain.append(j)\n",
      "                j = sod[j] + 1\n",
      "                \n",
      "                # break if j is = sod[j] + 1\n",
      "                if j == chain[-1]: break\n",
      "                elif j == chain[-2]: break\n",
      "                elif j in chain:               \n",
      "                    # check amiable\n",
      "                    if j == i:\n",
      "                        if len(chain) > length:\n",
      "                            length = len(chain)\n",
      "                            amiable = chain\n",
      "                            #print \"chain\", length, amiable\n",
      "                        for link in chain:\n",
      "                            sod[link] = 0\n",
      "                        break\n",
      "                    else: break\n",
      "    \n",
      "    #print length, min(amiable), amiable\n",
      "    return min(amiable)\n",
      "\n",
      "divsum(1000000)"
     ],
     "language": "python",
     "metadata": {},
     "outputs": [
      {
       "metadata": {},
       "output_type": "pyout",
       "prompt_number": 30,
       "text": [
        "14316"
       ]
      }
     ],
     "prompt_number": 30
    },
    {
     "cell_type": "code",
     "collapsed": false,
     "input": [
      "%%timeit\n",
      "divsum(1000000)"
     ],
     "language": "python",
     "metadata": {},
     "outputs": [
      {
       "output_type": "stream",
       "stream": "stdout",
       "text": [
        "1 loops, best of 3: 15.1 s per loop\n"
       ]
      }
     ],
     "prompt_number": 27
    },
    {
     "cell_type": "code",
     "collapsed": false,
     "input": [],
     "language": "python",
     "metadata": {},
     "outputs": []
    },
    {
     "cell_type": "code",
     "collapsed": false,
     "input": [],
     "language": "python",
     "metadata": {},
     "outputs": []
    },
    {
     "cell_type": "code",
     "collapsed": false,
     "input": [],
     "language": "python",
     "metadata": {},
     "outputs": []
    }
   ],
   "metadata": {}
  }
 ]
}