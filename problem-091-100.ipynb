{
 "metadata": {
  "name": "",
  "signature": "sha256:3a74629b3abceab0744edeb58d4f9e0995042d6fbf61182bd64eb9eee0cd6dfb"
 },
 "nbformat": 3,
 "nbformat_minor": 0,
 "worksheets": [
  {
   "cells": [
    {
     "cell_type": "code",
     "collapsed": false,
     "input": [
      "from math import sqrt\n",
      "import numpy as np\n",
      "from collections import defaultdict\n",
      "from itertools import combinations, combinations_with_replacement, permutations\n",
      "import operator as op"
     ],
     "language": "python",
     "metadata": {},
     "outputs": [],
     "prompt_number": 1
    },
    {
     "cell_type": "code",
     "collapsed": false,
     "input": [
      "# problem 91\n",
      "\n",
      "def righttriangles(n = 2):\n",
      "    ranger = range(n+1)\n",
      "    points = []\n",
      "    for x in ranger:\n",
      "        for y in ranger:\n",
      "            points.append((x, y))\n",
      "    points.remove((0,0))\n",
      "    \n",
      "#     # test\n",
      "#     known = [((0, 1), (1, 0)), ((0, 1), (1, 1)), ((0, 1), (2, 0)), ((0, 1), (2, 1)),\n",
      "#              ((0, 2), (1, 0)), ((0, 2), (1, 1)), ((0, 2), (1, 2)), ((0, 2), (2, 0)),\n",
      "#              ((0, 2), (2, 2)), ((1, 0), (1, 1)), ((1, 0), (2, 0)), ((1, 1), (2, 0)), \n",
      "#              ((2, 0), (2, 2))]\n",
      "    \n",
      "    count = 0\n",
      "    for p in combinations(points, 2):\n",
      "        ((x1, y1), (x2, y2)) = p\n",
      "        \n",
      "        # distance squared\n",
      "        a = x1*x1 + y1*y1\n",
      "        b = x2*x2 + y2*y2\n",
      "        c = a + b - 2*x1*x2 - 2*y1*y2 \n",
      "\n",
      "#         # test\n",
      "#         if p in known:\n",
      "#             print 'known', p\n",
      "#             print a, b, c\n",
      "        \n",
      "        if (a + b == c) | (a + c == b) | (b + c == a):\n",
      "            count += 1\n",
      "    return count\n",
      "    \n",
      "righttriangles(50)"
     ],
     "language": "python",
     "metadata": {},
     "outputs": [
      {
       "metadata": {},
       "output_type": "pyout",
       "prompt_number": 2,
       "text": [
        "14234"
       ]
      }
     ],
     "prompt_number": 2
    },
    {
     "cell_type": "code",
     "collapsed": false,
     "input": [
      "# problem 92\n",
      "# much better to do with array < 600\n",
      "# since 9,999,999 --> 567\n",
      "\n",
      "def squaredigit(end = 100):\n",
      "    d = [i*i for i in xrange(10)]\n",
      "    arrend = ( (9**2) * (len(str(end))-1) ) + 1\n",
      "    array = [0] * arrend\n",
      "    array[1] = 1\n",
      "    array[89] = 89\n",
      "    \n",
      "    # set up array of 1-89\n",
      "    for n in xrange(2, arrend):\n",
      "        if array[n]: continue\n",
      "        notFinished = True\n",
      "        arr = [n]\n",
      "        j = n\n",
      "        while notFinished: \n",
      "            k = map(int, str(j))\n",
      "            j = sum([d[i] for i in k])\n",
      "            if array[j]:\n",
      "                for k in arr:\n",
      "                    array[k] = array[j]\n",
      "                    notFinished = False\n",
      "            else:\n",
      "                arr.append(j)\n",
      "    \n",
      "    # count\n",
      "    ones, nines = 0, 0\n",
      "    for i in array:\n",
      "        if i == 1: ones += 1\n",
      "        elif i == 89: nines += 1\n",
      "    \n",
      "    # do the rest of the numbers\n",
      "    for n in xrange(arrend, end):\n",
      "        j = 0\n",
      "        while n:\n",
      "            j += (n%10) * (n%10)\n",
      "            n /= 10\n",
      "        if array[j] == 1: ones += 1\n",
      "        else: nines += 1\n",
      "    \n",
      "    return ones, nines"
     ],
     "language": "python",
     "metadata": {},
     "outputs": [],
     "prompt_number": 17
    },
    {
     "cell_type": "code",
     "collapsed": false,
     "input": [
      "squaredigit(10000000)"
     ],
     "language": "python",
     "metadata": {},
     "outputs": [
      {
       "metadata": {},
       "output_type": "pyout",
       "prompt_number": 22,
       "text": [
        "(1418853, 8581146)"
       ]
      }
     ],
     "prompt_number": 22
    },
    {
     "cell_type": "code",
     "collapsed": false,
     "input": [
      "%%timeit\n",
      "squaredigit(10000000)"
     ],
     "language": "python",
     "metadata": {},
     "outputs": [
      {
       "output_type": "stream",
       "stream": "stdout",
       "text": [
        "1 loops, best of 3: 20.8 s per loop\n"
       ]
      }
     ],
     "prompt_number": 21
    },
    {
     "cell_type": "code",
     "collapsed": false,
     "input": [
      "# problem 93\n",
      "    \n",
      "def arith():\n",
      "    # operators\n",
      "    oplist = set()\n",
      "    ops = [op.mul, op.div, op.add, op.sub]\n",
      "    for c in combinations_with_replacement(ops, 3):\n",
      "        for p in permutations(c):\n",
      "            oplist.add(p)\n",
      "    \n",
      "    # save\n",
      "    ns, abcds, listos = 0, tuple(), []\n",
      "    \n",
      "    # digit sets\n",
      "    for abcd in combinations(np.arange(1,10,1.0), 4):\n",
      "        listo = set([])\n",
      "        # permutations of abcd\n",
      "        for p in permutations(abcd):\n",
      "            # permutations of three operators\n",
      "            for ol in oplist:\n",
      "                # different parentheticals\n",
      "                paren = [ol[1](ol[0](p[0], p[1]), ol[2](p[2], p[3])), \n",
      "                         ol[2](ol[1](ol[0](p[0], p[1]), p[2]), p[3]), \n",
      "                         ol[2](ol[0](p[0], ol[1](p[1], p[2])), p[3]), \n",
      "                         ol[0](p[0], ol[2](ol[1](p[1], p[2]), p[3])),\n",
      "                         ol[0](p[0], ol[1](p[1], ol[2](p[2], p[3])))]\n",
      "\n",
      "                for target in paren:\n",
      "                    if target > 0:\n",
      "                        if target != float(\"inf\"):\n",
      "                            if not target - int(target):\n",
      "                                listo.add(int(target))\n",
      "        \n",
      "        # save\n",
      "        listo = sorted(list(listo))\n",
      "        for i in xrange(len(listo)):\n",
      "            if i + 1 != listo[i]:\n",
      "                if i > ns:\n",
      "                    ns = i\n",
      "                    abcds = abcd\n",
      "                    listos = listo\n",
      "                break\n",
      "        \n",
      "    return ns, ''.join(map(str, map(int, abcds)))\n",
      "    \n",
      "arith()"
     ],
     "language": "python",
     "metadata": {},
     "outputs": [
      {
       "output_type": "stream",
       "stream": "stderr",
       "text": [
        "-c:25: RuntimeWarning: divide by zero encountered in double_scalars\n",
        "-c:26: RuntimeWarning: divide by zero encountered in double_scalars\n"
       ]
      },
      {
       "metadata": {},
       "output_type": "pyout",
       "prompt_number": 2,
       "text": [
        "(51, '1258')"
       ]
      }
     ],
     "prompt_number": 2
    },
    {
     "cell_type": "code",
     "collapsed": false,
     "input": [
      "# problem 94\n",
      "\n",
      "def isqrt(n):\n",
      "    # http://stackoverflow.com/questions/15390807\n",
      "    x = n\n",
      "    y = (x + 1) // 2\n",
      "    while y < x:\n",
      "        x = y\n",
      "        y = (x + n // x) // 2\n",
      "    return x\n",
      "\n",
      "def perimeter(n=50000):\n",
      "    peri = 0\n",
      "    end = n / 3 + 1\n",
      "    square = 1\n",
      "    \n",
      "    stores = 1.\n",
      "    store = []\n",
      "    s = 2\n",
      "    ab = True # a = False or b = True\n",
      "    while s < end:\n",
      "        if ab: # b\n",
      "            a = 3*s*s - 2*s - 1\n",
      "        else: # a\n",
      "            a = 3*s*s + 2*s - 1\n",
      "        \n",
      "        i = isqrt(a)\n",
      "        \n",
      "        if a == i*i:\n",
      "            if ab: # b\n",
      "                if not i * (s+1) % 4:\n",
      "                    print 'b', s, i, a, s/stores\n",
      "                    stores = float(s)\n",
      "                    peri += (3*s + 1)\n",
      "                    ab = not (ab)\n",
      "                    \n",
      "                    if s < 500: s *= 3\n",
      "                    else:  s = int(s*3.73)\n",
      "                    continue\n",
      "            else: # a\n",
      "                if not i * (s-1) % 4:\n",
      "                    print 'a', s, i, a, s/stores\n",
      "                    stores = float(s)\n",
      "                    peri += (3*s - 1)\n",
      "                    ab = not (ab)\n",
      "                    \n",
      "                    if s < 500: s *= 3\n",
      "                    else: s = int(s*3.73)\n",
      "                    continue\n",
      "        s += 1\n",
      "    \n",
      "    return peri"
     ],
     "language": "python",
     "metadata": {},
     "outputs": [],
     "prompt_number": 2
    },
    {
     "cell_type": "code",
     "collapsed": false,
     "input": [
      "perimeter(1000000000)"
     ],
     "language": "python",
     "metadata": {},
     "outputs": [
      {
       "output_type": "stream",
       "stream": "stdout",
       "text": [
        "b 5 8 64 5.0\n",
        "a 17 30 900 3.4\n",
        "b 65 112 12544 3.82352941176\n",
        "a 241 418 174724 3.70769230769\n",
        "b 901 1560 2433600 3.73858921162\n",
        "a 3361 5822 33895684 3.73029966704\n",
        "b 12545 21728 472105984 3.73252008331\n",
        "a 46817 81090 6575588100 3.73192506975\n",
        "b 174725 302632 91586127424 3.73208449922\n",
        "a 652081 1129438 1275630195844 3.73204177994\n",
        "b 2433601 4215120 17767236614400 3.73205322652\n",
        "a"
       ]
      },
      {
       "output_type": "stream",
       "stream": "stdout",
       "text": [
        " 9082321 15731042 247465682405764 3.73205015941\n",
        "b"
       ]
      },
      {
       "output_type": "stream",
       "stream": "stdout",
       "text": [
        " 33895685 58709048 3446752317066304 3.73205098124\n",
        "a"
       ]
      },
      {
       "output_type": "stream",
       "stream": "stdout",
       "text": [
        " 126500417 219105150 48007066756522500 3.73205076103\n"
       ]
      },
      {
       "metadata": {},
       "output_type": "pyout",
       "prompt_number": 3,
       "text": [
        "518408346"
       ]
      }
     ],
     "prompt_number": 3
    },
    {
     "cell_type": "code",
     "collapsed": false,
     "input": [
      "# problem 95\n",
      "# ideas taken from problem 21, 12\n",
      "# but made a divisor sum generator\n",
      "\n",
      "# not used\n",
      "def divsumgen(n):\n",
      "    # primes are zero\n",
      "    primes = [0] + [0, 2] * ((n+1) / 2)\n",
      "    \n",
      "    yield 1\n",
      "    yield 1\n",
      "    for i in xrange(3, n+1):\n",
      "        if primes[i]: yield primes[i] + 1\n",
      "        else: yield 1 # primes\n",
      "        \n",
      "        for j in xrange(i*2, n+1, i):\n",
      "            primes[j] += i\n",
      "    print primes\n",
      "\n",
      "def divsum(n):\n",
      "    # primes are zero\n",
      "    sod = [0, 0, 0] + [0, 2] * ((n) / 2)\n",
      "    for i in xrange(3, n+1):\n",
      "        for j in xrange(i*2, n+1, i):\n",
      "            sod[j] += i\n",
      "    \n",
      "    # iterate through numbers\n",
      "    length, amiable = 0, []\n",
      "    for i in xrange(1, n+1):\n",
      "        \n",
      "        # if not prime\n",
      "        if sod[i]:\n",
      "            # j is sod\n",
      "            j = sod[i] + 1\n",
      "            cyclets = 0\n",
      "            chain = [i]\n",
      "            # break if prime\n",
      "            while j != 1:                \n",
      "                # break if too many cycles\n",
      "                cyclets += 1\n",
      "                if cyclets > 100: \n",
      "                    print \"cyclets\"\n",
      "                    print i, sod[i]+1, j\n",
      "                    print chain\n",
      "                    break\n",
      "                \n",
      "                # break if too large\n",
      "                if j > n: break\n",
      "                \n",
      "                # break if prime\n",
      "                if j == 1:\n",
      "                    print \"prime\"\n",
      "                    print i, sod[i]+1, j\n",
      "                    break\n",
      "                \n",
      "                chain.append(j)\n",
      "                j = sod[j] + 1\n",
      "                \n",
      "                # break if j is = sod[j] + 1\n",
      "                if j == chain[-1]: break\n",
      "                elif j == chain[-2]: break\n",
      "                elif j in chain:               \n",
      "                    # check amiable\n",
      "                    if j == i:\n",
      "                        if len(chain) > length:\n",
      "                            length = len(chain)\n",
      "                            amiable = chain\n",
      "                            #print \"chain\", length, amiable\n",
      "                        for link in chain:\n",
      "                            sod[link] = 0\n",
      "                        break\n",
      "                    else: break\n",
      "    \n",
      "    #print length, min(amiable), amiable\n",
      "    return min(amiable)\n",
      "\n",
      "divsum(1000000)"
     ],
     "language": "python",
     "metadata": {},
     "outputs": [
      {
       "metadata": {},
       "output_type": "pyout",
       "prompt_number": 30,
       "text": [
        "14316"
       ]
      }
     ],
     "prompt_number": 30
    },
    {
     "cell_type": "code",
     "collapsed": false,
     "input": [
      "%%timeit\n",
      "divsum(1000000)"
     ],
     "language": "python",
     "metadata": {},
     "outputs": [
      {
       "output_type": "stream",
       "stream": "stdout",
       "text": [
        "1 loops, best of 3: 15.1 s per loop\n"
       ]
      }
     ],
     "prompt_number": 27
    },
    {
     "cell_type": "code",
     "collapsed": false,
     "input": [
      "# problem 96\n",
      "# sudoku\n",
      "\n",
      "with open('096_sudoku.txt') as f:\n",
      "    i = 0\n",
      "    for line in f.readlines():\n",
      "        if i % 10:\n",
      "            sud.append(line)\n",
      "        else:\n",
      "            print sud\n",
      "            sud = []\n",
      "        i += 1\n",
      "    \n",
      "        \n"
     ],
     "language": "python",
     "metadata": {},
     "outputs": [
      {
       "output_type": "stream",
       "stream": "stdout",
       "text": [
        "[]\n",
        "['003020600\\n', '900305001\\n', '001806400\\n', '008102900\\n', '700000008\\n', '006708200\\n', '002609500\\n', '800203009\\n', '005010300\\n']\n",
        "['200080300\\n', '060070084\\n', '030500209\\n', '000105408\\n', '000000000\\n', '402706000\\n', '301007040\\n', '720040060\\n', '004010003\\n']\n",
        "['000000907\\n', '000420180\\n', '000705026\\n', '100904000\\n', '050000040\\n', '000507009\\n', '920108000\\n', '034059000\\n', '507000000\\n']\n",
        "['030050040\\n', '008010500\\n', '460000012\\n', '070502080\\n', '000603000\\n', '040109030\\n', '250000098\\n', '001020600\\n', '080060020\\n']\n",
        "['020810740\\n', '700003100\\n', '090002805\\n', '009040087\\n', '400208003\\n', '160030200\\n', '302700060\\n', '005600008\\n', '076051090\\n']\n",
        "['100920000\\n', '524010000\\n', '000000070\\n', '050008102\\n', '000000000\\n', '402700090\\n', '060000000\\n', '000030945\\n', '000071006\\n']\n",
        "['043080250\\n', '600000000\\n', '000001094\\n', '900004070\\n', '000608000\\n', '010200003\\n', '820500000\\n', '000000005\\n', '034090710\\n']\n",
        "['480006902\\n', '002008001\\n', '900370060\\n', '840010200\\n', '003704100\\n', '001060049\\n', '020085007\\n', '700900600\\n', '609200018\\n']\n",
        "['000900002\\n', '050123400\\n', '030000160\\n', '908000000\\n', '070000090\\n', '000000205\\n', '091000050\\n', '007439020\\n', '400007000\\n']\n",
        "['001900003\\n', '900700160\\n', '030005007\\n', '050000009\\n', '004302600\\n', '200000070\\n', '600100030\\n', '042007006\\n', '500006800\\n']\n",
        "['000125400\\n', '008400000\\n', '420800000\\n', '030000095\\n', '060902010\\n', '510000060\\n', '000003049\\n', '000007200\\n', '001298000\\n']\n",
        "['062340750\\n', '100005600\\n', '570000040\\n', '000094800\\n', '400000006\\n', '005830000\\n', '030000091\\n', '006400007\\n', '059083260\\n']\n",
        "['300000000\\n', '005009000\\n', '200504000\\n', '020000700\\n', '160000058\\n', '704310600\\n', '000890100\\n', '000067080\\n', '000005437\\n']\n",
        "['630000000\\n', '000500008\\n', '005674000\\n', '000020000\\n', '003401020\\n', '000000345\\n', '000007004\\n', '080300902\\n', '947100080\\n']\n",
        "['000020040\\n', '008035000\\n', '000070602\\n', '031046970\\n', '200000000\\n', '000501203\\n', '049000730\\n', '000000010\\n', '800004000\\n']\n",
        "['361025900\\n', '080960010\\n', '400000057\\n', '008000471\\n', '000603000\\n', '259000800\\n', '740000005\\n', '020018060\\n', '005470329\\n']\n",
        "['050807020\\n', '600010090\\n', '702540006\\n', '070020301\\n', '504000908\\n', '103080070\\n', '900076205\\n', '060090003\\n', '080103040\\n']\n",
        "['080005000\\n', '000003457\\n', '000070809\\n', '060400903\\n', '007010500\\n', '408007020\\n', '901020000\\n', '842300000\\n', '000100080\\n']\n",
        "['003502900\\n', '000040000\\n', '106000305\\n', '900251008\\n', '070408030\\n', '800763001\\n', '308000104\\n', '000020000\\n', '005104800\\n']\n",
        "['000000000\\n', '009805100\\n', '051907420\\n', '290401065\\n', '000000000\\n', '140508093\\n', '026709580\\n', '005103600\\n', '000000000\\n']\n",
        "['020030090\\n', '000907000\\n', '900208005\\n', '004806500\\n', '607000208\\n', '003102900\\n', '800605007\\n', '000309000\\n', '030020050\\n']\n",
        "['005000006\\n', '070009020\\n', '000500107\\n', '804150000\\n', '000803000\\n', '000092805\\n', '907006000\\n', '030400010\\n', '200000600\\n']\n",
        "['040000050\\n', '001943600\\n', '009000300\\n', '600050002\\n', '103000506\\n', '800020007\\n', '005000200\\n', '002436700\\n', '030000040\\n']\n",
        "['004000000\\n', '000030002\\n', '390700080\\n', '400009001\\n', '209801307\\n', '600200008\\n', '010008053\\n', '900040000\\n', '000000800\\n']\n",
        "['360020089\\n', '000361000\\n', '000000000\\n', '803000602\\n', '400603007\\n', '607000108\\n', '000000000\\n', '000418000\\n', '970030014\\n']\n",
        "['500400060\\n', '009000800\\n', '640020000\\n', '000001008\\n', '208000501\\n', '700500000\\n', '000090084\\n', '003000600\\n', '060003002\\n']\n",
        "['007256400\\n', '400000005\\n', '010030060\\n', '000508000\\n', '008060200\\n', '000107000\\n', '030070090\\n', '200000004\\n', '006312700\\n']\n",
        "['000000000\\n', '079050180\\n', '800000007\\n', '007306800\\n', '450708096\\n', '003502700\\n', '700000005\\n', '016030420\\n', '000000000\\n']\n",
        "['030000080\\n', '009000500\\n', '007509200\\n', '700105008\\n', '020090030\\n', '900402001\\n', '004207100\\n', '002000800\\n', '070000090\\n']\n",
        "['200170603\\n', '050000100\\n', '000006079\\n', '000040700\\n', '000801000\\n', '009050000\\n', '310400000\\n', '005000060\\n', '906037002\\n']\n",
        "['000000080\\n', '800701040\\n', '040020030\\n', '374000900\\n', '000030000\\n', '005000321\\n', '010060050\\n', '050802006\\n', '080000000\\n']\n",
        "['000000085\\n', '000210009\\n', '960080100\\n', '500800016\\n', '000000000\\n', '890006007\\n', '009070052\\n', '300054000\\n', '480000000\\n']\n",
        "['608070502\\n', '050608070\\n', '002000300\\n', '500090006\\n', '040302050\\n', '800050003\\n', '005000200\\n', '010704090\\n', '409060701\\n']\n",
        "['050010040\\n', '107000602\\n', '000905000\\n', '208030501\\n', '040070020\\n', '901080406\\n', '000401000\\n', '304000709\\n', '020060010\\n']\n",
        "['053000790\\n', '009753400\\n', '100000002\\n', '090080010\\n', '000907000\\n', '080030070\\n', '500000003\\n', '007641200\\n', '061000940\\n']\n",
        "['006080300\\n', '049070250\\n', '000405000\\n', '600317004\\n', '007000800\\n', '100826009\\n', '000702000\\n', '075040190\\n', '003090600\\n']\n",
        "['005080700\\n', '700204005\\n', '320000084\\n', '060105040\\n', '008000500\\n', '070803010\\n', '450000091\\n', '600508007\\n', '003010600\\n']\n",
        "['000900800\\n', '128006400\\n', '070800060\\n', '800430007\\n', '500000009\\n', '600079008\\n', '090004010\\n', '003600284\\n', '001007000\\n']\n",
        "['000080000\\n', '270000054\\n', '095000810\\n', '009806400\\n', '020403060\\n', '006905100\\n', '017000620\\n', '460000038\\n', '000090000\\n']\n",
        "['000602000\\n', '400050001\\n', '085010620\\n', '038206710\\n', '000000000\\n', '019407350\\n', '026040530\\n', '900020007\\n', '000809000\\n']\n",
        "['000900002\\n', '050123400\\n', '030000160\\n', '908000000\\n', '070000090\\n', '000000205\\n', '091000050\\n', '007439020\\n', '400007000\\n']\n",
        "['380000000\\n', '000400785\\n', '009020300\\n', '060090000\\n', '800302009\\n', '000040070\\n', '001070500\\n', '495006000\\n', '000000092\\n']\n",
        "['000158000\\n', '002060800\\n', '030000040\\n', '027030510\\n', '000000000\\n', '046080790\\n', '050000080\\n', '004070100\\n', '000325000\\n']\n",
        "['010500200\\n', '900001000\\n', '002008030\\n', '500030007\\n', '008000500\\n', '600080004\\n', '040100700\\n', '000700006\\n', '003004050\\n']\n",
        "['080000040\\n', '000469000\\n', '400000007\\n', '005904600\\n', '070608030\\n', '008502100\\n', '900000005\\n', '000781000\\n', '060000010\\n']\n",
        "['904200007\\n', '010000000\\n', '000706500\\n', '000800090\\n', '020904060\\n', '040002000\\n', '001607000\\n', '000000030\\n', '300005702\\n']\n",
        "['000700800\\n', '006000031\\n', '040002000\\n', '024070000\\n', '010030080\\n', '000060290\\n', '000800070\\n', '860000500\\n', '002006000\\n']\n",
        "['001007090\\n', '590080001\\n', '030000080\\n', '000005800\\n', '050060020\\n', '004100000\\n', '080000030\\n', '100020079\\n', '020700400\\n']\n",
        "['000003017\\n', '015009008\\n', '060000000\\n', '100007000\\n', '009000200\\n', '000500004\\n', '000000020\\n', '500600340\\n', '340200000\\n']\n"
       ]
      }
     ],
     "prompt_number": 8
    },
    {
     "cell_type": "code",
     "collapsed": false,
     "input": [],
     "language": "python",
     "metadata": {},
     "outputs": [],
     "prompt_number": 8
    },
    {
     "cell_type": "code",
     "collapsed": false,
     "input": [],
     "language": "python",
     "metadata": {},
     "outputs": []
    }
   ],
   "metadata": {}
  }
 ]
}