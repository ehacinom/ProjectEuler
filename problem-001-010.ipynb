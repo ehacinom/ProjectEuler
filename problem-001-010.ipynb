{
 "metadata": {
  "name": "",
  "signature": "sha256:ebade7acc07316e8e06b1e69a8d4f7cd212aa564422ce89e0a19780a4b715f5d"
 },
 "nbformat": 3,
 "nbformat_minor": 0,
 "worksheets": [
  {
   "cells": [
    {
     "cell_type": "code",
     "collapsed": false,
     "input": [
      "from numpy import *\n",
      "import time\n",
      "#import pickle\n",
      "#import gmpy2"
     ],
     "language": "python",
     "metadata": {},
     "outputs": [],
     "prompt_number": 1
    },
    {
     "cell_type": "code",
     "collapsed": false,
     "input": [
      "# problem 1\n",
      "total = 0\n",
      "for i in arange(1000):\n",
      "    if i % 3 == 0 or i % 5 == 0: total += i\n",
      "print total"
     ],
     "language": "python",
     "metadata": {},
     "outputs": [
      {
       "output_type": "stream",
       "stream": "stdout",
       "text": [
        "233168\n"
       ]
      }
     ],
     "prompt_number": 2
    },
    {
     "cell_type": "code",
     "collapsed": false,
     "input": [
      "# problem 2\n",
      "y = 1\n",
      "z = 2\n",
      "total = 2\n",
      "upper = 4000000\n",
      "unfinished = True\n",
      "\n",
      "while unfinished:\n",
      "    x = y+z\n",
      "    y = x+z\n",
      "    z = x+y\n",
      "    print x, y, z\n",
      "    if x%2 == 0 and x < upper: total += x\n",
      "    elif x > upper: unfinished = False\n",
      "    if y%2 == 0 and y < upper: total += y\n",
      "    elif y > upper: unfinished = False\n",
      "    if z%2 == 0 and z < upper: total += z\n",
      "    elif z > upper: unfinished = False\n",
      "    \n",
      "print total"
     ],
     "language": "python",
     "metadata": {},
     "outputs": [
      {
       "output_type": "stream",
       "stream": "stdout",
       "text": [
        "3 5 8\n",
        "13 21 34\n",
        "55 89 144\n",
        "233 377 610\n",
        "987 1597 2584\n",
        "4181 6765 10946\n",
        "17711 28657 46368\n",
        "75025 121393 196418\n",
        "317811 514229 832040\n",
        "1346269 2178309 3524578\n",
        "5702887 9227465 14930352\n",
        "4613732\n"
       ]
      }
     ],
     "prompt_number": 3
    },
    {
     "cell_type": "code",
     "collapsed": false,
     "input": [
      "# problem 3\n",
      "\n",
      "x = 600851475143\n",
      "end = int(sqrt(float(x)))\n",
      "arr = []\n",
      "\n",
      "for i in range(1,end):\n",
      "    if x % i == 0:\n",
      "        arr.append(i)\n",
      "\n",
      "print arr\n",
      "\n",
      "fin = 0\n",
      "for n in reversed(arr):\n",
      "    end = int(sqrt(float(n)))\n",
      "    for i in range(2,end):\n",
      "        if n % i == 0:\n",
      "            break\n",
      "        elif i == end - 1:\n",
      "            fin = n\n",
      "    if fin != 0: break\n",
      "print fin"
     ],
     "language": "python",
     "metadata": {},
     "outputs": [
      {
       "output_type": "stream",
       "stream": "stdout",
       "text": [
        "[1, 71, 839, 1471, 6857, 59569, 104441, 486847]\n",
        "6857\n"
       ]
      }
     ],
     "prompt_number": 4
    },
    {
     "cell_type": "code",
     "collapsed": false,
     "input": [
      "%%timeit\n",
      "# problem 4\n",
      "\n",
      "arr = []\n",
      "for i in xrange(999, 99, -1):\n",
      "    for j in xrange(999, i-1, -1):\n",
      "        tmp = str(i*j)\n",
      "        if tmp == tmp[::-1]:\n",
      "            arr.append(int(tmp))\n",
      "            break\n",
      "print max(arr)"
     ],
     "language": "python",
     "metadata": {},
     "outputs": [
      {
       "output_type": "stream",
       "stream": "stdout",
       "text": [
        "906609\n",
        "906609"
       ]
      },
      {
       "output_type": "stream",
       "stream": "stdout",
       "text": [
        "\n",
        "906609"
       ]
      },
      {
       "output_type": "stream",
       "stream": "stdout",
       "text": [
        "\n",
        "906609"
       ]
      },
      {
       "output_type": "stream",
       "stream": "stdout",
       "text": [
        "\n",
        "1 loops, best of 3: 172 ms per loop\n"
       ]
      }
     ],
     "prompt_number": 15
    },
    {
     "cell_type": "code",
     "collapsed": false,
     "input": [
      "%%timeit\n",
      "# problem 4\n",
      "\n",
      "largest = 0\n",
      "for i in xrange(999, 99, -1):\n",
      "    for j in xrange(999, i-1, -1):\n",
      "        tmp = str(i*j)\n",
      "        if tmp == tmp[::-1]:\n",
      "            tmp = int(tmp)\n",
      "            if tmp > largest:\n",
      "                largest = tmp\n",
      "            break\n",
      "print largest"
     ],
     "language": "python",
     "metadata": {},
     "outputs": [
      {
       "output_type": "stream",
       "stream": "stdout",
       "text": [
        "906609\n",
        "906609"
       ]
      },
      {
       "output_type": "stream",
       "stream": "stdout",
       "text": [
        "\n",
        "906609"
       ]
      },
      {
       "output_type": "stream",
       "stream": "stdout",
       "text": [
        "\n",
        "906609"
       ]
      },
      {
       "output_type": "stream",
       "stream": "stdout",
       "text": [
        "\n",
        "1 loops, best of 3: 185 ms per loop\n"
       ]
      }
     ],
     "prompt_number": 16
    },
    {
     "cell_type": "code",
     "collapsed": false,
     "input": [
      "# problem 5\n",
      "n = 20\n",
      "\n",
      "arr = range(2,n+1) # start at 2, don't want 0,1\n",
      "mask = zeros(n-1) # 19 numbers\n",
      "\n",
      "for i in arr:\n",
      "    # tmp: if i is a multiple of arr\n",
      "    tmp = mod(arr,i) == 0\n",
      "    # mask: adding together number of divisors\n",
      "    mask += tmp\n",
      "\n",
      "# if mask element == 1, then arr element is prime\n",
      "mask = mask == 1\n",
      "primes = filter(lambda a: a != 0, mask*arr) # filter(T/F function, array)\n",
      "print primes\n",
      "\n",
      "fin = 1\n",
      "for i in primes:\n",
      "    fin *= i\n",
      "\n",
      "print fin\n",
      "\n",
      "## other factors! I just checked which numbers necessary and did by hand.\n",
      "#for i in arr:\n",
      "#    if fin % i != 0: print i\n",
      "\n",
      "# better is to to know the exponent of the prime needed is that which stays lower than n = 20: so 2^4, 3^2\n",
      "fin *= 2*2*2*3\n",
      "\n",
      "print fin"
     ],
     "language": "python",
     "metadata": {},
     "outputs": [
      {
       "output_type": "stream",
       "stream": "stdout",
       "text": [
        "[2, 3, 5, 7, 11, 13, 17, 19]\n",
        "9699690\n",
        "232792560\n"
       ]
      }
     ],
     "prompt_number": 6
    },
    {
     "cell_type": "code",
     "collapsed": false,
     "input": [
      "# problem 6\n",
      "\n",
      "n = 100\n",
      "arr = range(n+1)\n",
      "\n",
      "s1 = 0\n",
      "s2 = 0\n",
      "for i in arr:\n",
      "    s1 += i**2\n",
      "    s2 += i\n",
      "print s1, s2\n",
      "print s2**2 - s1"
     ],
     "language": "python",
     "metadata": {},
     "outputs": [
      {
       "output_type": "stream",
       "stream": "stdout",
       "text": [
        "338350 5050\n",
        "25164150\n"
       ]
      }
     ],
     "prompt_number": 7
    },
    {
     "cell_type": "code",
     "collapsed": false,
     "input": [
      "# problem 7\n",
      "\n",
      "def nthprime(n):\n",
      "\n",
      "    # window size\n",
      "    scale = 1000\n",
      "    numbers = arange(scale) + 2 # mod filtering for primes using 0,1 doesn't work\n",
      "\n",
      "    # iteration number\n",
      "    iter = 0\n",
      "\n",
      "    # primes found\n",
      "    count = 0\n",
      "    primes = []\n",
      "\n",
      "    while count < n:\n",
      "        # window\n",
      "        window = numbers + iter * scale\n",
      "\n",
      "        # Filter this array for primes\n",
      "        arr = window\n",
      "\n",
      "        # filter from primes from former iterations\n",
      "        if iter:\n",
      "            for i in primes: arr = filter(lambda a: mod(a,i) != 0, arr)\n",
      "\n",
      "        # filter for numbers in current iteration\n",
      "        for i in window:\n",
      "            arr = filter(lambda a: mod(a,i) != 0 or i == a, arr)\n",
      "\n",
      "        # keeping track of size\n",
      "        size = len(arr)\n",
      "        count += size\n",
      "\n",
      "        # increment\n",
      "        iter += 1\n",
      "\n",
      "        # save\n",
      "        if count < n: primes.extend(arr)\n",
      "\n",
      "        # print\n",
      "        #print iter, size, arr\n",
      "\n",
      "    return arr[size-count+n-1]"
     ],
     "language": "python",
     "metadata": {},
     "outputs": [],
     "prompt_number": 8
    },
    {
     "cell_type": "code",
     "collapsed": false,
     "input": [
      "print nthprime(10001)"
     ],
     "language": "python",
     "metadata": {},
     "outputs": [
      {
       "output_type": "stream",
       "stream": "stdout",
       "text": [
        "104743\n"
       ]
      }
     ],
     "prompt_number": 9
    },
    {
     "cell_type": "code",
     "collapsed": false,
     "input": [
      "# problem 8\n",
      "\n",
      "s = '7316717653133062491922511967442657474235534919493496983520312774506326239578318016984801869478851843858615607891129494954595017379583319528532088055111254069874715852386305071569329096329522744304355766896648950445244523161731856403098711121722383113622298934233803081353362766142828064444866452387493035890729629049156044077239071381051585930796086670172427121883998797908792274921901699720888093776657273330010533678812202354218097512545405947522435258490771167055601360483958644670632441572215539753697817977846174064955149290862569321978468622482839722413756570560574902614079729686524145351004748216637048440319989000889524345065854122758866688116427171479924442928230863465674813919123162824586178664583591245665294765456828489128831426076900422421902267105562632111110937054421750694165896040807198403850962455444362981230987879927244284909188845801561660979191338754992005240636899125607176060588611646710940507754100225698315520005593572972571636269561882670428252483600823257530420752963450'"
     ],
     "language": "python",
     "metadata": {},
     "outputs": [],
     "prompt_number": 10
    },
    {
     "cell_type": "code",
     "collapsed": false,
     "input": [
      "s1 = filter(lambda a: len(a) > 12, s.split('0'))\n",
      "best = 1\n",
      "\n",
      "for num in s1:\n",
      "    end = len(num)\n",
      "    for n in range(end - 12):\n",
      "        mult = 1\n",
      "        for i in range(13):\n",
      "            #print int(num[n+i])\n",
      "            mult *= long(num[n+i])\n",
      "        if mult > best: best = mult\n",
      "\n",
      "print best"
     ],
     "language": "python",
     "metadata": {},
     "outputs": [
      {
       "output_type": "stream",
       "stream": "stdout",
       "text": [
        "23514624000\n"
       ]
      }
     ],
     "prompt_number": 11
    },
    {
     "cell_type": "code",
     "collapsed": false,
     "input": [
      "# problem 9\n",
      "total = 1000\n",
      "numbers = arange(total)\n",
      "squares = numbers**2\n",
      "\n",
      "triplets = []\n",
      "\n",
      "for i in numbers:\n",
      "    if i == 0: pass\n",
      "    for j in range(i+1, total):\n",
      "        c = squares[i] + squares[j]\n",
      "        for k in range (j+1, total):\n",
      "            if squares[k] == c:\n",
      "                triplets.append((i,j,k))\n",
      "                break\n",
      "\n",
      "for tup in triplets:\n",
      "    if tup[0]+tup[1]+tup[2] == total:\n",
      "        print tup\n",
      "        print tup[0]*tup[1]*tup[2]"
     ],
     "language": "python",
     "metadata": {},
     "outputs": [
      {
       "output_type": "stream",
       "stream": "stdout",
       "text": [
        "(200, 375, 425)\n",
        "31875000\n"
       ]
      }
     ],
     "prompt_number": 12
    },
    {
     "cell_type": "code",
     "collapsed": false,
     "input": [
      "# problem 10\n",
      "# http://stackoverflow.com/questions/2897297/speed-up-bitstring-bit-operations-in-python\n",
      "\n",
      "def sieve(n=200):\n",
      "    # init\n",
      "    total = 2\n",
      "    num = 1\n",
      "    #yield 2\n",
      "\n",
      "    # initialize primes T/F list starting at zero, ignoring 0-1\n",
      "    primes = [True] * (n+1)\n",
      "    \n",
      "    # sieve till sqrt and then final number:\n",
      "    limit = int(sqrt(float(n)))\n",
      "\n",
      "    # step through numbers starting at 3\n",
      "    for i in xrange(3, n+1, 2):\n",
      "        if primes[i]:\n",
      "            total += i\n",
      "            num += 1\n",
      "            #yield i\n",
      "            \n",
      "            # correct further multiples of i to False\n",
      "            # some algorithmic modifications to sieve\n",
      "            if i <= limit:\n",
      "                for j in xrange(i*i, n+1, 2*i):\n",
      "                    primes[j] = False\n",
      "\n",
      "    print num, i, total"
     ],
     "language": "python",
     "metadata": {},
     "outputs": [],
     "prompt_number": 13
    },
    {
     "cell_type": "code",
     "collapsed": false,
     "input": [
      "s = time.time()\n",
      "sieve(2000000)\n",
      "print 'runtime', time.time()-s"
     ],
     "language": "python",
     "metadata": {},
     "outputs": [
      {
       "output_type": "stream",
       "stream": "stdout",
       "text": [
        "148933 1999999 142913828922\n",
        "runtime 0.296070814133\n"
       ]
      }
     ],
     "prompt_number": 14
    },
    {
     "cell_type": "code",
     "collapsed": false,
     "input": [],
     "language": "python",
     "metadata": {},
     "outputs": []
    }
   ],
   "metadata": {}
  }
 ]
}