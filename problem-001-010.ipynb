{
 "metadata": {
  "name": "",
  "signature": "sha256:097109d0710985dffff46ea5ea45eb2f73f379afc84e364889004346ddf00828"
 },
 "nbformat": 3,
 "nbformat_minor": 0,
 "worksheets": [
  {
   "cells": [
    {
     "cell_type": "code",
     "collapsed": false,
     "input": [
      "from numpy import *\n",
      "import time\n",
      "import math\n",
      "#import pickle\n",
      "#import gmpy2\n",
      "from eulerutils import *"
     ],
     "language": "python",
     "metadata": {},
     "outputs": [],
     "prompt_number": 1
    },
    {
     "cell_type": "code",
     "collapsed": false,
     "input": [
      "# problem 1\n",
      "total = 0\n",
      "for i in arange(1000):\n",
      "    if i % 3 == 0 or i % 5 == 0: total += i\n",
      "print total"
     ],
     "language": "python",
     "metadata": {},
     "outputs": [
      {
       "output_type": "stream",
       "stream": "stdout",
       "text": [
        "233168\n"
       ]
      }
     ],
     "prompt_number": 2
    },
    {
     "cell_type": "code",
     "collapsed": false,
     "input": [
      "# problem 2\n",
      "y = 1\n",
      "z = 2\n",
      "total = 2\n",
      "upper = 4000000\n",
      "unfinished = True\n",
      "\n",
      "while unfinished:\n",
      "    x = y+z\n",
      "    y = x+z\n",
      "    z = x+y\n",
      "    print x, y, z\n",
      "    if x%2 == 0 and x < upper: total += x\n",
      "    elif x > upper: unfinished = False\n",
      "    if y%2 == 0 and y < upper: total += y\n",
      "    elif y > upper: unfinished = False\n",
      "    if z%2 == 0 and z < upper: total += z\n",
      "    elif z > upper: unfinished = False\n",
      "    \n",
      "print total"
     ],
     "language": "python",
     "metadata": {},
     "outputs": [
      {
       "output_type": "stream",
       "stream": "stdout",
       "text": [
        "3 5 8\n",
        "13 21 34\n",
        "55 89 144\n",
        "233 377 610\n",
        "987 1597 2584\n",
        "4181 6765 10946\n",
        "17711 28657 46368\n",
        "75025 121393 196418\n",
        "317811 514229 832040\n",
        "1346269 2178309 3524578\n",
        "5702887 9227465 14930352\n",
        "4613732\n"
       ]
      }
     ],
     "prompt_number": 3
    },
    {
     "cell_type": "code",
     "collapsed": false,
     "input": [
      "def pe003(n = 2**70+1):\n",
      "    while n % 2 == 0:\n",
      "        n //= 2\n",
      "    if n == 1:\n",
      "        return 2\n",
      "    \n",
      "    i = 3\n",
      "    while i*i <= n:\n",
      "        if n % i:\n",
      "            i += 2\n",
      "        else:\n",
      "            n //= i\n",
      "    \n",
      "    return n"
     ],
     "language": "python",
     "metadata": {},
     "outputs": [],
     "prompt_number": 47
    },
    {
     "cell_type": "code",
     "collapsed": false,
     "input": [
      "%%timeit\n",
      "pe003()"
     ],
     "language": "python",
     "metadata": {},
     "outputs": [
      {
       "output_type": "stream",
       "stream": "stdout",
       "text": [
        "1 loops, best of 3: 1.29 s per loop\n"
       ]
      }
     ],
     "prompt_number": 48
    },
    {
     "cell_type": "code",
     "collapsed": false,
     "input": [
      "pe003()"
     ],
     "language": "python",
     "metadata": {},
     "outputs": [
      {
       "metadata": {},
       "output_type": "pyout",
       "prompt_number": 52,
       "text": [
        "47392381L"
       ]
      }
     ],
     "prompt_number": 52
    },
    {
     "cell_type": "code",
     "collapsed": false,
     "input": [
      "%%timeit\n",
      "pe003()"
     ],
     "language": "python",
     "metadata": {},
     "outputs": [
      {
       "output_type": "stream",
       "stream": "stdout",
       "text": [
        "10 loops, best of 3: 57.3 ms per loop\n"
       ]
      }
     ],
     "prompt_number": 28
    },
    {
     "cell_type": "code",
     "collapsed": false,
     "input": [
      "%%timeit\n",
      "pe003()"
     ],
     "language": "python",
     "metadata": {},
     "outputs": [
      {
       "output_type": "stream",
       "stream": "stdout",
       "text": [
        "10 loops, best of 3: 59.2 ms per loop\n"
       ]
      }
     ],
     "prompt_number": 24
    },
    {
     "cell_type": "code",
     "collapsed": false,
     "input": [
      "def largest_prime_factor(n = 2**70+1):\n",
      "    i = 2\n",
      "    while i * i <= n:\n",
      "        if n % i:\n",
      "            i += 1\n",
      "        else:\n",
      "            n //= i\n",
      "    return n"
     ],
     "language": "python",
     "metadata": {},
     "outputs": [],
     "prompt_number": 49
    },
    {
     "cell_type": "code",
     "collapsed": false,
     "input": [
      "largest_prime_factor()"
     ],
     "language": "python",
     "metadata": {},
     "outputs": [
      {
       "metadata": {},
       "output_type": "pyout",
       "prompt_number": 50,
       "text": [
        "47392381L"
       ]
      }
     ],
     "prompt_number": 50
    },
    {
     "cell_type": "code",
     "collapsed": false,
     "input": [
      "%%timeit\n",
      "largest_prime_factor()"
     ],
     "language": "python",
     "metadata": {},
     "outputs": [
      {
       "output_type": "stream",
       "stream": "stdout",
       "text": [
        "1 loops, best of 3: 2.55 s per loop\n"
       ]
      }
     ],
     "prompt_number": 51
    },
    {
     "cell_type": "code",
     "collapsed": false,
     "input": [],
     "language": "python",
     "metadata": {},
     "outputs": []
    },
    {
     "cell_type": "code",
     "collapsed": false,
     "input": [
      "%%timeit\n",
      "# problem 4\n",
      "\n",
      "arr = []\n",
      "for i in xrange(999, 99, -1):\n",
      "    for j in xrange(999, i-1, -1):\n",
      "        tmp = str(i*j)\n",
      "        if tmp == tmp[::-1]:\n",
      "            arr.append(int(tmp))\n",
      "            break\n",
      "print max(arr)"
     ],
     "language": "python",
     "metadata": {},
     "outputs": [
      {
       "output_type": "stream",
       "stream": "stdout",
       "text": [
        "906609\n",
        "906609"
       ]
      },
      {
       "output_type": "stream",
       "stream": "stdout",
       "text": [
        "\n",
        "906609"
       ]
      },
      {
       "output_type": "stream",
       "stream": "stdout",
       "text": [
        "\n",
        "906609"
       ]
      },
      {
       "output_type": "stream",
       "stream": "stdout",
       "text": [
        "\n",
        "1 loops, best of 3: 172 ms per loop\n"
       ]
      }
     ],
     "prompt_number": 15
    },
    {
     "cell_type": "code",
     "collapsed": false,
     "input": [
      "%%timeit\n",
      "# problem 4\n",
      "\n",
      "largest = 0\n",
      "for i in xrange(999, 99, -1):\n",
      "    for j in xrange(999, i-1, -1):\n",
      "        tmp = str(i*j)\n",
      "        if tmp == tmp[::-1]:\n",
      "            tmp = int(tmp)\n",
      "            if tmp > largest:\n",
      "                largest = tmp\n",
      "            break\n",
      "print largest"
     ],
     "language": "python",
     "metadata": {},
     "outputs": [
      {
       "output_type": "stream",
       "stream": "stdout",
       "text": [
        "906609\n",
        "906609"
       ]
      },
      {
       "output_type": "stream",
       "stream": "stdout",
       "text": [
        "\n",
        "906609"
       ]
      },
      {
       "output_type": "stream",
       "stream": "stdout",
       "text": [
        "\n",
        "906609"
       ]
      },
      {
       "output_type": "stream",
       "stream": "stdout",
       "text": [
        "\n",
        "1 loops, best of 3: 185 ms per loop\n"
       ]
      }
     ],
     "prompt_number": 16
    },
    {
     "cell_type": "code",
     "collapsed": false,
     "input": [
      "# problem 5\n",
      "n = 20\n",
      "\n",
      "arr = range(2,n+1) # start at 2, don't want 0,1\n",
      "mask = zeros(n-1) # 19 numbers\n",
      "\n",
      "for i in arr:\n",
      "    # tmp: if i is a multiple of arr\n",
      "    tmp = mod(arr,i) == 0\n",
      "    # mask: adding together number of divisors\n",
      "    mask += tmp\n",
      "\n",
      "# if mask element == 1, then arr element is prime\n",
      "mask = mask == 1\n",
      "primes = filter(lambda a: a != 0, mask*arr) # filter(T/F function, array)\n",
      "print primes\n",
      "\n",
      "fin = 1\n",
      "for i in primes:\n",
      "    fin *= i\n",
      "\n",
      "print fin\n",
      "\n",
      "## other factors! I just checked which numbers necessary and did by hand.\n",
      "#for i in arr:\n",
      "#    if fin % i != 0: print i\n",
      "\n",
      "# better is to to know the exponent of the prime needed is that which stays lower than n = 20: so 2^4, 3^2\n",
      "fin *= 2*2*2*3\n",
      "\n",
      "print fin"
     ],
     "language": "python",
     "metadata": {},
     "outputs": [
      {
       "output_type": "stream",
       "stream": "stdout",
       "text": [
        "[2, 3, 5, 7, 11, 13, 17, 19]\n",
        "9699690\n",
        "232792560\n"
       ]
      }
     ],
     "prompt_number": 6
    },
    {
     "cell_type": "code",
     "collapsed": false,
     "input": [
      "def factorization(n):\n",
      "    # prime factors of n\n",
      "    factors = []\n",
      "    \n",
      "    if n < 2: return None\n",
      "    \n",
      "    count = 0\n",
      "    while n % 2 == 0:\n",
      "        n //= 2\n",
      "        count += 1\n",
      "    if count:\n",
      "        factors.append((2, count))\n",
      "        count = 0\n",
      "    if n == 1:\n",
      "        return factors\n",
      "    \n",
      "    i = 3\n",
      "    while i*i <= n:\n",
      "        if n % i:\n",
      "            if count:\n",
      "                factors.append((i, count))\n",
      "                count = 0\n",
      "            i += 2\n",
      "        else:\n",
      "            n //= i\n",
      "            count += 1\n",
      "            if n == i:\n",
      "                factors.append((i, count+1))\n",
      "                count = 0\n",
      "                n = 1\n",
      "    \n",
      "    if count:\n",
      "        factors.append((i, count))\n",
      "    \n",
      "    if n > 1:\n",
      "        factors.append((n, 1))\n",
      "    \n",
      "    return factors"
     ],
     "language": "python",
     "metadata": {},
     "outputs": [],
     "prompt_number": 1
    },
    {
     "cell_type": "code",
     "collapsed": false,
     "input": [
      "def pe005():\n",
      "    allfact = []\n",
      "    for i in xrange(2, 20):\n",
      "        factors = factorization(i)\n",
      "        allfact.extend(factors)\n",
      "    \n",
      "    allfact = sorted(set(allfact))\n",
      "    \n",
      "    ans, a, b = 1, 0, 0\n",
      "    for af in allfact:\n",
      "        fact, exp = af\n",
      "        if fact > a:\n",
      "            ans *= a**b\n",
      "            a, b = fact, 0\n",
      "        if exp > b:\n",
      "            b = exp\n",
      "    ans *= a**b\n",
      "    \n",
      "    return ans"
     ],
     "language": "python",
     "metadata": {},
     "outputs": [],
     "prompt_number": 65
    },
    {
     "cell_type": "code",
     "collapsed": false,
     "input": [
      "pe005()"
     ],
     "language": "python",
     "metadata": {},
     "outputs": [
      {
       "metadata": {},
       "output_type": "pyout",
       "prompt_number": 66,
       "text": [
        "232792560"
       ]
      }
     ],
     "prompt_number": 66
    },
    {
     "cell_type": "code",
     "collapsed": false,
     "input": [
      "%%timeit\n",
      "# problem 6\n",
      "\n",
      "n = 100\n",
      "arr = range(n+1)\n",
      "\n",
      "s1 = 0\n",
      "s2 = 0\n",
      "for i in arr:\n",
      "    s1 += i**2\n",
      "    s2 += i\n",
      "#print s1, s2\n",
      "#print s2**2 - s1"
     ],
     "language": "python",
     "metadata": {},
     "outputs": [
      {
       "output_type": "stream",
       "stream": "stdout",
       "text": [
        "100000 loops, best of 3: 15.8 \u00b5s per loop\n"
       ]
      }
     ],
     "prompt_number": 5
    },
    {
     "cell_type": "code",
     "collapsed": false,
     "input": [
      "%%timeit\n",
      "n=100\n",
      "sum_n(n)**2 - sum_n2(n)"
     ],
     "language": "python",
     "metadata": {},
     "outputs": [
      {
       "output_type": "stream",
       "stream": "stdout",
       "text": [
        "1000000 loops, best of 3: 762 ns per loop\n"
       ]
      }
     ],
     "prompt_number": 3
    },
    {
     "cell_type": "code",
     "collapsed": false,
     "input": [
      "# problem 7\n",
      "\n",
      "def nthprime(n):\n",
      "\n",
      "    # window size\n",
      "    scale = 1000\n",
      "    numbers = arange(scale) + 2 # mod filtering for primes using 0,1 doesn't work\n",
      "\n",
      "    # iteration number\n",
      "    iter = 0\n",
      "\n",
      "    # primes found\n",
      "    count = 0\n",
      "    primes = []\n",
      "\n",
      "    while count < n:\n",
      "        # window\n",
      "        window = numbers + iter * scale\n",
      "\n",
      "        # Filter this array for primes\n",
      "        arr = window\n",
      "\n",
      "        # filter from primes from former iterations\n",
      "        if iter:\n",
      "            for i in primes: arr = filter(lambda a: mod(a,i) != 0, arr)\n",
      "\n",
      "        # filter for numbers in current iteration\n",
      "        for i in window:\n",
      "            arr = filter(lambda a: mod(a,i) != 0 or i == a, arr)\n",
      "\n",
      "        # keeping track of size\n",
      "        size = len(arr)\n",
      "        count += size\n",
      "\n",
      "        # increment\n",
      "        iter += 1\n",
      "\n",
      "        # save\n",
      "        if count < n: primes.extend(arr)\n",
      "\n",
      "        # print\n",
      "        #print iter, size, arr\n",
      "\n",
      "    return arr[size-count+n-1]"
     ],
     "language": "python",
     "metadata": {},
     "outputs": [],
     "prompt_number": 6
    },
    {
     "cell_type": "code",
     "collapsed": false,
     "input": [
      "print nthprime(10001)"
     ],
     "language": "python",
     "metadata": {},
     "outputs": [
      {
       "output_type": "stream",
       "stream": "stdout",
       "text": [
        "104743\n"
       ]
      }
     ],
     "prompt_number": 7
    },
    {
     "cell_type": "code",
     "collapsed": false,
     "input": [],
     "language": "python",
     "metadata": {},
     "outputs": []
    },
    {
     "cell_type": "code",
     "collapsed": false,
     "input": [
      "def primes(n):\n",
      "    # n is upper limit\n",
      "    yield 2\n",
      "    primes = [True] * (n+1)\n",
      "    \n",
      "    i = 3\n",
      "    while i*i < n:\n",
      "        if primes[i]:\n",
      "            yield i\n",
      "            for j in xrange(i*i, n+1, 2*i):\n",
      "                primes[j] = False\n",
      "        i += 2\n",
      "    while i <= n:\n",
      "        if primes[i]:\n",
      "            yield i\n",
      "        i += 2"
     ],
     "language": "python",
     "metadata": {},
     "outputs": [],
     "prompt_number": 32
    },
    {
     "cell_type": "code",
     "collapsed": false,
     "input": [
      "%%timeit\n",
      "for i in primes(1000000): pass"
     ],
     "language": "python",
     "metadata": {},
     "outputs": [
      {
       "output_type": "stream",
       "stream": "stdout",
       "text": [
        "1 loops, best of 3: 155 ms per loop\n"
       ]
      }
     ],
     "prompt_number": 34
    },
    {
     "cell_type": "code",
     "collapsed": false,
     "input": [
      "def pe007(n = 10001):\n",
      "    \"\"\"\n",
      "    10001st prime\n",
      "    Problem 7\n",
      "    \n",
      "    By listing the first six prime numbers: 2, 3, 5, 7, 11, and 13, we can \n",
      "    see that the 6th prime is 13. What's the 10001st, or nth, prime number?\n",
      "    \n",
      "    \"\"\"\n",
      "    \n",
      "    # assume usual avg prime gap of 100\n",
      "    # this is not great for anything larger than 10k\n",
      "    # but doable for 100k\n",
      "    \n",
      "    count = 0\n",
      "    end = int(n*(math.log(n) + math.log(math.log(n)))) + 1\n",
      "\n",
      "    for p in primes_new(end):\n",
      "        count += 1\n",
      "        if count == n:\n",
      "            return p\n",
      "#     print('end', count, p)"
     ],
     "language": "python",
     "metadata": {},
     "outputs": [],
     "prompt_number": 12
    },
    {
     "cell_type": "code",
     "collapsed": false,
     "input": [
      "%%timeit\n",
      "pe007(1000000)"
     ],
     "language": "python",
     "metadata": {},
     "outputs": [
      {
       "output_type": "stream",
       "stream": "stdout",
       "text": [
        "1 loops, best of 3: 3.47 s per loop\n"
       ]
      }
     ],
     "prompt_number": 11
    },
    {
     "cell_type": "code",
     "collapsed": false,
     "input": [
      "%%timeit\n",
      "pe007(1000000)"
     ],
     "language": "python",
     "metadata": {},
     "outputs": [
      {
       "output_type": "stream",
       "stream": "stdout",
       "text": [
        "1 loops, best of 3: 5.26 s per loop\n"
       ]
      }
     ],
     "prompt_number": 13
    },
    {
     "cell_type": "code",
     "collapsed": false,
     "input": [
      "pe007(1000000)"
     ],
     "language": "python",
     "metadata": {},
     "outputs": [
      {
       "metadata": {},
       "output_type": "pyout",
       "prompt_number": 113,
       "text": [
        "15485863"
       ]
      }
     ],
     "prompt_number": 113
    },
    {
     "cell_type": "code",
     "collapsed": false,
     "input": [
      "# problem 8\n",
      "\n",
      "s = '731671765313306249192251196744265747423553491949349698352031277450632' + \\ \n",
      "    '623957831801698480186947885184385861560789112949495459501737958331952' + \\ \n",
      "    '8532088055111254069874715852386305071569329096329522744304355766896648' + \\ \n",
      "    '9504452445231617318564030987111217223831136222989342338030813533627661' + \\ \n",
      "    '4282806444486645238749303589072962904915604407723907138105158593079608' + \\ \n",
      "    '6670172427121883998797908792274921901699720888093776657273330010533678' + \\ \n",
      "    '8122023542180975125454059475224352584907711670556013604839586446706324' + \\ \n",
      "    '4157221553975369781797784617406495514929086256932197846862248283972241' + \\ \n",
      "    '3756570560574902614079729686524145351004748216637048440319989000889524' + \\ \n",
      "    '3450658541227588666881164271714799244429282308634656748139191231628245' + \\ \n",
      "    '8617866458359124566529476545682848912883142607690042242190226710556263' + \\ \n",
      "    '2111110937054421750694165896040807198403850962455444362981230987879927' + \\ \n",
      "    '2442849091888458015616609791913387549920052406368991256071760605886116' + \\ \n",
      "    '4671094050775410022569831552000559357297257163626956188267042825248360' + \\ \n",
      "    '0823257530420752963450'"
     ],
     "language": "python",
     "metadata": {},
     "outputs": [],
     "prompt_number": 10
    },
    {
     "cell_type": "code",
     "collapsed": false,
     "input": [
      "s1 = filter(lambda a: len(a) > 12, s.split('0'))\n",
      "best = 1\n",
      "\n",
      "for num in s1:\n",
      "    end = len(num)\n",
      "    for n in range(end - 12):\n",
      "        mult = 1\n",
      "        for i in range(13):\n",
      "            #print int(num[n+i])\n",
      "            mult *= long(num[n+i])\n",
      "        if mult > best: best = mult\n",
      "\n",
      "print best"
     ],
     "language": "python",
     "metadata": {},
     "outputs": [
      {
       "output_type": "stream",
       "stream": "stdout",
       "text": [
        "23514624000\n"
       ]
      }
     ],
     "prompt_number": 11
    },
    {
     "cell_type": "code",
     "collapsed": false,
     "input": [
      "#%%timeit\n",
      "\n",
      "# problem 9\n",
      "total = 1000\n",
      "squares = [i*i for i in xrange(total)]\n",
      "\n",
      "triplets = []\n",
      "\n",
      "for i in xrange(total):\n",
      "    if i == 0: pass\n",
      "    for j in xrange(i+1, total):\n",
      "        c = squares[i] + squares[j]\n",
      "        for k in xrange(j+1, total):\n",
      "            if squares[k] == c:\n",
      "                triplets.append((i,j,k))\n",
      "                break\n",
      "\n",
      "for tup in triplets:\n",
      "    if tup[0]+tup[1]+tup[2] == total:\n",
      "        print tup\n",
      "        print tup[0]*tup[1]*tup[2]\n",
      "        pass"
     ],
     "language": "python",
     "metadata": {},
     "outputs": [
      {
       "ename": "KeyboardInterrupt",
       "evalue": "",
       "output_type": "pyerr",
       "traceback": [
        "\u001b[0;31m---------------------------------------------------------------------------\u001b[0m\n\u001b[0;31mKeyboardInterrupt\u001b[0m                         Traceback (most recent call last)",
        "\u001b[0;32m<ipython-input-67-fccd105ce9b4>\u001b[0m in \u001b[0;36m<module>\u001b[0;34m()\u001b[0m\n\u001b[1;32m     12\u001b[0m         \u001b[0mc\u001b[0m \u001b[0;34m=\u001b[0m \u001b[0msquares\u001b[0m\u001b[0;34m[\u001b[0m\u001b[0mi\u001b[0m\u001b[0;34m]\u001b[0m \u001b[0;34m+\u001b[0m \u001b[0msquares\u001b[0m\u001b[0;34m[\u001b[0m\u001b[0mj\u001b[0m\u001b[0;34m]\u001b[0m\u001b[0;34m\u001b[0m\u001b[0m\n\u001b[1;32m     13\u001b[0m         \u001b[0;32mfor\u001b[0m \u001b[0mk\u001b[0m \u001b[0;32min\u001b[0m \u001b[0mxrange\u001b[0m\u001b[0;34m(\u001b[0m\u001b[0mj\u001b[0m\u001b[0;34m+\u001b[0m\u001b[0;36m1\u001b[0m\u001b[0;34m,\u001b[0m \u001b[0mtotal\u001b[0m\u001b[0;34m)\u001b[0m\u001b[0;34m:\u001b[0m\u001b[0;34m\u001b[0m\u001b[0m\n\u001b[0;32m---> 14\u001b[0;31m             \u001b[0;32mif\u001b[0m \u001b[0msquares\u001b[0m\u001b[0;34m[\u001b[0m\u001b[0mk\u001b[0m\u001b[0;34m]\u001b[0m \u001b[0;34m==\u001b[0m \u001b[0mc\u001b[0m\u001b[0;34m:\u001b[0m\u001b[0;34m\u001b[0m\u001b[0m\n\u001b[0m\u001b[1;32m     15\u001b[0m                 \u001b[0mtriplets\u001b[0m\u001b[0;34m.\u001b[0m\u001b[0mappend\u001b[0m\u001b[0;34m(\u001b[0m\u001b[0;34m(\u001b[0m\u001b[0mi\u001b[0m\u001b[0;34m,\u001b[0m\u001b[0mj\u001b[0m\u001b[0;34m,\u001b[0m\u001b[0mk\u001b[0m\u001b[0;34m)\u001b[0m\u001b[0;34m)\u001b[0m\u001b[0;34m\u001b[0m\u001b[0m\n\u001b[1;32m     16\u001b[0m                 \u001b[0;32mbreak\u001b[0m\u001b[0;34m\u001b[0m\u001b[0m\n",
        "\u001b[0;31mKeyboardInterrupt\u001b[0m: "
       ]
      }
     ],
     "prompt_number": 67
    },
    {
     "cell_type": "code",
     "collapsed": false,
     "input": [
      "import numpy as np\n",
      "\n",
      "def pythagorean_primitive(n):\n",
      "    # n is upper limit\n",
      "    \n",
      "    U = np.mat(' 1  2  2; -2 -1 -2; 2 2 3')\n",
      "    A = np.mat(' 1  2  2;  2  1  2; 2 2 3')\n",
      "    D = np.mat('-1 -2 -2;  2  1  2; 2 2 3')\n",
      "    UAD = np.array([U, A, D])\n",
      "    \n",
      "    M = np.array([3, 4, 5])\n",
      "    while M.size:\n",
      "        M = M.reshape(-1, 3)\n",
      "        if n:\n",
      "            M = M[M[:, 2] <= n]\n",
      "        for prim in M:\n",
      "            yield prim\n",
      "        M = np.dot(M, UAD)\n",
      "\n",
      "def pythagorean(n):\n",
      "    # n is upper limit\n",
      "    for prim in pythagorean_primitive(n):\n",
      "        i = prim\n",
      "        for _ in xrange(n // prim[-1]):\n",
      "            yield i\n",
      "            i = i + prim"
     ],
     "language": "python",
     "metadata": {},
     "outputs": [],
     "prompt_number": 52
    },
    {
     "cell_type": "code",
     "collapsed": false,
     "input": [
      "n = 1000\n",
      "for triple in pythagorean(n):\n",
      "    if n == sum(triple):\n",
      "        print reduce(lambda x, y: x*y, triple)  # can optimize\n",
      "        break\n"
     ],
     "language": "python",
     "metadata": {},
     "outputs": [
      {
       "output_type": "stream",
       "stream": "stdout",
       "text": [
        "31875000\n"
       ]
      }
     ],
     "prompt_number": 70
    },
    {
     "cell_type": "code",
     "collapsed": false,
     "input": [
      "# problem 10\n",
      "# http://stackoverflow.com/questions/2897297/speed-up-bitstring-bit-operations-in-python\n",
      "\n",
      "def sieve(n=200):\n",
      "    # init\n",
      "    total = 2\n",
      "    num = 1\n",
      "    #yield 2\n",
      "\n",
      "    # initialize primes T/F list starting at zero, ignoring 0-1\n",
      "    primes = [True] * (n+1)\n",
      "    \n",
      "    # sieve till sqrt and then final number:\n",
      "    limit = int(sqrt(float(n)))\n",
      "\n",
      "    # step through numbers starting at 3\n",
      "    for i in xrange(3, n+1, 2):\n",
      "        if primes[i]:\n",
      "            total += i\n",
      "            num += 1\n",
      "            #yield i\n",
      "            \n",
      "            # correct further multiples of i to False\n",
      "            # some algorithmic modifications to sieve\n",
      "            if i <= limit:\n",
      "                for j in xrange(i*i, n+1, 2*i):\n",
      "                    primes[j] = False\n",
      "\n",
      "    print num, i, total"
     ],
     "language": "python",
     "metadata": {},
     "outputs": []
    },
    {
     "cell_type": "code",
     "collapsed": false,
     "input": [
      "s = time.time()\n",
      "sieve(2000000)\n",
      "print 'runtime', time.time()-s"
     ],
     "language": "python",
     "metadata": {},
     "outputs": [
      {
       "output_type": "stream",
       "stream": "stdout",
       "text": [
        "148933 1999999 142913828922\n",
        "runtime 0.296070814133\n"
       ]
      }
     ],
     "prompt_number": 14
    },
    {
     "cell_type": "code",
     "collapsed": false,
     "input": [
      "from eulerutils import *\n"
     ],
     "language": "python",
     "metadata": {},
     "outputs": [],
     "prompt_number": 71
    },
    {
     "cell_type": "code",
     "collapsed": false,
     "input": [
      "%%timeit\n",
      "total = 0\n",
      "for p in primes(2000000):\n",
      "    total += p\n",
      "#print total"
     ],
     "language": "python",
     "metadata": {},
     "outputs": [
      {
       "output_type": "stream",
       "stream": "stdout",
       "text": [
        "1 loops, best of 3: 338 ms per loop\n"
       ]
      }
     ],
     "prompt_number": 73
    },
    {
     "cell_type": "code",
     "collapsed": false,
     "input": [],
     "language": "python",
     "metadata": {},
     "outputs": []
    }
   ],
   "metadata": {}
  }
 ]
}