{
 "metadata": {
  "name": "",
  "signature": "sha256:54709a73e7a46780e8223800a60fab9b49cfcfc913946b0e965c039ddf6a0fb0"
 },
 "nbformat": 3,
 "nbformat_minor": 0,
 "worksheets": [
  {
   "cells": [
    {
     "cell_type": "code",
     "collapsed": false,
     "input": [
      "import math\n",
      "import numpy as np\n",
      "from collections import defaultdict\n",
      "from itertools import combinations, permutations"
     ],
     "language": "python",
     "metadata": {},
     "outputs": [],
     "prompt_number": 1
    },
    {
     "cell_type": "code",
     "collapsed": false,
     "input": [
      "# problem 51\n",
      "\n",
      "def sievegen(n):\n",
      "    yield 2\n",
      "    primes = [True]*(n+1)\n",
      "    for i in xrange(3, n+1, 2):\n",
      "        if primes[i]: yield i\n",
      "        for j in xrange(i*i, n+1, 2*i):\n",
      "            primes[j] = False\n",
      "\n",
      "def test(n=5, minp=5000, maxp=100000):\n",
      "    # family is a dict of strings prime: string int\n",
      "    family = defaultdict(list)\n",
      "    # fam gives only those with at least n numbers/primes?\n",
      "    fam = {}\n",
      "    \n",
      "    # find primes with two numbers that are the same\n",
      "    nullc = 'N'\n",
      "    for p in sievegen(int(maxp)):\n",
      "        if p < minp: continue\n",
      "        # compare chars\n",
      "        sp = str(p)\n",
      "        digits = len(sp)\n",
      "        unique = len(set(sp))\n",
      "        \n",
      "        if unique <= digits:\n",
      "            # find repeated integers\n",
      "            for i in xrange(digits-1):\n",
      "                match = sp[i]\n",
      "                for j in xrange(i+1, digits):\n",
      "                    if match == sp[j]:\n",
      "                        # add to family\n",
      "                        x = sp[:i] + nullc + sp[i+1:j] + nullc + sp[j+1:]\n",
      "                        family[x].append(match)\n",
      "                        \n",
      "                        # known repeats\n",
      "                        knownrepeats = [i, j]\n",
      "                        \n",
      "                        # find possible other repeats\n",
      "                        for k in xrange(j+1, digits):\n",
      "                            if sp[k] == match:\n",
      "                                knownrepeats.append(k)\n",
      "                        \n",
      "                        # iterate through to make things known\n",
      "                        kr = len(knownrepeats)\n",
      "                        \n",
      "                        # winnow\n",
      "                        if kr == 2: break\n",
      "                        \n",
      "                        k = knownrepeats[2]\n",
      "                        x = sp[:i] + nullc + sp[i+1:k] + nullc + sp[k+1:]\n",
      "                        family[x].append(match)\n",
      "                        x = sp[:j] + nullc + sp[j+1:k] + nullc + sp[k+1:]\n",
      "                        family[x].append(match)\n",
      "                        x = sp[:i] + nullc + sp[i+1:j] + nullc + sp[j+1:k] + nullc + sp[k+1:]\n",
      "                        family[x].append(match)\n",
      "                        \n",
      "                        # winnow\n",
      "                        if kr == 3: break\n",
      "                        \n",
      "                        l = knownrepeats[3]\n",
      "                        x = sp[:i] + nullc + sp[i+1:l] + nullc + sp[l+1:]\n",
      "                        family[x].append(match)\n",
      "                        x = sp[:j] + nullc + sp[j+1:l] + nullc + sp[l+1:]\n",
      "                        family[x].append(match)\n",
      "                        x = sp[:k] + nullc + sp[k+1:l] + nullc + sp[l+1:]\n",
      "                        family[x].append(match)\n",
      "                        x = sp[:i] + nullc + sp[i+1:j] + nullc + sp[j+1:l] + nullc + sp[l+1:]\n",
      "                        family[x].append(match)\n",
      "                        x = sp[:i] + nullc + sp[i+1:k] + nullc + sp[k+1:l] + nullc + sp[l+1:]\n",
      "                        family[x].append(match)\n",
      "                        x = sp[:j] + nullc + sp[j+1:k] + nullc + sp[k+1:l] + nullc + sp[l+1:]\n",
      "                        family[x].append(match)\n",
      "                        x = sp[:i] + nullc + sp[i+1:j] + nullc + sp[j+1:k] + nullc + sp[k+1:l] + nullc + sp[l+1:]\n",
      "                        family[x].append(match)\n",
      "                        \n",
      "                        # winnow\n",
      "                        if kr == 4: break\n",
      "                        \n",
      "                        # if kr > 4:\n",
      "                        # do nothing for now about the last groupings\n",
      "                        print 'WARNING {0} has {1} matches: {2}'.format(p, kr, knownrepeats)\n",
      "                        break\n",
      "\n",
      "\n",
      "    for i, val in family.iteritems():\n",
      "        length = len(set(val))\n",
      "        if length >= n:\n",
      "            fam[i] = val\n",
      "            print i, val, length\n",
      "\n",
      "    return fam"
     ],
     "language": "python",
     "metadata": {},
     "outputs": [],
     "prompt_number": 138
    },
    {
     "cell_type": "code",
     "collapsed": false,
     "input": [
      "fam = test(7, 10e4, 10e5)"
     ],
     "language": "python",
     "metadata": {},
     "outputs": [
      {
       "output_type": "stream",
       "stream": "stdout",
       "text": [
        "WARNING 101111 has 5 matches: [0, 2, 3, 4, 5]\n",
        "WARNING 111119 has 5 matches: [0, 1, 2, 3, 4]\n",
        "WARNING 111121 has 5 matches: [0, 1, 2, 3, 5]\n",
        "WARNING 111191 has 5 matches: [0, 1, 2, 3, 5]\n",
        "WARNING 111211 has 5 matches: [0, 1, 2, 4, 5]\n",
        "WARNING 111611 has 5 matches: [0, 1, 2, 4, 5]\n",
        "WARNING 112111 has 5 matches: [0, 1, 3, 4, 5]\n",
        "WARNING 113111 has 5 matches: [0, 1, 3, 4, 5]\n",
        "WARNING 131111 has 5 matches: [0, 2, 3, 4, 5]"
       ]
      },
      {
       "output_type": "stream",
       "stream": "stdout",
       "text": [
        "\n",
        "WARNING 199999 has 5 matches: [1, 2, 3, 4, 5]"
       ]
      },
      {
       "output_type": "stream",
       "stream": "stdout",
       "text": [
        "\n",
        "WARNING 311111 has 5 matches: [1, 2, 3, 4, 5]"
       ]
      },
      {
       "output_type": "stream",
       "stream": "stdout",
       "text": [
        "\n",
        "WARNING 313333 has 5 matches: [0, 2, 3, 4, 5]\n",
        "WARNING 323333 has 5 matches: [0, 2, 3, 4, 5]\n",
        "WARNING 331333 has 5 matches: [0, 1, 3, 4, 5]\n",
        "WARNING 333233 has 5 matches: [0, 1, 2, 4, 5]\n",
        "WARNING 333323 has 5 matches: [0, 1, 2, 3, 5]\n",
        "WARNING 333331 has 5 matches: [0, 1, 2, 3, 4]\n",
        "WARNING 333337 has 5 matches: [0, 1, 2, 3, 4]\n",
        "WARNING 333383 has 5 matches: [0, 1, 2, 3, 5]\n",
        "WARNING 333433 has 5 matches: [0, 1, 2, 4, 5]\n",
        "WARNING 333533 has 5 matches: [0, 1, 2, 4, 5]\n",
        "WARNING 334333 has 5 matches: [0, 1, 3, 4, 5]\n",
        "WARNING 343333 has 5 matches: [0, 2, 3, 4, 5]"
       ]
      },
      {
       "output_type": "stream",
       "stream": "stdout",
       "text": [
        "\n",
        "WARNING 353333 has 5 matches: [0, 2, 3, 4, 5]\n",
        "WARNING 444443 has 5 matches: [0, 1, 2, 3, 4]"
       ]
      },
      {
       "output_type": "stream",
       "stream": "stdout",
       "text": [
        "\n",
        "WARNING 444449 has 5 matches: [0, 1, 2, 3, 4]\n",
        "WARNING 511111 has 5 matches: [1, 2, 3, 4, 5]"
       ]
      },
      {
       "output_type": "stream",
       "stream": "stdout",
       "text": [
        "\n",
        "WARNING 555557 has 5 matches: [0, 1, 2, 3, 4]"
       ]
      },
      {
       "output_type": "stream",
       "stream": "stdout",
       "text": [
        "\n",
        "WARNING 599999 has 5 matches: [1, 2, 3, 4, 5]"
       ]
      },
      {
       "output_type": "stream",
       "stream": "stdout",
       "text": [
        "\n",
        "WARNING 611111 has 5 matches: [1, 2, 3, 4, 5]\n",
        "WARNING 666667 has 5 matches: [0, 1, 2, 3, 4]"
       ]
      },
      {
       "output_type": "stream",
       "stream": "stdout",
       "text": [
        "\n",
        "WARNING 727777 has 5 matches: [0, 2, 3, 4, 5]"
       ]
      },
      {
       "output_type": "stream",
       "stream": "stdout",
       "text": [
        "\n",
        "WARNING 733333 has 5 matches: [1, 2, 3, 4, 5]\n",
        "WARNING 773777 has 5 matches: [0, 1, 3, 4, 5]"
       ]
      },
      {
       "output_type": "stream",
       "stream": "stdout",
       "text": [
        "\n",
        "WARNING 775777 has 5 matches: [0, 1, 3, 4, 5]\n",
        "WARNING 777277 has 5 matches: [0, 1, 2, 4, 5]\n",
        "WARNING 777677 has 5 matches: [0, 1, 2, 4, 5]\n",
        "WARNING 777737 has 5 matches: [0, 1, 2, 3, 5]\n",
        "WARNING 777787 has 5 matches: [0, 1, 2, 3, 5]\n",
        "WARNING 777877 has 5 matches: [0, 1, 2, 4, 5]\n",
        "WARNING 777977 has 5 matches: [0, 1, 2, 4, 5]\n",
        "WARNING 778777 has 5 matches: [0, 1, 3, 4, 5]\n",
        "WARNING 787777 has 5 matches: [0, 2, 3, 4, 5]\n",
        "WARNING 799999 has 5 matches: [1, 2, 3, 4, 5]\n",
        "WARNING 888887 has 5 matches: [0, 1, 2, 3, 4]"
       ]
      },
      {
       "output_type": "stream",
       "stream": "stdout",
       "text": [
        "\n",
        "WARNING 911111 has 5 matches: [1, 2, 3, 4, 5]\n",
        "WARNING 989999 has 5 matches: [0, 2, 3, 4, 5]"
       ]
      },
      {
       "output_type": "stream",
       "stream": "stdout",
       "text": [
        "\n",
        "WARNING 991999 has 5 matches: [0, 1, 3, 4, 5]\n",
        "WARNING 999199 has 5 matches: [0, 1, 2, 4, 5]\n",
        "WARNING 999499 has 5 matches: [0, 1, 2, 4, 5]\n",
        "WARNING 999599 has 5 matches: [0, 1, 2, 4, 5]\n",
        "WARNING 999959 has 5 matches: [0, 1, 2, 3, 5]\n",
        "WARNING 999979 has 5 matches: [0, 1, 2, 3, 5]\n",
        "NNN857 ['1', '2', '3', '5', '6', '7', '8'] 7\n",
        "2NNN03 ['0', '4', '5', '6', '7', '8', '9'] 7\n",
        "N6N0N7 ['1', '2', '3', '4', '5', '6', '9'] 7\n",
        "9NNN61"
       ]
      },
      {
       "output_type": "stream",
       "stream": "stdout",
       "text": [
        " ['0', '1', '2', '6', '7', '8', '9', '9'] 7\n",
        "6N50N9 ['0', '1', '3', '4', '6', '6', '7', '9'] 7\n",
        "N4N6N9 ['1', '2', '3', '4', '6', '7', '9'] 7\n",
        "7N99N1 ['0', '1', '3', '4', '6', '7', '7', '9'] 7\n",
        "31NNN1 ['1', '1', '3', '3', '4', '5', '6', '7', '8'] 7\n",
        "N7N6N1 ['2', '3', '5', '6', '7', '8', '9'] 7\n",
        "N2N3N3 ['1', '2', '3', '4', '5', '6', '8', '9'] 8\n",
        "2N52N1 ['0', '2', '2', '3', '5', '6', '8', '9'] 7\n",
        "NNN109 ['1', '2', '4', '5', '6', '7', '8'] 7\n",
        "N7N9N7 ['1', '2', '3', '5', '6', '7', '8'] 7\n"
       ]
      }
     ],
     "prompt_number": 139
    },
    {
     "cell_type": "code",
     "collapsed": false,
     "input": [
      "# problem 52\n",
      "\n",
      "def permutedmultiple():\n",
      "    for x in xrange(1, 1000000):\n",
      "        y = set(str(x))\n",
      "        #print x, y\n",
      "        for i in range(2,7):\n",
      "            #print x*i, set(str(x*i))\n",
      "            if set(str(x*i)) == y: \n",
      "                if i == 6: \n",
      "                    return [x*i for i in xrange(1,7)]\n",
      "                else: continue\n",
      "            else: break\n",
      "    return False\n",
      "\n",
      "permutedmultiple()"
     ],
     "language": "python",
     "metadata": {},
     "outputs": [
      {
       "metadata": {},
       "output_type": "pyout",
       "prompt_number": 17,
       "text": [
        "[142857, 285714, 428571, 571428, 714285, 857142]"
       ]
      }
     ],
     "prompt_number": 17
    },
    {
     "cell_type": "code",
     "collapsed": false,
     "input": [],
     "language": "python",
     "metadata": {},
     "outputs": []
    }
   ],
   "metadata": {}
  }
 ]
}