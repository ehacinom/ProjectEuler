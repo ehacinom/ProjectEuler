{
 "metadata": {
  "name": "",
  "signature": "sha256:4c302977a1ba16c96e6a00e5eaab607c51e48c68b9f99125cbbe76d7148b27dd"
 },
 "nbformat": 3,
 "nbformat_minor": 0,
 "worksheets": [
  {
   "cells": [
    {
     "cell_type": "code",
     "collapsed": false,
     "input": [
      "import math\n",
      "import numpy as np\n",
      "from collections import defaultdict\n",
      "from itertools import combinations, permutations"
     ],
     "language": "python",
     "metadata": {},
     "outputs": [],
     "prompt_number": 1
    },
    {
     "cell_type": "code",
     "collapsed": false,
     "input": [
      "# problem 51\n",
      "\n",
      "def sievegen(n):\n",
      "    yield 2\n",
      "    primes = [True]*(n+1)\n",
      "    for i in xrange(3, n+1, 2):\n",
      "        if primes[i]: yield i\n",
      "        for j in xrange(i*i, n+1, 2*i):\n",
      "            primes[j] = False\n",
      "\n",
      "def test(n=5, minp=5000, maxp=100000):\n",
      "    # family is a dict of strings int:prime\n",
      "    family = defaultdict(list)\n",
      "    for p in sievegen(maxp):\n",
      "        if p < minp: continue\n",
      "        sp = str(p)\n",
      "        num = len(sp)\n",
      "        unique = len(set(sp))\n",
      "        if unique <= len(sp):\n",
      "            # find repeated integers\n",
      "            for i in xrange(num-1):\n",
      "                for j in xrange(i+1, num):\n",
      "                    if sp[i] == sp[j]:\n",
      "                        family[sp[i]].append(sp)\n",
      "\n",
      "    for i, val in family.iteritems():\n",
      "        tmp = []\n",
      "        for sp in set(val):\n",
      "            p = \n",
      "            tmp.append(sp)\n",
      "        "
     ],
     "language": "python",
     "metadata": {},
     "outputs": [],
     "prompt_number": 51
    },
    {
     "cell_type": "code",
     "collapsed": false,
     "input": [
      "test()"
     ],
     "language": "python",
     "metadata": {},
     "outputs": [
      {
       "output_type": "stream",
       "stream": "stdout",
       "text": [
        "1 1520 1188\n",
        "0 257 241\n",
        "3 1433 1110\n",
        "2 556 479\n",
        "5 556 498\n",
        "4 547 480\n",
        "7 1494 1158\n",
        "6 542 478\n",
        "9 1425 1117\n",
        "8 498 433\n"
       ]
      }
     ],
     "prompt_number": 52
    },
    {
     "cell_type": "code",
     "collapsed": false,
     "input": [
      "            for i in xrange(num-1):\n",
      "                for j in xrange(i+1, num):\n",
      "                    if sp[i] == sp[j]: \n",
      "                        save[sp[i]].update(i, j)"
     ],
     "language": "python",
     "metadata": {},
     "outputs": []
    },
    {
     "cell_type": "code",
     "collapsed": false,
     "input": [],
     "language": "python",
     "metadata": {},
     "outputs": []
    },
    {
     "cell_type": "code",
     "collapsed": false,
     "input": [
      "# problem 52\n",
      "\n",
      "def permutedmultiple():\n",
      "    for x in xrange(1, 1000000):\n",
      "        y = set(str(x))\n",
      "        #print x, y\n",
      "        for i in range(2,7):\n",
      "            #print x*i, set(str(x*i))\n",
      "            if set(str(x*i)) == y: \n",
      "                if i == 6: \n",
      "                    return [x*i for i in xrange(1,7)]\n",
      "                else: continue\n",
      "            else: break\n",
      "    return False\n",
      "\n",
      "permutedmultiple()"
     ],
     "language": "python",
     "metadata": {},
     "outputs": [
      {
       "metadata": {},
       "output_type": "pyout",
       "prompt_number": 17,
       "text": [
        "[142857, 285714, 428571, 571428, 714285, 857142]"
       ]
      }
     ],
     "prompt_number": 17
    },
    {
     "cell_type": "code",
     "collapsed": false,
     "input": [],
     "language": "python",
     "metadata": {},
     "outputs": []
    }
   ],
   "metadata": {}
  }
 ]
}