{
 "metadata": {
  "name": "",
  "signature": "sha256:96706e75e2225af1b013c493d23dd664db0273c8bd62f8fc17765b4ac19693ed"
 },
 "nbformat": 3,
 "nbformat_minor": 0,
 "worksheets": [
  {
   "cells": [
    {
     "cell_type": "code",
     "collapsed": false,
     "input": [
      "import math\n",
      "import numpy as np\n",
      "from collections import defaultdict\n",
      "from itertools import combinations, permutations"
     ],
     "language": "python",
     "metadata": {},
     "outputs": [],
     "prompt_number": 1
    },
    {
     "cell_type": "code",
     "collapsed": false,
     "input": [
      "# problem 51\n",
      "\n",
      "def sievegen(n):\n",
      "    yield 2\n",
      "    primes = [True]*(n+1)\n",
      "    for i in xrange(3, n+1, 2):\n",
      "        if primes[i]: yield i\n",
      "        for j in xrange(i*i, n+1, 2*i):\n",
      "            primes[j] = False\n",
      "\n",
      "def test(n=5, minp=5000, maxp=100000):\n",
      "    # family is a dict of strings prime: string int\n",
      "    family = defaultdict(list)\n",
      "    # fam gives only those with at least n numbers/primes?\n",
      "    fam = {}\n",
      "    \n",
      "    # find primes with two numbers that are the same\n",
      "    nullc = 'N'\n",
      "    for p in sievegen(int(maxp)):\n",
      "        if p < minp: continue\n",
      "        # compare chars\n",
      "        sp = str(p)\n",
      "        digits = len(sp)\n",
      "        unique = len(set(sp))\n",
      "        \n",
      "        if unique <= digits:\n",
      "            # find repeated integers\n",
      "            for i in xrange(digits-1):\n",
      "                match = sp[i]\n",
      "                for j in xrange(i+1, digits):\n",
      "                    if match == sp[j]:\n",
      "                        # add to family\n",
      "                        x = sp[:i] + nullc + sp[i+1:j] + nullc + sp[j+1:]\n",
      "                        family[x].append(match)\n",
      "                        \n",
      "                        # known repeats\n",
      "                        knownrepeats = [i, j]\n",
      "                        \n",
      "                        # find possible other repeats\n",
      "                        for k in xrange(j+1, digits):\n",
      "                            if sp[k] == match:\n",
      "                                knownrepeats.append(k)\n",
      "                        \n",
      "                        # iterate through to make things known\n",
      "                        kr = len(knownrepeats)\n",
      "                        \n",
      "                        # winnow\n",
      "                        if kr == 2: break\n",
      "                        \n",
      "                        k = knownrepeats[2]\n",
      "                        x = sp[:i] + nullc + sp[i+1:k] + nullc + sp[k+1:]\n",
      "                        family[x].append(match)\n",
      "                        x = sp[:j] + nullc + sp[j+1:k] + nullc + sp[k+1:]\n",
      "                        family[x].append(match)\n",
      "                        x = sp[:i] + nullc + sp[i+1:j] + nullc + sp[j+1:k] + nullc + sp[k+1:]\n",
      "                        family[x].append(match)\n",
      "                        \n",
      "                        # winnow\n",
      "                        if kr == 3: break\n",
      "                        \n",
      "                        l = knownrepeats[3]\n",
      "                        x = sp[:i] + nullc + sp[i+1:l] + nullc + sp[l+1:]\n",
      "                        family[x].append(match)\n",
      "                        x = sp[:j] + nullc + sp[j+1:l] + nullc + sp[l+1:]\n",
      "                        family[x].append(match)\n",
      "                        x = sp[:k] + nullc + sp[k+1:l] + nullc + sp[l+1:]\n",
      "                        family[x].append(match)\n",
      "                        x = sp[:i] + nullc + sp[i+1:j] + nullc + sp[j+1:l] + nullc + sp[l+1:]\n",
      "                        family[x].append(match)\n",
      "                        x = sp[:i] + nullc + sp[i+1:k] + nullc + sp[k+1:l] + nullc + sp[l+1:]\n",
      "                        family[x].append(match)\n",
      "                        x = sp[:j] + nullc + sp[j+1:k] + nullc + sp[k+1:l] + nullc + sp[l+1:]\n",
      "                        family[x].append(match)\n",
      "                        x = sp[:i] + nullc + sp[i+1:j] + nullc + sp[j+1:k] + nullc + sp[k+1:l] + nullc + sp[l+1:]\n",
      "                        family[x].append(match)\n",
      "                        \n",
      "                        # winnow\n",
      "                        if kr == 4: break\n",
      "                        \n",
      "                        # if kr > 4:\n",
      "                        # do nothing for now about the last groupings\n",
      "                        print 'WARNING {0} has {1} matches: {2}'.format(p, kr, knownrepeats)\n",
      "                        break\n",
      "\n",
      "\n",
      "    for i, val in family.iteritems():\n",
      "        length = len(set(val))\n",
      "        if length >= n:\n",
      "            fam[i] = val\n",
      "            print i, val, length\n",
      "\n",
      "    return fam"
     ],
     "language": "python",
     "metadata": {},
     "outputs": [],
     "prompt_number": 2
    },
    {
     "cell_type": "code",
     "collapsed": false,
     "input": [
      "fam = test(7, 10e4, 10e5)"
     ],
     "language": "python",
     "metadata": {},
     "outputs": [
      {
       "output_type": "stream",
       "stream": "stdout",
       "text": [
        "WARNING 101111 has 5 matches: [0, 2, 3, 4, 5]\n",
        "WARNING 111119 has 5 matches: [0, 1, 2, 3, 4]\n",
        "WARNING 111121 has 5 matches: [0, 1, 2, 3, 5]\n",
        "WARNING 111191 has 5 matches: [0, 1, 2, 3, 5]\n",
        "WARNING 111211 has 5 matches: [0, 1, 2, 4, 5]\n",
        "WARNING 111611 has 5 matches: [0, 1, 2, 4, 5]\n",
        "WARNING 112111 has 5 matches: [0, 1, 3, 4, 5]\n",
        "WARNING 113111 has 5 matches: [0, 1, 3, 4, 5]\n",
        "WARNING 131111 has 5 matches: [0, 2, 3, 4, 5]"
       ]
      },
      {
       "output_type": "stream",
       "stream": "stdout",
       "text": [
        "\n",
        "WARNING 199999 has 5 matches: [1, 2, 3, 4, 5]"
       ]
      },
      {
       "output_type": "stream",
       "stream": "stdout",
       "text": [
        "\n",
        "WARNING 311111 has 5 matches: [1, 2, 3, 4, 5]"
       ]
      },
      {
       "output_type": "stream",
       "stream": "stdout",
       "text": [
        "\n",
        "WARNING 313333 has 5 matches: [0, 2, 3, 4, 5]\n",
        "WARNING 323333 has 5 matches: [0, 2, 3, 4, 5]\n",
        "WARNING 331333 has 5 matches: [0, 1, 3, 4, 5]\n",
        "WARNING 333233 has 5 matches: [0, 1, 2, 4, 5]\n",
        "WARNING 333323 has 5 matches: [0, 1, 2, 3, 5]\n",
        "WARNING 333331 has 5 matches: [0, 1, 2, 3, 4]\n",
        "WARNING 333337 has 5 matches: [0, 1, 2, 3, 4]\n",
        "WARNING 333383 has 5 matches: [0, 1, 2, 3, 5]\n",
        "WARNING 333433 has 5 matches: [0, 1, 2, 4, 5]\n",
        "WARNING 333533 has 5 matches: [0, 1, 2, 4, 5]\n",
        "WARNING 334333 has 5 matches: [0, 1, 3, 4, 5]"
       ]
      },
      {
       "output_type": "stream",
       "stream": "stdout",
       "text": [
        "\n",
        "WARNING 343333 has 5 matches: [0, 2, 3, 4, 5]\n",
        "WARNING 353333 has 5 matches: [0, 2, 3, 4, 5]\n",
        "WARNING 444443 has 5 matches: [0, 1, 2, 3, 4]"
       ]
      },
      {
       "output_type": "stream",
       "stream": "stdout",
       "text": [
        "\n",
        "WARNING 444449 has 5 matches: [0, 1, 2, 3, 4]\n",
        "WARNING 511111 has 5 matches: [1, 2, 3, 4, 5]"
       ]
      },
      {
       "output_type": "stream",
       "stream": "stdout",
       "text": [
        "\n",
        "WARNING 555557 has 5 matches: [0, 1, 2, 3, 4]"
       ]
      },
      {
       "output_type": "stream",
       "stream": "stdout",
       "text": [
        "\n",
        "WARNING 599999 has 5 matches: [1, 2, 3, 4, 5]"
       ]
      },
      {
       "output_type": "stream",
       "stream": "stdout",
       "text": [
        "\n",
        "WARNING 611111 has 5 matches: [1, 2, 3, 4, 5]\n",
        "WARNING 666667 has 5 matches: [0, 1, 2, 3, 4]"
       ]
      },
      {
       "output_type": "stream",
       "stream": "stdout",
       "text": [
        "\n",
        "WARNING 727777 has 5 matches: [0, 2, 3, 4, 5]"
       ]
      },
      {
       "output_type": "stream",
       "stream": "stdout",
       "text": [
        "\n",
        "WARNING 733333 has 5 matches: [1, 2, 3, 4, 5]\n",
        "WARNING 773777 has 5 matches: [0, 1, 3, 4, 5]"
       ]
      },
      {
       "output_type": "stream",
       "stream": "stdout",
       "text": [
        "\n",
        "WARNING 775777 has 5 matches: [0, 1, 3, 4, 5]\n",
        "WARNING 777277 has 5 matches: [0, 1, 2, 4, 5]\n",
        "WARNING 777677 has 5 matches: [0, 1, 2, 4, 5]\n",
        "WARNING 777737 has 5 matches: [0, 1, 2, 3, 5]\n",
        "WARNING 777787 has 5 matches: [0, 1, 2, 3, 5]\n",
        "WARNING 777877 has 5 matches: [0, 1, 2, 4, 5]\n",
        "WARNING 777977 has 5 matches: [0, 1, 2, 4, 5]\n",
        "WARNING 778777 has 5 matches: [0, 1, 3, 4, 5]\n",
        "WARNING 787777 has 5 matches: [0, 2, 3, 4, 5]\n",
        "WARNING 799999 has 5 matches: [1, 2, 3, 4, 5]"
       ]
      },
      {
       "output_type": "stream",
       "stream": "stdout",
       "text": [
        "\n",
        "WARNING 888887 has 5 matches: [0, 1, 2, 3, 4]"
       ]
      },
      {
       "output_type": "stream",
       "stream": "stdout",
       "text": [
        "\n",
        "WARNING 911111 has 5 matches: [1, 2, 3, 4, 5]\n",
        "WARNING 989999 has 5 matches: [0, 2, 3, 4, 5]"
       ]
      },
      {
       "output_type": "stream",
       "stream": "stdout",
       "text": [
        "\n",
        "WARNING 991999 has 5 matches: [0, 1, 3, 4, 5]\n",
        "WARNING 999199 has 5 matches: [0, 1, 2, 4, 5]\n",
        "WARNING 999499 has 5 matches: [0, 1, 2, 4, 5]\n",
        "WARNING 999599 has 5 matches: [0, 1, 2, 4, 5]\n",
        "WARNING 999959 has 5 matches: [0, 1, 2, 3, 5]\n",
        "WARNING 999979 has 5 matches: [0, 1, 2, 3, 5]\n",
        "NNN857 ['1', '2', '3', '5', '6', '7', '8'] 7\n",
        "2NNN03 ['0', '4', '5', '6', '7', '8', '9'] 7\n",
        "N6N0N7 ['1', '2', '3', '4', '5', '6', '9'] 7\n",
        "9NNN61 ['0', '1', '2', '6', '7', '8', '9', '9'] 7\n",
        "6N50N9"
       ]
      },
      {
       "output_type": "stream",
       "stream": "stdout",
       "text": [
        " ['0', '1', '3', '4', '6', '6', '7', '9'] 7\n",
        "N4N6N9 ['1', '2', '3', '4', '6', '7', '9'] 7\n",
        "7N99N1 ['0', '1', '3', '4', '6', '7', '7', '9'] 7\n",
        "31NNN1 ['1', '1', '3', '3', '4', '5', '6', '7', '8'] 7\n",
        "N7N6N1 ['2', '3', '5', '6', '7', '8', '9'] 7\n",
        "N2N3N3 ['1', '2', '3', '4', '5', '6', '8', '9'] 8\n",
        "2N52N1 ['0', '2', '2', '3', '5', '6', '8', '9'] 7\n",
        "NNN109 ['1', '2', '4', '5', '6', '7', '8'] 7\n",
        "N7N9N7 ['1', '2', '3', '5', '6', '7', '8'] 7\n"
       ]
      }
     ],
     "prompt_number": 3
    },
    {
     "cell_type": "code",
     "collapsed": false,
     "input": [
      "# problem 52\n",
      "\n",
      "def permutedmultiple():\n",
      "    for x in xrange(1, 1000000):\n",
      "        y = set(str(x))\n",
      "        #print x, y\n",
      "        for i in range(2,7):\n",
      "            #print x*i, set(str(x*i))\n",
      "            if set(str(x*i)) == y: \n",
      "                if i == 6: \n",
      "                    return [x*i for i in xrange(1,7)]\n",
      "                else: continue\n",
      "            else: break\n",
      "    return False\n",
      "\n",
      "permutedmultiple()"
     ],
     "language": "python",
     "metadata": {},
     "outputs": [
      {
       "metadata": {},
       "output_type": "pyout",
       "prompt_number": 4,
       "text": [
        "[142857, 285714, 428571, 571428, 714285, 857142]"
       ]
      }
     ],
     "prompt_number": 4
    },
    {
     "cell_type": "code",
     "collapsed": false,
     "input": [
      "# problem 53\n",
      "\n",
      "count = 0\n",
      "for n in xrange(101):\n",
      "    for r in xrange(n):\n",
      "        c = math.factorial(n) / math.factorial(r) / math.factorial(n-r)\n",
      "        if c > 10e5: \n",
      "            count += 1\n",
      "print count"
     ],
     "language": "python",
     "metadata": {},
     "outputs": [
      {
       "output_type": "stream",
       "stream": "stdout",
       "text": [
        "4075\n"
       ]
      }
     ],
     "prompt_number": 5
    },
    {
     "cell_type": "code",
     "collapsed": false,
     "input": [
      "# problem 54\n",
      "\n",
      "num = {'2':2, '3':3, '4':4, '5':5, '6':6, '7':7, '8':8, '9':9, 'T':10, 'J':11, 'Q':12, 'K':13, 'A':14}\n",
      "\n",
      "def gethand(hand, suits):\n",
      "    \n",
      "    def check_flush(suits):\n",
      "        if len(set(suits)) == 1:\n",
      "            return True\n",
      "        return False\n",
      "\n",
      "    def check_straight(hand):\n",
      "        tmp = sorted(hand)\n",
      "        if tmp[4] - tmp[0] == 4:\n",
      "            if tmp[3] - tmp[1] == 2:\n",
      "                if tmp[2] == tmp[0]+2:\n",
      "                    return True\n",
      "        return False\n",
      "    \n",
      "    # check straight flush\n",
      "    if check_straight(hand) and check_flush(hand):\n",
      "        return 8\n",
      "    \n",
      "    variety = len(set(hand))\n",
      "    \n",
      "    # check four / full\n",
      "    if variety == 2:\n",
      "        for i, h in enumerate(hand):\n",
      "            if i == 0: \n",
      "                hh = h\n",
      "                count = 1\n",
      "                continue\n",
      "            if h == hh: count += 1\n",
      "        if count == 4 or count == 1:\n",
      "            return 7\n",
      "        if count == 3 or count == 2:\n",
      "            return 6\n",
      "    # check flush\n",
      "    if check_flush(hand):\n",
      "        return 5\n",
      "    # check straight\n",
      "    if check_straight(hand):\n",
      "        return 4\n",
      "    # check three / two pair\n",
      "    if variety == 3:\n",
      "        cards = defaultdict(int)\n",
      "        for h in hand:\n",
      "            cards[h] += 1\n",
      "        for cnums in cards.values():\n",
      "            if cnums == 3:\n",
      "                return 3\n",
      "            if cnums == 2:\n",
      "                return 2\n",
      "    # check pair\n",
      "    if variety == 4:\n",
      "        return 1\n",
      "    # high card\n",
      "    return 0\n",
      "\n",
      "def poker():\n",
      "    \n",
      "    def pairs(hand):\n",
      "        cards = defaultdict(int)\n",
      "        for h in hand:\n",
      "            cards[h] += 1\n",
      "        for h, i in cards.iteritems():\n",
      "            if i == 2:\n",
      "                return int(h)\n",
      "        return False\n",
      "    \n",
      "    wins = 0\n",
      "    with open('p054_poker.txt') as f:\n",
      "        for line in f:\n",
      "            x = line.split()\n",
      "\n",
      "            # create hand: number and suit\n",
      "            left = x[:5]\n",
      "            leftN = [num[i[0]] for i in left]\n",
      "            leftS = [i[1] for i in left]\n",
      "            right = x[5:]\n",
      "            rightN = [num[i[0]] for i in right]\n",
      "            rightS = [i[1] for i in right]\n",
      "\n",
      "            # get hand\n",
      "            L = gethand(leftN, leftS)\n",
      "            R = gethand(rightN, rightS)\n",
      "\n",
      "            # wins\n",
      "            if L > R:\n",
      "                wins += 1\n",
      "            elif L == R:\n",
      "                pass\n",
      "                if L == 0:\n",
      "                    if max(leftN) > max(rightN):\n",
      "                        wins += 1\n",
      "                elif L == 1:\n",
      "                    pl, pr = pairs(leftN), pairs(rightN)\n",
      "                    if pl > pr:\n",
      "                        wins += 1\n",
      "                    elif pl == pr:\n",
      "                        if max(leftN) > max(rightN):\n",
      "                            wins += 1\n",
      "                else:\n",
      "                    print L, leftN, leftS, R, rightN, rightS\n",
      "\n",
      "    return wins\n",
      "\n",
      "wins = poker()\n",
      "print wins"
     ],
     "language": "python",
     "metadata": {},
     "outputs": [
      {
       "output_type": "stream",
       "stream": "stdout",
       "text": [
        "376\n"
       ]
      }
     ],
     "prompt_number": 8
    },
    {
     "cell_type": "code",
     "collapsed": false,
     "input": [
      "# problem 55"
     ],
     "language": "python",
     "metadata": {},
     "outputs": []
    },
    {
     "cell_type": "code",
     "collapsed": false,
     "input": [],
     "language": "python",
     "metadata": {},
     "outputs": []
    },
    {
     "cell_type": "code",
     "collapsed": false,
     "input": [],
     "language": "python",
     "metadata": {},
     "outputs": []
    },
    {
     "cell_type": "code",
     "collapsed": false,
     "input": [],
     "language": "python",
     "metadata": {},
     "outputs": []
    },
    {
     "cell_type": "code",
     "collapsed": false,
     "input": [],
     "language": "python",
     "metadata": {},
     "outputs": []
    }
   ],
   "metadata": {}
  }
 ]
}