{
 "metadata": {
  "name": "",
  "signature": "sha256:edfa387a6bb9dbe74475cf8fc6d6257c82f69f20ff99b0550351aac9033fb4ce"
 },
 "nbformat": 3,
 "nbformat_minor": 0,
 "worksheets": [
  {
   "cells": [
    {
     "cell_type": "code",
     "collapsed": false,
     "input": [
      "import math\n",
      "import numpy as np\n",
      "from collections import defaultdict\n",
      "from itertools import combinations, permutations"
     ],
     "language": "python",
     "metadata": {},
     "outputs": [],
     "prompt_number": 1
    },
    {
     "cell_type": "code",
     "collapsed": false,
     "input": [
      "# problem 51\n",
      "\n",
      "def sievegen(n):\n",
      "    yield 2\n",
      "    primes = [True]*(n+1)\n",
      "    for i in xrange(3, n+1, 2):\n",
      "        if primes[i]: yield i\n",
      "        for j in xrange(i*i, n+1, 2*i):\n",
      "            primes[j] = False\n",
      "\n",
      "def test(n=5, minp=5000, maxp=100000):\n",
      "    # family is a dict of strings prime:int\n",
      "    family = defaultdict(list)\n",
      "    \n",
      "    # find primes with two numbers that are the same\n",
      "    nullc = 'N'\n",
      "    for p in sievegen(int(maxp)):\n",
      "        if p < minp: continue\n",
      "        sp = str(p)\n",
      "        num = len(sp)\n",
      "        unique = len(set(sp))\n",
      "        if unique <= len(sp):\n",
      "            # find repeated integers\n",
      "            for i in xrange(num-1):\n",
      "                for j in xrange(i+1, num):\n",
      "                    if sp[i] == sp[j]:\n",
      "                        x = sp[:i] + nullc + sp[i+1:j] + nullc + sp[j+1:]\n",
      "                        family[x].append(sp[i])\n",
      "\n",
      "    for i, val in family.iteritems():\n",
      "        if len(val) >= n:\n",
      "            print i, val"
     ],
     "language": "python",
     "metadata": {},
     "outputs": [],
     "prompt_number": 76
    },
    {
     "cell_type": "code",
     "collapsed": false,
     "input": [
      "test(8, 10e6, 10e7)"
     ],
     "language": "python",
     "metadata": {},
     "outputs": [],
     "prompt_number": 77
    },
    {
     "cell_type": "code",
     "collapsed": false,
     "input": [
      "10e7"
     ],
     "language": "python",
     "metadata": {},
     "outputs": [
      {
       "metadata": {},
       "output_type": "pyout",
       "prompt_number": 75,
       "text": [
        "100000000.0"
       ]
      }
     ],
     "prompt_number": 75
    },
    {
     "cell_type": "code",
     "collapsed": false,
     "input": [
      "            for i in xrange(num-1):\n",
      "                for j in xrange(i+1, num):\n",
      "                    if sp[i] == sp[j]: \n",
      "                        save[sp[i]].update(i, j)"
     ],
     "language": "python",
     "metadata": {},
     "outputs": []
    },
    {
     "cell_type": "code",
     "collapsed": false,
     "input": [],
     "language": "python",
     "metadata": {},
     "outputs": []
    },
    {
     "cell_type": "code",
     "collapsed": false,
     "input": [
      "# problem 52\n",
      "\n",
      "def permutedmultiple():\n",
      "    for x in xrange(1, 1000000):\n",
      "        y = set(str(x))\n",
      "        #print x, y\n",
      "        for i in range(2,7):\n",
      "            #print x*i, set(str(x*i))\n",
      "            if set(str(x*i)) == y: \n",
      "                if i == 6: \n",
      "                    return [x*i for i in xrange(1,7)]\n",
      "                else: continue\n",
      "            else: break\n",
      "    return False\n",
      "\n",
      "permutedmultiple()"
     ],
     "language": "python",
     "metadata": {},
     "outputs": [
      {
       "metadata": {},
       "output_type": "pyout",
       "prompt_number": 17,
       "text": [
        "[142857, 285714, 428571, 571428, 714285, 857142]"
       ]
      }
     ],
     "prompt_number": 17
    },
    {
     "cell_type": "code",
     "collapsed": false,
     "input": [],
     "language": "python",
     "metadata": {},
     "outputs": []
    }
   ],
   "metadata": {}
  }
 ]
}