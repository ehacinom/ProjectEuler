{
 "metadata": {
  "name": "",
  "signature": "sha256:c0945869d8623198b0f149ec697a93f9698c670564ad3b5d7803d30dc5be38a8"
 },
 "nbformat": 3,
 "nbformat_minor": 0,
 "worksheets": [
  {
   "cells": [
    {
     "cell_type": "code",
     "collapsed": false,
     "input": [
      "import math\n",
      "import numpy as np\n",
      "from collections import defaultdict\n",
      "from itertools import combinations, permutations"
     ],
     "language": "python",
     "metadata": {},
     "outputs": [],
     "prompt_number": 1
    },
    {
     "cell_type": "code",
     "collapsed": false,
     "input": [
      "# problem 52\n",
      "\n",
      "for i in xrange"
     ],
     "language": "python",
     "metadata": {},
     "outputs": []
    }
   ],
   "metadata": {}
  }
 ]
}