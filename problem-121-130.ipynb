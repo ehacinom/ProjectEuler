{
 "metadata": {
  "name": "",
  "signature": "sha256:d568c1ec29803fc0864a74ccafeded499ede7106eb9cc1200cc5b83c36695882"
 },
 "nbformat": 3,
 "nbformat_minor": 0,
 "worksheets": [
  {
   "cells": [
    {
     "cell_type": "code",
     "collapsed": false,
     "input": [
      "import math\n",
      "import numpy as np\n",
      "from collections import defaultdict"
     ],
     "language": "python",
     "metadata": {},
     "outputs": [],
     "prompt_number": 1
    },
    {
     "cell_type": "code",
     "collapsed": false,
     "input": [
      "# problem 125\n",
      "def palindromic_sums(top = 100, upper_bound = 1e8):\n",
      "    ps = 0\n",
      "    lister = set()\n",
      "    top = int(top)\n",
      "    for a in xrange(1, top+1):\n",
      "        for z in xrange(a+1, top+1):\n",
      "            m = sum([i**2 for i in xrange(a,z+1)])\n",
      "            if m >= upper_bound: break\n",
      "            n = str(m)\n",
      "            if n == n[::-1]:\n",
      "                if m not in lister:\n",
      "                    lister.add(m)\n",
      "                    #print a, \"\\t\", z, \"\\t\", n, m\n",
      "                    ps += m\n",
      "\n",
      "    print len(lister)\n",
      "    return ps\n",
      "\n",
      "palindromic_sums(1e5)"
     ],
     "language": "python",
     "metadata": {},
     "outputs": [
      {
       "output_type": "stream",
       "stream": "stdout",
       "text": [
        "166\n"
       ]
      },
      {
       "metadata": {},
       "output_type": "pyout",
       "prompt_number": 59,
       "text": [
        "2906969179"
       ]
      }
     ],
     "prompt_number": 59
    },
    {
     "cell_type": "code",
     "collapsed": false,
     "input": [],
     "language": "python",
     "metadata": {},
     "outputs": []
    }
   ],
   "metadata": {}
  }
 ]
}