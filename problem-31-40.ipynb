{
 "metadata": {
  "name": "",
  "signature": "sha256:bb3094321899782a707be29ce743c3e1528824a27be0e1994ce9f7dd10a88ee1"
 },
 "nbformat": 3,
 "nbformat_minor": 0,
 "worksheets": [
  {
   "cells": [
    {
     "cell_type": "code",
     "collapsed": false,
     "input": [
      "import numpy as np\n",
      "import time\n",
      "import math\n",
      "from collections import defaultdict, deque"
     ],
     "language": "python",
     "metadata": {},
     "outputs": [],
     "prompt_number": 35
    },
    {
     "cell_type": "code",
     "collapsed": false,
     "input": [
      "# problem 32\n",
      "\n",
      "def rmnum(n, numbers):\n",
      "    num = numbers.copy()\n",
      "    # modifies numbers!!\n",
      "    for i in str(n):\n",
      "        try:\n",
      "            num.remove(int(i))\n",
      "        except KeyError:\n",
      "            return False\n",
      "    return num\n",
      "\n",
      "def panproduct(end = 200):\n",
      "    num = set(range(1, 10))\n",
      "    pandigital = defaultdict(list)\n",
      "\n",
      "    for i in xrange(1, end):\n",
      "        tmpi = rmnum(i, num)\n",
      "        if tmpi:\n",
      "            for j in xrange(i+1, end):\n",
      "                tmpj = rmnum(j, tmpi)\n",
      "                if tmpj:\n",
      "                    k = i * j\n",
      "                    tmpk = rmnum(k, tmpj)\n",
      "                    if tmpk == set():\n",
      "                        pandigital[k].append((i,j))\n",
      "                        print i, j, k\n",
      "\n",
      "    return pandigital"
     ],
     "language": "python",
     "metadata": {},
     "outputs": [],
     "prompt_number": 2
    },
    {
     "cell_type": "code",
     "collapsed": false,
     "input": [
      "# probababy 10k is largest possible product\n",
      "end = 2000\n",
      "\n",
      "pan = panproduct(end)\n",
      "total = 0\n",
      "for k, v in pan.iteritems():\n",
      "    #print k, v\n",
      "    total += k\n",
      "print total"
     ],
     "language": "python",
     "metadata": {},
     "outputs": [
      {
       "output_type": "stream",
       "stream": "stdout",
       "text": [
        "4 1738 6952\n",
        "4 1963 7852\n",
        "12"
       ]
      },
      {
       "output_type": "stream",
       "stream": "stdout",
       "text": [
        " 483 5796\n",
        "18"
       ]
      },
      {
       "output_type": "stream",
       "stream": "stdout",
       "text": [
        " 297 5346\n",
        "27"
       ]
      },
      {
       "output_type": "stream",
       "stream": "stdout",
       "text": [
        " 198 5346\n",
        "28 157 4396\n",
        "39"
       ]
      },
      {
       "output_type": "stream",
       "stream": "stdout",
       "text": [
        " 186 7254\n",
        "42 138 5796\n",
        "48"
       ]
      },
      {
       "output_type": "stream",
       "stream": "stdout",
       "text": [
        " 159 7632\n",
        "45228"
       ]
      },
      {
       "output_type": "stream",
       "stream": "stdout",
       "text": [
        "\n"
       ]
      }
     ],
     "prompt_number": 3
    },
    {
     "cell_type": "code",
     "collapsed": false,
     "input": [
      "# trying for huge numbers, takes a few minutes\n",
      "end = 20000\n",
      "\n",
      "pan = panproduct(end)\n",
      "total = 0\n",
      "for k, v in pan.iteritems():\n",
      "    print k, v\n",
      "    total += k"
     ],
     "language": "python",
     "metadata": {},
     "outputs": [
      {
       "output_type": "stream",
       "stream": "stdout",
       "text": [
        "4 1738 6952\n",
        "4 1963 7852\n",
        "12"
       ]
      },
      {
       "output_type": "stream",
       "stream": "stdout",
       "text": [
        " 483 5796\n",
        "18"
       ]
      },
      {
       "output_type": "stream",
       "stream": "stdout",
       "text": [
        " 297 5346\n",
        "27"
       ]
      },
      {
       "output_type": "stream",
       "stream": "stdout",
       "text": [
        " 198 5346\n",
        "28"
       ]
      },
      {
       "output_type": "stream",
       "stream": "stdout",
       "text": [
        " 157 4396\n",
        "39"
       ]
      },
      {
       "output_type": "stream",
       "stream": "stdout",
       "text": [
        " 186 7254\n",
        "42"
       ]
      },
      {
       "output_type": "stream",
       "stream": "stdout",
       "text": [
        " 138 5796\n",
        "48"
       ]
      },
      {
       "output_type": "stream",
       "stream": "stdout",
       "text": [
        " 159 7632\n",
        "5346"
       ]
      },
      {
       "output_type": "stream",
       "stream": "stdout",
       "text": [
        " [(18, 297), (27, 198)]\n",
        "5796 [(12, 483), (42, 138)]\n",
        "6952 [(4, 1738)]\n",
        "4396 [(28, 157)]\n",
        "7852 [(4, 1963)]\n",
        "7632 [(48, 159)]\n",
        "7254 [(39, 186)]\n"
       ]
      }
     ],
     "prompt_number": 20
    },
    {
     "cell_type": "code",
     "collapsed": false,
     "input": [
      "# problem 33\n",
      "# start with one digit, ignoring all zeros in both first and second digit of both numbers\n",
      "arr = range(1,10)\n",
      "ARR = [str(i) for i in arr]\n",
      "\n",
      "def uncancel(i, j):\n",
      "    I, J = str(i), str(j)\n",
      "    for K in ARR:\n",
      "        num = [float(K+I)/int(K+J), float(K+I)/int(J+K), float(I+K)/int(K+J), float(I+K)/int(J+K)]\n",
      "        for x, n in enumerate(num):\n",
      "            if n == float(i)/j:\n",
      "                print i, '/', j, 'by', K\n",
      "\n",
      "for i in arr:\n",
      "    for j in range(i+1, 10):\n",
      "        uncancel(i, j)"
     ],
     "language": "python",
     "metadata": {},
     "outputs": [
      {
       "output_type": "stream",
       "stream": "stdout",
       "text": [
        "1 / 4 by 6\n",
        "1 / 5 by 9\n",
        "2 / 5 by 6\n",
        "4 / 8 by 9\n"
       ]
      }
     ],
     "prompt_number": 6
    },
    {
     "cell_type": "code",
     "collapsed": false,
     "input": [
      "# problem 34\n",
      "end = 50000\n",
      "\n",
      "arr = [math.factorial(i) for i in xrange(10)]\n",
      "total = 0\n",
      "for i in xrange(10, end):\n",
      "    curious = 0\n",
      "    for j in str(i):\n",
      "        curious += arr[int(j)]\n",
      "    if i == curious:\n",
      "        print i\n",
      "        total += i\n",
      "print 'total', total"
     ],
     "language": "python",
     "metadata": {},
     "outputs": [
      {
       "output_type": "stream",
       "stream": "stdout",
       "text": [
        "145\n",
        "40585"
       ]
      },
      {
       "output_type": "stream",
       "stream": "stdout",
       "text": [
        "\n",
        "total"
       ]
      },
      {
       "output_type": "stream",
       "stream": "stdout",
       "text": [
        " 40730\n"
       ]
      }
     ],
     "prompt_number": 27
    },
    {
     "cell_type": "code",
     "collapsed": false,
     "input": [
      "# borrowing from problem 21\n",
      "\n",
      "# primes <= n\n",
      "def sievegen(n):\n",
      "    yield 2\n",
      "    primes = [True] * (n+1) # init T/F primes, ignore 0/1 truthiness\n",
      "    for i in xrange(3, n+1, 2):\n",
      "        if primes[i]:\n",
      "            yield i\n",
      "            for j in xrange(i*i, n+1, 2*i):\n",
      "                primes[j] = False\n",
      "\n",
      "def circularprime(n=1000000):\n",
      "    primes = list(sievegen(n))\n",
      "    for p in primes:\n",
      "        P = deque(str(p))\n",
      "        for iter in xrange(len(P)):\n",
      "            print int(''.join(P))\n",
      "            P.rotate()\n",
      "        "
     ],
     "language": "python",
     "metadata": {},
     "outputs": [],
     "prompt_number": 45
    },
    {
     "cell_type": "code",
     "collapsed": false,
     "input": [
      "circularprime(100)"
     ],
     "language": "python",
     "metadata": {},
     "outputs": [
      {
       "output_type": "stream",
       "stream": "stdout",
       "text": [
        "2\n",
        "3\n",
        "5\n",
        "7\n",
        "11\n",
        "11\n",
        "13\n",
        "31\n",
        "17\n",
        "71\n",
        "19\n",
        "91\n",
        "23\n",
        "32\n",
        "29\n",
        "92\n",
        "31\n",
        "13\n",
        "37\n",
        "73\n",
        "41\n",
        "14\n",
        "43\n",
        "34\n",
        "47\n",
        "74\n",
        "53\n",
        "35\n",
        "59\n",
        "95\n",
        "61\n",
        "16\n",
        "67\n",
        "76\n",
        "71\n",
        "17\n",
        "73\n",
        "37\n",
        "79\n",
        "97\n",
        "83\n",
        "38\n",
        "89\n",
        "98\n",
        "97\n",
        "79\n"
       ]
      }
     ],
     "prompt_number": 46
    },
    {
     "cell_type": "code",
     "collapsed": false,
     "input": [
      "x = deque(str(145))\n",
      "print x\n",
      "x.rotate()\n",
      "print x\n",
      "x.rotate()\n",
      "print ''.join(x)\n",
      "x.rotate()\n",
      "print x"
     ],
     "language": "python",
     "metadata": {},
     "outputs": [
      {
       "output_type": "stream",
       "stream": "stdout",
       "text": [
        "deque(['1', '4', '5'])\n",
        "deque(['5', '1', '4'])\n",
        "451\n",
        "deque(['1', '4', '5'])\n"
       ]
      }
     ],
     "prompt_number": 44
    },
    {
     "cell_type": "code",
     "collapsed": false,
     "input": [],
     "language": "python",
     "metadata": {},
     "outputs": []
    },
    {
     "cell_type": "code",
     "collapsed": false,
     "input": [],
     "language": "python",
     "metadata": {},
     "outputs": []
    },
    {
     "cell_type": "code",
     "collapsed": false,
     "input": [],
     "language": "python",
     "metadata": {},
     "outputs": []
    },
    {
     "cell_type": "code",
     "collapsed": false,
     "input": [
      "# problem 31\n",
      "# do everything in pence\n",
      "\n",
      "coins = [1, 2, 5, 10, 20, 50, 100, 200]\n",
      "coins.reverse()\n",
      "# penny, double pence, nickel, dime, double dime, halfdollar, century, double century\n",
      "cname = ['p', 'P', 'n', 'd', 'D', 'h', 'c', 'C']\n",
      "cname.reverse()\n",
      "\n",
      "def target(t):\n",
      "    coinage = list()\n",
      "    for i, c in enumerate(coins):\n",
      "        nt = t-c\n",
      "        print i, c, nt\n",
      "        if nt < 0:\n",
      "            nt += c\n",
      "        elif nt > 0:\n",
      "            coinage.append(cname[i])\n",
      "            print 'subtracted', c, coinage\n",
      "            return target(nt, coinage)\n",
      "        else:\n",
      "            # complete\n",
      "            print 'complete'\n",
      "            return coinage"
     ],
     "language": "python",
     "metadata": {},
     "outputs": [],
     "prompt_number": 12
    },
    {
     "cell_type": "code",
     "collapsed": false,
     "input": [
      "target(10)"
     ],
     "language": "python",
     "metadata": {},
     "outputs": [
      {
       "output_type": "stream",
       "stream": "stdout",
       "text": [
        "0 200 -190\n",
        "1 100 -90\n",
        "2 50 -40\n",
        "3 20 -10\n",
        "4 10 0\n",
        "complete\n"
       ]
      },
      {
       "metadata": {},
       "output_type": "pyout",
       "prompt_number": 13,
       "text": [
        "[]"
       ]
      }
     ],
     "prompt_number": 13
    },
    {
     "cell_type": "code",
     "collapsed": false,
     "input": [],
     "language": "python",
     "metadata": {},
     "outputs": []
    },
    {
     "cell_type": "code",
     "collapsed": false,
     "input": [],
     "language": "python",
     "metadata": {},
     "outputs": []
    },
    {
     "cell_type": "code",
     "collapsed": false,
     "input": [],
     "language": "python",
     "metadata": {},
     "outputs": []
    }
   ],
   "metadata": {}
  }
 ]
}