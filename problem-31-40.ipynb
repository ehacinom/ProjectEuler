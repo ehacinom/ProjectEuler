{
 "metadata": {
  "name": "",
  "signature": "sha256:b30131efb688d91e9fd096419dcb722dde83b4eeb03e273c56e01d7dd8294e52"
 },
 "nbformat": 3,
 "nbformat_minor": 0,
 "worksheets": [
  {
   "cells": [
    {
     "cell_type": "code",
     "collapsed": false,
     "input": [
      "import numpy as np\n",
      "import time\n",
      "import math\n",
      "from collections import defaultdict, deque\n",
      "import re"
     ],
     "language": "python",
     "metadata": {},
     "outputs": [],
     "prompt_number": 1
    },
    {
     "cell_type": "code",
     "collapsed": false,
     "input": [
      "# problem 32\n",
      "\n",
      "def rmnum(n, numbers):\n",
      "    num = numbers.copy()\n",
      "    # modifies numbers!!\n",
      "    for i in str(n):\n",
      "        try:\n",
      "            num.remove(int(i))\n",
      "        except KeyError:\n",
      "            return False\n",
      "    return num\n",
      "\n",
      "def panproduct(end = 200):\n",
      "    num = set(range(1, 10))\n",
      "    pandigital = defaultdict(list)\n",
      "\n",
      "    for i in xrange(1, end):\n",
      "        tmpi = rmnum(i, num)\n",
      "        if tmpi:\n",
      "            for j in xrange(i+1, end):\n",
      "                tmpj = rmnum(j, tmpi)\n",
      "                if tmpj:\n",
      "                    k = i * j\n",
      "                    tmpk = rmnum(k, tmpj)\n",
      "                    if tmpk == set():\n",
      "                        pandigital[k].append((i,j))\n",
      "                        print i, j, k\n",
      "\n",
      "    return pandigital"
     ],
     "language": "python",
     "metadata": {},
     "outputs": [],
     "prompt_number": 2
    },
    {
     "cell_type": "code",
     "collapsed": false,
     "input": [
      "# probababy 10k is largest possible product\n",
      "end = 2000\n",
      "\n",
      "pan = panproduct(end)\n",
      "total = 0\n",
      "for k, v in pan.iteritems():\n",
      "    #print k, v\n",
      "    total += k\n",
      "print total"
     ],
     "language": "python",
     "metadata": {},
     "outputs": [
      {
       "output_type": "stream",
       "stream": "stdout",
       "text": [
        "4 1738 6952\n",
        "4 1963 7852\n",
        "12"
       ]
      },
      {
       "output_type": "stream",
       "stream": "stdout",
       "text": [
        " 483 5796\n",
        "18"
       ]
      },
      {
       "output_type": "stream",
       "stream": "stdout",
       "text": [
        " 297 5346\n",
        "27"
       ]
      },
      {
       "output_type": "stream",
       "stream": "stdout",
       "text": [
        " 198 5346\n",
        "28 157 4396\n",
        "39"
       ]
      },
      {
       "output_type": "stream",
       "stream": "stdout",
       "text": [
        " 186 7254\n",
        "42 138 5796\n",
        "48"
       ]
      },
      {
       "output_type": "stream",
       "stream": "stdout",
       "text": [
        " 159 7632\n",
        "45228"
       ]
      },
      {
       "output_type": "stream",
       "stream": "stdout",
       "text": [
        "\n"
       ]
      }
     ],
     "prompt_number": 3
    },
    {
     "cell_type": "code",
     "collapsed": false,
     "input": [
      "# trying for huge numbers, takes a few minutes\n",
      "end = 20000\n",
      "\n",
      "pan = panproduct(end)\n",
      "total = 0\n",
      "for k, v in pan.iteritems():\n",
      "    print k, v\n",
      "    total += k"
     ],
     "language": "python",
     "metadata": {},
     "outputs": [
      {
       "output_type": "stream",
       "stream": "stdout",
       "text": [
        "4 1738 6952\n",
        "4 1963 7852\n",
        "12"
       ]
      },
      {
       "output_type": "stream",
       "stream": "stdout",
       "text": [
        " 483 5796\n",
        "18"
       ]
      },
      {
       "output_type": "stream",
       "stream": "stdout",
       "text": [
        " 297 5346\n",
        "27"
       ]
      },
      {
       "output_type": "stream",
       "stream": "stdout",
       "text": [
        " 198 5346\n",
        "28"
       ]
      },
      {
       "output_type": "stream",
       "stream": "stdout",
       "text": [
        " 157 4396\n",
        "39"
       ]
      },
      {
       "output_type": "stream",
       "stream": "stdout",
       "text": [
        " 186 7254\n",
        "42"
       ]
      },
      {
       "output_type": "stream",
       "stream": "stdout",
       "text": [
        " 138 5796\n",
        "48"
       ]
      },
      {
       "output_type": "stream",
       "stream": "stdout",
       "text": [
        " 159 7632\n",
        "5346"
       ]
      },
      {
       "output_type": "stream",
       "stream": "stdout",
       "text": [
        " [(18, 297), (27, 198)]\n",
        "5796 [(12, 483), (42, 138)]\n",
        "6952 [(4, 1738)]\n",
        "4396 [(28, 157)]\n",
        "7852 [(4, 1963)]\n",
        "7632 [(48, 159)]\n",
        "7254 [(39, 186)]\n"
       ]
      }
     ],
     "prompt_number": 20
    },
    {
     "cell_type": "code",
     "collapsed": false,
     "input": [
      "# problem 33\n",
      "# start with one digit, ignoring all zeros in both first and second digit of both numbers\n",
      "arr = range(1,10)\n",
      "ARR = [str(i) for i in arr]\n",
      "\n",
      "def uncancel(i, j):\n",
      "    I, J = str(i), str(j)\n",
      "    for K in ARR:\n",
      "        num = [float(K+I)/int(K+J), float(K+I)/int(J+K), float(I+K)/int(K+J), float(I+K)/int(J+K)]\n",
      "        for x, n in enumerate(num):\n",
      "            if n == float(i)/j:\n",
      "                print i, '/', j, 'by', K\n",
      "\n",
      "for i in arr:\n",
      "    for j in range(i+1, 10):\n",
      "        uncancel(i, j)"
     ],
     "language": "python",
     "metadata": {},
     "outputs": [
      {
       "output_type": "stream",
       "stream": "stdout",
       "text": [
        "1 / 4 by 6\n",
        "1 / 5 by 9\n",
        "2 / 5 by 6\n",
        "4 / 8 by 9\n"
       ]
      }
     ],
     "prompt_number": 6
    },
    {
     "cell_type": "code",
     "collapsed": false,
     "input": [
      "# problem 34\n",
      "end = 50000\n",
      "\n",
      "arr = [math.factorial(i) for i in xrange(10)]\n",
      "total = 0\n",
      "for i in xrange(10, end):\n",
      "    curious = 0\n",
      "    for j in str(i):\n",
      "        curious += arr[int(j)]\n",
      "    if i == curious:\n",
      "        print i\n",
      "        total += i\n",
      "print 'total', total"
     ],
     "language": "python",
     "metadata": {},
     "outputs": [
      {
       "output_type": "stream",
       "stream": "stdout",
       "text": [
        "145\n",
        "40585"
       ]
      },
      {
       "output_type": "stream",
       "stream": "stdout",
       "text": [
        "\n",
        "total"
       ]
      },
      {
       "output_type": "stream",
       "stream": "stdout",
       "text": [
        " 40730\n"
       ]
      }
     ],
     "prompt_number": 27
    },
    {
     "cell_type": "code",
     "collapsed": false,
     "input": [
      "# problem 35 with sets\n",
      "# borrowing from problem 21\n",
      "\n",
      "# primes <= n\n",
      "def sievegen(n):\n",
      "    yield 2\n",
      "    primes = [True] * (n+1) # init T/F primes, ignore 0/1 truthiness\n",
      "    for i in xrange(3, n+1, 2):\n",
      "        if primes[i]:\n",
      "            yield i\n",
      "            for j in xrange(i*i, n+1, 2*i):\n",
      "                primes[j] = False\n",
      "\n",
      "def isprime(n):\n",
      "    for p in sievegen(n): pass\n",
      "    if n == p: return True\n",
      "    return False\n",
      "\n",
      "def circularprime(n=1000):\n",
      "    primes = defaultdict(int)\n",
      "    for p in sievegen(n):\n",
      "        if '0' not in str(p): primes[p] = 0\n",
      "    \n",
      "    circularset = set()\n",
      "    for p in primes:\n",
      "        P = str(p)\n",
      "        q = int(P[1:] + P[0])\n",
      "        lnp = len(P)\n",
      "        if q in primes:\n",
      "            tmpset = set([p, q])\n",
      "            ln = lnp - 2\n",
      "            while ln > 0:\n",
      "                q = str(q)\n",
      "                q = int(q[1:] + q[0])\n",
      "                if q in primes:\n",
      "                    tmpset.add(q)\n",
      "                    ln -= 1\n",
      "                    continue\n",
      "                break # if not circular prime\n",
      "            else: \n",
      "                circularset.update(tmpset)\n",
      "    return circularset\n",
      "\n",
      "x = circularprime(1000000)\n",
      "print len(x)"
     ],
     "language": "python",
     "metadata": {},
     "outputs": [
      {
       "output_type": "stream",
       "stream": "stdout",
       "text": [
        "55\n"
       ]
      }
     ],
     "prompt_number": 5
    },
    {
     "cell_type": "code",
     "collapsed": false,
     "input": [
      "%%timeit\n",
      "circularprime(1000000)"
     ],
     "language": "python",
     "metadata": {},
     "outputs": [
      {
       "output_type": "stream",
       "stream": "stdout",
       "text": [
        "1 loops, best of 3: 347 ms per loop\n"
       ]
      }
     ],
     "prompt_number": 3
    },
    {
     "cell_type": "code",
     "collapsed": false,
     "input": [
      "# problem 36\n",
      "\n",
      "n=1000000\n",
      "total = 0\n",
      "for i in xrange(n):\n",
      "    x = str(i)\n",
      "    y = x[::-1]\n",
      "    if x == y:\n",
      "        b = '{0:b}'.format(i)\n",
      "        if b[::-1] == b:\n",
      "            total += i   \n",
      "print total"
     ],
     "language": "python",
     "metadata": {},
     "outputs": [
      {
       "output_type": "stream",
       "stream": "stdout",
       "text": [
        "872187\n"
       ]
      }
     ],
     "prompt_number": 2
    },
    {
     "cell_type": "code",
     "collapsed": false,
     "input": [
      "%%timeit\n",
      "n=1000000\n",
      "total = 0\n",
      "palin10 = [i for i in xrange(n) if str(i)[::-1] == str(i)]\n",
      "for i in palin10:\n",
      "    x = '{0:b}'.format(i)\n",
      "    if x[::-1] == x:\n",
      "        total += i\n",
      "print total"
     ],
     "language": "python",
     "metadata": {},
     "outputs": [
      {
       "output_type": "stream",
       "stream": "stdout",
       "text": [
        "872187\n",
        "872187"
       ]
      },
      {
       "output_type": "stream",
       "stream": "stdout",
       "text": [
        "\n",
        "872187"
       ]
      },
      {
       "output_type": "stream",
       "stream": "stdout",
       "text": [
        "\n",
        "872187"
       ]
      },
      {
       "output_type": "stream",
       "stream": "stdout",
       "text": [
        "\n",
        "1 loops, best of 3: 721 ms per loop\n"
       ]
      }
     ],
     "prompt_number": 3
    },
    {
     "cell_type": "code",
     "collapsed": false,
     "input": [
      "%%timeit\n",
      "n=1000000\n",
      "total = 0\n",
      "for i in xrange(n):\n",
      "    x = str(i)\n",
      "    y = x[::-1]\n",
      "    if x == y:\n",
      "        b = '{0:b}'.format(i)\n",
      "        if b[::-1] == b:\n",
      "            total += i   \n",
      "print total"
     ],
     "language": "python",
     "metadata": {},
     "outputs": [
      {
       "output_type": "stream",
       "stream": "stdout",
       "text": [
        "872187\n",
        "872187"
       ]
      },
      {
       "output_type": "stream",
       "stream": "stdout",
       "text": [
        "\n",
        "872187"
       ]
      },
      {
       "output_type": "stream",
       "stream": "stdout",
       "text": [
        "\n",
        "872187"
       ]
      },
      {
       "output_type": "stream",
       "stream": "stdout",
       "text": [
        "\n",
        "1 loops, best of 3: 589 ms per loop\n"
       ]
      }
     ],
     "prompt_number": 4
    },
    {
     "cell_type": "code",
     "collapsed": false,
     "input": [
      "# problem 37\n",
      "\n",
      "def sievegen(n):\n",
      "    yield 2\n",
      "    primes = [True] * (n+1) # init T/F primes, ignore 0/1 truthiness\n",
      "    for i in xrange(3, n+1, 2):\n",
      "        if primes[i]:\n",
      "            yield i\n",
      "            for j in xrange(i*i, n+1, 2*i):\n",
      "                primes[j] = False\n",
      "\n",
      "def truncprime():\n",
      "    primes = defaultdict(int)\n",
      "    # no use going to 10 million\n",
      "    for p in sievegen(1000000):\n",
      "        primes[p] = 1\n",
      "\n",
      "    released = 0\n",
      "    n = 0\n",
      "    drinkup = []\n",
      "    for p in primes:\n",
      "        #if n == 11: break\n",
      "        if p < 10: continue\n",
      "        # must end with 3 or 7\n",
      "        # must begin with 2,3,5,7\n",
      "        q = str(p)\n",
      "        if q[0] not in ('2','3','5','7'): \n",
      "            released += 1\n",
      "            continue\n",
      "        elif q[-1] not in ('3', '7'): \n",
      "            released += 1\n",
      "            continue\n",
      "        # loop through\n",
      "        t = len(q)\n",
      "        while t > 0:\n",
      "            t -= 1\n",
      "            if int(q[:t+1]) in primes:\n",
      "                if int(q[-t+1:]) in primes:\n",
      "                    if t == 0: \n",
      "                        n += 1\n",
      "                        drinkup.append(p)\n",
      "                    continue\n",
      "                else: break\n",
      "            else: break\n",
      "            \n",
      "    print 'released', released\n",
      "    print drinkup\n",
      "    print sum(drinkup)\n",
      "\n",
      "truncprime()"
     ],
     "language": "python",
     "metadata": {},
     "outputs": [
      {
       "output_type": "stream",
       "stream": "stdout",
       "text": [
        "released 60866\n",
        "[23, 37, 53, 73, 313, 317, 373, 797, 3137, 3797, 739397]\n",
        "748317\n"
       ]
      }
     ],
     "prompt_number": 28
    },
    {
     "cell_type": "code",
     "collapsed": false,
     "input": [
      "# problem 38\n",
      "\n",
      "allnums = set([str(i) for i in xrange(1,10)])\n",
      "for i in xrange(10000,1,-1):\n",
      "    # must beat 918273645\n",
      "    # first multiplier starts with 9\n",
      "    if '9' not in str(i): continue\n",
      "\n",
      "    # 1 < n < 6\n",
      "    x = ''.join([str(n*i) for n in xrange(1, 6)])[:9]\n",
      "    y = allnums - set(x)\n",
      "    if y: continue\n",
      "    print x, i"
     ],
     "language": "python",
     "metadata": {},
     "outputs": [
      {
       "output_type": "stream",
       "stream": "stdout",
       "text": [
        "932718654 9327\n",
        "927318546 9273\n",
        "926718534 9267\n",
        "793215864 7932\n",
        "792315846 7923\n",
        "769215384 7692\n",
        "732914658 7329\n",
        "729314586 7293\n",
        "726914538 7269\n",
        "692713854 6927\n",
        "679213584 6792\n",
        "672913458 6729\n",
        "217943586 2179\n",
        "219438657 219\n",
        "192384576 192\n",
        "918273645 9\n"
       ]
      }
     ],
     "prompt_number": 46
    },
    {
     "cell_type": "code",
     "collapsed": false,
     "input": [
      "# problem 39\n",
      "\n",
      "less1000 = range(1,1000)\n",
      "per = defaultdict(set)\n",
      "for a in less1000:\n",
      "    for b in less1000:\n",
      "        p = a + b + math.sqrt(a**2 + b**2)\n",
      "        if not p % 1:\n",
      "            if p <= 1000:\n",
      "                per[p].update([a,b])\n",
      "\n",
      "nsol = 0\n",
      "for p, sol in per.iteritems():\n",
      "    x = len(sol)/2\n",
      "    if x > nsol:\n",
      "        nsol = x\n",
      "        data = (p, x, per[p])\n",
      "print data"
     ],
     "language": "python",
     "metadata": {},
     "outputs": [
      {
       "output_type": "stream",
       "stream": "stdout",
       "text": [
        "(840.0, 8, set([240, 315, 390, 40, 105, 140, 399, 336, 360, 210, 280, 56, 120, 168, 252, 350]))\n"
       ]
      }
     ],
     "prompt_number": 69
    },
    {
     "cell_type": "code",
     "collapsed": false,
     "input": [
      "# problem 40\n",
      "\n",
      "d = [10**i for i in range(7)]\n",
      "d_x = 0\n",
      "digits = 1\n",
      "count = 0\n",
      "for i in xrange(1,1000000):\n",
      "    if i < 10: count += 1\n",
      "    elif i < 100: count += 2\n",
      "    elif i < 1000: count += 3\n",
      "    elif i < 10000: count += 4\n",
      "    elif i < 100000: count += 5\n",
      "    else: count += 6\n",
      "\n",
      "    if count >= d[d_x]:\n",
      "        place = d[d_x] - count -1\n",
      "        tmp = int(str(i)[place])\n",
      "        digits *= tmp\n",
      "        print d_x, place, 'int', i, tmp\n",
      "\n",
      "        d_x += 1\n",
      "        if d_x == 7: break\n",
      "print digits"
     ],
     "language": "python",
     "metadata": {},
     "outputs": [
      {
       "output_type": "stream",
       "stream": "stdout",
       "text": [
        "0 -1 int 1 1\n",
        "1 -2 int 10 1\n",
        "2 -2 int 55 5\n",
        "3 -3 int 370 3\n",
        "4 -2 int 2777 7\n",
        "5 -5 int 22222 2\n",
        "6"
       ]
      },
      {
       "output_type": "stream",
       "stream": "stdout",
       "text": [
        " -6 int 185185 1\n",
        "210\n"
       ]
      }
     ],
     "prompt_number": 89
    },
    {
     "cell_type": "code",
     "collapsed": false,
     "input": [],
     "language": "python",
     "metadata": {},
     "outputs": []
    },
    {
     "cell_type": "code",
     "collapsed": false,
     "input": [],
     "language": "python",
     "metadata": {},
     "outputs": []
    },
    {
     "cell_type": "code",
     "collapsed": false,
     "input": [],
     "language": "python",
     "metadata": {},
     "outputs": []
    },
    {
     "cell_type": "code",
     "collapsed": false,
     "input": [],
     "language": "python",
     "metadata": {},
     "outputs": []
    },
    {
     "cell_type": "code",
     "collapsed": false,
     "input": [
      "# problem 31\n",
      "# do everything in pence\n",
      "\n",
      "coins = [1, 2, 5, 10, 20, 50, 100, 200]\n",
      "coins.reverse()\n",
      "# penny, double pence, nickel, dime, double dime, halfdollar, century, double century\n",
      "cname = ['p', 'P', 'n', 'd', 'D', 'h', 'c', 'C']\n",
      "cname.reverse()\n",
      "\n",
      "def target(t):\n",
      "    coinage = list()\n",
      "    for i, c in enumerate(coins):\n",
      "        nt = t-c\n",
      "        print i, c, nt\n",
      "        if nt < 0:\n",
      "            print 'high', c\n",
      "            nt += c\n",
      "        elif nt > 0:\n",
      "            coinage.append(cname[i])\n",
      "            print 'subtracted', c, coinage\n",
      "            return target(nt, coinage)\n",
      "        else:\n",
      "            # complete\n",
      "            print 'complete'\n",
      "            return coinage"
     ],
     "language": "python",
     "metadata": {},
     "outputs": [],
     "prompt_number": 12
    },
    {
     "cell_type": "code",
     "collapsed": false,
     "input": [
      "target(10)"
     ],
     "language": "python",
     "metadata": {},
     "outputs": [
      {
       "output_type": "stream",
       "stream": "stdout",
       "text": [
        "0 200 -190\n",
        "1 100 -90\n",
        "2 50 -40\n",
        "3 20 -10\n",
        "4 10 0\n",
        "complete\n"
       ]
      },
      {
       "metadata": {},
       "output_type": "pyout",
       "prompt_number": 13,
       "text": [
        "[]"
       ]
      }
     ],
     "prompt_number": 13
    },
    {
     "cell_type": "code",
     "collapsed": false,
     "input": [],
     "language": "python",
     "metadata": {},
     "outputs": []
    },
    {
     "cell_type": "code",
     "collapsed": false,
     "input": [],
     "language": "python",
     "metadata": {},
     "outputs": []
    },
    {
     "cell_type": "code",
     "collapsed": false,
     "input": [],
     "language": "python",
     "metadata": {},
     "outputs": []
    }
   ],
   "metadata": {}
  }
 ]
}