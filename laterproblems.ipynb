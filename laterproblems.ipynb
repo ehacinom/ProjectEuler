{
 "metadata": {
  "name": "",
  "signature": "sha256:6cc6c6020e5841d3b1b5bfd7602672998f4778b627eb8a0399597149ae3d0fba"
 },
 "nbformat": 3,
 "nbformat_minor": 0,
 "worksheets": [
  {
   "cells": [
    {
     "cell_type": "code",
     "collapsed": false,
     "input": [
      "import math\n",
      "def test(na, a, b, c):\n",
      "    x = na *2*math.pi*(1./a + 1./b + 1./sqrt(c))\n",
      "    print x, sqrt(c), x / sqrt(c)\n",
      "\n",
      "    for i in xrange(1,600): #sievegen(600):\n",
      "        print x, x / sqrt(c), x / (sqrt(c) * sqrt(i))\n",
      "\n",
      "na, a, b, c = 30, 9, 10, 11\n",
      "test(na, a, b, c)"
     ],
     "language": "python",
     "metadata": {},
     "outputs": []
    }
   ],
   "metadata": {}
  }
 ]
}