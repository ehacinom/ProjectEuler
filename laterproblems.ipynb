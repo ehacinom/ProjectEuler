{
 "metadata": {
  "name": "",
  "signature": "sha256:40aca5453a5af069002910ea5df4662b4676111c9df3c7d86e5ae6181dfaabf8"
 },
 "nbformat": 3,
 "nbformat_minor": 0,
 "worksheets": [
  {
   "cells": [
    {
     "cell_type": "code",
     "collapsed": false,
     "input": [
      "import math\n",
      "def test(na, a, b, c):\n",
      "    x = na *2*math.pi*(1./a + 1./b + 1./sqrt(c))\n",
      "    print x, sqrt(c), x / sqrt(c)\n",
      "\n",
      "    for i in xrange(1,600): #sievegen(600):\n",
      "        print x, x / sqrt(c), x / (sqrt(c) * sqrt(i))\n",
      "\n",
      "na, a, b, c = 30, 9, 10, 11\n",
      "test(na, a, b, c)"
     ],
     "language": "python",
     "metadata": {},
     "outputs": []
    },
    {
     "cell_type": "code",
     "collapsed": false,
     "input": [],
     "language": "python",
     "metadata": {},
     "outputs": []
    },
    {
     "cell_type": "code",
     "collapsed": false,
     "input": [],
     "language": "python",
     "metadata": {},
     "outputs": []
    },
    {
     "cell_type": "code",
     "collapsed": false,
     "input": [
      "# testing xrange vs range\n",
      "\n",
      "# conclusions\n",
      "# xrange is better than range always\n",
      "# use outerloop xrange, innerloop named variable\n",
      "# else name variables for both\n",
      "\n",
      "tmp  = 500\n",
      "\n",
      "def test0():\n",
      "    ranger = range(tmp)\n",
      "    for i in xrange(tmp):\n",
      "        for j in ranger:\n",
      "            k = i*j\n",
      "def test1():\n",
      "    ranger = range(tmp)\n",
      "    for i in ranger:\n",
      "        for j in ranger:\n",
      "            k = i*j"
     ],
     "language": "python",
     "metadata": {},
     "outputs": [],
     "prompt_number": 16
    },
    {
     "cell_type": "code",
     "collapsed": false,
     "input": [],
     "language": "python",
     "metadata": {},
     "outputs": []
    }
   ],
   "metadata": {}
  }
 ]
}