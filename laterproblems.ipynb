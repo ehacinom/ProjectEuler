{
 "metadata": {
  "name": "",
  "signature": "sha256:0a58d5ca1ca1285aa3d4820ccc7505b5ceecfd1743de4b59307566b80498c2ad"
 },
 "nbformat": 3,
 "nbformat_minor": 0,
 "worksheets": [
  {
   "cells": [
    {
     "cell_type": "code",
     "collapsed": false,
     "input": [
      "import math"
     ],
     "language": "python",
     "metadata": {},
     "outputs": [],
     "prompt_number": 1
    },
    {
     "cell_type": "code",
     "collapsed": false,
     "input": [
      "import math\n",
      "def test(na, a, b, c):\n",
      "    x = na *2*math.pi*(1./a + 1./b + 1./sqrt(c))\n",
      "    print x, sqrt(c), x / sqrt(c)\n",
      "\n",
      "    for i in xrange(1,600): #sievegen(600):\n",
      "        print x, x / sqrt(c), x / (sqrt(c) * sqrt(i))\n",
      "\n",
      "na, a, b, c = 30, 9, 10, 11\n",
      "test(na, a, b, c)"
     ],
     "language": "python",
     "metadata": {},
     "outputs": []
    },
    {
     "cell_type": "code",
     "collapsed": false,
     "input": [
      "def cake(a, b, c, steps):\n",
      "    xyz = [360./a, 360./b, 360./math.sqrt(c)]\n",
      "    print \"xyz: {0}\".format(str(xyz))\n",
      "    \n",
      "    angle, cycles = 0, 0\n",
      "    for i in xrange(steps):\n",
      "        angle += xyz[i%3]\n",
      "        #print angle #not for large cylces\n",
      "        if angle >= 360:\n",
      "            angle = angle % 360\n",
      "            cycles += 1\n",
      "    \n",
      "    letters = [\"x\", \"y\", \"z\"]\n",
      "    print \"ending at {0} degrees using {1}\".format(int(angle), letters[i%3])\n",
      "    print \"cycles: {0}\".format(cycles)"
     ],
     "language": "python",
     "metadata": {},
     "outputs": [],
     "prompt_number": 6
    },
    {
     "cell_type": "code",
     "collapsed": false,
     "input": [
      "cake(6, 6, 36, 12)\n",
      "cake(9, 10, 11, 60)\n",
      "cake(10, 14, 16, 506)\n",
      "cake(15, 16, 17, 785232)"
     ],
     "language": "python",
     "metadata": {},
     "outputs": [
      {
       "output_type": "stream",
       "stream": "stdout",
       "text": [
        "xyz: [60.0, 60.0, 60.0]\n",
        "ending at 0 degrees using z\n",
        "cycles: 2\n",
        "xyz: [40.0, 36.0, 108.5440840479949]\n",
        "ending at 90 degrees using z\n",
        "cycles: 10\n",
        "xyz: [36.0, 25.714285714285715, 90.0]\n",
        "ending at 349 degrees using y\n",
        "cycles: 70\n",
        "xyz: [24.0, 22.5, 87.31282501307987]\n",
        "ending at 304 degrees using z"
       ]
      },
      {
       "output_type": "stream",
       "stream": "stdout",
       "text": [
        "\n",
        "cycles: 97290\n"
       ]
      }
     ],
     "prompt_number": 7
    },
    {
     "cell_type": "code",
     "collapsed": false,
     "input": [
      "math.sqrt(11) * 10"
     ],
     "language": "python",
     "metadata": {},
     "outputs": [
      {
       "metadata": {},
       "output_type": "pyout",
       "prompt_number": 8,
       "text": [
        "33.166247903553995"
       ]
      }
     ],
     "prompt_number": 8
    },
    {
     "cell_type": "code",
     "collapsed": false,
     "input": [
      "# testing xrange vs range\n",
      "\n",
      "# conclusions\n",
      "# xrange is better than range always\n",
      "# use outerloop xrange, innerloop named variable\n",
      "# else name variables for both\n",
      "\n",
      "tmp  = 500\n",
      "\n",
      "def test0():\n",
      "    ranger = range(tmp)\n",
      "    for i in xrange(tmp):\n",
      "        for j in ranger:\n",
      "            k = i*j\n",
      "def test1():\n",
      "    ranger = range(tmp)\n",
      "    for i in ranger:\n",
      "        for j in ranger:\n",
      "            k = i*j"
     ],
     "language": "python",
     "metadata": {},
     "outputs": [],
     "prompt_number": 16
    },
    {
     "cell_type": "code",
     "collapsed": false,
     "input": [],
     "language": "python",
     "metadata": {},
     "outputs": []
    },
    {
     "cell_type": "code",
     "collapsed": false,
     "input": [],
     "language": "python",
     "metadata": {},
     "outputs": []
    },
    {
     "cell_type": "code",
     "collapsed": false,
     "input": [
      "from test import *\n"
     ],
     "language": "python",
     "metadata": {},
     "outputs": [],
     "prompt_number": 18
    },
    {
     "cell_type": "code",
     "collapsed": false,
     "input": [
      "pe006()"
     ],
     "language": "python",
     "metadata": {},
     "outputs": [
      {
       "ename": "NameError",
       "evalue": "name 'pe006' is not defined",
       "output_type": "pyerr",
       "traceback": [
        "\u001b[0;31m---------------------------------------------------------------------------\u001b[0m\n\u001b[0;31mNameError\u001b[0m                                 Traceback (most recent call last)",
        "\u001b[0;32m<ipython-input-19-b2306778ddf8>\u001b[0m in \u001b[0;36m<module>\u001b[0;34m()\u001b[0m\n\u001b[0;32m----> 1\u001b[0;31m \u001b[0mpe006\u001b[0m\u001b[0;34m(\u001b[0m\u001b[0;34m)\u001b[0m\u001b[0;34m\u001b[0m\u001b[0m\n\u001b[0m",
        "\u001b[0;31mNameError\u001b[0m: name 'pe006' is not defined"
       ]
      }
     ],
     "prompt_number": 19
    },
    {
     "cell_type": "code",
     "collapsed": false,
     "input": [],
     "language": "python",
     "metadata": {},
     "outputs": []
    }
   ],
   "metadata": {}
  }
 ]
}