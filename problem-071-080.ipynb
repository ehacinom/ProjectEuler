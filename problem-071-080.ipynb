{
 "metadata": {
  "name": "",
  "signature": "sha256:dfb8bdd22611153576500b9d913b64ddc59166e82fb54d2abdfcacfab05f0b14"
 },
 "nbformat": 3,
 "nbformat_minor": 0,
 "worksheets": [
  {
   "cells": [
    {
     "cell_type": "code",
     "collapsed": false,
     "input": [
      "import math\n",
      "import numpy as np\n",
      "from collections import defaultdict\n",
      "import time\n",
      "import operator as op\n",
      "from itertools import combinations"
     ],
     "language": "python",
     "metadata": {},
     "outputs": [],
     "prompt_number": 1
    },
    {
     "cell_type": "code",
     "collapsed": false,
     "input": [
      "# problem 71\n",
      "\n",
      "def fractionordering(end = 1000000):\n",
      "    left, right = 0, 3/7.\n",
      "    nd = ()\n",
      "    for d in xrange(end, end/2, -1):\n",
      "        q = int(d * right) + 1\n",
      "        for n in xrange(q-2, q+1):\n",
      "            tmp = float(n) / d\n",
      "            if tmp >= right: break\n",
      "            elif tmp > left: \n",
      "                left = tmp\n",
      "                nd = (n, d)\n",
      "    return nd\n",
      "\n",
      "fractionordering()"
     ],
     "language": "python",
     "metadata": {},
     "outputs": [
      {
       "metadata": {},
       "output_type": "pyout",
       "prompt_number": 5,
       "text": [
        "(428570, 999997)"
       ]
      }
     ],
     "prompt_number": 5
    },
    {
     "cell_type": "code",
     "collapsed": false,
     "input": [
      "# problem 72\n",
      "# using totientgen form 69\n",
      "\n",
      "def totientgen(n):\n",
      "    # yields totients up to n\n",
      "    n = int(n+1)\n",
      "    arr = [0]*n\n",
      "    arr[1] = 1\n",
      "    \n",
      "    i = 2\n",
      "    while i < n:\n",
      "        # if prime\n",
      "        if arr[i] == 0:\n",
      "            arr[i] = i - 1\n",
      "            \n",
      "            j = 2\n",
      "            while j*i < n:\n",
      "                if arr[j] != 0:\n",
      "                    q = j\n",
      "                    f = i - 1\n",
      "                    \n",
      "                    while q % i == 0:\n",
      "                        f *= i\n",
      "                        q /= i\n",
      "                        \n",
      "                    arr[i*j] = f * arr[q]\n",
      "                j += 1\n",
      "        yield i, arr[i]\n",
      "        i += 1\n",
      "\n",
      "def countingfrac(n=8):\n",
      "    n = int(n)\n",
      "    s = 0\n",
      "    for i in totientgen(n):\n",
      "        s += i[1]\n",
      "    return s"
     ],
     "language": "python",
     "metadata": {},
     "outputs": [],
     "prompt_number": 13
    },
    {
     "cell_type": "code",
     "collapsed": false,
     "input": [
      "countingfrac(1e6)"
     ],
     "language": "python",
     "metadata": {},
     "outputs": [
      {
       "metadata": {},
       "output_type": "pyout",
       "prompt_number": 14,
       "text": [
        "303963552391"
       ]
      }
     ],
     "prompt_number": 14
    },
    {
     "cell_type": "code",
     "collapsed": false,
     "input": [
      "# problem 73\n",
      "\n",
      "def gcd(x, y):\n",
      "    # faster when x > y\n",
      "    while y != 0: (x, y) = (y, x % y)\n",
      "    return x\n",
      "\n",
      "def coprimes(n):\n",
      "    coprimes = []\n",
      "    for i in xrange(1, n):\n",
      "        if gcd(n, i) == 1:\n",
      "            coprimes.append(i)\n",
      "    return coprimes\n",
      "\n",
      "def fracrange(n = 8):\n",
      "    left, right = 1/3., 0.5\n",
      "    for cp in coprimes(n):\n",
      "        "
     ],
     "language": "python",
     "metadata": {},
     "outputs": [],
     "prompt_number": 29
    },
    {
     "cell_type": "code",
     "collapsed": false,
     "input": [],
     "language": "python",
     "metadata": {},
     "outputs": []
    },
    {
     "cell_type": "code",
     "collapsed": false,
     "input": [],
     "language": "python",
     "metadata": {},
     "outputs": []
    },
    {
     "cell_type": "code",
     "collapsed": false,
     "input": [
      "len(coprimes(3200))"
     ],
     "language": "python",
     "metadata": {},
     "outputs": [
      {
       "metadata": {},
       "output_type": "pyout",
       "prompt_number": 31,
       "text": [
        "1280"
       ]
      }
     ],
     "prompt_number": 31
    },
    {
     "cell_type": "code",
     "collapsed": false,
     "input": [
      "for i in totientgen(12000):\n",
      "    pass\n",
      "print i"
     ],
     "language": "python",
     "metadata": {},
     "outputs": [
      {
       "output_type": "stream",
       "stream": "stdout",
       "text": [
        "(12000, 3200)\n"
       ]
      }
     ],
     "prompt_number": 15
    },
    {
     "cell_type": "code",
     "collapsed": false,
     "input": [
      "# problem 73\n",
      "\n",
      "def fracrange(N=8):\n",
      "    left, right = 1/3., 0.5\n",
      "    fracset = []\n",
      "    for d in xrange(4, N+1):\n",
      "        l, r = int(left*d), int(right*d) + 1\n",
      "        tmp = [0] * (r-l)\n",
      "        floatd = float(d)\n",
      "        for n in xrange(l, r):\n",
      "            tmp[n-l] = n/floatd\n",
      "        # check n=l case here?\n",
      "        if tmp[0] <= left:\n",
      "            tmp = tmp[1:]\n",
      "        if tmp[-1] >= right:\n",
      "            tmp = tmp[:-1]\n",
      "        fracset.extend(tmp)\n",
      "    return len(set(fracset))"
     ],
     "language": "python",
     "metadata": {},
     "outputs": [],
     "prompt_number": 44
    },
    {
     "cell_type": "code",
     "collapsed": false,
     "input": [
      "%%timeit\n",
      "fracrange(8)"
     ],
     "language": "python",
     "metadata": {},
     "outputs": [
      {
       "output_type": "stream",
       "stream": "stdout",
       "text": [
        "10000 loops, best of 3: 18.2 \u00b5s per loop\n"
       ]
      }
     ],
     "prompt_number": 46
    },
    {
     "cell_type": "code",
     "collapsed": false,
     "input": [
      "%%timeit\n",
      "fracrange(80)"
     ],
     "language": "python",
     "metadata": {},
     "outputs": [
      {
       "output_type": "stream",
       "stream": "stdout",
       "text": [
        "1000 loops, best of 3: 487 \u00b5s per loop\n"
       ]
      }
     ],
     "prompt_number": 47
    },
    {
     "cell_type": "code",
     "collapsed": false,
     "input": [
      "%%timeit\n",
      "fracrange(800)"
     ],
     "language": "python",
     "metadata": {},
     "outputs": [
      {
       "output_type": "stream",
       "stream": "stdout",
       "text": [
        "100 loops, best of 3: 16.6 ms per loop\n"
       ]
      }
     ],
     "prompt_number": 48
    },
    {
     "cell_type": "code",
     "collapsed": false,
     "input": [
      "%%timeit\n",
      "fracrange(8000)"
     ],
     "language": "python",
     "metadata": {},
     "outputs": [
      {
       "output_type": "stream",
       "stream": "stdout",
       "text": [
        "1 loops, best of 3: 2.25 s per loop\n"
       ]
      }
     ],
     "prompt_number": 49
    },
    {
     "cell_type": "code",
     "collapsed": false,
     "input": [
      "fracrange(12000)"
     ],
     "language": "python",
     "metadata": {},
     "outputs": [
      {
       "metadata": {},
       "output_type": "pyout",
       "prompt_number": 50,
       "text": [
        "7295372"
       ]
      }
     ],
     "prompt_number": 50
    },
    {
     "cell_type": "code",
     "collapsed": false,
     "input": [
      "# problem 74\n",
      "\n",
      "def factchain(end = 5):\n",
      "    knowledge = dict()\n",
      "    thens = []\n",
      "    \n",
      "    for i in xrange(int(end)):\n",
      "        # skip other stuff if already figured out\n",
      "        if i in knowledge:\n",
      "            if knowledge[i] == 60:\n",
      "                thens.append(i)\n",
      "            elif knowledge[i] > 60:\n",
      "                print \"warning show\", i, knowledge[i]\n",
      "                return thens, knowledge\n",
      "        \n",
      "        # current set and list of numbers we have\n",
      "        curs = set([i])\n",
      "        curl = [i]\n",
      "        add = 0\n",
      "        m = 0   \n",
      "        s = sum([math.factorial(int(j)) for j in str(i)])\n",
      "        \n",
      "        while s not in curs:\n",
      "            if s in knowledge:\n",
      "                add = knowledge[s]\n",
      "                break\n",
      "            else:\n",
      "                curs.add(s)\n",
      "                curl.append(s)\n",
      "                s = sum([math.factorial(int(j)) for j in str(s)])\n",
      "        \n",
      "        # add to knowledge\n",
      "        if not add: \n",
      "            m = curl.index(s)  # index of number that repeats\n",
      "            n = len(curl)\n",
      "            # not sure why I never see 999999's next link, >> 1e6\n",
      "            for j in curl[m:]: \n",
      "                knowledge[j] = n - m # length of looping part of chain\n",
      "            # saving all other parts of chains too\n",
      "            # DOESN'T SAVE ANY TIME ONLY 0.3s for the 1e6 numbers :(\n",
      "            for j in xrange(m):\n",
      "                knowledge[curl[j]] = n - j\n",
      "        \n",
      "        # length of chain\n",
      "        length = len(curl) + add\n",
      "        knowledge[i] = length\n",
      "        \n",
      "        # check\n",
      "        if length == 60:\n",
      "            thens.append(i)\n",
      "        elif length > 60:\n",
      "            print \"warning {}: {}, {}, {}\".format(i, length, curl, add)\n",
      "\n",
      "    return thens, knowledge"
     ],
     "language": "python",
     "metadata": {},
     "outputs": [],
     "prompt_number": 5
    },
    {
     "cell_type": "code",
     "collapsed": false,
     "input": [
      "%%timeit\n",
      "t, k = factchain(1e6)"
     ],
     "language": "python",
     "metadata": {},
     "outputs": [
      {
       "output_type": "stream",
       "stream": "stdout",
       "text": [
        "1 loops, best of 3: 14.7 s per loop\n"
       ]
      }
     ],
     "prompt_number": 4
    },
    {
     "cell_type": "code",
     "collapsed": false,
     "input": [
      "%%timeit\n",
      "t, k = factchain(1e6)"
     ],
     "language": "python",
     "metadata": {},
     "outputs": [
      {
       "output_type": "stream",
       "stream": "stdout",
       "text": [
        "1 loops, best of 3: 14.3 s per loop\n"
       ]
      }
     ],
     "prompt_number": 7
    },
    {
     "cell_type": "code",
     "collapsed": false,
     "input": [
      "t, k = factchain(1e6)\n",
      "len(t)"
     ],
     "language": "python",
     "metadata": {},
     "outputs": [
      {
       "metadata": {},
       "output_type": "pyout",
       "prompt_number": 6,
       "text": [
        "402"
       ]
      }
     ],
     "prompt_number": 6
    },
    {
     "cell_type": "code",
     "collapsed": false,
     "input": [
      "# problem 75\n",
      "\n",
      "def pythatriplets(L=1500000):\n",
      "    Lset = defaultdict(set)\n",
      "    L = int(L)\n",
      "\n",
      "    for n in xrange(1, L+1):\n",
      "        for m in xrange(n+1, L+1):\n",
      "            a, b = tuple(sorted([(m**2 - n**2), (2 * m * n)]))\n",
      "            c = (m**2 + n**2)\n",
      "            length = a + b + c\n",
      "            if length > L: break\n",
      "            #elif length in Lset: continue # leave this in to count in duplicates\n",
      "            else:\n",
      "                k = 1\n",
      "                while length <= L:\n",
      "                    Lset[length].add((a*k, b*k, c*k))\n",
      "                    length = length * (k+1) / k\n",
      "                    k += 1\n",
      "\n",
      "    count = 0\n",
      "    for v in Lset.values():\n",
      "        if len(v) == 1: count += 1\n",
      "    return count, len(Lset), Lset"
     ],
     "language": "python",
     "metadata": {},
     "outputs": [],
     "prompt_number": 88
    },
    {
     "cell_type": "code",
     "collapsed": false,
     "input": [
      "%%timeit\n",
      "pythatriplets(1500000)"
     ],
     "language": "python",
     "metadata": {},
     "outputs": [
      {
       "output_type": "stream",
       "stream": "stdout",
       "text": [
        "1 loops, best of 3: 9.51 s per loop\n"
       ]
      }
     ],
     "prompt_number": 90
    },
    {
     "cell_type": "code",
     "collapsed": false,
     "input": [
      "a, b, c = pythatriplets()\n",
      "print a"
     ],
     "language": "python",
     "metadata": {},
     "outputs": [
      {
       "output_type": "stream",
       "stream": "stdout",
       "text": [
        "161667\n"
       ]
      }
     ],
     "prompt_number": 89
    },
    {
     "cell_type": "code",
     "collapsed": false,
     "input": [
      "# problem 76 \n",
      "# problem 77 \n",
      "# related to 78\n",
      "# problem 31\n",
      "# http://math.stackexchange.com/questions/217597 \n",
      "\n",
      "# primes <= n\n",
      "def sievegen(n):\n",
      "    yield 2\n",
      "    primes = [True] * (n+1) # ignore 0/1 truthiness\n",
      "    for i in xrange(3, n+1, 2):\n",
      "        if primes[i]:\n",
      "            yield i\n",
      "            for j in xrange(i*i, n+1, 2*i):\n",
      "                primes[j] = False\n",
      "\n",
      "def ways(n, i, arr, memo):\n",
      "    if i == 1: \n",
      "        # doesn't work for n = 2 arr[0] = 2\n",
      "        if n % arr[0]: return 0\n",
      "        return 1\n",
      "#         if arr[0] == 1: return 1\n",
      "#         elif arr[0] == 2:\n",
      "#             if n % 2: return 0\n",
      "#             return 1\n",
      "    elif i < 1:\n",
      "        print \"UHOH\"\n",
      "    count = 0\n",
      "    \n",
      "    t = n\n",
      "    if memo[t][i] > 0:\n",
      "        return memo[t][i]\n",
      "    \n",
      "    while n >= 0:\n",
      "        count = count + ways(n, i-1, arr, memo)\n",
      "        n = n - arr[i-1]\n",
      "    \n",
      "    memo[t][i] = count\n",
      "    \n",
      "    return count\n",
      "\n",
      "def cntways(n=10, arr=[]):\n",
      "    if not arr: arr = list(sievegen(n-2))\n",
      "    i = len(arr)\n",
      "    memo = np.zeros((n+1, n+1), dtype = np.uint32) # (n, i)\n",
      "    return ways(n, i, arr, memo)"
     ],
     "language": "python",
     "metadata": {},
     "outputs": [],
     "prompt_number": 2
    },
    {
     "cell_type": "code",
     "collapsed": false,
     "input": [
      "# problem 31\n",
      "arr = [1, 2, 5, 10, 20, 50, 100, 200]\n",
      "print cntways(200, arr)\n",
      "\n",
      "# problem 76\n",
      "n = 100\n",
      "print cntways(n, range(1,n))\n",
      "\n",
      "# problem 77\n",
      "for n in xrange(1,100):\n",
      "    arr = list(sievegen(n-2))\n",
      "    cnt = cntways(n, arr)\n",
      "    if cnt > 5000:\n",
      "        print n, cnt, arr\n",
      "        break"
     ],
     "language": "python",
     "metadata": {},
     "outputs": [
      {
       "output_type": "stream",
       "stream": "stdout",
       "text": [
        "73682\n",
        "190569291"
       ]
      },
      {
       "output_type": "stream",
       "stream": "stdout",
       "text": [
        "\n",
        "71"
       ]
      },
      {
       "output_type": "stream",
       "stream": "stdout",
       "text": [
        " 5006 [2, 3, 5, 7, 11, 13, 17, 19, 23, 29, 31, 37, 41, 43, 47, 53, 59, 61, 67]\n"
       ]
      }
     ],
     "prompt_number": 30
    },
    {
     "cell_type": "code",
     "collapsed": false,
     "input": [
      "# problem 77\n",
      "for n in xrange(1,10):\n",
      "    arr = range(1,n+1)\n",
      "    cnt = cntways(n, arr)\n",
      "    print n, cnt, arr"
     ],
     "language": "python",
     "metadata": {},
     "outputs": [
      {
       "output_type": "stream",
       "stream": "stdout",
       "text": [
        "1 1 [1]\n",
        "2 2 [1, 2]\n",
        "3 3 [1, 2, 3]\n",
        "4 5 [1, 2, 3, 4]\n",
        "5 7 [1, 2, 3, 4, 5]\n",
        "6 11 [1, 2, 3, 4, 5, 6]\n",
        "7 15 [1, 2, 3, 4, 5, 6, 7]\n",
        "8 22 [1, 2, 3, 4, 5, 6, 7, 8]\n",
        "9 30 [1, 2, 3, 4, 5, 6, 7, 8, 9]\n"
       ]
      }
     ],
     "prompt_number": 48
    },
    {
     "cell_type": "code",
     "collapsed": false,
     "input": [
      "# problem 78\n",
      "# 1e6 = 5^6 * 64\n",
      "# Partition function P(n)\n",
      "# http://mathworld.wolfram.com/PartitionFunctionP.html\n",
      "# Generating function eq 11\n",
      "# also psuedocode\n",
      "# https://projecteuler.net/thread=76#329\n",
      "\n",
      "# alternate strategy??\n",
      "# find P(n) = 0 mod 5**a which works if 24n = 1 mod 5**a\n",
      "# http://mathworld.wolfram.com/PartitionFunctionPCongruences.html\n",
      "\n",
      "# memoization\n",
      "# http://codecereal.blogspot.com/2011/06/optimizing-functions-with-python.html\n",
      "    # learn explanation for fib()\n",
      "    # also read \n",
      "    # http://codereview.stackexchange.com/questions/95554/fibonacci-sum-with-memoization\n",
      "\n",
      "def memo(f):\n",
      "    cache = {}\n",
      "    def wrap(*args):\n",
      "        if args in cache:\n",
      "            return cache[args]\n",
      "        else:\n",
      "            cache[args] = f(*args)\n",
      "            return cache[args]\n",
      "    return wrap\n",
      "\n",
      "@memo\n",
      "def partitiongf(n):\n",
      "    # solve for p(n)\n",
      "    if n < 0: return 0\n",
      "    elif n == 0: return 1\n",
      "    \n",
      "    p = 0\n",
      "    for k in xrange(1, n+1):\n",
      "        if k % 2: i = 1\n",
      "        else: i = -1\n",
      "        a, b = n - k*(3*k-1)/2, n - k*(3*k+1)/2\n",
      "        aa, bb = partitiongf(a), partitiongf(b)\n",
      "        print a, b, aa, bb\n",
      "        p += i*(aa+bb)\n",
      "    \n",
      "    print \"whoopee\", n, p\n",
      "    return p"
     ],
     "language": "python",
     "metadata": {},
     "outputs": [],
     "prompt_number": 45
    },
    {
     "cell_type": "code",
     "collapsed": false,
     "input": [
      "partitiongf(4)"
     ],
     "language": "python",
     "metadata": {},
     "outputs": [
      {
       "output_type": "stream",
       "stream": "stdout",
       "text": [
        "0 -1 1 0\n",
        "whoopee 1 1\n",
        "1 0 1 1\n",
        "-3 -5 0 0\n",
        "whoopee 2 2\n",
        "2 1 2 1\n",
        "-2 -4 0 0\n",
        "-9 -12 0 0\n",
        "whoopee 3 3\n",
        "3 2 3 2\n",
        "-1 -3 0 0\n",
        "-8 -11 0 0\n",
        "-18 -22 0 0\n",
        "whoopee 4 5\n"
       ]
      },
      {
       "metadata": {},
       "output_type": "pyout",
       "prompt_number": 44,
       "text": [
        "5"
       ]
      }
     ],
     "prompt_number": 44
    },
    {
     "cell_type": "code",
     "collapsed": false,
     "input": [],
     "language": "python",
     "metadata": {},
     "outputs": []
    },
    {
     "cell_type": "code",
     "collapsed": false,
     "input": [],
     "language": "python",
     "metadata": {},
     "outputs": []
    },
    {
     "cell_type": "code",
     "collapsed": false,
     "input": [],
     "language": "python",
     "metadata": {},
     "outputs": []
    },
    {
     "cell_type": "code",
     "collapsed": false,
     "input": [],
     "language": "python",
     "metadata": {},
     "outputs": []
    },
    {
     "cell_type": "code",
     "collapsed": false,
     "input": [
      "for c in xrange(1,50):\n",
      "    n = (c*(5**6) + 1)/24.\n",
      "    if n % 1 == 0:\n",
      "        n = int(n)\n",
      "        print n"
     ],
     "language": "python",
     "metadata": {},
     "outputs": [
      {
       "output_type": "stream",
       "stream": "stdout",
       "text": [
        "14974\n",
        "30599\n"
       ]
      }
     ],
     "prompt_number": 3
    },
    {
     "cell_type": "code",
     "collapsed": false,
     "input": [
      "# problem 78\n",
      "# cannot use cntways because it hits recursion depth\n",
      "arr = range(1,101)\n",
      "previous = (0,0)\n",
      "for i in arr:\n",
      "    x = cntways(i, arr[:i])\n",
      "    print \"{\", i, \",\", x, \"},\", previous, x-previous[1]\n",
      "    previous = (i, x)"
     ],
     "language": "python",
     "metadata": {},
     "outputs": [
      {
       "output_type": "stream",
       "stream": "stdout",
       "text": [
        "{ 1 , 1 }, (0, 0) 1\n",
        "{ 2 , 2 }, (1, 1) 1\n",
        "{ 3 , 3 }, (2, 2) 1\n",
        "{ 4 , 5 }, (3, 3) 2\n",
        "{ 5 , 7 }, (4, 5) 2\n",
        "{ 6 , 11 }, (5, 7) 4\n",
        "{ 7 , 15 }, (6, 11) 4\n",
        "{ 8 , 22 }, (7, 15) 7\n",
        "{ 9 , 30 }, (8, 22) 8\n",
        "{ 10 , 42 }, (9, 30) 12\n",
        "{ 11 , 56 }, (10, 42) 14\n",
        "{ 12 , 77 }, (11, 56) 21\n",
        "{ 13 , 101 }, (12, 77) 24\n",
        "{ 14 , 135 }, (13, 101) 34\n",
        "{ 15 , 176 }, (14, 135) 41\n",
        "{ 16 , 231 }, (15, 176) 55\n",
        "{ 17 , 297 }, (16, 231) 66\n",
        "{ 18 , 385 }, (17, 297) 88\n",
        "{ 19 , 490 }, (18, 385) 105\n",
        "{ 20 , 627 }, (19, 490) 137\n",
        "{ 21 , 792 }, (20, 627) 165\n",
        "{ 22 , 1002 }, (21, 792) 210\n",
        "{ 23 , 1255 }, (22, 1002) 253\n",
        "{"
       ]
      },
      {
       "output_type": "stream",
       "stream": "stdout",
       "text": [
        " 24 , 1575 }, (23, 1255) 320\n",
        "{ 25 , 1958 }, (24, 1575) 383\n",
        "{ 26 , 2436 }, (25, 1958) 478\n",
        "{ 27 , 3010 }, (26, 2436) 574\n",
        "{ 28 , 3718 }, (27, 3010) 708\n",
        "{ 29 , 4565 }, (28, 3718) 847\n",
        "{"
       ]
      },
      {
       "output_type": "stream",
       "stream": "stdout",
       "text": [
        " 30 , 5604 }, (29, 4565) 1039\n",
        "{ 31 , 6842 }, (30, 5604) 1238\n",
        "{ 32 , 8349 }, (31, 6842) 1507\n",
        "{ 33 , 10143 }, (32, 8349) 1794\n",
        "{ 34 , 12310 }, (33, 10143) 2167\n",
        "{"
       ]
      },
      {
       "output_type": "stream",
       "stream": "stdout",
       "text": [
        " 35 , 14883 }, (34, 12310) 2573\n",
        "{ 36 , 17977 }, (35, 14883) 3094\n",
        "{ 37 , 21637 }, (36, 17977) 3660\n",
        "{ 38 , 26015 }, (37, 21637) 4378\n",
        "{ 39 , 31185 }, (38, 26015) 5170\n",
        "{"
       ]
      },
      {
       "output_type": "stream",
       "stream": "stdout",
       "text": [
        " 40 , 37338 }, (39, 31185) 6153\n",
        "{ 41 , 44583 }, (40, 37338) 7245\n",
        "{ 42 , 53174 }, (41, 44583) 8591\n",
        "{ 43 , 63261 }, (42, 53174) 10087\n",
        "{ 44 , 75175 }, (43, 63261) 11914\n",
        "{"
       ]
      },
      {
       "output_type": "stream",
       "stream": "stdout",
       "text": [
        " 45 , 89134 }, (44, 75175) 13959\n",
        "{ 46 , 105558 }, (45, 89134) 16424\n",
        "{ 47 , 124754 }, (46, 105558) 19196\n",
        "{ 48 , 147273 }, (47, 124754) 22519\n",
        "{"
       ]
      },
      {
       "output_type": "stream",
       "stream": "stdout",
       "text": [
        " 49 , 173525 }, (48, 147273) 26252\n",
        "{ 50 , 204226 }, (49, 173525) 30701\n",
        "{ 51 , 239943 }, (50, 204226) 35717\n",
        "{"
       ]
      },
      {
       "output_type": "stream",
       "stream": "stdout",
       "text": [
        " 52 , 281589 }, (51, 239943) 41646\n",
        "{ 53 , 329931 }, (52, 281589) 48342\n",
        "{ 54 , 386155 }, (53, 329931) 56224\n",
        "{"
       ]
      },
      {
       "output_type": "stream",
       "stream": "stdout",
       "text": [
        " 55 , 451276 }, (54, 386155) 65121\n",
        "{ 56 , 526823 }, (55, 451276) 75547\n",
        "{ 57 , 614154 }, (56, 526823) 87331\n",
        "{"
       ]
      },
      {
       "output_type": "stream",
       "stream": "stdout",
       "text": [
        " 58 , 715220 }, (57, 614154) 101066\n",
        "{ 59 , 831820 }, (58, 715220) 116600\n",
        "{ 60 , 966467 }, (59, 831820) 134647\n",
        "{"
       ]
      },
      {
       "output_type": "stream",
       "stream": "stdout",
       "text": [
        " 61 , 1121505 }, (60, 966467) 155038\n",
        "{ 62 , 1300156 }, (61, 1121505) 178651\n",
        "{"
       ]
      },
      {
       "output_type": "stream",
       "stream": "stdout",
       "text": [
        " 63 , 1505499 }, (62, 1300156) 205343\n",
        "{ 64 , 1741630 }, (63, 1505499) 236131\n",
        "{"
       ]
      },
      {
       "output_type": "stream",
       "stream": "stdout",
       "text": [
        " 65 , 2012558 }, (64, 1741630) 270928\n",
        "{ 66 , 2323520 }, (65, 2012558) 310962\n",
        "{"
       ]
      },
      {
       "output_type": "stream",
       "stream": "stdout",
       "text": [
        " 67 , 2679689 }, (66, 2323520) 356169\n",
        "{ 68 , 3087735 }, (67, 2679689) 408046\n",
        "{"
       ]
      },
      {
       "output_type": "stream",
       "stream": "stdout",
       "text": [
        " 69 , 3554345 }, (68, 3087735) 466610\n",
        "{ 70 , 4087968 }, (69, 3554345) 533623\n",
        "{"
       ]
      },
      {
       "output_type": "stream",
       "stream": "stdout",
       "text": [
        " 71 , 4697205 }, (70, 4087968) 609237\n",
        "{ 72 , 5392783 }, (71, 4697205) 695578\n",
        "{"
       ]
      },
      {
       "output_type": "stream",
       "stream": "stdout",
       "text": [
        " 73 , 6185689 }, (72, 5392783) 792906\n",
        "{ 74 , 7089500 }, (73, 6185689) 903811\n",
        "{"
       ]
      },
      {
       "output_type": "stream",
       "stream": "stdout",
       "text": [
        " 75 , 8118264 }, (74, 7089500) 1028764\n",
        "{ 76 , 9289091 }, (75, 8118264) 1170827\n",
        "{"
       ]
      },
      {
       "output_type": "stream",
       "stream": "stdout",
       "text": [
        " 77 , 10619863 }, (76, 9289091) 1330772\n",
        "{ 78 , 12132164 }, (77, 10619863) 1512301\n",
        "{"
       ]
      },
      {
       "output_type": "stream",
       "stream": "stdout",
       "text": [
        " 79 , 13848650 }, (78, 12132164) 1716486\n",
        "{ 80 , 15796476 }, (79, 13848650) 1947826\n",
        "{"
       ]
      },
      {
       "output_type": "stream",
       "stream": "stdout",
       "text": [
        " 81 , 18004327 }, (80, 15796476) 2207851\n",
        "{"
       ]
      },
      {
       "output_type": "stream",
       "stream": "stdout",
       "text": [
        " 82 , 20506255 }, (81, 18004327) 2501928\n",
        "{ 83 , 23338469 "
       ]
      },
      {
       "output_type": "stream",
       "stream": "stdout",
       "text": [
        "}, (82, 20506255) 2832214\n",
        "{"
       ]
      },
      {
       "output_type": "stream",
       "stream": "stdout",
       "text": [
        " 84 , 26543660 }, (83, 23338469) 3205191\n",
        "{"
       ]
      },
      {
       "output_type": "stream",
       "stream": "stdout",
       "text": [
        " 85 , 30167357 }, (84, 26543660) 3623697\n",
        "{"
       ]
      },
      {
       "output_type": "stream",
       "stream": "stdout",
       "text": [
        " 86 , 34262962 }, (85, 30167357) 4095605\n",
        "{"
       ]
      },
      {
       "output_type": "stream",
       "stream": "stdout",
       "text": [
        " 87 , 38887673 }, (86, 34262962) 4624711\n",
        "{"
       ]
      },
      {
       "output_type": "stream",
       "stream": "stdout",
       "text": [
        " 88 , 44108109 }, (87, 38887673) 5220436\n",
        "{"
       ]
      },
      {
       "output_type": "stream",
       "stream": "stdout",
       "text": [
        " 89 , 49995925 }, (88, 44108109) 5887816\n",
        "{"
       ]
      },
      {
       "output_type": "stream",
       "stream": "stdout",
       "text": [
        " 90 , 56634173 }, (89, 49995925) 6638248\n",
        "{"
       ]
      },
      {
       "output_type": "stream",
       "stream": "stdout",
       "text": [
        " 91 , 64112359 }, (90, 56634173) 7478186\n",
        "{"
       ]
      },
      {
       "output_type": "stream",
       "stream": "stdout",
       "text": [
        " 92 , 72533807 }, (91, 64112359) 8421448\n",
        "{"
       ]
      },
      {
       "output_type": "stream",
       "stream": "stdout",
       "text": [
        " 93 , 82010177 }, (92, 72533807) 9476370\n",
        "{"
       ]
      },
      {
       "output_type": "stream",
       "stream": "stdout",
       "text": [
        " 94 , 92669720 }, (93, 82010177) 10659543\n",
        "{"
       ]
      },
      {
       "output_type": "stream",
       "stream": "stdout",
       "text": [
        " 95 , 104651419 }, (94, 92669720) 11981699\n",
        "{"
       ]
      },
      {
       "output_type": "stream",
       "stream": "stdout",
       "text": [
        " 96 , 118114304 }, (95, 104651419) 13462885\n",
        "{"
       ]
      },
      {
       "output_type": "stream",
       "stream": "stdout",
       "text": [
        " 97 , 133230930 }, (96, 118114304) 15116626\n",
        "{"
       ]
      },
      {
       "output_type": "stream",
       "stream": "stdout",
       "text": [
        " 98 , 150198136 }, (97, 133230930) 16967206\n",
        "{"
       ]
      },
      {
       "output_type": "stream",
       "stream": "stdout",
       "text": [
        " 99 , 169229875 }, (98, 150198136) 19031739\n",
        "{"
       ]
      },
      {
       "output_type": "stream",
       "stream": "stdout",
       "text": [
        " 100 , 190569292 }, (99, 169229875) 21339417\n"
       ]
      }
     ],
     "prompt_number": 39
    },
    {
     "cell_type": "code",
     "collapsed": false,
     "input": [
      "# combinations\n",
      "\n",
      "def ncr(n, r):\n",
      "    r = min(r, n-r)\n",
      "    if r == 0: return 1\n",
      "    top = reduce(op.mul, xrange(n, n-r, -1))\n",
      "    bot = reduce(op.mul, xrange(1, r+1))\n",
      "    return top // bot\n"
     ],
     "language": "python",
     "metadata": {},
     "outputs": [],
     "prompt_number": 21
    },
    {
     "cell_type": "code",
     "collapsed": false,
     "input": [
      "# problem 78\n",
      "\n",
      "def p(k, n, memo):\n",
      "    if k > n: return 0, memo\n",
      "    if k == n: \n",
      "        memo[k][n] = 1\n",
      "        return 1, memo\n",
      "    \n",
      "    if memo[k][n]: \n",
      "        return memo[k][n], memo\n",
      "    \n",
      "    if memo[k+1][n]:\n",
      "        a = memo[k+1][n]\n",
      "    else: \n",
      "        a, memo = p(k+1, n, memo)\n",
      "        memo[k+1][n] = a\n",
      "    \n",
      "    if memo[k][n-k]:\n",
      "        b = memo[k][n-k]\n",
      "    else:\n",
      "        b, memo = p(k, n-k, memo)\n",
      "        memo[k][n-k] = b\n",
      "    \n",
      "    c = a + b\n",
      "    memo[k][n] = c\n",
      "    return c, memo\n",
      "\n",
      "def cntcoins(goal = 7):\n",
      "    memo = np.zeros((goal+2, goal+2), dtype=np.uint16)\n",
      "    total = 1\n",
      "    n = 2\n",
      "    while total % goal:\n",
      "        total = 1\n",
      "        n += 1\n",
      "        for k in xrange(2, n+1):\n",
      "            x, memo = p(k, n, memo)\n",
      "            #print n, k, x, memo\n",
      "            total += x\n",
      "        #print total, memo\n",
      "    print total, n, memo\n",
      "\n"
     ],
     "language": "python",
     "metadata": {},
     "outputs": [],
     "prompt_number": 52
    },
    {
     "cell_type": "code",
     "collapsed": false,
     "input": [
      "def cntgroups(n = 5):\n",
      "    coins = np.ones(n, dtype=np.uint8) # range(1,n) # [1, 2, 5, 10, 20, 50, 100, 200]\n",
      "    ways = np.zeros(n+1)\n",
      "    ways[0] = 1\n",
      "    \n",
      "    for i, c in enumerate(coins):\n",
      "        for j in xrange(c, n + 1):\n",
      "            ways[j] += ways[j - c]\n",
      "    print ways[n], ways\n",
      "\n",
      "def cntgroups(n = 5):\n",
      "    ways = [0] * (n+1)\n",
      "    ways[0] = 1\n",
      "    \n",
      "    for i in xrange(n):\n",
      "        for j in xrange(1, n + 1):\n",
      "            ways[j] += ways[j - 1]\n",
      "        ways[i] /= 5\n",
      "    return ways[n], ways\n",
      "\n",
      "cntgroups(5)"
     ],
     "language": "python",
     "metadata": {},
     "outputs": [
      {
       "metadata": {},
       "output_type": "pyout",
       "prompt_number": 27,
       "text": [
        "(43, [0, 0, 0, 1, 3, 43])"
       ]
      }
     ],
     "prompt_number": 27
    },
    {
     "cell_type": "code",
     "collapsed": false,
     "input": [
      "cntgroups(3)"
     ],
     "language": "python",
     "metadata": {},
     "outputs": [
      {
       "output_type": "stream",
       "stream": "stdout",
       "text": [
        "0 [1, 1, 1, 1]\n",
        "1 [1, 2, 3, 4]\n",
        "2 [1, 3, 6, 10]\n"
       ]
      },
      {
       "metadata": {},
       "output_type": "pyout",
       "prompt_number": 20,
       "text": [
        "(10, [1, 3, 6, 10])"
       ]
      }
     ],
     "prompt_number": 20
    },
    {
     "cell_type": "code",
     "collapsed": false,
     "input": [
      "for i in xrange(10):\n",
      "    print math.factorial(i)"
     ],
     "language": "python",
     "metadata": {},
     "outputs": [
      {
       "output_type": "stream",
       "stream": "stdout",
       "text": [
        "1\n",
        "1\n",
        "2\n",
        "6\n",
        "24\n",
        "120\n",
        "720\n",
        "5040\n",
        "40320\n",
        "362880\n"
       ]
      }
     ],
     "prompt_number": 24
    },
    {
     "cell_type": "code",
     "collapsed": false,
     "input": [
      "def cntpways(n=10, arr=[]):\n",
      "    if not arr: arr = list(sievegen(n-2))\n",
      "    i = len(arr)\n",
      "    memo = np.zeros((n+1, n+1), dtype = np.uint32) # (n, i)\n",
      "    return waysp(n, i, arr, memo)\n",
      "\n",
      "def test(nmax = 10):\n",
      "    for n in xrange(3, nmax+1):\n",
      "        arr = [1] * (n)\n",
      "        cnt = cntpways(n, arr)\n",
      "        print n, cnt, cnt / ( (n-2) * math.factorial(n-2) )\n",
      "        if not cnt % 1000000: print n, cnt"
     ],
     "language": "python",
     "metadata": {},
     "outputs": []
    },
    {
     "cell_type": "code",
     "collapsed": false,
     "input": [],
     "language": "python",
     "metadata": {},
     "outputs": []
    },
    {
     "cell_type": "code",
     "collapsed": false,
     "input": [],
     "language": "python",
     "metadata": {},
     "outputs": []
    },
    {
     "cell_type": "code",
     "collapsed": false,
     "input": [],
     "language": "python",
     "metadata": {},
     "outputs": []
    },
    {
     "cell_type": "code",
     "collapsed": false,
     "input": [],
     "language": "python",
     "metadata": {},
     "outputs": []
    },
    {
     "cell_type": "code",
     "collapsed": false,
     "input": [
      "# problem 79\n",
      "# did half by hand\n",
      "\n",
      "with open(\"079_keylog.txt\", \"r\") as f:\n",
      "    arr = []\n",
      "    lis = []\n",
      "    dic = defaultdict(int)\n",
      "    for line in f:\n",
      "        tmp = map(int, line.rstrip(\"\\n\"))\n",
      "        arr.extend(tmp)\n",
      "        lis.append(line.rstrip(\"\\n\"))\n",
      "        \n",
      "        for i in xrange(3):\n",
      "            dic[tmp[i]] += i*i\n",
      "    \n",
      "    tup = sorted(dic.items(), key = lambda v: v[1])\n",
      "    print tup, \"\\n\", ''.join(str(v[0]) for v in tup), \"\\n\", 73162890\n",
      "    print \"\\n\"\n",
      "    \n",
      "    abc = set(arr)\n",
      "    a = set(arr[::3])\n",
      "    b = set(arr[1::3])\n",
      "    c = set(arr[2::3])\n",
      "    \n",
      "    print lis\n",
      "    print abc, \"\\na\", a, \"\\nb\", b, \"\\nc\", c, \"\\n\"\n",
      "\n",
      "    print \"first\", a-c\n",
      "    print \"a - b\", a - b\n",
      "    print \"b - a\", b - a\n",
      "    print \"mid\", abc-b\n",
      "    print \"b - c\", b - c\n",
      "    print \"c - b\", c - b\n",
      "    print \"end\", abc-a\n",
      "    print \"last\", c-a\n",
      "    \n",
      "    73126890"
     ],
     "language": "python",
     "metadata": {},
     "outputs": [
      {
       "output_type": "stream",
       "stream": "stdout",
       "text": [
        "[(7, 0), (3, 2), (1, 19), (2, 30), (6, 30), (8, 33), (0, 64), (9, 72)] \n",
        "73126809 \n",
        "73162890\n",
        "\n",
        "\n",
        "['319', '680', '180', '690', '129', '620', '762', '689', '762', '318', '368', '710', '720', '710', '629', '168', '160', '689', '716', '731', '736', '729', '316', '729', '729', '710', '769', '290', '719', '680', '318', '389', '162', '289', '162', '718', '729', '319', '790', '680', '890', '362', '319', '760', '316', '729', '380', '319', '728', '716']\n",
        "set([0, 1, 2, 3, 6, 7, 8, 9]) \n",
        "a set([1, 2, 3, 6, 7, 8]) \n",
        "b set([1, 2, 3, 6, 8, 9]) \n",
        "c set([0, 1, 2, 6, 8, 9]) \n",
        "\n",
        "first set([3, 7])\n",
        "a - b set([7])\n",
        "b - a set([9])\n",
        "mid set([0, 7])\n",
        "b - c set([3])\n",
        "c - b set([0])\n",
        "end set([0, 9])\n",
        "last set([0, 9])\n"
       ]
      }
     ],
     "prompt_number": 60
    },
    {
     "cell_type": "code",
     "collapsed": false,
     "input": [
      "# problem 80\n",
      "# mathematica\n",
      "\n",
      "https://en.wikipedia.org/wiki/Napier%27s_bones#Extracting_square_roots\n",
      "https://en.wikipedia.org/wiki/Square_root#An_exact_.22long-division_like.22_algorithm\n",
      "https://projecteuler.net/thread=80\n"
     ],
     "language": "python",
     "metadata": {},
     "outputs": []
    },
    {
     "cell_type": "code",
     "collapsed": false,
     "input": [],
     "language": "python",
     "metadata": {},
     "outputs": []
    },
    {
     "cell_type": "code",
     "collapsed": false,
     "input": [],
     "language": "python",
     "metadata": {},
     "outputs": []
    }
   ],
   "metadata": {}
  }
 ]
}