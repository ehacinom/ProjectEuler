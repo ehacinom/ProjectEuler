{
 "metadata": {
  "name": "",
  "signature": "sha256:1f6653a0caab0040f5994119cc5cad802554537f52c49f4bbb4186080bf18b7d"
 },
 "nbformat": 3,
 "nbformat_minor": 0,
 "worksheets": [
  {
   "cells": [
    {
     "cell_type": "code",
     "collapsed": false,
     "input": [
      "import math\n",
      "import numpy as np\n",
      "from collections import defaultdict\n",
      "import time"
     ],
     "language": "python",
     "metadata": {},
     "outputs": [
      {
       "output_type": "stream",
       "stream": "stdout",
       "text": [
        "\n"
       ]
      }
     ],
     "prompt_number": 15
    },
    {
     "cell_type": "code",
     "collapsed": false,
     "input": [],
     "language": "python",
     "metadata": {},
     "outputs": []
    },
    {
     "cell_type": "code",
     "collapsed": false,
     "input": [
      "# problem 74\n",
      "\n",
      "def factchain(end = 5):\n",
      "    knowledge = dict()\n",
      "    thens = []\n",
      "    \n",
      "    for i in xrange(int(end)):\n",
      "        # skip other stuff if already figured out\n",
      "        if i in knowledge:\n",
      "            if knowledge[i] == 60:\n",
      "                thens.append(i)\n",
      "            elif knowledge[i] > 60:\n",
      "                print \"warning show\", i, knowledge[i]\n",
      "                return thens, knowledge\n",
      "        \n",
      "        # current set and list of numbers we have\n",
      "        curs = set([i])\n",
      "        curl = [i]\n",
      "        add = 0\n",
      "        m = 0   \n",
      "        s = sum([math.factorial(int(j)) for j in str(i)])\n",
      "        \n",
      "        while s not in curs:\n",
      "            if s in knowledge:\n",
      "                add = knowledge[s]\n",
      "                break\n",
      "            else:\n",
      "                curs.add(s)\n",
      "                curl.append(s)\n",
      "                s = sum([math.factorial(int(j)) for j in str(s)])\n",
      "        \n",
      "        # add to knowledge\n",
      "        if not add: \n",
      "            m = curl.index(s)  # index of number that repeats\n",
      "            n = len(curl)\n",
      "            # not sure why I never see 999999's next link, >> 1e6\n",
      "            for j in curl[m:]: \n",
      "                knowledge[j] = n - m # length of looping part of chain\n",
      "            # saving all other parts of chains too\n",
      "            # DOESN'T SAVE ANY TIME ONLY 0.3s for the 1e6 numbers :(\n",
      "            for j in xrange(m):\n",
      "                knowledge[curl[j]] = n - j\n",
      "        \n",
      "        # length of chain\n",
      "        length = len(curl) + add\n",
      "        knowledge[i] = length\n",
      "        \n",
      "        # check\n",
      "        if length == 60:\n",
      "            thens.append(i)\n",
      "        elif length > 60:\n",
      "            print \"warning {}: {}, {}, {}\".format(i, length, curl, add)\n",
      "\n",
      "    return thens, knowledge"
     ],
     "language": "python",
     "metadata": {},
     "outputs": [],
     "prompt_number": 5
    },
    {
     "cell_type": "code",
     "collapsed": false,
     "input": [
      "%%timeit\n",
      "t, k = factchain(1e6)"
     ],
     "language": "python",
     "metadata": {},
     "outputs": [
      {
       "output_type": "stream",
       "stream": "stdout",
       "text": [
        "1 loops, best of 3: 14.7 s per loop\n"
       ]
      }
     ],
     "prompt_number": 4
    },
    {
     "cell_type": "code",
     "collapsed": false,
     "input": [
      "%%timeit\n",
      "t, k = factchain(1e6)"
     ],
     "language": "python",
     "metadata": {},
     "outputs": [
      {
       "output_type": "stream",
       "stream": "stdout",
       "text": [
        "1 loops, best of 3: 14.3 s per loop\n"
       ]
      }
     ],
     "prompt_number": 7
    },
    {
     "cell_type": "code",
     "collapsed": false,
     "input": [
      "t, k = factchain(1e6)\n",
      "len(t)"
     ],
     "language": "python",
     "metadata": {},
     "outputs": [
      {
       "metadata": {},
       "output_type": "pyout",
       "prompt_number": 6,
       "text": [
        "402"
       ]
      }
     ],
     "prompt_number": 6
    },
    {
     "cell_type": "code",
     "collapsed": false,
     "input": [
      "# problem 75\n",
      "\n",
      "def pythatriplets(L=1500000):\n",
      "    Lset = defaultdict(set)\n",
      "    L = int(L)\n",
      "\n",
      "    for n in xrange(1, L+1):\n",
      "        for m in xrange(n+1, L+1):\n",
      "            a, b = tuple(sorted([(m**2 - n**2), (2 * m * n)]))\n",
      "            c = (m**2 + n**2)\n",
      "            length = a + b + c\n",
      "            if length > L: break\n",
      "            #elif length in Lset: continue # leave this in to count in duplicates\n",
      "            else:\n",
      "                k = 1\n",
      "                while length <= L:\n",
      "                    Lset[length].add((a*k, b*k, c*k))\n",
      "                    length = length * (k+1) / k\n",
      "                    k += 1\n",
      "\n",
      "    count = 0\n",
      "    for v in Lset.values():\n",
      "        if len(v) == 1: count += 1\n",
      "    return count, len(Lset), Lset"
     ],
     "language": "python",
     "metadata": {},
     "outputs": [],
     "prompt_number": 88
    },
    {
     "cell_type": "code",
     "collapsed": false,
     "input": [
      "%%timeit\n",
      "pythatriplets(1500000)"
     ],
     "language": "python",
     "metadata": {},
     "outputs": [
      {
       "output_type": "stream",
       "stream": "stdout",
       "text": [
        "1 loops, best of 3: 9.51 s per loop\n"
       ]
      }
     ],
     "prompt_number": 90
    },
    {
     "cell_type": "code",
     "collapsed": false,
     "input": [
      "a, b, c = pythatriplets()\n",
      "print a"
     ],
     "language": "python",
     "metadata": {},
     "outputs": [
      {
       "output_type": "stream",
       "stream": "stdout",
       "text": [
        "161667\n"
       ]
      }
     ],
     "prompt_number": 89
    },
    {
     "cell_type": "code",
     "collapsed": false,
     "input": [
      "# problem 76\n",
      "\n",
      "def cntsum(n, num, tmp=[]):\n",
      "    s = sum(tmp)\n",
      "    if s == n: yield tmp\n",
      "    elif s >= n: return\n",
      "    \n",
      "    for i in num:\n",
      "        print n, s, num[:s]\n",
      "        if num[:-s+1]:\n",
      "            for cnt in cntsum(n, num[:-s+1], tmp + [i]):\n",
      "                yield cnt\n",
      "        \n",
      "\n",
      "def cntwrp(n):\n",
      "    count = defaultdict(int)\n",
      "    for i in cntsum(n, range(1, n+1)):\n",
      "        count[len(i)] += 1\n",
      "    \n",
      "    total = 1 # for the n ones\n",
      "    for k, v in count.iteritems():\n",
      "        print k, v\n",
      "        total += (v / k)\n",
      "    return total"
     ],
     "language": "python",
     "metadata": {},
     "outputs": [],
     "prompt_number": 268
    },
    {
     "cell_type": "code",
     "collapsed": false,
     "input": [
      "cntwrp(10)"
     ],
     "language": "python",
     "metadata": {},
     "outputs": [
      {
       "output_type": "stream",
       "stream": "stdout",
       "text": [
        "10 0 []\n",
        "10 1 [1]\n",
        "10 0 []\n",
        "10 2 [1]\n",
        "10 0 []\n",
        "10 3 [1]\n",
        "10 0 []\n",
        "10 4 [1]\n",
        "10 0 []\n",
        "10 5 [1]\n",
        "10 0 []\n",
        "10 6 [1]\n",
        "10 0 []\n",
        "10 7 [1]\n",
        "10 0 []\n",
        "10 8 [1]\n",
        "10 0 []\n",
        "10 9 [1]\n",
        "10 0 []\n",
        "10 10 [1]\n",
        "1 1\n"
       ]
      },
      {
       "metadata": {},
       "output_type": "pyout",
       "prompt_number": 269,
       "text": [
        "2"
       ]
      }
     ],
     "prompt_number": 269
    },
    {
     "cell_type": "code",
     "collapsed": false,
     "input": [
      "%%timeit\n",
      "cntwrp(10)"
     ],
     "language": "python",
     "metadata": {},
     "outputs": [
      {
       "output_type": "stream",
       "stream": "stdout",
       "text": [
        "100 loops, best of 3: 10.6 ms per loop\n"
       ]
      }
     ],
     "prompt_number": 169
    },
    {
     "cell_type": "code",
     "collapsed": false,
     "input": [
      "%%timeit\n",
      "cntwrp(5)"
     ],
     "language": "python",
     "metadata": {},
     "outputs": [
      {
       "output_type": "stream",
       "stream": "stdout",
       "text": [
        "10000 loops, best of 3: 152 \u00b5s per loop\n"
       ]
      }
     ],
     "prompt_number": 170
    },
    {
     "cell_type": "code",
     "collapsed": false,
     "input": [],
     "language": "python",
     "metadata": {},
     "outputs": []
    },
    {
     "cell_type": "code",
     "collapsed": false,
     "input": [
      "# problem 76\n",
      "\n",
      "def cnt(n):\n",
      "    arr = [0] * (n+1)\n",
      "    # going to find sums for each successive number\n",
      "    # goal is the goal for each loop\n",
      "    for goal in xrange(n+1):\n",
      "        arr[goal] = goal / 2\n",
      "\n",
      "        # i, j are two numbers less than goal that add up to goal\n",
      "        for i in xrange(1, goal / 2 + 1):\n",
      "            j = goal - i\n",
      "            print i, j, \"goal:\", goal, \"cur:\", arr[goal], \"new:\", arr[goal] + arr[i] + arr[j]\n",
      "            arr[goal] += arr[i] + arr[j]\n",
      "        print \"---\", arr[goal]\n",
      "\n",
      "    return arr[n], arr\n",
      "\n",
      "a, b = cnt(10)\n",
      "print a\n",
      "print b"
     ],
     "language": "python",
     "metadata": {},
     "outputs": [
      {
       "output_type": "stream",
       "stream": "stdout",
       "text": [
        "--- 0\n",
        "--- 0\n",
        "1 1 goal: 2 cur: 1 new: 1\n",
        "--- 1\n",
        "1 2 goal: 3 cur: 1 new: 2\n",
        "--- 2\n",
        "1 3 goal: 4 cur: 2 new: 4\n",
        "2 2 goal: 4 cur: 4 new: 6\n",
        "--- 6\n",
        "1 4 goal: 5 cur: 2 new: 8\n",
        "2 3 goal: 5 cur: 8 new: 11\n",
        "--- 11\n",
        "1 5 goal: 6 cur: 3 new: 14\n",
        "2 4 goal: 6 cur: 14 new: 21\n",
        "3 3 goal: 6 cur: 21 new: 25\n",
        "--- 25\n",
        "1 6 goal: 7 cur: 3 new: 28\n",
        "2 5 goal: 7 cur: 28 new: 40\n",
        "3 4 goal: 7 cur: 40 new: 48\n",
        "--- 48\n",
        "1 7 goal: 8 cur: 4 new: 52\n",
        "2 6 goal: 8 cur: 52 new: 78\n",
        "3 5 goal: 8 cur: 78 new: 91\n",
        "4 4 goal: 8 cur: 91 new: 103\n",
        "--- 103\n",
        "1 8 goal: 9 cur: 4 new: 107\n",
        "2 7 goal: 9 cur: 107 new: 156\n",
        "3 6 goal: 9 cur: 156 new: 183\n",
        "4 5 goal: 9 cur: 183 new: 200\n",
        "--- 200\n",
        "1 9 goal: 10 cur: 5 new: 205\n",
        "2 8 goal: 10 cur: 205 new: 309\n",
        "3 7 goal: 10 cur: 309 new: 359\n",
        "4 6 goal: 10 cur: 359 new: 390\n",
        "5 5 goal: 10 cur: 390 new: 412\n",
        "--- 412\n",
        "412\n",
        "[0, 0, 1, 2, 6, 11, 25, 48, 103, 200, 412]\n"
       ]
      }
     ],
     "prompt_number": 224
    },
    {
     "cell_type": "code",
     "collapsed": false,
     "input": [],
     "language": "python",
     "metadata": {},
     "outputs": [],
     "prompt_number": 221
    },
    {
     "cell_type": "code",
     "collapsed": false,
     "input": [],
     "language": "python",
     "metadata": {},
     "outputs": []
    }
   ],
   "metadata": {}
  }
 ]
}