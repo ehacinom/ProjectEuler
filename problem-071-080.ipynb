{
 "metadata": {
  "name": "",
  "signature": "sha256:196bcbf42b311f5203384284c064279ce7d7a96523efa6ef68c0d9b3c8a0768d"
 },
 "nbformat": 3,
 "nbformat_minor": 0,
 "worksheets": [
  {
   "cells": [
    {
     "cell_type": "code",
     "collapsed": false,
     "input": [
      "import math\n",
      "import numpy as np\n",
      "from collections import defaultdict\n",
      "import time\n",
      "import operator as op\n",
      "from itertools import combinations"
     ],
     "language": "python",
     "metadata": {},
     "outputs": [],
     "prompt_number": 1
    },
    {
     "cell_type": "code",
     "collapsed": false,
     "input": [],
     "language": "python",
     "metadata": {},
     "outputs": []
    },
    {
     "cell_type": "code",
     "collapsed": false,
     "input": [
      "# problem 74\n",
      "\n",
      "def factchain(end = 5):\n",
      "    knowledge = dict()\n",
      "    thens = []\n",
      "    \n",
      "    for i in xrange(int(end)):\n",
      "        # skip other stuff if already figured out\n",
      "        if i in knowledge:\n",
      "            if knowledge[i] == 60:\n",
      "                thens.append(i)\n",
      "            elif knowledge[i] > 60:\n",
      "                print \"warning show\", i, knowledge[i]\n",
      "                return thens, knowledge\n",
      "        \n",
      "        # current set and list of numbers we have\n",
      "        curs = set([i])\n",
      "        curl = [i]\n",
      "        add = 0\n",
      "        m = 0   \n",
      "        s = sum([math.factorial(int(j)) for j in str(i)])\n",
      "        \n",
      "        while s not in curs:\n",
      "            if s in knowledge:\n",
      "                add = knowledge[s]\n",
      "                break\n",
      "            else:\n",
      "                curs.add(s)\n",
      "                curl.append(s)\n",
      "                s = sum([math.factorial(int(j)) for j in str(s)])\n",
      "        \n",
      "        # add to knowledge\n",
      "        if not add: \n",
      "            m = curl.index(s)  # index of number that repeats\n",
      "            n = len(curl)\n",
      "            # not sure why I never see 999999's next link, >> 1e6\n",
      "            for j in curl[m:]: \n",
      "                knowledge[j] = n - m # length of looping part of chain\n",
      "            # saving all other parts of chains too\n",
      "            # DOESN'T SAVE ANY TIME ONLY 0.3s for the 1e6 numbers :(\n",
      "            for j in xrange(m):\n",
      "                knowledge[curl[j]] = n - j\n",
      "        \n",
      "        # length of chain\n",
      "        length = len(curl) + add\n",
      "        knowledge[i] = length\n",
      "        \n",
      "        # check\n",
      "        if length == 60:\n",
      "            thens.append(i)\n",
      "        elif length > 60:\n",
      "            print \"warning {}: {}, {}, {}\".format(i, length, curl, add)\n",
      "\n",
      "    return thens, knowledge"
     ],
     "language": "python",
     "metadata": {},
     "outputs": [],
     "prompt_number": 5
    },
    {
     "cell_type": "code",
     "collapsed": false,
     "input": [
      "%%timeit\n",
      "t, k = factchain(1e6)"
     ],
     "language": "python",
     "metadata": {},
     "outputs": [
      {
       "output_type": "stream",
       "stream": "stdout",
       "text": [
        "1 loops, best of 3: 14.7 s per loop\n"
       ]
      }
     ],
     "prompt_number": 4
    },
    {
     "cell_type": "code",
     "collapsed": false,
     "input": [
      "%%timeit\n",
      "t, k = factchain(1e6)"
     ],
     "language": "python",
     "metadata": {},
     "outputs": [
      {
       "output_type": "stream",
       "stream": "stdout",
       "text": [
        "1 loops, best of 3: 14.3 s per loop\n"
       ]
      }
     ],
     "prompt_number": 7
    },
    {
     "cell_type": "code",
     "collapsed": false,
     "input": [
      "t, k = factchain(1e6)\n",
      "len(t)"
     ],
     "language": "python",
     "metadata": {},
     "outputs": [
      {
       "metadata": {},
       "output_type": "pyout",
       "prompt_number": 6,
       "text": [
        "402"
       ]
      }
     ],
     "prompt_number": 6
    },
    {
     "cell_type": "code",
     "collapsed": false,
     "input": [
      "# problem 75\n",
      "\n",
      "def pythatriplets(L=1500000):\n",
      "    Lset = defaultdict(set)\n",
      "    L = int(L)\n",
      "\n",
      "    for n in xrange(1, L+1):\n",
      "        for m in xrange(n+1, L+1):\n",
      "            a, b = tuple(sorted([(m**2 - n**2), (2 * m * n)]))\n",
      "            c = (m**2 + n**2)\n",
      "            length = a + b + c\n",
      "            if length > L: break\n",
      "            #elif length in Lset: continue # leave this in to count in duplicates\n",
      "            else:\n",
      "                k = 1\n",
      "                while length <= L:\n",
      "                    Lset[length].add((a*k, b*k, c*k))\n",
      "                    length = length * (k+1) / k\n",
      "                    k += 1\n",
      "\n",
      "    count = 0\n",
      "    for v in Lset.values():\n",
      "        if len(v) == 1: count += 1\n",
      "    return count, len(Lset), Lset"
     ],
     "language": "python",
     "metadata": {},
     "outputs": [],
     "prompt_number": 88
    },
    {
     "cell_type": "code",
     "collapsed": false,
     "input": [
      "%%timeit\n",
      "pythatriplets(1500000)"
     ],
     "language": "python",
     "metadata": {},
     "outputs": [
      {
       "output_type": "stream",
       "stream": "stdout",
       "text": [
        "1 loops, best of 3: 9.51 s per loop\n"
       ]
      }
     ],
     "prompt_number": 90
    },
    {
     "cell_type": "code",
     "collapsed": false,
     "input": [
      "a, b, c = pythatriplets()\n",
      "print a"
     ],
     "language": "python",
     "metadata": {},
     "outputs": [
      {
       "output_type": "stream",
       "stream": "stdout",
       "text": [
        "161667\n"
       ]
      }
     ],
     "prompt_number": 89
    },
    {
     "cell_type": "code",
     "collapsed": false,
     "input": [
      "# problem 76 \n",
      "# problem 77 \n",
      "# problem 31\n",
      "# also http://math.stackexchange.com/questions/217597/number-of-ways-to-write-n-as-a-sum-of-k-nonnegative-integers\n",
      "\n",
      "# primes <= n\n",
      "def sievegen(n):\n",
      "    yield 2\n",
      "    primes = [True] * (n+1) # ignore 0/1 truthiness\n",
      "    for i in xrange(3, n+1, 2):\n",
      "        if primes[i]:\n",
      "            yield i\n",
      "            for j in xrange(i*i, n+1, 2*i):\n",
      "                primes[j] = False\n",
      "\n",
      "def waysp(n, i, arr, memo):\n",
      "    if i == 1: \n",
      "        if n % arr[0]: return 0\n",
      "        return 1\n",
      "#         if arr[0] == 1: return 1\n",
      "#         elif arr[0] == 2:\n",
      "#             if n % 2: return 0\n",
      "#             return 1\n",
      "    elif i < 1:\n",
      "        print \"UHOH\"\n",
      "    count = 0\n",
      "    \n",
      "    t = n\n",
      "    if memo[t][i] > 0:\n",
      "        return memo[t][i]\n",
      "    \n",
      "    while n >= 0:\n",
      "        count = count + waysp(n, i-1, arr, memo)\n",
      "        n = n - arr[i-1]\n",
      "    \n",
      "    memo[t][i] = count\n",
      "    \n",
      "    return count\n",
      "\n",
      "def cntpways(n=10, arr=[]):\n",
      "    if not arr: arr = list(sievegen(n-2))\n",
      "    i = len(arr)\n",
      "    memo = np.zeros((n+1, n), dtype = np.uint32) # (n, i)\n",
      "    return waysp(n, i, arr, memo)"
     ],
     "language": "python",
     "metadata": {},
     "outputs": [],
     "prompt_number": 2
    },
    {
     "cell_type": "code",
     "collapsed": false,
     "input": [
      "for n in xrange(1,100):\n",
      "    arr = list(sievegen(n-2))\n",
      "    cnt = cntpways(n, arr)\n",
      "    if cnt > 5000:\n",
      "        print n, cnt, arr\n",
      "        break"
     ],
     "language": "python",
     "metadata": {},
     "outputs": [
      {
       "output_type": "stream",
       "stream": "stdout",
       "text": [
        "71 5006 [2, 3, 5, 7, 11, 13, 17, 19, 23, 29, 31, 37, 41, 43, 47, 53, 59, 61, 67]\n"
       ]
      }
     ],
     "prompt_number": 224
    },
    {
     "cell_type": "code",
     "collapsed": false,
     "input": [
      "arr = [1, 2, 5, 10, 20, 50, 100, 200]\n",
      "cntpways(200, arr)"
     ],
     "language": "python",
     "metadata": {},
     "outputs": [
      {
       "metadata": {},
       "output_type": "pyout",
       "prompt_number": 225,
       "text": [
        "73682"
       ]
      }
     ],
     "prompt_number": 225
    },
    {
     "cell_type": "code",
     "collapsed": false,
     "input": [
      "arr = [1, 2, 5, 10, 20, 50, 100, 200]\n",
      "cntpways(200, arr)"
     ],
     "language": "python",
     "metadata": {},
     "outputs": [
      {
       "metadata": {},
       "output_type": "pyout",
       "prompt_number": 165,
       "text": [
        "73682"
       ]
      }
     ],
     "prompt_number": 165
    },
    {
     "cell_type": "code",
     "collapsed": false,
     "input": [
      "n = 100\n",
      "cntpways(n, range(1,n))"
     ],
     "language": "python",
     "metadata": {},
     "outputs": [
      {
       "metadata": {},
       "output_type": "pyout",
       "prompt_number": 227,
       "text": [
        "190569291"
       ]
      }
     ],
     "prompt_number": 227
    },
    {
     "cell_type": "code",
     "collapsed": false,
     "input": [],
     "language": "python",
     "metadata": {},
     "outputs": []
    }
   ],
   "metadata": {}
  }
 ]
}