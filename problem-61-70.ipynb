{
 "metadata": {
  "name": "",
  "signature": "sha256:f950ffc532bf96d179cd8be7493e66225c9b78bbdecb675e88c9a334cc5301f1"
 },
 "nbformat": 3,
 "nbformat_minor": 0,
 "worksheets": [
  {
   "cells": [
    {
     "cell_type": "code",
     "collapsed": false,
     "input": [
      "import math\n",
      "import numpy as np\n",
      "from collections import defaultdict\n",
      "from itertools import combinations, permutations\n",
      "import time"
     ],
     "language": "python",
     "metadata": {},
     "outputs": [],
     "prompt_number": 1
    },
    {
     "cell_type": "code",
     "collapsed": false,
     "input": [
      "# problem 61\n",
      "\n",
      "def P3():\n",
      "    n = int(math.ceil((-1 + math.sqrt(1+8*1000))/2.))\n",
      "    n0 = int((-1 + math.sqrt(1+8*9999))/2.) # inclusive\n",
      "    while n <= n0:\n",
      "        yield n*(n+1)/2\n",
      "        n += 1\n",
      "\n",
      "def P4():\n",
      "    n = int(math.ceil(math.sqrt(1000)))\n",
      "    n0 = int(math.sqrt(9999))\n",
      "    while n <= n0:\n",
      "        yield n*n\n",
      "        n += 1\n",
      "\n",
      "def P5():\n",
      "    n = int(math.ceil((1+math.sqrt(1+24*1000))/6.))\n",
      "    n0 = int((1+math.sqrt(1+24*9999))/6.)\n",
      "    while n <= n0:\n",
      "        yield n*(3*n-1)/2\n",
      "        n += 1\n",
      "\n",
      "def P6():\n",
      "    n = int(math.ceil((1+math.sqrt(1+8*1000))/4.))\n",
      "    n0 = int((1+math.sqrt(1+8*9999))/4.)\n",
      "    while n <= n0:\n",
      "        yield n*(2*n-1)\n",
      "        n += 1\n",
      "\n",
      "def P7():\n",
      "    n = int(math.ceil((3+math.sqrt(9+40*1000))/10.))\n",
      "    n0 = int((3+math.sqrt(9+40*9999))/10.)\n",
      "    while n <= n0:\n",
      "        yield n*(5*n-3)/2\n",
      "        n += 1\n",
      "\n",
      "def P8():\n",
      "    n = int(math.ceil((1+math.sqrt(1.+3*1000))/3.))\n",
      "    n0 = int((1+math.sqrt(1.+3*9999))/3.)\n",
      "    while n <= n0:\n",
      "        yield n*(3*n-2)\n",
      "        n += 1\n",
      "\n",
      "def cyclicpolynum():\n",
      "    for i in P8(): \n",
      "        print i\n",
      "\n"
     ],
     "language": "python",
     "metadata": {},
     "outputs": [],
     "prompt_number": 29
    },
    {
     "cell_type": "code",
     "collapsed": false,
     "input": [],
     "language": "python",
     "metadata": {},
     "outputs": [],
     "prompt_number": 1
    },
    {
     "cell_type": "code",
     "collapsed": false,
     "input": [],
     "language": "python",
     "metadata": {},
     "outputs": [],
     "prompt_number": 1
    },
    {
     "cell_type": "code",
     "collapsed": false,
     "input": [],
     "language": "python",
     "metadata": {},
     "outputs": []
    }
   ],
   "metadata": {}
  }
 ]
}