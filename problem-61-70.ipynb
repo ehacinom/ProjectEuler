{
 "metadata": {
  "name": "",
  "signature": "sha256:74fbd07881754b59505c2fb8027cd8eec1ab1edcb2bad286ce159b083fcf9b49"
 },
 "nbformat": 3,
 "nbformat_minor": 0,
 "worksheets": [
  {
   "cells": [
    {
     "cell_type": "code",
     "collapsed": false,
     "input": [
      "import math\n",
      "import numpy as np\n",
      "from collections import defaultdict\n",
      "from itertools import combinations, permutations\n",
      "import time"
     ],
     "language": "python",
     "metadata": {},
     "outputs": [],
     "prompt_number": 1
    },
    {
     "cell_type": "code",
     "collapsed": false,
     "input": [
      "# problem 61\n",
      "\n",
      "def P3():\n",
      "    n = int(math.ceil((-1 + math.sqrt(1+8*1000))/2.))\n",
      "    n0 = int((-1 + math.sqrt(1+8*9999))/2.) # inclusive\n",
      "    while n <= n0:\n",
      "        yield n*(n+1)/2\n",
      "        n += 1\n",
      "\n",
      "def P4():\n",
      "    n = int(math.ceil(math.sqrt(1000)))\n",
      "    n0 = int(math.sqrt(9999))\n",
      "    while n <= n0:\n",
      "        yield n*n\n",
      "        n += 1\n",
      "\n",
      "def P5():\n",
      "    n = int(math.ceil((1+math.sqrt(1+24*1000))/6.))\n",
      "    n0 = int((1+math.sqrt(1+24*9999))/6.)\n",
      "    while n <= n0:\n",
      "        yield n*(3*n-1)/2\n",
      "        n += 1\n",
      "\n",
      "def P6():\n",
      "    n = int(math.ceil((1+math.sqrt(1+8*1000))/4.))\n",
      "    n0 = int((1+math.sqrt(1+8*9999))/4.)\n",
      "    while n <= n0:\n",
      "        yield n*(2*n-1)\n",
      "        n += 1\n",
      "\n",
      "def P7():\n",
      "    n = int(math.ceil((3+math.sqrt(9+40*1000))/10.))\n",
      "    n0 = int((3+math.sqrt(9+40*9999))/10.)\n",
      "    while n <= n0:\n",
      "        yield n*(5*n-3)/2\n",
      "        n += 1\n",
      "\n",
      "def P8():\n",
      "    n = int(math.ceil((1+math.sqrt(1.+3*1000))/3.))\n",
      "    n0 = int((1+math.sqrt(1.+3*9999))/3.)\n",
      "    while n <= n0:\n",
      "        yield n*(3*n-2)\n",
      "        n += 1\n",
      "\n",
      "def findends(end, p):\n",
      "    # end = str:str\n",
      "    # p is generator\n",
      "    for i in p:\n",
      "        s = str(i)\n",
      "        end[s[:2]].append(s)\n",
      "    return end\n",
      "\n",
      "def cyclicpolynum():\n",
      "    # make dictionary of all numbers\n",
      "    p3 = set([str(i) for i in P3()])\n",
      "    p4 = set([str(i) for i in P4()])\n",
      "    p5 = set([str(i) for i in P5()])\n",
      "    p6 = set([str(i) for i in P6()])\n",
      "    p7 = set([str(i) for i in P7()])\n",
      "    p8 = set([str(i) for i in P8()])\n",
      "    #P = {3:p3, 4:p4, 5:p5, 6:p6, 7:p7, 8:p8}\n",
      "    print 'Dealing with {} numbers.'.format(len(p3)+len(p4)+len(p5)+len(p6)+len(p7)+len(p8))\n",
      "    \n",
      "    # sort by end (first two digits)\n",
      "    end = defaultdict(list)\n",
      "    for P in (P3(), P4(), P5(), P6(), P7(), P8()):\n",
      "        end = findends(end, P)\n",
      "\n",
      "    for e in end: \n",
      "        for n0 in end[e]:\n",
      "            if n0 not in p3: continue\n",
      "            if n0[2:] not in end: continue\n",
      "            c0 = [n0] # chain\n",
      "            \n",
      "            for n1 in end[n0[2:]]:\n",
      "                if n1 not in p4: continue\n",
      "                if n1[2:] not in end: continue\n",
      "                c1 = c0\n",
      "                c1.append(n1)\n",
      "\n",
      "                for n2 in end[n1[2:]]:\n",
      "                    if n2 not in p5: continue\n",
      "                    if n2[2:] not in end: continue\n",
      "                    c2 = c1\n",
      "                    c2.append(n2)\n",
      "\n",
      "                    for n3 in end[n2[2:]]:\n",
      "                        if n3 not in p6: continue\n",
      "                        if n3[2:] not in end: continue\n",
      "                        c3 = c2\n",
      "                        c3.append(n3)\n",
      "\n",
      "                        for n4 in end[n3[2:]]:\n",
      "                            if n4 not in p7: continue\n",
      "                            if n4[2:] not in end: continue\n",
      "                            c4 = c3\n",
      "                            c4.append(n4)\n",
      "\n",
      "                            for n5 in end[n4[2:]]:\n",
      "                                if n5 not in p8: continue\n",
      "                                c5 = c4\n",
      "                                c5.append(n4)\n",
      "                                print sum([int(i) for i in c5]), c5\n",
      "    \n",
      "#     print '\\n\\nthis is the end'\n",
      "#     for i in end: \n",
      "#         print i\n",
      "#         print end[i]\n",
      "    \n",
      "\n",
      "cyclicpolynum()"
     ],
     "language": "python",
     "metadata": {},
     "outputs": [
      {
       "output_type": "stream",
       "stream": "stdout",
       "text": [
        "Dealing with 351 numbers.\n",
        "24487 ['5565', '6561', '6112', '1225', '2512', '2512']\n",
        "30736 ['5565', '6561', '6112', '1225', '2512', '2512', '1225', '2512', '2512']\n",
        "36985 ['5565', '6561', '6112', '1225', '2512', '2512', '1225', '2512', '2512', '1225', '2512', '2512']\n",
        "24487 ['5565', '6561', '6112', '1225', '2512', '2512']\n",
        "30736 ['5565', '6561', '6112', '1225', '2512', '2512', '1225', '2512', '2512']\n",
        "36985 ['5565', '6561', '6112', '1225', '2512', '2512', '1225', '2512', '2512', '1225', '2512', '2512']\n",
        "23387 ['4465', '6561', '6112', '1225', '2512', '2512']\n",
        "29636 ['4465', '6561', '6112', '1225', '2512', '2512', '1225', '2512', '2512']\n",
        "35885 ['4465', '6561', '6112', '1225', '2512', '2512', '1225', '2512', '2512', '1225', '2512', '2512']\n"
       ]
      }
     ],
     "prompt_number": 54
    },
    {
     "cell_type": "code",
     "collapsed": false,
     "input": [
      "example = {3: ['5886', '8646', '4656', '2415', '2485', '2415', '6555'], \n",
      "           4: ['4624', '2401', '6561'], 5: ['6501'], 6: ['8646', '2415', '2415'], \n",
      "           7: ['4558'], 8: ['2465']}\n",
      "for i, e in example.iteritems():\n",
      "    print i, e"
     ],
     "language": "python",
     "metadata": {},
     "outputs": [
      {
       "output_type": "stream",
       "stream": "stdout",
       "text": [
        "3 ['5886', '8646', '4656', '2415', '2485', '2415', '6555']\n",
        "4 ['4624', '2401', '6561']\n",
        "5 ['6501']\n",
        "6 ['8646', '2415', '2415']\n",
        "7 ['4558']\n",
        "8 ['2465']\n"
       ]
      }
     ],
     "prompt_number": 30
    },
    {
     "cell_type": "code",
     "collapsed": false,
     "input": [
      "\n",
      "3 ['5886', '8646', '4656', '2415', '2485', '2415', '6555']\n",
      "4 ['4624', '2401', '6561']\n",
      "5 ['6501']\n",
      "6 ['8646', '2415', '2415']\n",
      "7 ['4558']\n",
      "8 ['2465']\n",
      "\n",
      "3 ['', '', '4656', '2415', '2485', '2415', '6555']\n",
      "6 ['', '2415', '2415']\n",
      "\n",
      "4558 5886 8646 4624 2465 6501\n",
      "7    3    6    4    8   5\n"
     ],
     "language": "python",
     "metadata": {},
     "outputs": [],
     "prompt_number": 1
    },
    {
     "cell_type": "code",
     "collapsed": false,
     "input": [
      "sum([4558, 5886, 8646, 4624, 2465, 6501])"
     ],
     "language": "python",
     "metadata": {},
     "outputs": [
      {
       "metadata": {},
       "output_type": "pyout",
       "prompt_number": 32,
       "text": [
        "32680"
       ]
      }
     ],
     "prompt_number": 32
    },
    {
     "cell_type": "code",
     "collapsed": false,
     "input": [
      "# make dictionary of all numbers\n",
      "p3 = set([i for i in P3()])\n",
      "p4 = set([i for i in P4()])\n",
      "p5 = set([i for i in P5()])\n",
      "p6 = set([i for i in P6()])\n",
      "p7 = set([i for i in P7()])\n",
      "p8 = set([i for i in P8()])\n",
      "P = {3:p3, 4:p4, 5:p5, 6:p6, 7:p7, 8:p8}\n",
      "print 'Dealing with {} numbers.'.format(len(p3)+len(p4)+len(p5)+len(p6)+len(p7)+len(p8))"
     ],
     "language": "python",
     "metadata": {},
     "outputs": [
      {
       "output_type": "stream",
       "stream": "stdout",
       "text": [
        "Dealing with 351 numbers.\n"
       ]
      }
     ],
     "prompt_number": 33
    },
    {
     "cell_type": "code",
     "collapsed": false,
     "input": [
      "6501 in p5"
     ],
     "language": "python",
     "metadata": {},
     "outputs": [
      {
       "metadata": {},
       "output_type": "pyout",
       "prompt_number": 40,
       "text": [
        "True"
       ]
      }
     ],
     "prompt_number": 40
    },
    {
     "cell_type": "code",
     "collapsed": false,
     "input": [],
     "language": "python",
     "metadata": {},
     "outputs": []
    }
   ],
   "metadata": {}
  }
 ]
}